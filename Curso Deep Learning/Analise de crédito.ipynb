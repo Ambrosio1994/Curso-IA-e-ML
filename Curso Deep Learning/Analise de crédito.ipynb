{
 "cells": [
  {
   "cell_type": "code",
   "execution_count": 1,
   "id": "7b38513f-02c4-44fb-b3c6-8fad2be8e8f4",
   "metadata": {
    "editable": true,
    "slideshow": {
     "slide_type": ""
    },
    "tags": []
   },
   "outputs": [],
   "source": [
    "import pandas as pd\n",
    "from sklearn.preprocessing import MinMaxScaler\n",
    "from sklearn.model_selection import train_test_split\n",
    "from keras.models import Sequential\n",
    "from keras.layers import Dropout, Dense\n",
    "from sklearn.metrics import confusion_matrix\n",
    "import matplotlib.pyplot as plt\n",
    "import seaborn as sns\n",
    "from sklearn.ensemble import ExtraTreesClassifier\n",
    "import numpy as np"
   ]
  },
  {
   "cell_type": "code",
   "execution_count": 2,
   "id": "3ee093e3-a936-4197-898e-e567d1ed5528",
   "metadata": {
    "editable": true,
    "slideshow": {
     "slide_type": ""
    },
    "tags": []
   },
   "outputs": [
    {
     "data": {
      "text/html": [
       "<div>\n",
       "<style scoped>\n",
       "    .dataframe tbody tr th:only-of-type {\n",
       "        vertical-align: middle;\n",
       "    }\n",
       "\n",
       "    .dataframe tbody tr th {\n",
       "        vertical-align: top;\n",
       "    }\n",
       "\n",
       "    .dataframe thead th {\n",
       "        text-align: right;\n",
       "    }\n",
       "</style>\n",
       "<table border=\"1\" class=\"dataframe\">\n",
       "  <thead>\n",
       "    <tr style=\"text-align: right;\">\n",
       "      <th></th>\n",
       "      <th>id</th>\n",
       "      <th>V1</th>\n",
       "      <th>V2</th>\n",
       "      <th>V3</th>\n",
       "      <th>V4</th>\n",
       "      <th>V5</th>\n",
       "      <th>V6</th>\n",
       "      <th>V7</th>\n",
       "      <th>V8</th>\n",
       "      <th>V9</th>\n",
       "      <th>...</th>\n",
       "      <th>V21</th>\n",
       "      <th>V22</th>\n",
       "      <th>V23</th>\n",
       "      <th>V24</th>\n",
       "      <th>V25</th>\n",
       "      <th>V26</th>\n",
       "      <th>V27</th>\n",
       "      <th>V28</th>\n",
       "      <th>Amount</th>\n",
       "      <th>Class</th>\n",
       "    </tr>\n",
       "  </thead>\n",
       "  <tbody>\n",
       "    <tr>\n",
       "      <th>0</th>\n",
       "      <td>0</td>\n",
       "      <td>-0.260648</td>\n",
       "      <td>-0.469648</td>\n",
       "      <td>2.496266</td>\n",
       "      <td>-0.083724</td>\n",
       "      <td>0.129681</td>\n",
       "      <td>0.732898</td>\n",
       "      <td>0.519014</td>\n",
       "      <td>-0.130006</td>\n",
       "      <td>0.727159</td>\n",
       "      <td>...</td>\n",
       "      <td>-0.110552</td>\n",
       "      <td>0.217606</td>\n",
       "      <td>-0.134794</td>\n",
       "      <td>0.165959</td>\n",
       "      <td>0.126280</td>\n",
       "      <td>-0.434824</td>\n",
       "      <td>-0.081230</td>\n",
       "      <td>-0.151045</td>\n",
       "      <td>17982.10</td>\n",
       "      <td>0</td>\n",
       "    </tr>\n",
       "    <tr>\n",
       "      <th>1</th>\n",
       "      <td>1</td>\n",
       "      <td>0.985100</td>\n",
       "      <td>-0.356045</td>\n",
       "      <td>0.558056</td>\n",
       "      <td>-0.429654</td>\n",
       "      <td>0.277140</td>\n",
       "      <td>0.428605</td>\n",
       "      <td>0.406466</td>\n",
       "      <td>-0.133118</td>\n",
       "      <td>0.347452</td>\n",
       "      <td>...</td>\n",
       "      <td>-0.194936</td>\n",
       "      <td>-0.605761</td>\n",
       "      <td>0.079469</td>\n",
       "      <td>-0.577395</td>\n",
       "      <td>0.190090</td>\n",
       "      <td>0.296503</td>\n",
       "      <td>-0.248052</td>\n",
       "      <td>-0.064512</td>\n",
       "      <td>6531.37</td>\n",
       "      <td>0</td>\n",
       "    </tr>\n",
       "    <tr>\n",
       "      <th>2</th>\n",
       "      <td>2</td>\n",
       "      <td>-0.260272</td>\n",
       "      <td>-0.949385</td>\n",
       "      <td>1.728538</td>\n",
       "      <td>-0.457986</td>\n",
       "      <td>0.074062</td>\n",
       "      <td>1.419481</td>\n",
       "      <td>0.743511</td>\n",
       "      <td>-0.095576</td>\n",
       "      <td>-0.261297</td>\n",
       "      <td>...</td>\n",
       "      <td>-0.005020</td>\n",
       "      <td>0.702906</td>\n",
       "      <td>0.945045</td>\n",
       "      <td>-1.154666</td>\n",
       "      <td>-0.605564</td>\n",
       "      <td>-0.312895</td>\n",
       "      <td>-0.300258</td>\n",
       "      <td>-0.244718</td>\n",
       "      <td>2513.54</td>\n",
       "      <td>0</td>\n",
       "    </tr>\n",
       "    <tr>\n",
       "      <th>3</th>\n",
       "      <td>3</td>\n",
       "      <td>-0.152152</td>\n",
       "      <td>-0.508959</td>\n",
       "      <td>1.746840</td>\n",
       "      <td>-1.090178</td>\n",
       "      <td>0.249486</td>\n",
       "      <td>1.143312</td>\n",
       "      <td>0.518269</td>\n",
       "      <td>-0.065130</td>\n",
       "      <td>-0.205698</td>\n",
       "      <td>...</td>\n",
       "      <td>-0.146927</td>\n",
       "      <td>-0.038212</td>\n",
       "      <td>-0.214048</td>\n",
       "      <td>-1.893131</td>\n",
       "      <td>1.003963</td>\n",
       "      <td>-0.515950</td>\n",
       "      <td>-0.165316</td>\n",
       "      <td>0.048424</td>\n",
       "      <td>5384.44</td>\n",
       "      <td>0</td>\n",
       "    </tr>\n",
       "    <tr>\n",
       "      <th>4</th>\n",
       "      <td>4</td>\n",
       "      <td>-0.206820</td>\n",
       "      <td>-0.165280</td>\n",
       "      <td>1.527053</td>\n",
       "      <td>-0.448293</td>\n",
       "      <td>0.106125</td>\n",
       "      <td>0.530549</td>\n",
       "      <td>0.658849</td>\n",
       "      <td>-0.212660</td>\n",
       "      <td>1.049921</td>\n",
       "      <td>...</td>\n",
       "      <td>-0.106984</td>\n",
       "      <td>0.729727</td>\n",
       "      <td>-0.161666</td>\n",
       "      <td>0.312561</td>\n",
       "      <td>-0.414116</td>\n",
       "      <td>1.071126</td>\n",
       "      <td>0.023712</td>\n",
       "      <td>0.419117</td>\n",
       "      <td>14278.97</td>\n",
       "      <td>0</td>\n",
       "    </tr>\n",
       "  </tbody>\n",
       "</table>\n",
       "<p>5 rows × 31 columns</p>\n",
       "</div>"
      ],
      "text/plain": [
       "   id        V1        V2        V3        V4        V5        V6        V7  \\\n",
       "0   0 -0.260648 -0.469648  2.496266 -0.083724  0.129681  0.732898  0.519014   \n",
       "1   1  0.985100 -0.356045  0.558056 -0.429654  0.277140  0.428605  0.406466   \n",
       "2   2 -0.260272 -0.949385  1.728538 -0.457986  0.074062  1.419481  0.743511   \n",
       "3   3 -0.152152 -0.508959  1.746840 -1.090178  0.249486  1.143312  0.518269   \n",
       "4   4 -0.206820 -0.165280  1.527053 -0.448293  0.106125  0.530549  0.658849   \n",
       "\n",
       "         V8        V9  ...       V21       V22       V23       V24       V25  \\\n",
       "0 -0.130006  0.727159  ... -0.110552  0.217606 -0.134794  0.165959  0.126280   \n",
       "1 -0.133118  0.347452  ... -0.194936 -0.605761  0.079469 -0.577395  0.190090   \n",
       "2 -0.095576 -0.261297  ... -0.005020  0.702906  0.945045 -1.154666 -0.605564   \n",
       "3 -0.065130 -0.205698  ... -0.146927 -0.038212 -0.214048 -1.893131  1.003963   \n",
       "4 -0.212660  1.049921  ... -0.106984  0.729727 -0.161666  0.312561 -0.414116   \n",
       "\n",
       "        V26       V27       V28    Amount  Class  \n",
       "0 -0.434824 -0.081230 -0.151045  17982.10      0  \n",
       "1  0.296503 -0.248052 -0.064512   6531.37      0  \n",
       "2 -0.312895 -0.300258 -0.244718   2513.54      0  \n",
       "3 -0.515950 -0.165316  0.048424   5384.44      0  \n",
       "4  1.071126  0.023712  0.419117  14278.97      0  \n",
       "\n",
       "[5 rows x 31 columns]"
      ]
     },
     "execution_count": 2,
     "metadata": {},
     "output_type": "execute_result"
    }
   ],
   "source": [
    "df = pd.read_csv('Downloads/creditcard_2023.csv')\n",
    "df.head()"
   ]
  },
  {
   "cell_type": "code",
   "execution_count": 3,
   "id": "6533c308-5a11-4914-97fa-12d7002112bd",
   "metadata": {
    "editable": true,
    "slideshow": {
     "slide_type": ""
    },
    "tags": []
   },
   "outputs": [
    {
     "data": {
      "text/html": [
       "<div>\n",
       "<style scoped>\n",
       "    .dataframe tbody tr th:only-of-type {\n",
       "        vertical-align: middle;\n",
       "    }\n",
       "\n",
       "    .dataframe tbody tr th {\n",
       "        vertical-align: top;\n",
       "    }\n",
       "\n",
       "    .dataframe thead th {\n",
       "        text-align: right;\n",
       "    }\n",
       "</style>\n",
       "<table border=\"1\" class=\"dataframe\">\n",
       "  <thead>\n",
       "    <tr style=\"text-align: right;\">\n",
       "      <th></th>\n",
       "      <th>V1</th>\n",
       "      <th>V2</th>\n",
       "      <th>V3</th>\n",
       "      <th>V4</th>\n",
       "      <th>V5</th>\n",
       "      <th>V6</th>\n",
       "      <th>V7</th>\n",
       "      <th>V8</th>\n",
       "      <th>V9</th>\n",
       "      <th>V10</th>\n",
       "      <th>...</th>\n",
       "      <th>V21</th>\n",
       "      <th>V22</th>\n",
       "      <th>V23</th>\n",
       "      <th>V24</th>\n",
       "      <th>V25</th>\n",
       "      <th>V26</th>\n",
       "      <th>V27</th>\n",
       "      <th>V28</th>\n",
       "      <th>Amount</th>\n",
       "      <th>Class</th>\n",
       "    </tr>\n",
       "  </thead>\n",
       "  <tbody>\n",
       "    <tr>\n",
       "      <th>0</th>\n",
       "      <td>-0.260648</td>\n",
       "      <td>-0.469648</td>\n",
       "      <td>2.496266</td>\n",
       "      <td>-0.083724</td>\n",
       "      <td>0.129681</td>\n",
       "      <td>0.732898</td>\n",
       "      <td>0.519014</td>\n",
       "      <td>-0.130006</td>\n",
       "      <td>0.727159</td>\n",
       "      <td>0.637735</td>\n",
       "      <td>...</td>\n",
       "      <td>-0.110552</td>\n",
       "      <td>0.217606</td>\n",
       "      <td>-0.134794</td>\n",
       "      <td>0.165959</td>\n",
       "      <td>0.126280</td>\n",
       "      <td>-0.434824</td>\n",
       "      <td>-0.081230</td>\n",
       "      <td>-0.151045</td>\n",
       "      <td>17982.10</td>\n",
       "      <td>0</td>\n",
       "    </tr>\n",
       "    <tr>\n",
       "      <th>1</th>\n",
       "      <td>0.985100</td>\n",
       "      <td>-0.356045</td>\n",
       "      <td>0.558056</td>\n",
       "      <td>-0.429654</td>\n",
       "      <td>0.277140</td>\n",
       "      <td>0.428605</td>\n",
       "      <td>0.406466</td>\n",
       "      <td>-0.133118</td>\n",
       "      <td>0.347452</td>\n",
       "      <td>0.529808</td>\n",
       "      <td>...</td>\n",
       "      <td>-0.194936</td>\n",
       "      <td>-0.605761</td>\n",
       "      <td>0.079469</td>\n",
       "      <td>-0.577395</td>\n",
       "      <td>0.190090</td>\n",
       "      <td>0.296503</td>\n",
       "      <td>-0.248052</td>\n",
       "      <td>-0.064512</td>\n",
       "      <td>6531.37</td>\n",
       "      <td>0</td>\n",
       "    </tr>\n",
       "    <tr>\n",
       "      <th>2</th>\n",
       "      <td>-0.260272</td>\n",
       "      <td>-0.949385</td>\n",
       "      <td>1.728538</td>\n",
       "      <td>-0.457986</td>\n",
       "      <td>0.074062</td>\n",
       "      <td>1.419481</td>\n",
       "      <td>0.743511</td>\n",
       "      <td>-0.095576</td>\n",
       "      <td>-0.261297</td>\n",
       "      <td>0.690708</td>\n",
       "      <td>...</td>\n",
       "      <td>-0.005020</td>\n",
       "      <td>0.702906</td>\n",
       "      <td>0.945045</td>\n",
       "      <td>-1.154666</td>\n",
       "      <td>-0.605564</td>\n",
       "      <td>-0.312895</td>\n",
       "      <td>-0.300258</td>\n",
       "      <td>-0.244718</td>\n",
       "      <td>2513.54</td>\n",
       "      <td>0</td>\n",
       "    </tr>\n",
       "    <tr>\n",
       "      <th>3</th>\n",
       "      <td>-0.152152</td>\n",
       "      <td>-0.508959</td>\n",
       "      <td>1.746840</td>\n",
       "      <td>-1.090178</td>\n",
       "      <td>0.249486</td>\n",
       "      <td>1.143312</td>\n",
       "      <td>0.518269</td>\n",
       "      <td>-0.065130</td>\n",
       "      <td>-0.205698</td>\n",
       "      <td>0.575231</td>\n",
       "      <td>...</td>\n",
       "      <td>-0.146927</td>\n",
       "      <td>-0.038212</td>\n",
       "      <td>-0.214048</td>\n",
       "      <td>-1.893131</td>\n",
       "      <td>1.003963</td>\n",
       "      <td>-0.515950</td>\n",
       "      <td>-0.165316</td>\n",
       "      <td>0.048424</td>\n",
       "      <td>5384.44</td>\n",
       "      <td>0</td>\n",
       "    </tr>\n",
       "    <tr>\n",
       "      <th>4</th>\n",
       "      <td>-0.206820</td>\n",
       "      <td>-0.165280</td>\n",
       "      <td>1.527053</td>\n",
       "      <td>-0.448293</td>\n",
       "      <td>0.106125</td>\n",
       "      <td>0.530549</td>\n",
       "      <td>0.658849</td>\n",
       "      <td>-0.212660</td>\n",
       "      <td>1.049921</td>\n",
       "      <td>0.968046</td>\n",
       "      <td>...</td>\n",
       "      <td>-0.106984</td>\n",
       "      <td>0.729727</td>\n",
       "      <td>-0.161666</td>\n",
       "      <td>0.312561</td>\n",
       "      <td>-0.414116</td>\n",
       "      <td>1.071126</td>\n",
       "      <td>0.023712</td>\n",
       "      <td>0.419117</td>\n",
       "      <td>14278.97</td>\n",
       "      <td>0</td>\n",
       "    </tr>\n",
       "  </tbody>\n",
       "</table>\n",
       "<p>5 rows × 30 columns</p>\n",
       "</div>"
      ],
      "text/plain": [
       "         V1        V2        V3        V4        V5        V6        V7  \\\n",
       "0 -0.260648 -0.469648  2.496266 -0.083724  0.129681  0.732898  0.519014   \n",
       "1  0.985100 -0.356045  0.558056 -0.429654  0.277140  0.428605  0.406466   \n",
       "2 -0.260272 -0.949385  1.728538 -0.457986  0.074062  1.419481  0.743511   \n",
       "3 -0.152152 -0.508959  1.746840 -1.090178  0.249486  1.143312  0.518269   \n",
       "4 -0.206820 -0.165280  1.527053 -0.448293  0.106125  0.530549  0.658849   \n",
       "\n",
       "         V8        V9       V10  ...       V21       V22       V23       V24  \\\n",
       "0 -0.130006  0.727159  0.637735  ... -0.110552  0.217606 -0.134794  0.165959   \n",
       "1 -0.133118  0.347452  0.529808  ... -0.194936 -0.605761  0.079469 -0.577395   \n",
       "2 -0.095576 -0.261297  0.690708  ... -0.005020  0.702906  0.945045 -1.154666   \n",
       "3 -0.065130 -0.205698  0.575231  ... -0.146927 -0.038212 -0.214048 -1.893131   \n",
       "4 -0.212660  1.049921  0.968046  ... -0.106984  0.729727 -0.161666  0.312561   \n",
       "\n",
       "        V25       V26       V27       V28    Amount  Class  \n",
       "0  0.126280 -0.434824 -0.081230 -0.151045  17982.10      0  \n",
       "1  0.190090  0.296503 -0.248052 -0.064512   6531.37      0  \n",
       "2 -0.605564 -0.312895 -0.300258 -0.244718   2513.54      0  \n",
       "3  1.003963 -0.515950 -0.165316  0.048424   5384.44      0  \n",
       "4 -0.414116  1.071126  0.023712  0.419117  14278.97      0  \n",
       "\n",
       "[5 rows x 30 columns]"
      ]
     },
     "execution_count": 3,
     "metadata": {},
     "output_type": "execute_result"
    }
   ],
   "source": [
    "df = df.drop('id', axis=1)\n",
    "df.head()"
   ]
  },
  {
   "cell_type": "code",
   "execution_count": 4,
   "id": "c8886e17-d907-4b08-a1b1-a6eefef5913e",
   "metadata": {
    "editable": true,
    "slideshow": {
     "slide_type": ""
    },
    "tags": []
   },
   "outputs": [],
   "source": [
    "scaler = MinMaxScaler()"
   ]
  },
  {
   "cell_type": "code",
   "execution_count": 5,
   "id": "134d0119-083a-4bf8-9129-98f87ee8d973",
   "metadata": {
    "editable": true,
    "slideshow": {
     "slide_type": ""
    },
    "tags": []
   },
   "outputs": [],
   "source": [
    "previsores = df.iloc[:, : -1].values\n",
    "previsores = scaler.fit_transform(previsores)"
   ]
  },
  {
   "cell_type": "code",
   "execution_count": 6,
   "id": "0d5a69fc-c34a-4c92-a1b6-4fcfbbde1d3a",
   "metadata": {
    "editable": true,
    "slideshow": {
     "slide_type": ""
    },
    "tags": []
   },
   "outputs": [],
   "source": [
    "classe = df.iloc[:, -1].values"
   ]
  },
  {
   "cell_type": "code",
   "execution_count": 7,
   "id": "7b3e7726-13d6-41d1-a226-bd7680e229e9",
   "metadata": {
    "editable": true,
    "slideshow": {
     "slide_type": ""
    },
    "tags": []
   },
   "outputs": [],
   "source": [
    "x_train, x_test, y_train, y_test = train_test_split(previsores, classe, test_size = 0.5, random_state=0)"
   ]
  },
  {
   "cell_type": "code",
   "execution_count": 8,
   "id": "e7345f92-e46d-426f-97e7-48197123a004",
   "metadata": {
    "editable": true,
    "slideshow": {
     "slide_type": ""
    },
    "tags": []
   },
   "outputs": [
    {
     "data": {
      "text/html": [
       "<style>#sk-container-id-1 {color: black;}#sk-container-id-1 pre{padding: 0;}#sk-container-id-1 div.sk-toggleable {background-color: white;}#sk-container-id-1 label.sk-toggleable__label {cursor: pointer;display: block;width: 100%;margin-bottom: 0;padding: 0.3em;box-sizing: border-box;text-align: center;}#sk-container-id-1 label.sk-toggleable__label-arrow:before {content: \"▸\";float: left;margin-right: 0.25em;color: #696969;}#sk-container-id-1 label.sk-toggleable__label-arrow:hover:before {color: black;}#sk-container-id-1 div.sk-estimator:hover label.sk-toggleable__label-arrow:before {color: black;}#sk-container-id-1 div.sk-toggleable__content {max-height: 0;max-width: 0;overflow: hidden;text-align: left;background-color: #f0f8ff;}#sk-container-id-1 div.sk-toggleable__content pre {margin: 0.2em;color: black;border-radius: 0.25em;background-color: #f0f8ff;}#sk-container-id-1 input.sk-toggleable__control:checked~div.sk-toggleable__content {max-height: 200px;max-width: 100%;overflow: auto;}#sk-container-id-1 input.sk-toggleable__control:checked~label.sk-toggleable__label-arrow:before {content: \"▾\";}#sk-container-id-1 div.sk-estimator input.sk-toggleable__control:checked~label.sk-toggleable__label {background-color: #d4ebff;}#sk-container-id-1 div.sk-label input.sk-toggleable__control:checked~label.sk-toggleable__label {background-color: #d4ebff;}#sk-container-id-1 input.sk-hidden--visually {border: 0;clip: rect(1px 1px 1px 1px);clip: rect(1px, 1px, 1px, 1px);height: 1px;margin: -1px;overflow: hidden;padding: 0;position: absolute;width: 1px;}#sk-container-id-1 div.sk-estimator {font-family: monospace;background-color: #f0f8ff;border: 1px dotted black;border-radius: 0.25em;box-sizing: border-box;margin-bottom: 0.5em;}#sk-container-id-1 div.sk-estimator:hover {background-color: #d4ebff;}#sk-container-id-1 div.sk-parallel-item::after {content: \"\";width: 100%;border-bottom: 1px solid gray;flex-grow: 1;}#sk-container-id-1 div.sk-label:hover label.sk-toggleable__label {background-color: #d4ebff;}#sk-container-id-1 div.sk-serial::before {content: \"\";position: absolute;border-left: 1px solid gray;box-sizing: border-box;top: 0;bottom: 0;left: 50%;z-index: 0;}#sk-container-id-1 div.sk-serial {display: flex;flex-direction: column;align-items: center;background-color: white;padding-right: 0.2em;padding-left: 0.2em;position: relative;}#sk-container-id-1 div.sk-item {position: relative;z-index: 1;}#sk-container-id-1 div.sk-parallel {display: flex;align-items: stretch;justify-content: center;background-color: white;position: relative;}#sk-container-id-1 div.sk-item::before, #sk-container-id-1 div.sk-parallel-item::before {content: \"\";position: absolute;border-left: 1px solid gray;box-sizing: border-box;top: 0;bottom: 0;left: 50%;z-index: -1;}#sk-container-id-1 div.sk-parallel-item {display: flex;flex-direction: column;z-index: 1;position: relative;background-color: white;}#sk-container-id-1 div.sk-parallel-item:first-child::after {align-self: flex-end;width: 50%;}#sk-container-id-1 div.sk-parallel-item:last-child::after {align-self: flex-start;width: 50%;}#sk-container-id-1 div.sk-parallel-item:only-child::after {width: 0;}#sk-container-id-1 div.sk-dashed-wrapped {border: 1px dashed gray;margin: 0 0.4em 0.5em 0.4em;box-sizing: border-box;padding-bottom: 0.4em;background-color: white;}#sk-container-id-1 div.sk-label label {font-family: monospace;font-weight: bold;display: inline-block;line-height: 1.2em;}#sk-container-id-1 div.sk-label-container {text-align: center;}#sk-container-id-1 div.sk-container {/* jupyter's `normalize.less` sets `[hidden] { display: none; }` but bootstrap.min.css set `[hidden] { display: none !important; }` so we also need the `!important` here to be able to override the default hidden behavior on the sphinx rendered scikit-learn.org. See: https://github.com/scikit-learn/scikit-learn/issues/21755 */display: inline-block !important;position: relative;}#sk-container-id-1 div.sk-text-repr-fallback {display: none;}</style><div id=\"sk-container-id-1\" class=\"sk-top-container\"><div class=\"sk-text-repr-fallback\"><pre>ExtraTreesClassifier()</pre><b>In a Jupyter environment, please rerun this cell to show the HTML representation or trust the notebook. <br />On GitHub, the HTML representation is unable to render, please try loading this page with nbviewer.org.</b></div><div class=\"sk-container\" hidden><div class=\"sk-item\"><div class=\"sk-estimator sk-toggleable\"><input class=\"sk-toggleable__control sk-hidden--visually\" id=\"sk-estimator-id-1\" type=\"checkbox\" checked><label for=\"sk-estimator-id-1\" class=\"sk-toggleable__label sk-toggleable__label-arrow\">ExtraTreesClassifier</label><div class=\"sk-toggleable__content\"><pre>ExtraTreesClassifier()</pre></div></div></div></div></div>"
      ],
      "text/plain": [
       "ExtraTreesClassifier()"
      ]
     },
     "execution_count": 8,
     "metadata": {},
     "output_type": "execute_result"
    }
   ],
   "source": [
    "feature_model = ExtraTreesClassifier()\n",
    "feature_model.fit(x_train, y_train)"
   ]
  },
  {
   "cell_type": "code",
   "execution_count": 9,
   "id": "425c52ed-636e-4063-90ec-967f7ddd8282",
   "metadata": {
    "editable": true,
    "slideshow": {
     "slide_type": ""
    },
    "tags": []
   },
   "outputs": [],
   "source": [
    "importance_scores = feature_model.feature_importances_\n",
    "\n",
    "num_top_features = 10"
   ]
  },
  {
   "cell_type": "code",
   "execution_count": 10,
   "id": "ff34d9f8-c6c2-434f-8b5b-5b7f14fac569",
   "metadata": {
    "editable": true,
    "slideshow": {
     "slide_type": ""
    },
    "tags": []
   },
   "outputs": [
    {
     "data": {
      "text/plain": [
       "array([10, 13,  3, 16,  2, 11, 15,  9,  0,  8], dtype=int64)"
      ]
     },
     "execution_count": 10,
     "metadata": {},
     "output_type": "execute_result"
    }
   ],
   "source": [
    "top_feature_indices = np.argsort(importance_scores)[::-1][:num_top_features]\n",
    "top_feature_indices"
   ]
  },
  {
   "cell_type": "code",
   "execution_count": 11,
   "id": "fcf2152d-4d81-4eb2-9b76-3c1b092c81d5",
   "metadata": {
    "editable": true,
    "slideshow": {
     "slide_type": ""
    },
    "tags": []
   },
   "outputs": [],
   "source": [
    "x_train = x_train[:, top_feature_indices]\n",
    "x_test = x_test[:, top_feature_indices]"
   ]
  },
  {
   "cell_type": "code",
   "execution_count": 12,
   "id": "af4ac7eb-7718-4b3c-8890-d33654488cb7",
   "metadata": {
    "editable": true,
    "slideshow": {
     "slide_type": ""
    },
    "tags": []
   },
   "outputs": [],
   "source": [
    "model = Sequential()\n",
    "\n",
    "model.add(Dense(128, activation='relu', input_dim=x_train.shape[1]))\n",
    "model.add(Dropout(0.4))\n",
    "\n",
    "model.add(Dense(128, activation ='relu'))\n",
    "model.add(Dropout(0.4))\n",
    "\n",
    "model.add(Dense(128, activation ='relu'))\n",
    "\n",
    "model.add(Dense(1, activation ='sigmoid'))"
   ]
  },
  {
   "cell_type": "code",
   "execution_count": 13,
   "id": "4ed5d1c3-c493-460d-b67b-e011a9a163a7",
   "metadata": {},
   "outputs": [
    {
     "name": "stdout",
     "output_type": "stream",
     "text": [
      "Epoch 1/50\n",
      "4443/4443 [==============================] - 40s 8ms/step - loss: 0.1218 - accuracy: 0.9547 - val_loss: 0.0999 - val_accuracy: 0.9626\n",
      "Epoch 2/50\n",
      "4443/4443 [==============================] - 37s 8ms/step - loss: 0.1067 - accuracy: 0.9599 - val_loss: 0.0947 - val_accuracy: 0.9631\n",
      "Epoch 3/50\n",
      "4443/4443 [==============================] - 37s 8ms/step - loss: 0.1037 - accuracy: 0.9607 - val_loss: 0.0901 - val_accuracy: 0.9651\n",
      "Epoch 4/50\n",
      "4443/4443 [==============================] - 36s 8ms/step - loss: 0.1004 - accuracy: 0.9619 - val_loss: 0.1092 - val_accuracy: 0.9565\n",
      "Epoch 5/50\n",
      "4443/4443 [==============================] - 36s 8ms/step - loss: 0.0980 - accuracy: 0.9625 - val_loss: 0.0840 - val_accuracy: 0.9669\n",
      "Epoch 6/50\n",
      "4443/4443 [==============================] - 39s 9ms/step - loss: 0.0957 - accuracy: 0.9628 - val_loss: 0.0852 - val_accuracy: 0.9656\n",
      "Epoch 7/50\n",
      "4443/4443 [==============================] - 37s 8ms/step - loss: 0.0939 - accuracy: 0.9636 - val_loss: 0.0795 - val_accuracy: 0.9657\n",
      "Epoch 8/50\n",
      "4443/4443 [==============================] - 36s 8ms/step - loss: 0.0926 - accuracy: 0.9640 - val_loss: 0.0833 - val_accuracy: 0.9660\n",
      "Epoch 9/50\n",
      "4443/4443 [==============================] - 38s 9ms/step - loss: 0.0909 - accuracy: 0.9643 - val_loss: 0.0778 - val_accuracy: 0.9678\n",
      "Epoch 10/50\n",
      "4443/4443 [==============================] - 39s 9ms/step - loss: 0.0897 - accuracy: 0.9650 - val_loss: 0.0783 - val_accuracy: 0.9690\n",
      "Epoch 11/50\n",
      "4443/4443 [==============================] - 38s 9ms/step - loss: 0.0877 - accuracy: 0.9653 - val_loss: 0.0770 - val_accuracy: 0.9702\n",
      "Epoch 12/50\n",
      "4443/4443 [==============================] - 36s 8ms/step - loss: 0.0863 - accuracy: 0.9656 - val_loss: 0.0702 - val_accuracy: 0.9722\n",
      "Epoch 13/50\n",
      "4443/4443 [==============================] - 37s 8ms/step - loss: 0.0845 - accuracy: 0.9663 - val_loss: 0.0705 - val_accuracy: 0.9714\n",
      "Epoch 14/50\n",
      "4443/4443 [==============================] - 37s 8ms/step - loss: 0.0837 - accuracy: 0.9665 - val_loss: 0.0711 - val_accuracy: 0.9722\n",
      "Epoch 15/50\n",
      "4443/4443 [==============================] - 38s 9ms/step - loss: 0.0820 - accuracy: 0.9671 - val_loss: 0.0671 - val_accuracy: 0.9715\n",
      "Epoch 16/50\n",
      "4443/4443 [==============================] - 37s 8ms/step - loss: 0.0819 - accuracy: 0.9670 - val_loss: 0.0685 - val_accuracy: 0.9720\n",
      "Epoch 17/50\n",
      "4443/4443 [==============================] - 37s 8ms/step - loss: 0.0807 - accuracy: 0.9674 - val_loss: 0.0663 - val_accuracy: 0.9730\n",
      "Epoch 18/50\n",
      "4443/4443 [==============================] - 36s 8ms/step - loss: 0.0798 - accuracy: 0.9678 - val_loss: 0.0651 - val_accuracy: 0.9741\n",
      "Epoch 19/50\n",
      "4443/4443 [==============================] - 36s 8ms/step - loss: 0.0795 - accuracy: 0.9680 - val_loss: 0.0622 - val_accuracy: 0.9742\n",
      "Epoch 20/50\n",
      "4443/4443 [==============================] - 36s 8ms/step - loss: 0.0782 - accuracy: 0.9683 - val_loss: 0.0568 - val_accuracy: 0.9767\n",
      "Epoch 21/50\n",
      "4443/4443 [==============================] - 37s 8ms/step - loss: 0.0771 - accuracy: 0.9686 - val_loss: 0.0610 - val_accuracy: 0.9748\n",
      "Epoch 22/50\n",
      "4443/4443 [==============================] - 37s 8ms/step - loss: 0.0768 - accuracy: 0.9688 - val_loss: 0.0621 - val_accuracy: 0.9746\n",
      "Epoch 23/50\n",
      "4443/4443 [==============================] - 36s 8ms/step - loss: 0.0755 - accuracy: 0.9690 - val_loss: 0.0634 - val_accuracy: 0.9732\n",
      "Epoch 24/50\n",
      "4443/4443 [==============================] - 36s 8ms/step - loss: 0.0745 - accuracy: 0.9696 - val_loss: 0.0594 - val_accuracy: 0.9752\n",
      "Epoch 25/50\n",
      "4443/4443 [==============================] - 37s 8ms/step - loss: 0.0743 - accuracy: 0.9700 - val_loss: 0.0575 - val_accuracy: 0.9765\n",
      "Epoch 26/50\n",
      "4443/4443 [==============================] - 37s 8ms/step - loss: 0.0725 - accuracy: 0.9703 - val_loss: 0.0592 - val_accuracy: 0.9762\n",
      "Epoch 27/50\n",
      "4443/4443 [==============================] - 37s 8ms/step - loss: 0.0729 - accuracy: 0.9701 - val_loss: 0.0520 - val_accuracy: 0.9793\n",
      "Epoch 28/50\n",
      "4443/4443 [==============================] - 36s 8ms/step - loss: 0.0726 - accuracy: 0.9701 - val_loss: 0.0565 - val_accuracy: 0.9774\n",
      "Epoch 29/50\n",
      "4443/4443 [==============================] - 36s 8ms/step - loss: 0.0712 - accuracy: 0.9712 - val_loss: 0.0528 - val_accuracy: 0.9791\n",
      "Epoch 30/50\n",
      "4443/4443 [==============================] - 35s 8ms/step - loss: 0.0708 - accuracy: 0.9712 - val_loss: 0.0573 - val_accuracy: 0.9773\n",
      "Epoch 31/50\n",
      "4443/4443 [==============================] - 37s 8ms/step - loss: 0.0707 - accuracy: 0.9710 - val_loss: 0.0551 - val_accuracy: 0.9775\n",
      "Epoch 32/50\n",
      "4443/4443 [==============================] - 37s 8ms/step - loss: 0.0699 - accuracy: 0.9716 - val_loss: 0.0512 - val_accuracy: 0.9789\n",
      "Epoch 33/50\n",
      "4443/4443 [==============================] - 36s 8ms/step - loss: 0.0696 - accuracy: 0.9717 - val_loss: 0.0509 - val_accuracy: 0.9800\n",
      "Epoch 34/50\n",
      "4443/4443 [==============================] - 37s 8ms/step - loss: 0.0688 - accuracy: 0.9720 - val_loss: 0.0527 - val_accuracy: 0.9787\n",
      "Epoch 35/50\n",
      "4443/4443 [==============================] - 37s 8ms/step - loss: 0.0692 - accuracy: 0.9712 - val_loss: 0.0517 - val_accuracy: 0.9782\n",
      "Epoch 36/50\n",
      "4443/4443 [==============================] - 36s 8ms/step - loss: 0.0673 - accuracy: 0.9724 - val_loss: 0.0511 - val_accuracy: 0.9792\n",
      "Epoch 37/50\n",
      "4443/4443 [==============================] - 37s 8ms/step - loss: 0.0679 - accuracy: 0.9723 - val_loss: 0.0487 - val_accuracy: 0.9809\n",
      "Epoch 38/50\n",
      "4443/4443 [==============================] - 37s 8ms/step - loss: 0.0673 - accuracy: 0.9726 - val_loss: 0.0510 - val_accuracy: 0.9791\n",
      "Epoch 39/50\n",
      "4443/4443 [==============================] - 37s 8ms/step - loss: 0.0666 - accuracy: 0.9728 - val_loss: 0.0510 - val_accuracy: 0.9793\n",
      "Epoch 40/50\n",
      "4443/4443 [==============================] - 37s 8ms/step - loss: 0.0663 - accuracy: 0.9730 - val_loss: 0.0470 - val_accuracy: 0.9815\n",
      "Epoch 41/50\n",
      "4443/4443 [==============================] - 36s 8ms/step - loss: 0.0653 - accuracy: 0.9733 - val_loss: 0.0483 - val_accuracy: 0.9814\n",
      "Epoch 42/50\n",
      "4443/4443 [==============================] - 36s 8ms/step - loss: 0.0651 - accuracy: 0.9732 - val_loss: 0.0472 - val_accuracy: 0.9814\n",
      "Epoch 43/50\n",
      "4443/4443 [==============================] - 38s 9ms/step - loss: 0.0648 - accuracy: 0.9738 - val_loss: 0.0484 - val_accuracy: 0.9809\n",
      "Epoch 44/50\n",
      "4443/4443 [==============================] - 38s 9ms/step - loss: 0.0643 - accuracy: 0.9736 - val_loss: 0.0498 - val_accuracy: 0.9802\n",
      "Epoch 45/50\n",
      "4443/4443 [==============================] - 37s 8ms/step - loss: 0.0646 - accuracy: 0.9735 - val_loss: 0.0446 - val_accuracy: 0.9819\n",
      "Epoch 46/50\n",
      "4443/4443 [==============================] - 37s 8ms/step - loss: 0.0637 - accuracy: 0.9739 - val_loss: 0.0432 - val_accuracy: 0.9829\n",
      "Epoch 47/50\n",
      "4443/4443 [==============================] - 36s 8ms/step - loss: 0.0633 - accuracy: 0.9742 - val_loss: 0.0483 - val_accuracy: 0.9799\n",
      "Epoch 48/50\n",
      "4443/4443 [==============================] - 38s 8ms/step - loss: 0.0629 - accuracy: 0.9741 - val_loss: 0.0456 - val_accuracy: 0.9816\n",
      "Epoch 49/50\n",
      "4443/4443 [==============================] - 37s 8ms/step - loss: 0.0625 - accuracy: 0.9744 - val_loss: 0.0427 - val_accuracy: 0.9830\n",
      "Epoch 50/50\n",
      "4443/4443 [==============================] - 37s 8ms/step - loss: 0.0622 - accuracy: 0.9745 - val_loss: 0.0453 - val_accuracy: 0.9812\n"
     ]
    },
    {
     "data": {
      "text/plain": [
       "<keras.src.callbacks.History at 0x23400528690>"
      ]
     },
     "execution_count": 13,
     "metadata": {},
     "output_type": "execute_result"
    }
   ],
   "source": [
    "model.compile(optimizer='adam', loss='binary_crossentropy', metrics=['accuracy'])\n",
    "model.fit(x_train, y_train, batch_size=64, epochs = 50, validation_data=(x_test, y_test))"
   ]
  },
  {
   "cell_type": "code",
   "execution_count": 14,
   "id": "c6416ed2-db42-477e-a7ba-c74e9129d833",
   "metadata": {},
   "outputs": [
    {
     "name": "stdout",
     "output_type": "stream",
     "text": [
      "8885/8885 [==============================] - 29s 3ms/step\n"
     ]
    }
   ],
   "source": [
    "pred = model.predict(x_test)\n",
    "pred = (pred > 0.5)"
   ]
  },
  {
   "cell_type": "code",
   "execution_count": 15,
   "id": "47307316-e212-450a-a4a3-48944d959d95",
   "metadata": {},
   "outputs": [],
   "source": [
    "cm = confusion_matrix(y_test, pred)"
   ]
  },
  {
   "cell_type": "code",
   "execution_count": 19,
   "id": "589f3c4e-11d3-4eb3-88b9-84438e9af75d",
   "metadata": {
    "editable": true,
    "slideshow": {
     "slide_type": ""
    },
    "tags": []
   },
   "outputs": [
    {
     "data": {
      "image/png": "[encoded data removed]",
      "text/plain": [
       "<Figure size 900x900 with 2 Axes>"
      ]
     },
     "metadata": {},
     "output_type": "display_data"
    }
   ],
   "source": [
    "plt.figure(figsize=(9, 9))\n",
    "sns.heatmap(cm, annot=True, fmt='d', cmap='Blues', xticklabels=['Negativo', 'Positivo'], yticklabels=['Negativo', 'Positivo'])\n",
    "plt.xlabel('Predições')\n",
    "plt.ylabel('Valores Reais')\n",
    "plt.title('Matriz de Confusão')\n",
    "plt.show()"
   ]
  }
 ],
 "metadata": {
  "kernelspec": {
   "display_name": "Python 3 (ipykernel)",
   "language": "python",
   "name": "python3"
  },
  "language_info": {
   "codemirror_mode": {
    "name": "ipython",
    "version": 3
   },
   "file_extension": ".py",
   "mimetype": "text/x-python",
   "name": "python",
   "nbconvert_exporter": "python",
   "pygments_lexer": "ipython3",
   "version": "3.11.6"
  },
  "toc": {
   "base_numbering": 1
  }
 },
 "nbformat": 4,
 "nbformat_minor": 5
}

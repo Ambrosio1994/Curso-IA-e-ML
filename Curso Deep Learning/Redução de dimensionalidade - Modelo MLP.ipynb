{
 "cells": [
  {
   "cell_type": "code",
   "execution_count": 20,
   "id": "57c74100-cd52-4847-8635-75831ad549fb",
   "metadata": {
    "editable": true,
    "slideshow": {
     "slide_type": ""
    },
    "tags": []
   },
   "outputs": [],
   "source": [
    "from sklearn.neural_network import MLPClassifier\n",
    "from sklearn import datasets, metrics\n",
    "from sklearn.model_selection import train_test_split\n",
    "import numpy as np"
   ]
  },
  {
   "cell_type": "code",
   "execution_count": 6,
   "id": "d3e3de3c-529a-4129-ba01-be66ebb56514",
   "metadata": {},
   "outputs": [],
   "source": [
    "df = datasets.load_digits()"
   ]
  },
  {
   "cell_type": "code",
   "execution_count": 7,
   "id": "24387683-c7f8-4901-8482-5b237e974509",
   "metadata": {},
   "outputs": [],
   "source": [
    "scaler = MinMaxScaler()"
   ]
  },
  {
   "cell_type": "code",
   "execution_count": 8,
   "id": "f744a2bb-af6b-4eef-add0-cc535c07aeaf",
   "metadata": {},
   "outputs": [],
   "source": [
    "previsores = np.asarray(df.data, 'float32')\n",
    "previsores = scaler.fit_transform(previsores)"
   ]
  },
  {
   "cell_type": "code",
   "execution_count": 9,
   "id": "ae3d89a2-8c6d-4c0a-8cd7-d6238de32708",
   "metadata": {},
   "outputs": [],
   "source": [
    "classe = np.asarray(df.target)"
   ]
  },
  {
   "cell_type": "code",
   "execution_count": 11,
   "id": "4ad85ebf-511f-420b-96dd-edbcb7621663",
   "metadata": {},
   "outputs": [],
   "source": [
    "x_train, x_test, y_train, y_test = train_test_split(previsores, classe, stratify = classe,\n",
    "                                                    test_size = 0.3, random_state = 0)"
   ]
  },
  {
   "cell_type": "code",
   "execution_count": 14,
   "id": "042d970d-db12-4960-bc1a-c0e67c001ac1",
   "metadata": {},
   "outputs": [],
   "source": [
    "clf = MLPClassifier(random_state=1, max_iter = 1000).fit(x_train, y_train)"
   ]
  },
  {
   "cell_type": "code",
   "execution_count": 17,
   "id": "f841a585-7d51-4e0b-aca6-a2c1796ee23c",
   "metadata": {},
   "outputs": [
    {
     "data": {
      "text/plain": [
       "array([[3.5303604e-10, 9.9188215e-01, 1.6079454e-08, 1.3431257e-05,\n",
       "        1.4097862e-04, 2.9259359e-09, 6.0505827e-06, 8.5326155e-06,\n",
       "        7.9454686e-03, 3.3630859e-06]], dtype=float32)"
      ]
     },
     "execution_count": 17,
     "metadata": {},
     "output_type": "execute_result"
    }
   ],
   "source": [
    "clf.predict_proba(x_test[:1])"
   ]
  },
  {
   "cell_type": "code",
   "execution_count": 18,
   "id": "23274c53-fbd3-42b2-b2f8-c6aefe8e1a2f",
   "metadata": {},
   "outputs": [
    {
     "data": {
      "text/plain": [
       "array([1, 4, 5, 6, 9])"
      ]
     },
     "execution_count": 18,
     "metadata": {},
     "output_type": "execute_result"
    }
   ],
   "source": [
    "clf.predict(x_test[:5, :])"
   ]
  },
  {
   "cell_type": "code",
   "execution_count": 19,
   "id": "23ab5025-a392-4b60-8911-45ba33eaab2a",
   "metadata": {},
   "outputs": [
    {
     "data": {
      "text/plain": [
       "0.9814814814814815"
      ]
     },
     "execution_count": 19,
     "metadata": {},
     "output_type": "execute_result"
    }
   ],
   "source": [
    "clf.score(x_test, y_test)"
   ]
  }
 ],
 "metadata": {
  "kernelspec": {
   "display_name": "Python 3 (ipykernel)",
   "language": "python",
   "name": "python3"
  },
  "language_info": {
   "codemirror_mode": {
    "name": "ipython",
    "version": 3
   },
   "file_extension": ".py",
   "mimetype": "text/x-python",
   "name": "python",
   "nbconvert_exporter": "python",
   "pygments_lexer": "ipython3",
   "version": "3.11.6"
  }
 },
 "nbformat": 4,
 "nbformat_minor": 5
}

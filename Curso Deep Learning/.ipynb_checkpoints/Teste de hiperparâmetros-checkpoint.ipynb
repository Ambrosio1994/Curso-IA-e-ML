{
 "cells": [
  {
   "cell_type": "code",
   "execution_count": 4,
   "id": "b933546a-6a9f-4773-a8e1-eba02c5c8574",
   "metadata": {
    "editable": true,
    "slideshow": {
     "slide_type": ""
    },
    "tags": []
   },
   "outputs": [],
   "source": [
    "import pandas as pd\n",
    "from sklearn.preprocessing import MinMaxScaler\n",
    "from sklearn.model_selection import train_test_split\n",
    "from keras.models import Sequential\n",
    "from keras.layers import Dropout, Dense\n",
    "from sklearn.ensemble import ExtraTreesClassifier\n",
    "import numpy as np\n",
    "from sklearn.model_selection import GridSearchCV\n",
    "from sklearn.metrics import make_scorer\n",
    "from sklearn.metrics import accuracy_score"
   ]
  },
  {
   "cell_type": "code",
   "execution_count": 7,
   "id": "3e0a2013-0466-4d36-9759-4a4cde04a553",
   "metadata": {
    "editable": true,
    "slideshow": {
     "slide_type": ""
    },
    "tags": []
   },
   "outputs": [],
   "source": [
    "df = pd.read_csv('Downloads/creditcard_2023.csv')"
   ]
  },
  {
   "cell_type": "code",
   "execution_count": 8,
   "id": "c929691f-adc5-49ca-8032-6f0e7b1af90a",
   "metadata": {
    "editable": true,
    "slideshow": {
     "slide_type": ""
    },
    "tags": []
   },
   "outputs": [],
   "source": [
    "scaler = MinMaxScaler()\n",
    "previsores = df.iloc[:, : -1].values\n",
    "previsores = scaler.fit_transform(previsores)"
   ]
  },
  {
   "cell_type": "code",
   "execution_count": 9,
   "id": "f7816901-0a9c-4ef2-89de-aa918f17685f",
   "metadata": {
    "editable": true,
    "slideshow": {
     "slide_type": ""
    },
    "tags": []
   },
   "outputs": [],
   "source": [
    "classe = df.iloc[:, -1].values"
   ]
  },
  {
   "cell_type": "code",
   "execution_count": 10,
   "id": "8b0258e2-3c8b-4afe-83ec-c3b45951349d",
   "metadata": {
    "editable": true,
    "slideshow": {
     "slide_type": ""
    },
    "tags": []
   },
   "outputs": [],
   "source": [
    "x_train, x_test, y_train, y_test = train_test_split(previsores, classe, test_size = 0.5, random_state=0)"
   ]
  },
  {
   "cell_type": "code",
   "execution_count": 11,
   "id": "f5b586f3-0d68-4808-b471-82d0e7905792",
   "metadata": {
    "editable": true,
    "slideshow": {
     "slide_type": ""
    },
    "tags": []
   },
   "outputs": [
    {
     "data": {
      "text/html": [
       "<style>#sk-container-id-1 {color: black;}#sk-container-id-1 pre{padding: 0;}#sk-container-id-1 div.sk-toggleable {background-color: white;}#sk-container-id-1 label.sk-toggleable__label {cursor: pointer;display: block;width: 100%;margin-bottom: 0;padding: 0.3em;box-sizing: border-box;text-align: center;}#sk-container-id-1 label.sk-toggleable__label-arrow:before {content: \"▸\";float: left;margin-right: 0.25em;color: #696969;}#sk-container-id-1 label.sk-toggleable__label-arrow:hover:before {color: black;}#sk-container-id-1 div.sk-estimator:hover label.sk-toggleable__label-arrow:before {color: black;}#sk-container-id-1 div.sk-toggleable__content {max-height: 0;max-width: 0;overflow: hidden;text-align: left;background-color: #f0f8ff;}#sk-container-id-1 div.sk-toggleable__content pre {margin: 0.2em;color: black;border-radius: 0.25em;background-color: #f0f8ff;}#sk-container-id-1 input.sk-toggleable__control:checked~div.sk-toggleable__content {max-height: 200px;max-width: 100%;overflow: auto;}#sk-container-id-1 input.sk-toggleable__control:checked~label.sk-toggleable__label-arrow:before {content: \"▾\";}#sk-container-id-1 div.sk-estimator input.sk-toggleable__control:checked~label.sk-toggleable__label {background-color: #d4ebff;}#sk-container-id-1 div.sk-label input.sk-toggleable__control:checked~label.sk-toggleable__label {background-color: #d4ebff;}#sk-container-id-1 input.sk-hidden--visually {border: 0;clip: rect(1px 1px 1px 1px);clip: rect(1px, 1px, 1px, 1px);height: 1px;margin: -1px;overflow: hidden;padding: 0;position: absolute;width: 1px;}#sk-container-id-1 div.sk-estimator {font-family: monospace;background-color: #f0f8ff;border: 1px dotted black;border-radius: 0.25em;box-sizing: border-box;margin-bottom: 0.5em;}#sk-container-id-1 div.sk-estimator:hover {background-color: #d4ebff;}#sk-container-id-1 div.sk-parallel-item::after {content: \"\";width: 100%;border-bottom: 1px solid gray;flex-grow: 1;}#sk-container-id-1 div.sk-label:hover label.sk-toggleable__label {background-color: #d4ebff;}#sk-container-id-1 div.sk-serial::before {content: \"\";position: absolute;border-left: 1px solid gray;box-sizing: border-box;top: 0;bottom: 0;left: 50%;z-index: 0;}#sk-container-id-1 div.sk-serial {display: flex;flex-direction: column;align-items: center;background-color: white;padding-right: 0.2em;padding-left: 0.2em;position: relative;}#sk-container-id-1 div.sk-item {position: relative;z-index: 1;}#sk-container-id-1 div.sk-parallel {display: flex;align-items: stretch;justify-content: center;background-color: white;position: relative;}#sk-container-id-1 div.sk-item::before, #sk-container-id-1 div.sk-parallel-item::before {content: \"\";position: absolute;border-left: 1px solid gray;box-sizing: border-box;top: 0;bottom: 0;left: 50%;z-index: -1;}#sk-container-id-1 div.sk-parallel-item {display: flex;flex-direction: column;z-index: 1;position: relative;background-color: white;}#sk-container-id-1 div.sk-parallel-item:first-child::after {align-self: flex-end;width: 50%;}#sk-container-id-1 div.sk-parallel-item:last-child::after {align-self: flex-start;width: 50%;}#sk-container-id-1 div.sk-parallel-item:only-child::after {width: 0;}#sk-container-id-1 div.sk-dashed-wrapped {border: 1px dashed gray;margin: 0 0.4em 0.5em 0.4em;box-sizing: border-box;padding-bottom: 0.4em;background-color: white;}#sk-container-id-1 div.sk-label label {font-family: monospace;font-weight: bold;display: inline-block;line-height: 1.2em;}#sk-container-id-1 div.sk-label-container {text-align: center;}#sk-container-id-1 div.sk-container {/* jupyter's `normalize.less` sets `[hidden] { display: none; }` but bootstrap.min.css set `[hidden] { display: none !important; }` so we also need the `!important` here to be able to override the default hidden behavior on the sphinx rendered scikit-learn.org. See: https://github.com/scikit-learn/scikit-learn/issues/21755 */display: inline-block !important;position: relative;}#sk-container-id-1 div.sk-text-repr-fallback {display: none;}</style><div id=\"sk-container-id-1\" class=\"sk-top-container\"><div class=\"sk-text-repr-fallback\"><pre>ExtraTreesClassifier()</pre><b>In a Jupyter environment, please rerun this cell to show the HTML representation or trust the notebook. <br />On GitHub, the HTML representation is unable to render, please try loading this page with nbviewer.org.</b></div><div class=\"sk-container\" hidden><div class=\"sk-item\"><div class=\"sk-estimator sk-toggleable\"><input class=\"sk-toggleable__control sk-hidden--visually\" id=\"sk-estimator-id-1\" type=\"checkbox\" checked><label for=\"sk-estimator-id-1\" class=\"sk-toggleable__label sk-toggleable__label-arrow\">ExtraTreesClassifier</label><div class=\"sk-toggleable__content\"><pre>ExtraTreesClassifier()</pre></div></div></div></div></div>"
      ],
      "text/plain": [
       "ExtraTreesClassifier()"
      ]
     },
     "execution_count": 11,
     "metadata": {},
     "output_type": "execute_result"
    }
   ],
   "source": [
    "feature_model = ExtraTreesClassifier()\n",
    "feature_model.fit(x_train, y_train)"
   ]
  },
  {
   "cell_type": "code",
   "execution_count": 12,
   "id": "866cc947-4168-47eb-8a42-a6721928989e",
   "metadata": {
    "editable": true,
    "slideshow": {
     "slide_type": ""
    },
    "tags": []
   },
   "outputs": [],
   "source": [
    "importance_scores = feature_model.feature_importances_\n",
    "\n",
    "num_top_features = 10"
   ]
  },
  {
   "cell_type": "code",
   "execution_count": 13,
   "id": "a1442cc1-7aaf-4ab5-bfe7-2468a6a6f7f9",
   "metadata": {
    "editable": true,
    "slideshow": {
     "slide_type": ""
    },
    "tags": []
   },
   "outputs": [
    {
     "data": {
      "text/plain": [
       "array([ 0,  4, 17, 11, 12, 14,  3, 10,  1, 16], dtype=int64)"
      ]
     },
     "execution_count": 13,
     "metadata": {},
     "output_type": "execute_result"
    }
   ],
   "source": [
    "top_feature_indices = np.argsort(importance_scores)[::-1][:num_top_features]\n",
    "top_feature_indices"
   ]
  },
  {
   "cell_type": "code",
   "execution_count": 14,
   "id": "a10daa62-0057-423c-9caf-432322a4a405",
   "metadata": {
    "editable": true,
    "slideshow": {
     "slide_type": ""
    },
    "tags": []
   },
   "outputs": [],
   "source": [
    "x_train = x_train[:, top_feature_indices]\n",
    "x_test = x_test[:, top_feature_indices]"
   ]
  },
  {
   "cell_type": "code",
   "execution_count": 17,
   "id": "043776f3-a739-4b74-891e-91ba5ce35499",
   "metadata": {
    "editable": true,
    "slideshow": {
     "slide_type": ""
    },
    "tags": []
   },
   "outputs": [
    {
     "name": "stdout",
     "output_type": "stream",
     "text": [
      "8885/8885 [==============================] - 21s 2ms/step\n",
      "8885/8885 [==============================] - 20s 2ms/step\n",
      "8885/8885 [==============================] - 22s 2ms/step\n",
      "8885/8885 [==============================] - 20s 2ms/step\n",
      "8885/8885 [==============================] - 20s 2ms/step\n",
      "8885/8885 [==============================] - 20s 2ms/step\n",
      "8885/8885 [==============================] - 21s 2ms/step\n",
      "8885/8885 [==============================] - 22s 2ms/step\n",
      "8885/8885 [==============================] - 28s 3ms/step\n",
      "8885/8885 [==============================] - 21s 2ms/step\n",
      "8885/8885 [==============================] - 20s 2ms/step\n",
      "8885/8885 [==============================] - 20s 2ms/step\n",
      "8885/8885 [==============================] - 21s 2ms/step\n",
      "8885/8885 [==============================] - 21s 2ms/step\n",
      "8885/8885 [==============================] - 21s 2ms/step\n",
      "8885/8885 [==============================] - 21s 2ms/step\n",
      "8885/8885 [==============================] - 22s 2ms/step\n",
      "8885/8885 [==============================] - 22s 2ms/step\n",
      "8885/8885 [==============================] - 21s 2ms/step\n",
      "8885/8885 [==============================] - 21s 2ms/step\n",
      "8885/8885 [==============================] - 21s 2ms/step\n",
      "8885/8885 [==============================] - 22s 3ms/step\n",
      "8885/8885 [==============================] - 22s 2ms/step\n",
      "8885/8885 [==============================] - 22s 2ms/step\n",
      "8885/8885 [==============================] - 22s 3ms/step\n",
      "8885/8885 [==============================] - 23s 3ms/step\n",
      "8885/8885 [==============================] - 23s 3ms/step\n",
      "Melhores hiperparâmetros: {'neurons': 128, 'layers': 3, 'dropout_rate': 0.4}\n",
      "Melhor precisão: 0.9995111056398712\n"
     ]
    }
   ],
   "source": [
    "def create_model(neurons=64, layers=2, dropout_rate=0.3):\n",
    "    model = Sequential()\n",
    "    model.add(Dense(neurons, activation='relu', input_dim=x_train.shape[1]))\n",
    "    \n",
    "    for _ in range(layers - 1):\n",
    "        model.add(Dense(neurons, activation='relu'))\n",
    "        model.add(Dropout(dropout_rate))\n",
    "     \n",
    "    model.add(Dense(1, activation='sigmoid'))\n",
    "    \n",
    "    model.compile(optimizer='adam', loss='binary_crossentropy', metrics=['accuracy'])\n",
    "    \n",
    "    return model\n",
    "\n",
    "# Defina os hiperparâmetros que você deseja testar\n",
    "neurons = [32, 64, 128]\n",
    "layers = [1, 2, 3]\n",
    "dropout_rates = [0.2, 0.3, 0.4]\n",
    "\n",
    "best_accuracy = 0.0\n",
    "best_hyperparameters = {}\n",
    "\n",
    "for n in neurons:\n",
    "    for l in layers:\n",
    "        for d in dropout_rates:\n",
    "            # Crie um modelo Keras com os hiperparâmetros atuais\n",
    "            model = create_model(neurons=n, layers=l, dropout_rate=d)\n",
    "            model.fit(x_train, y_train, epochs=50, batch_size=64, verbose=0)\n",
    "            \n",
    "            # Faça previsões no conjunto de teste\n",
    "            y_pred = model.predict(x_test)\n",
    "            y_pred_classes = (y_pred > 0.5)\n",
    "            \n",
    "            # Calcule a precisão\n",
    "            accuracy = accuracy_score(y_test, y_pred_classes)\n",
    "            \n",
    "            # Verifique se a precisão é a melhor até agora\n",
    "            if accuracy > best_accuracy:\n",
    "                best_accuracy = accuracy\n",
    "                best_hyperparameters = {'neurons': n, 'layers': l, 'dropout_rate': d}\n",
    "\n",
    "# Exiba os melhores hiperparâmetros encontrados\n",
    "print(\"Melhores hiperparâmetros:\", best_hyperparameters)\n",
    "print(\"Melhor precisão:\", best_accuracy)"
   ]
  }
 ],
 "metadata": {
  "kernelspec": {
   "display_name": "Python 3 (ipykernel)",
   "language": "python",
   "name": "python3"
  },
  "language_info": {
   "codemirror_mode": {
    "name": "ipython",
    "version": 3
   },
   "file_extension": ".py",
   "mimetype": "text/x-python",
   "name": "python",
   "nbconvert_exporter": "python",
   "pygments_lexer": "ipython3",
   "version": "3.11.6"
  },
  "toc": {
   "base_numbering": 1
  }
 },
 "nbformat": 4,
 "nbformat_minor": 5
}

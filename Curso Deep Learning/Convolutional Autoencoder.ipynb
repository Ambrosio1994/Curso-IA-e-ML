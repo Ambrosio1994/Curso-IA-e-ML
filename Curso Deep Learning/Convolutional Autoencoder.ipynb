{
 "cells": [
  {
   "cell_type": "code",
   "execution_count": 13,
   "id": "8717227e-ab42-4edd-b237-c4be1f3c1026",
   "metadata": {},
   "outputs": [],
   "source": [
    "from keras.models import Model, Sequential\n",
    "from tensorflow.keras.datasets import mnist\n",
    "from tensorflow.keras.layers import Dense, Input, Conv2D, MaxPooling2D, UpSampling2D, Flatten, Reshape\n",
    "import matplotlib.pyplot as plt\n",
    "import numpy as np"
   ]
  },
  {
   "cell_type": "code",
   "execution_count": 2,
   "id": "bf54c9a1-c912-49cc-960e-910084c8bb12",
   "metadata": {},
   "outputs": [],
   "source": [
    "(x_train, _), (x_test, _) = mnist.load_data()"
   ]
  },
  {
   "cell_type": "code",
   "execution_count": 3,
   "id": "593164ce-42ac-4f46-af1b-0c8f8853b021",
   "metadata": {},
   "outputs": [],
   "source": [
    "x_train = x_train.astype('float32') / 255\n",
    "x_test = x_test.astype('float32') / 255"
   ]
  },
  {
   "cell_type": "code",
   "execution_count": 4,
   "id": "79adbd42-28b4-4eb8-98f9-ce2b5151812c",
   "metadata": {},
   "outputs": [],
   "source": [
    "x_train = x_train.reshape((-1, 28, 28, 1))\n",
    "x_test = x_test.reshape((-1, 28, 28, 1))"
   ]
  },
  {
   "cell_type": "code",
   "execution_count": 5,
   "id": "17a34180-b8af-486a-9a6f-68a6e6a5351a",
   "metadata": {},
   "outputs": [
    {
     "data": {
      "text/plain": [
       "(60000, 28, 28, 1)"
      ]
     },
     "execution_count": 5,
     "metadata": {},
     "output_type": "execute_result"
    }
   ],
   "source": [
    "x_train.shape"
   ]
  },
  {
   "cell_type": "code",
   "execution_count": 6,
   "id": "8147da07-8390-4b00-b3ee-c0ac5a00df60",
   "metadata": {},
   "outputs": [
    {
     "data": {
      "text/plain": [
       "(10000, 28, 28, 1)"
      ]
     },
     "execution_count": 6,
     "metadata": {},
     "output_type": "execute_result"
    }
   ],
   "source": [
    "x_test.shape"
   ]
  },
  {
   "cell_type": "code",
   "execution_count": 7,
   "id": "d51016a8-b0be-4737-9c5b-24309387d5fe",
   "metadata": {},
   "outputs": [
    {
     "name": "stdout",
     "output_type": "stream",
     "text": [
      "Model: \"sequential\"\n",
      "_________________________________________________________________\n",
      " Layer (type)                Output Shape              Param #   \n",
      "=================================================================\n",
      " conv2d (Conv2D)             (None, 26, 26, 16)        160       \n",
      "                                                                 \n",
      " max_pooling2d (MaxPooling2  (None, 13, 13, 16)        0         \n",
      " D)                                                              \n",
      "                                                                 \n",
      " conv2d_1 (Conv2D)           (None, 13, 13, 8)         1160      \n",
      "                                                                 \n",
      " max_pooling2d_1 (MaxPoolin  (None, 7, 7, 8)           0         \n",
      " g2D)                                                            \n",
      "                                                                 \n",
      " conv2d_2 (Conv2D)           (None, 4, 4, 8)           584       \n",
      "                                                                 \n",
      " flatten (Flatten)           (None, 128)               0         \n",
      "                                                                 \n",
      " reshape (Reshape)           (None, 4, 4, 8)           0         \n",
      "                                                                 \n",
      " conv2d_3 (Conv2D)           (None, 4, 4, 8)           584       \n",
      "                                                                 \n",
      " up_sampling2d (UpSampling2  (None, 8, 8, 8)           0         \n",
      " D)                                                              \n",
      "                                                                 \n",
      " conv2d_4 (Conv2D)           (None, 8, 8, 8)           584       \n",
      "                                                                 \n",
      " up_sampling2d_1 (UpSamplin  (None, 16, 16, 8)         0         \n",
      " g2D)                                                            \n",
      "                                                                 \n",
      " conv2d_5 (Conv2D)           (None, 14, 14, 16)        1168      \n",
      "                                                                 \n",
      " up_sampling2d_2 (UpSamplin  (None, 28, 28, 16)        0         \n",
      " g2D)                                                            \n",
      "                                                                 \n",
      " conv2d_6 (Conv2D)           (None, 28, 28, 1)         145       \n",
      "                                                                 \n",
      "=================================================================\n",
      "Total params: 4385 (17.13 KB)\n",
      "Trainable params: 4385 (17.13 KB)\n",
      "Non-trainable params: 0 (0.00 Byte)\n",
      "_________________________________________________________________\n"
     ]
    }
   ],
   "source": [
    "model = Sequential()\n",
    "\n",
    "# Encoder\n",
    "model.add(Conv2D(filters = 16, kernel_size= (3,3), activation = 'relu', input_shape = (28, 28, 1)))\n",
    "model.add(MaxPooling2D(pool_size=(2,2)))\n",
    "\n",
    "model.add(Conv2D(filters = 8, kernel_size = (3,3), activation = 'relu', padding = 'same'))\n",
    "model.add(MaxPooling2D(pool_size=(2,2), padding = 'same'))\n",
    "\n",
    "model.add(Conv2D(filters = 8, kernel_size = (3,3), activation = 'relu', padding = 'same', strides = (2,2)))\n",
    "\n",
    "model.add(Flatten())\n",
    "\n",
    "model.add(Reshape((4, 4, 8)))\n",
    "\n",
    "# Decoder\n",
    "\n",
    "model.add(Conv2D(filters = 8, kernel_size = (3,3), activation = 'relu', padding = 'same'))\n",
    "model.add(UpSampling2D(size = (2,2)))\n",
    "\n",
    "model.add(Conv2D(filters = 8, kernel_size = (3,3), activation = 'relu', padding = 'same'))\n",
    "model.add(UpSampling2D(size = (2,2)))\n",
    "\n",
    "model.add(Conv2D(filters = 16, kernel_size = (3,3), activation = 'relu'))\n",
    "model.add(UpSampling2D(size = (2,2)))\n",
    "\n",
    "model.add(Conv2D(filters = 1, kernel_size = (3,3), activation = 'sigmoid', padding = 'same'))\n",
    "\n",
    "model.summary()"
   ]
  },
  {
   "cell_type": "code",
   "execution_count": 8,
   "id": "6b5d61ce-3181-4d4d-a69a-b9186446996c",
   "metadata": {},
   "outputs": [
    {
     "name": "stdout",
     "output_type": "stream",
     "text": [
      "Epoch 1/10\n",
      "235/235 [==============================] - 40s 158ms/step - loss: 0.2774 - accuracy: 0.7926 - val_loss: 0.1545 - val_accuracy: 0.8001\n",
      "Epoch 2/10\n",
      "235/235 [==============================] - 37s 156ms/step - loss: 0.1407 - accuracy: 0.8038 - val_loss: 0.1284 - val_accuracy: 0.8056\n",
      "Epoch 3/10\n",
      "235/235 [==============================] - 37s 156ms/step - loss: 0.1241 - accuracy: 0.8077 - val_loss: 0.1184 - val_accuracy: 0.8083\n",
      "Epoch 4/10\n",
      "235/235 [==============================] - 36s 155ms/step - loss: 0.1171 - accuracy: 0.8090 - val_loss: 0.1136 - val_accuracy: 0.8089\n",
      "Epoch 5/10\n",
      "235/235 [==============================] - 37s 156ms/step - loss: 0.1132 - accuracy: 0.8097 - val_loss: 0.1105 - val_accuracy: 0.8097\n",
      "Epoch 6/10\n",
      "235/235 [==============================] - 37s 156ms/step - loss: 0.1103 - accuracy: 0.8102 - val_loss: 0.1079 - val_accuracy: 0.8094\n",
      "Epoch 7/10\n",
      "235/235 [==============================] - 37s 156ms/step - loss: 0.1080 - accuracy: 0.8106 - val_loss: 0.1061 - val_accuracy: 0.8103\n",
      "Epoch 8/10\n",
      "235/235 [==============================] - 36s 155ms/step - loss: 0.1061 - accuracy: 0.8110 - val_loss: 0.1045 - val_accuracy: 0.8097\n",
      "Epoch 9/10\n",
      "235/235 [==============================] - 36s 155ms/step - loss: 0.1045 - accuracy: 0.8113 - val_loss: 0.1027 - val_accuracy: 0.8108\n",
      "Epoch 10/10\n",
      "235/235 [==============================] - 37s 156ms/step - loss: 0.1029 - accuracy: 0.8116 - val_loss: 0.1011 - val_accuracy: 0.8111\n"
     ]
    },
    {
     "data": {
      "text/plain": [
       "<keras.src.callbacks.History at 0x1e889924450>"
      ]
     },
     "execution_count": 8,
     "metadata": {},
     "output_type": "execute_result"
    }
   ],
   "source": [
    "model.compile(optimizer = 'adam', loss = 'binary_crossentropy', metrics = ['accuracy'])\n",
    "model.fit(x_train, x_train, epochs = 10, batch_size = 256, validation_data = (x_test, x_test))"
   ]
  },
  {
   "cell_type": "code",
   "execution_count": 9,
   "id": "bbaa8c66-24f7-4075-aa3b-471d68c4860a",
   "metadata": {},
   "outputs": [
    {
     "name": "stdout",
     "output_type": "stream",
     "text": [
      "Model: \"model\"\n",
      "_________________________________________________________________\n",
      " Layer (type)                Output Shape              Param #   \n",
      "=================================================================\n",
      " conv2d_input (InputLayer)   [(None, 28, 28, 1)]       0         \n",
      "                                                                 \n",
      " conv2d (Conv2D)             (None, 26, 26, 16)        160       \n",
      "                                                                 \n",
      " max_pooling2d (MaxPooling2  (None, 13, 13, 16)        0         \n",
      " D)                                                              \n",
      "                                                                 \n",
      " conv2d_1 (Conv2D)           (None, 13, 13, 8)         1160      \n",
      "                                                                 \n",
      " max_pooling2d_1 (MaxPoolin  (None, 7, 7, 8)           0         \n",
      " g2D)                                                            \n",
      "                                                                 \n",
      " conv2d_2 (Conv2D)           (None, 4, 4, 8)           584       \n",
      "                                                                 \n",
      " flatten (Flatten)           (None, 128)               0         \n",
      "                                                                 \n",
      "=================================================================\n",
      "Total params: 1904 (7.44 KB)\n",
      "Trainable params: 1904 (7.44 KB)\n",
      "Non-trainable params: 0 (0.00 Byte)\n",
      "_________________________________________________________________\n"
     ]
    }
   ],
   "source": [
    "encoder = Model(inputs = model.input, outputs = model.get_layer('flatten').output)\n",
    "encoder.summary()"
   ]
  },
  {
   "cell_type": "code",
   "execution_count": 10,
   "id": "65f11659-a057-4df6-86a1-3766675f97d1",
   "metadata": {},
   "outputs": [
    {
     "name": "stdout",
     "output_type": "stream",
     "text": [
      "313/313 [==============================] - 2s 6ms/step\n"
     ]
    }
   ],
   "source": [
    "imagens_cod = encoder.predict(x_test)"
   ]
  },
  {
   "cell_type": "code",
   "execution_count": 11,
   "id": "75a65bf7-2f4d-40ca-8d67-18e8c2200ba7",
   "metadata": {},
   "outputs": [
    {
     "name": "stdout",
     "output_type": "stream",
     "text": [
      "313/313 [==============================] - 4s 14ms/step\n"
     ]
    }
   ],
   "source": [
    "imagens_decod = model.predict(x_test)"
   ]
  },
  {
   "cell_type": "code",
   "execution_count": 14,
   "id": "181921b0-51eb-46b4-9682-0efcb0938119",
   "metadata": {},
   "outputs": [],
   "source": [
    "imagens = 10\n",
    "imagens_test = np.random.choice(x_test.shape[0], size=imagens)"
   ]
  },
  {
   "cell_type": "code",
   "execution_count": 17,
   "id": "3663e5e4-ea42-43f0-ab72-228dd6d66b0a",
   "metadata": {},
   "outputs": [
    {
     "data": {
      "image/png": "[encoded data removed]",
      "text/plain": [
       "<Figure size 2800x2800 with 29 Axes>"
      ]
     },
     "metadata": {},
     "output_type": "display_data"
    }
   ],
   "source": [
    "plt.figure(figsize=(28,28))\n",
    "\n",
    "for i, indice_imagem in enumerate(imagens_test):\n",
    "    \n",
    "    # Imagens Originais\n",
    "    eixo = plt.subplot(10, 10, i + 1)\n",
    "    plt.imshow(x_test[indice_imagem].reshape(28, 28))\n",
    "    plt.xticks(())\n",
    "    plt.yticks(())\n",
    "\n",
    "    # Imagens Codificadas\n",
    "    eixo = plt.subplot(10, 10, i + imagens)\n",
    "    plt.imshow(imagens_cod[indice_imagem].reshape(16, 8))\n",
    "    plt.xticks(())\n",
    "    plt.yticks(())\n",
    "\n",
    "    # Imagens decodificadas\n",
    "    eixo = plt.subplot(10, 10, i + 1 + imagens * 2)\n",
    "    plt.imshow(imagens_decod[indice_imagem].reshape(28, 28))\n",
    "    plt.xticks(())\n",
    "    plt.yticks(())"
   ]
  }
 ],
 "metadata": {
  "kernelspec": {
   "display_name": "Python 3 (ipykernel)",
   "language": "python",
   "name": "python3"
  },
  "language_info": {
   "codemirror_mode": {
    "name": "ipython",
    "version": 3
   },
   "file_extension": ".py",
   "mimetype": "text/x-python",
   "name": "python",
   "nbconvert_exporter": "python",
   "pygments_lexer": "ipython3",
   "version": "3.11.6"
  }
 },
 "nbformat": 4,
 "nbformat_minor": 5
}

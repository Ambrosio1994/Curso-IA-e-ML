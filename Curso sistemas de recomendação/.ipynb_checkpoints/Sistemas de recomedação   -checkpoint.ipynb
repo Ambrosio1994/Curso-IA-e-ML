{
 "cells": [
  {
   "cell_type": "code",
   "execution_count": 1,
   "id": "9bfddfe9-f36a-480a-90be-f91393673027",
   "metadata": {},
   "outputs": [],
   "source": [
    "avaliacoes = {'Ana': \n",
    "\t\t{'Freddy x Jason': 2.5, \n",
    "\t\t 'O Ultimato Bourne': 3.5,\n",
    "\t\t 'Star Trek': 3.0, \n",
    "\t\t 'Exterminador do Futuro': 3.5, \n",
    "\t\t 'Norbit': 2.5, \n",
    "\t\t 'Star Wars': 3.0},\n",
    "\t \n",
    "\t  'Marcos': \n",
    "\t\t{'Freddy x Jason': 3.0, \n",
    "\t\t 'O Ultimato Bourne': 3.5, \n",
    "\t\t 'Star Trek': 1.5, \n",
    "\t\t 'Exterminador do Futuro': 5.0, \n",
    "\t\t 'Star Wars': 3.0, \n",
    "\t\t 'Norbit': 3.5}, \n",
    "\n",
    "\t  'Pedro': \n",
    "\t    {'Freddy x Jason': 2.5, \n",
    "\t\t 'O Ultimato Bourne': 3.0,\n",
    "\t\t 'Exterminador do Futuro': 3.5, \n",
    "\t\t 'Star Wars': 4.0},\n",
    "\t\t\t \n",
    "\t  'Claudia': \n",
    "\t\t{'O Ultimato Bourne': 3.5, \n",
    "\t\t 'Star Trek': 3.0,\n",
    "\t\t 'Star Wars': 4.5, \n",
    "\t\t 'Exterminador do Futuro': 4.0, \n",
    "\t\t 'Norbit': 2.5},\n",
    "\t\t\t\t \n",
    "\t  'Adriano': \n",
    "\t\t{'Freddy x Jason': 3.0, \n",
    "\t\t 'O Ultimato Bourne': 4.0, \n",
    "\t\t 'Star Trek': 2.0, \n",
    "\t\t 'Exterminador do Futuro': 3.0, \n",
    "\t\t 'Star Wars': 3.0,\n",
    "\t\t 'Norbit': 2.0}, \n",
    "\n",
    "\t  'Janaina': \n",
    "\t     {'Freddy x Jason': 3.0, \n",
    "\t      'O Ultimato Bourne': 4.0,\n",
    "\t      'Star Wars': 3.0, \n",
    "\t      'Exterminador do Futuro': 5.0, \n",
    "\t      'Norbit': 3.5},\n",
    "\t\t\t  \n",
    "\t  'Leonardo': \n",
    "\t    {'O Ultimato Bourne':4.5,\n",
    "             'Norbit':1.0,\n",
    "\t     'Exterminador do Futuro':4.0}\n",
    "}"
   ]
  },
  {
   "cell_type": "code",
   "execution_count": 4,
   "id": "6ebb7151-ef10-4958-9a08-ab011907a60a",
   "metadata": {},
   "outputs": [],
   "source": [
    "from math import sqrt"
   ]
  },
  {
   "cell_type": "code",
   "execution_count": 6,
   "id": "5995268e-b492-46cd-8592-342da2a8e3d5",
   "metadata": {},
   "outputs": [],
   "source": [
    "def euclidiana(usuario1, usuario2):\n",
    "    si = {}\n",
    "    for item in avaliacoes[usuario1]:\n",
    "        if item in avaliacoes[usuario2]:\n",
    "            si[item] = 1\n",
    "    if len(si) == 0:\n",
    "        return 0\n",
    "    soma = sum([pow(avaliacoes[usuario1][item] - avaliacoes[usuario2][item], 2)\n",
    "                for item in avaliacoes[usuario1] if item in avaliacoes[usuario2]])\n",
    "    return 1 / (1 + sqrt(soma))"
   ]
  },
  {
   "cell_type": "code",
   "execution_count": 10,
   "id": "ab6f2de7-5138-43d3-aa63-3c1edec0507c",
   "metadata": {},
   "outputs": [
    {
     "data": {
      "text/plain": [
       "0.38742588672279304"
      ]
     },
     "execution_count": 10,
     "metadata": {},
     "output_type": "execute_result"
    }
   ],
   "source": [
    "euclidiana('Claudia', 'Ana')"
   ]
  },
  {
   "cell_type": "code",
   "execution_count": 8,
   "id": "a70b92fc-92a3-4f4a-baac-cf556d1367b3",
   "metadata": {},
   "outputs": [],
   "source": [
    "def getsimilaridade(usuario):\n",
    "    similaridade = [(euclidiana(usuario, outro), outro)\n",
    "                     for outro in avaliacoes if outro != usuario]\n",
    "    similaridade.sort(reverse=True)\n",
    "    print(f'Similaridade de {usuario} com outros usuários:')\n",
    "    for sim, outro in similaridade:\n",
    "        print(f'{outro}: {sim}')"
   ]
  },
  {
   "cell_type": "code",
   "execution_count": 9,
   "id": "c8f8be38-4854-464d-9701-052449f77a31",
   "metadata": {},
   "outputs": [
    {
     "name": "stdout",
     "output_type": "stream",
     "text": [
      "Similaridade de Leonardo com outros usuários:\n",
      "Adriano: 0.4\n",
      "Pedro: 0.38742588672279304\n",
      "Claudia: 0.3567891723253309\n",
      "Ana: 0.3483314773547883\n",
      "Janaina: 0.2674788903885893\n",
      "Marcos: 0.25824569976124334\n"
     ]
    }
   ],
   "source": [
    "getsimilaridade('Leonardo')"
   ]
  }
 ],
 "metadata": {
  "kernelspec": {
   "display_name": "Python 3 (ipykernel)",
   "language": "python",
   "name": "python3"
  },
  "language_info": {
   "codemirror_mode": {
    "name": "ipython",
    "version": 3
   },
   "file_extension": ".py",
   "mimetype": "text/x-python",
   "name": "python",
   "nbconvert_exporter": "python",
   "pygments_lexer": "ipython3",
   "version": "3.11.6"
  }
 },
 "nbformat": 4,
 "nbformat_minor": 5
}

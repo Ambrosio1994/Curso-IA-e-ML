{
 "cells": [
  {
   "cell_type": "code",
   "execution_count": 51,
   "id": "a3e0b891-58d0-42ea-ae26-5b4b3734757d",
   "metadata": {
    "scrolled": true
   },
   "outputs": [
    {
     "data": {
      "text/html": [
       "<div>\n",
       "<style scoped>\n",
       "    .dataframe tbody tr th:only-of-type {\n",
       "        vertical-align: middle;\n",
       "    }\n",
       "\n",
       "    .dataframe tbody tr th {\n",
       "        vertical-align: top;\n",
       "    }\n",
       "\n",
       "    .dataframe thead th {\n",
       "        text-align: right;\n",
       "    }\n",
       "</style>\n",
       "<table border=\"1\" class=\"dataframe\">\n",
       "  <thead>\n",
       "    <tr style=\"text-align: right;\">\n",
       "      <th></th>\n",
       "      <th>Freddy x Jason</th>\n",
       "      <th>O Ultimato Bourne</th>\n",
       "      <th>Star Trek</th>\n",
       "      <th>Exterminador do Futuro</th>\n",
       "      <th>Norbit</th>\n",
       "      <th>Star Wars</th>\n",
       "    </tr>\n",
       "  </thead>\n",
       "  <tbody>\n",
       "    <tr>\n",
       "      <th>Ana</th>\n",
       "      <td>2.5</td>\n",
       "      <td>3.5</td>\n",
       "      <td>3.0</td>\n",
       "      <td>3.5</td>\n",
       "      <td>2.5</td>\n",
       "      <td>3.0</td>\n",
       "    </tr>\n",
       "    <tr>\n",
       "      <th>Marcos</th>\n",
       "      <td>3.0</td>\n",
       "      <td>3.5</td>\n",
       "      <td>1.5</td>\n",
       "      <td>5.0</td>\n",
       "      <td>3.5</td>\n",
       "      <td>3.0</td>\n",
       "    </tr>\n",
       "    <tr>\n",
       "      <th>Pedro</th>\n",
       "      <td>2.5</td>\n",
       "      <td>3.0</td>\n",
       "      <td>NaN</td>\n",
       "      <td>3.5</td>\n",
       "      <td>NaN</td>\n",
       "      <td>4.0</td>\n",
       "    </tr>\n",
       "    <tr>\n",
       "      <th>Claudia</th>\n",
       "      <td>NaN</td>\n",
       "      <td>3.5</td>\n",
       "      <td>3.0</td>\n",
       "      <td>4.0</td>\n",
       "      <td>2.5</td>\n",
       "      <td>4.5</td>\n",
       "    </tr>\n",
       "    <tr>\n",
       "      <th>Adriano</th>\n",
       "      <td>3.0</td>\n",
       "      <td>4.0</td>\n",
       "      <td>2.0</td>\n",
       "      <td>3.0</td>\n",
       "      <td>2.0</td>\n",
       "      <td>3.0</td>\n",
       "    </tr>\n",
       "    <tr>\n",
       "      <th>Janaina</th>\n",
       "      <td>3.0</td>\n",
       "      <td>4.0</td>\n",
       "      <td>NaN</td>\n",
       "      <td>5.0</td>\n",
       "      <td>3.5</td>\n",
       "      <td>3.0</td>\n",
       "    </tr>\n",
       "    <tr>\n",
       "      <th>Leonardo</th>\n",
       "      <td>NaN</td>\n",
       "      <td>4.5</td>\n",
       "      <td>NaN</td>\n",
       "      <td>4.0</td>\n",
       "      <td>1.0</td>\n",
       "      <td>NaN</td>\n",
       "    </tr>\n",
       "  </tbody>\n",
       "</table>\n",
       "</div>"
      ],
      "text/plain": [
       "          Freddy x Jason  O Ultimato Bourne  Star Trek  \\\n",
       "Ana                  2.5                3.5        3.0   \n",
       "Marcos               3.0                3.5        1.5   \n",
       "Pedro                2.5                3.0        NaN   \n",
       "Claudia              NaN                3.5        3.0   \n",
       "Adriano              3.0                4.0        2.0   \n",
       "Janaina              3.0                4.0        NaN   \n",
       "Leonardo             NaN                4.5        NaN   \n",
       "\n",
       "          Exterminador do Futuro  Norbit  Star Wars  \n",
       "Ana                          3.5     2.5        3.0  \n",
       "Marcos                       5.0     3.5        3.0  \n",
       "Pedro                        3.5     NaN        4.0  \n",
       "Claudia                      4.0     2.5        4.5  \n",
       "Adriano                      3.0     2.0        3.0  \n",
       "Janaina                      5.0     3.5        3.0  \n",
       "Leonardo                     4.0     1.0        NaN  "
      ]
     },
     "execution_count": 51,
     "metadata": {},
     "output_type": "execute_result"
    }
   ],
   "source": [
    "import pandas as pd\n",
    "\n",
    "avaliacoes = {\n",
    "    'Ana': {\n",
    "        'Freddy x Jason': 2.5, \n",
    "        'O Ultimato Bourne': 3.5,\n",
    "        'Star Trek': 3.0, \n",
    "        'Exterminador do Futuro': 3.5, \n",
    "        'Norbit': 2.5, \n",
    "        'Star Wars': 3.0\n",
    "    },\n",
    "    'Marcos': {\n",
    "        'Freddy x Jason': 3.0, \n",
    "        'O Ultimato Bourne': 3.5, \n",
    "        'Star Trek': 1.5, \n",
    "        'Exterminador do Futuro': 5.0, \n",
    "        'Star Wars': 3.0, \n",
    "        'Norbit': 3.5\n",
    "    },\n",
    "    'Pedro': {\n",
    "        'Freddy x Jason': 2.5, \n",
    "        'O Ultimato Bourne': 3.0,\n",
    "        'Exterminador do Futuro': 3.5, \n",
    "        'Star Wars': 4.0\n",
    "    },\n",
    "    'Claudia': {\n",
    "        'O Ultimato Bourne': 3.5, \n",
    "        'Star Trek': 3.0,\n",
    "        'Star Wars': 4.5, \n",
    "        'Exterminador do Futuro': 4.0, \n",
    "        'Norbit': 2.5\n",
    "    },\n",
    "    'Adriano': {\n",
    "        'Freddy x Jason': 3.0, \n",
    "        'O Ultimato Bourne': 4.0, \n",
    "        'Star Trek': 2.0, \n",
    "        'Exterminador do Futuro': 3.0, \n",
    "        'Star Wars': 3.0,\n",
    "        'Norbit': 2.0\n",
    "    },\n",
    "    'Janaina': {\n",
    "        'Freddy x Jason': 3.0, \n",
    "        'O Ultimato Bourne': 4.0,\n",
    "        'Star Wars': 3.0, \n",
    "        'Exterminador do Futuro': 5.0, \n",
    "        'Norbit': 3.5\n",
    "    },\n",
    "    'Leonardo': {\n",
    "        'O Ultimato Bourne': 4.5,\n",
    "        'Norbit': 1.0,\n",
    "        'Exterminador do Futuro': 4.0\n",
    "    }\n",
    "}\n",
    "\n",
    "df = pd.DataFrame(avaliacoes).transpose()\n",
    "df"
   ]
  },
  {
   "cell_type": "code",
   "execution_count": 66,
   "id": "334b9dfc-1d77-4cc2-844b-f89fb8a9b961",
   "metadata": {},
   "outputs": [],
   "source": [
    "import math\n",
    "import pandas as pd\n",
    "\n",
    "def euclidiana(Data, usuario1, usuario2):\n",
    "    si = {}\n",
    "    for item in Data.columns:\n",
    "        if not (pd.isna(Data.at[usuario1, item]) or pd.isna(Data.at[usuario2, item])):\n",
    "            si[item] = 1\n",
    "\n",
    "    if len(si) == 0:\n",
    "        return 0\n",
    "\n",
    "    soma = sum(\n",
    "        pow(Data.at[usuario1, item] - Data.at[usuario2, item], 2)\n",
    "        for item in si\n",
    "    )\n",
    "\n",
    "    return 1 / (1 + math.sqrt(soma))"
   ]
  },
  {
   "cell_type": "code",
   "execution_count": 67,
   "id": "1c553b31-5185-401a-a685-216b44b65a77",
   "metadata": {},
   "outputs": [
    {
     "data": {
      "text/plain": [
       "0.38742588672279304"
      ]
     },
     "execution_count": 67,
     "metadata": {},
     "output_type": "execute_result"
    }
   ],
   "source": [
    "euclidiana(df,'Claudia', 'Ana')"
   ]
  },
  {
   "cell_type": "code",
   "execution_count": 68,
   "id": "52c324a3-dec8-4f80-8b50-f2a38710b7a3",
   "metadata": {},
   "outputs": [],
   "source": [
    "def get_similaridade(Data, usuario):\n",
    "    similaridade = [(euclidiana(Data, usuario, outro), outro)\n",
    "                     for outro in Data.index if outro != usuario]\n",
    "    \n",
    "    similaridade.sort(reverse=True)\n",
    "    \n",
    "    print(f'Similaridade de {usuario} com outros usuários:')\n",
    "    for sim, outro in similaridade:\n",
    "        print(f'{outro}: {sim}')"
   ]
  },
  {
   "cell_type": "code",
   "execution_count": 69,
   "id": "776fa0af-62fb-4f52-85f9-af708a91d167",
   "metadata": {},
   "outputs": [
    {
     "name": "stdout",
     "output_type": "stream",
     "text": [
      "Similaridade de Leonardo com outros usuários:\n",
      "Adriano: 0.4\n",
      "Pedro: 0.38742588672279304\n",
      "Claudia: 0.3567891723253309\n",
      "Ana: 0.3483314773547883\n",
      "Janaina: 0.2674788903885893\n",
      "Marcos: 0.25824569976124334\n"
     ]
    }
   ],
   "source": [
    "get_similaridade(df, 'Leonardo')"
   ]
  },
  {
   "cell_type": "code",
   "execution_count": 83,
   "id": "50a43b24-108f-4ff4-9e85-2d51fa0163cd",
   "metadata": {},
   "outputs": [],
   "source": [
    "def get_recomendacao(Data, usuario, nota_minima=2.0):\n",
    "    similaridades = []\n",
    "\n",
    "    # Calcular similaridade com todos os outros usuários\n",
    "    for outro_usuario in Data.index:\n",
    "        if outro_usuario == usuario:\n",
    "            continue\n",
    "\n",
    "        similaridade = euclidiana(Data, usuario, outro_usuario)\n",
    "        similaridades.append((outro_usuario, similaridade))\n",
    "\n",
    "    # Ordenar por similaridade em ordem decrescente\n",
    "    similaridades.sort(key=lambda x: x[1], reverse=True)\n",
    "\n",
    "    # Escolher o usuário mais similar (o primeiro da lista)\n",
    "    usuario_mais_similar = similaridades[0][0]\n",
    "\n",
    "    # Filtrar os filmes que o usuário mais similar assistiu e o usuário atual ainda não assistiu, considerando a nota mínima\n",
    "    filmes_recomendados = Data.loc[usuario_mais_similar][\n",
    "        (Data.loc[usuario].isna()) & (Data.loc[usuario_mais_similar] >= nota_minima)\n",
    "    ].index.tolist()\n",
    "\n",
    "    # Retornar os top 5 filmes recomendados\n",
    "    return filmes_recomendados[:10]"
   ]
  },
  {
   "cell_type": "code",
   "execution_count": 86,
   "id": "e3ab80f2-8919-4c80-9ce2-50aea84a2d9c",
   "metadata": {},
   "outputs": [
    {
     "data": {
      "text/plain": [
       "['Freddy x Jason']"
      ]
     },
     "execution_count": 86,
     "metadata": {},
     "output_type": "execute_result"
    }
   ],
   "source": [
    "get_recomendacao(df, 'Claudia')"
   ]
  },
  {
   "cell_type": "code",
   "execution_count": null,
   "id": "0de7e2ec-1b75-4cc9-a167-9b00a7521164",
   "metadata": {},
   "outputs": [],
   "source": [
    "def carrega_dados(path='Curso sistemas de recomendação/ml-100k'):\n",
    "    filmes = {}\n",
    "    for linha in open(path + '/u.item'):\n",
    "        (id, titulo) = linha.split(' | ')"
   ]
  }
 ],
 "metadata": {
  "kernelspec": {
   "display_name": "Python 3 (ipykernel)",
   "language": "python",
   "name": "python3"
  },
  "language_info": {
   "codemirror_mode": {
    "name": "ipython",
    "version": 3
   },
   "file_extension": ".py",
   "mimetype": "text/x-python",
   "name": "python",
   "nbconvert_exporter": "python",
   "pygments_lexer": "ipython3",
   "version": "3.11.6"
  }
 },
 "nbformat": 4,
 "nbformat_minor": 5
}

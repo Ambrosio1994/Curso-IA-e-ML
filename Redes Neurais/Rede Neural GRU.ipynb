{
 "cells": [
  {
   "cell_type": "code",
   "execution_count": 20,
   "id": "6886d785-e92e-4cba-b4c6-35336a8f5295",
   "metadata": {},
   "outputs": [],
   "source": [
    "import pandas as pd\n",
    "import numpy as np\n",
    "import math"
   ]
  },
  {
   "cell_type": "code",
   "execution_count": 22,
   "id": "4cde328a-6e2c-439b-b74d-66a02b038af0",
   "metadata": {},
   "outputs": [
    {
     "data": {
      "text/html": [
       "<div>\n",
       "<style scoped>\n",
       "    .dataframe tbody tr th:only-of-type {\n",
       "        vertical-align: middle;\n",
       "    }\n",
       "\n",
       "    .dataframe tbody tr th {\n",
       "        vertical-align: top;\n",
       "    }\n",
       "\n",
       "    .dataframe thead th {\n",
       "        text-align: right;\n",
       "    }\n",
       "</style>\n",
       "<table border=\"1\" class=\"dataframe\">\n",
       "  <thead>\n",
       "    <tr style=\"text-align: right;\">\n",
       "      <th></th>\n",
       "      <th>date</th>\n",
       "      <th>open</th>\n",
       "      <th>high</th>\n",
       "      <th>low</th>\n",
       "      <th>close</th>\n",
       "      <th>volume</th>\n",
       "      <th>Name</th>\n",
       "    </tr>\n",
       "  </thead>\n",
       "  <tbody>\n",
       "    <tr>\n",
       "      <th>0</th>\n",
       "      <td>2013-02-08</td>\n",
       "      <td>15.07</td>\n",
       "      <td>15.12</td>\n",
       "      <td>14.63</td>\n",
       "      <td>14.75</td>\n",
       "      <td>8407500</td>\n",
       "      <td>AAL</td>\n",
       "    </tr>\n",
       "    <tr>\n",
       "      <th>1</th>\n",
       "      <td>2013-02-11</td>\n",
       "      <td>14.89</td>\n",
       "      <td>15.01</td>\n",
       "      <td>14.26</td>\n",
       "      <td>14.46</td>\n",
       "      <td>8882000</td>\n",
       "      <td>AAL</td>\n",
       "    </tr>\n",
       "    <tr>\n",
       "      <th>2</th>\n",
       "      <td>2013-02-12</td>\n",
       "      <td>14.45</td>\n",
       "      <td>14.51</td>\n",
       "      <td>14.10</td>\n",
       "      <td>14.27</td>\n",
       "      <td>8126000</td>\n",
       "      <td>AAL</td>\n",
       "    </tr>\n",
       "    <tr>\n",
       "      <th>3</th>\n",
       "      <td>2013-02-13</td>\n",
       "      <td>14.30</td>\n",
       "      <td>14.94</td>\n",
       "      <td>14.25</td>\n",
       "      <td>14.66</td>\n",
       "      <td>10259500</td>\n",
       "      <td>AAL</td>\n",
       "    </tr>\n",
       "    <tr>\n",
       "      <th>4</th>\n",
       "      <td>2013-02-14</td>\n",
       "      <td>14.94</td>\n",
       "      <td>14.96</td>\n",
       "      <td>13.16</td>\n",
       "      <td>13.99</td>\n",
       "      <td>31879900</td>\n",
       "      <td>AAL</td>\n",
       "    </tr>\n",
       "  </tbody>\n",
       "</table>\n",
       "</div>"
      ],
      "text/plain": [
       "         date   open   high    low  close    volume Name\n",
       "0  2013-02-08  15.07  15.12  14.63  14.75   8407500  AAL\n",
       "1  2013-02-11  14.89  15.01  14.26  14.46   8882000  AAL\n",
       "2  2013-02-12  14.45  14.51  14.10  14.27   8126000  AAL\n",
       "3  2013-02-13  14.30  14.94  14.25  14.66  10259500  AAL\n",
       "4  2013-02-14  14.94  14.96  13.16  13.99  31879900  AAL"
      ]
     },
     "execution_count": 22,
     "metadata": {},
     "output_type": "execute_result"
    }
   ],
   "source": [
    "df = pd.read_csv('all-stocks-5yr.csv')\n",
    "df.head()"
   ]
  },
  {
   "cell_type": "code",
   "execution_count": 23,
   "id": "06390e7b-7282-46bb-a7be-f20aa163882a",
   "metadata": {},
   "outputs": [
    {
     "name": "stdout",
     "output_type": "stream",
     "text": [
      "<class 'pandas.core.frame.DataFrame'>\n",
      "Int64Index: 1259 entries, 617781 to 619039\n",
      "Data columns (total 7 columns):\n",
      " #   Column  Non-Null Count  Dtype  \n",
      "---  ------  --------------  -----  \n",
      " 0   date    1259 non-null   object \n",
      " 1   open    1259 non-null   float64\n",
      " 2   high    1259 non-null   float64\n",
      " 3   low     1259 non-null   float64\n",
      " 4   close   1259 non-null   float64\n",
      " 5   volume  1259 non-null   int64  \n",
      " 6   Name    1259 non-null   object \n",
      "dtypes: float64(4), int64(1), object(2)\n",
      "memory usage: 78.7+ KB\n"
     ]
    }
   ],
   "source": [
    "z = df.loc[df['Name'] == 'ZTS']\n",
    "z.info()"
   ]
  },
  {
   "cell_type": "code",
   "execution_count": 24,
   "id": "7b3131ed-9fbf-4aca-823d-77dd6837d9e0",
   "metadata": {},
   "outputs": [
    {
     "data": {
      "text/plain": [
       "array([[33.05],\n",
       "       [33.26],\n",
       "       [33.74],\n",
       "       ...,\n",
       "       [73.83],\n",
       "       [73.27],\n",
       "       [73.86]])"
      ]
     },
     "execution_count": 24,
     "metadata": {},
     "output_type": "execute_result"
    }
   ],
   "source": [
    "treino = z.iloc[:, 4:5].values\n",
    "treino"
   ]
  },
  {
   "cell_type": "code",
   "execution_count": 25,
   "id": "2dfec35d-ea18-4e4c-9cd4-ac4d40406d94",
   "metadata": {},
   "outputs": [],
   "source": [
    "from sklearn.preprocessing import MinMaxScaler\n",
    "\n",
    "# Criando um objeto MinMaxScaler\n",
    "sc = MinMaxScaler()\n",
    "\n",
    "# Aplicando a transformação de escala nos dados de treino\n",
    "sc1 = sc.fit_transform(treino)"
   ]
  },
  {
   "cell_type": "code",
   "execution_count": 8,
   "id": "b0cda82e-bb28-427c-b9e6-a6a69ea4543b",
   "metadata": {},
   "outputs": [],
   "source": [
    "x_treino = []  # Lista para armazenar as sequências de entrada\n",
    "y_treino = []  # Lista para armazenar os valores de saída correspondentes\n",
    "timestamp = 45  # Tamanho da janela de tempo deslizante\n",
    "length = len(treino)  # Comprimento dos dados de treino\n",
    "\n",
    "# Criando as sequências de entrada (x_treino) e os valores de saída (y_treino)\n",
    "for i in range(timestamp, length):\n",
    "    # Cria uma sequência de entrada com base na janela de tempo deslizante\n",
    "    # A sequência contém os valores de sc1 a partir de i - timestamp até i (exclusivo)\n",
    "    x_treino.append(sc1[i - timestamp:i, 0])\n",
    "    \n",
    "    # O valor de saída correspondente é o valor de sc1 no índice i\n",
    "    y_treino.append(sc1[i, 0])\n",
    "\n",
    "# Converte as listas em arrays numpy\n",
    "x_treino = np.array(x_treino)\n",
    "y_treino = np.array(y_treino)"
   ]
  },
  {
   "cell_type": "code",
   "execution_count": 26,
   "id": "a33c90ad-2c79-4019-93e8-26a42564b153",
   "metadata": {},
   "outputs": [
    {
     "data": {
      "text/plain": [
       "(1214, 45, 1)"
      ]
     },
     "execution_count": 26,
     "metadata": {},
     "output_type": "execute_result"
    }
   ],
   "source": [
    "x_treino = np.reshape(x_treino, (x_treino.shape[0], x_treino.shape[1], 1))\n",
    "x_treino.shape"
   ]
  },
  {
   "cell_type": "code",
   "execution_count": 21,
   "id": "eabc0f41-0d57-408e-89fd-149daab434dc",
   "metadata": {},
   "outputs": [
    {
     "name": "stdout",
     "output_type": "stream",
     "text": [
      "Model: \"sequential_3\"\n",
      "_________________________________________________________________\n",
      " Layer (type)                Output Shape              Param #   \n",
      "=================================================================\n",
      " gru_4 (GRU)                 (None, 45, 120)           44280     \n",
      "                                                                 \n",
      " dropout_12 (Dropout)        (None, 45, 120)           0         \n",
      "                                                                 \n",
      " gru_5 (GRU)                 (None, 45, 120)           87120     \n",
      "                                                                 \n",
      " dropout_13 (Dropout)        (None, 45, 120)           0         \n",
      "                                                                 \n",
      " gru_6 (GRU)                 (None, 45, 120)           87120     \n",
      "                                                                 \n",
      " dropout_14 (Dropout)        (None, 45, 120)           0         \n",
      "                                                                 \n",
      " gru_7 (GRU)                 (None, 120)               87120     \n",
      "                                                                 \n",
      " dropout_15 (Dropout)        (None, 120)               0         \n",
      "                                                                 \n",
      " dense_3 (Dense)             (None, 1)                 121       \n",
      "                                                                 \n",
      "=================================================================\n",
      "Total params: 305761 (1.17 MB)\n",
      "Trainable params: 305761 (1.17 MB)\n",
      "Non-trainable params: 0 (0.00 Byte)\n",
      "_________________________________________________________________\n"
     ]
    }
   ],
   "source": [
    "from keras.models import Sequential\n",
    "from keras.layers import GRU, Dropout, Dense\n",
    "\n",
    "# Inicializa um modelo sequencial\n",
    "model = Sequential()\n",
    "\n",
    "# Adiciona uma camada LSTM com 120 unidades, retornando sequências completas.\n",
    "# A entrada é uma janela de tempo de forma (tamanho_da_janela_de_tempo, 1)\n",
    "model.add(GRU(units=120, return_sequences=True, input_shape=(x_treino.shape[1], 1)))\n",
    "model.add(Dropout(0.2))  # Adiciona uma camada de dropout para regularização\n",
    "\n",
    "# Adiciona mais uma camada LSTM com 120 unidades e dropout\n",
    "model.add(GRU(units=120, return_sequences=True))\n",
    "model.add(Dropout(0.2))\n",
    "\n",
    "# Adiciona mais uma camada LSTM com 120 unidades e dropout\n",
    "model.add(GRU(units=120, return_sequences=True))\n",
    "model.add(Dropout(0.2))\n",
    "\n",
    "# Adiciona uma camada LSTM final com 120 unidades, retornando apenas o último valor\n",
    "model.add(GRU(units=120, return_sequences=False))\n",
    "model.add(Dropout(0.2))\n",
    "\n",
    "# Adiciona uma camada densa com 1 unidade de saída para finalizar a previsão\n",
    "model.add(Dense(units=1))\n",
    "\n",
    "# Compila o modelo com otimizador 'adam' e função de perda 'mean_squared_error'\n",
    "model.compile(optimizer='adam', loss='mean_squared_error')\n",
    "\n",
    "# Imprime um resumo da arquitetura do modelo\n",
    "model.summary()"
   ]
  },
  {
   "cell_type": "code",
   "execution_count": 27,
   "id": "848cffcc-1117-4774-bc46-d9e1eae96711",
   "metadata": {},
   "outputs": [
    {
     "name": "stdout",
     "output_type": "stream",
     "text": [
      "38/38 [==============================] - 71s 1s/step - loss: 0.0145\n"
     ]
    },
    {
     "data": {
      "text/plain": [
       "<keras.src.callbacks.History at 0x245bd748250>"
      ]
     },
     "execution_count": 27,
     "metadata": {},
     "output_type": "execute_result"
    }
   ],
   "source": [
    "# padrão epochs = 200\n",
    "#coloquei 1 para ganhar tempo\n",
    "model.fit(x_treino, y_treino, epochs = 1, batch_size = 32)"
   ]
  },
  {
   "cell_type": "code",
   "execution_count": 30,
   "id": "23856ce7-cfe6-4908-9466-368ae1b8652e",
   "metadata": {},
   "outputs": [],
   "source": [
    "# Selecionando os dados específicos do DataFrame df onde a coluna 'Name' é igual a 'BA'\n",
    "teste = df[df['Name'] == 'BA']\n",
    "\n",
    "# Selecionando somente a coluna 'close' do DataFrame teste\n",
    "teste = teste.loc[:, ['close']]\n",
    "\n",
    "# Definindo o número de lags para usar como timestamp\n",
    "timestamp = 45\n",
    "\n",
    "# Criando a variável y_treino usando os valores de 'close' a partir do índice 'timestamp'\n",
    "y_treino = teste['close'].iloc[timestamp:].values"
   ]
  },
  {
   "cell_type": "code",
   "execution_count": 31,
   "id": "ed1e237f-bad0-416e-8a89-5399ee22e63d",
   "metadata": {},
   "outputs": [],
   "source": [
    "clossing_price = teste.iloc[:,0:].values\n",
    "clossing_price_scaled = sc.transform(clossing_price)"
   ]
  },
  {
   "cell_type": "code",
   "execution_count": 33,
   "id": "770e6c46-bc77-4aed-ba7f-b55b807a04a9",
   "metadata": {},
   "outputs": [],
   "source": [
    "# Inicializando uma lista vazia para armazenar os dados de teste\n",
    "x_teste = []\n",
    "\n",
    "# Obtendo o comprimento dos dados de teste\n",
    "length = len(teste)\n",
    "\n",
    "# Iterando sobre os dados de teste\n",
    "for i in range(timestamp, length):\n",
    "    # Adicionando os dados escalados de fechamento à lista x_teste\n",
    "    x_teste.append(clossing_price_scaled[i - timestamp:i, 0])\n",
    "\n",
    "# Convertendo a lista para um array numpy\n",
    "x_teste = np.array(x_teste)\n",
    "\n",
    "# Redimensionando os dados de teste para o formato adequado para a entrada do modelo LSTM\n",
    "x_teste = x_teste.reshape(x_teste.shape[0], x_teste.shape[1], 1)"
   ]
  },
  {
   "cell_type": "code",
   "execution_count": 34,
   "id": "695b90fb-4c2d-405d-bf6f-697650e9e63a",
   "metadata": {},
   "outputs": [
    {
     "name": "stdout",
     "output_type": "stream",
     "text": [
      "38/38 [==============================] - 21s 417ms/step\n"
     ]
    }
   ],
   "source": [
    "# Realizando a previsão dos preços das ações usando o modelo treinado\n",
    "y_predict = model.predict(x_teste)\n",
    "\n",
    "# Invertendo a transformação para obter os valores originais dos preços\n",
    "predict_price = sc.inverse_transform(y_predict)"
   ]
  },
  {
   "cell_type": "code",
   "execution_count": 35,
   "id": "c47a8b9e-cfe9-4d1c-b4d5-edc05460113f",
   "metadata": {},
   "outputs": [
    {
     "data": {
      "image/png": "[encoded data removed]",
      "text/plain": [
       "<Figure size 1500x600 with 1 Axes>"
      ]
     },
     "metadata": {},
     "output_type": "display_data"
    }
   ],
   "source": [
    "# Importando a biblioteca necessária para visualização\n",
    "import matplotlib.pyplot as plt\n",
    "from matplotlib.pyplot import rcParams\n",
    "rcParams['figure.figsize'] = 15, 6\n",
    "\n",
    "# Plot dos preços reais das ações (em azul) e preços previstos (em vermelho)\n",
    "plt.plot(y_treino, color='b', label='Preço atual das ações')\n",
    "plt.plot(predict_price, color='r', label='Preço previsto das ações')\n",
    "\n",
    "# Adicionando título e rótulos dos eixos\n",
    "plt.title('Previsão do Preço das Ações')\n",
    "plt.xlabel('Tempo')\n",
    "plt.ylabel('Preço das Ações')\n",
    "\n",
    "# Adicionando legenda para as linhas\n",
    "plt.legend()\n",
    "\n",
    "# Exibindo o gráfico\n",
    "plt.show()"
   ]
  }
 ],
 "metadata": {
  "kernelspec": {
   "display_name": "Python 3 (ipykernel)",
   "language": "python",
   "name": "python3"
  },
  "language_info": {
   "codemirror_mode": {
    "name": "ipython",
    "version": 3
   },
   "file_extension": ".py",
   "mimetype": "text/x-python",
   "name": "python",
   "nbconvert_exporter": "python",
   "pygments_lexer": "ipython3",
   "version": "3.11.6"
  }
 },
 "nbformat": 4,
 "nbformat_minor": 5
}

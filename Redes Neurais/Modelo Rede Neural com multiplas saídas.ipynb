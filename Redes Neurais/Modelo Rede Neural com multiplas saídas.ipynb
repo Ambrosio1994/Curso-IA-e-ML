{
 "cells": [
  {
   "cell_type": "code",
   "execution_count": 2,
   "id": "8283bb4f-d6e4-4d8c-b5ea-97eb296aac30",
   "metadata": {},
   "outputs": [],
   "source": [
    "import pandas as pd\n",
    "from sklearn.preprocessing import MinMaxScaler\n",
    "from keras.models import Sequential\n",
    "from tensorflow.keras.layers import Dense,LSTM, Dropout\n",
    "import numpy as np\n",
    "import matplotlib.pyplot as plt\n",
    "from matplotlib.pyplot import rcParams\n",
    "#from keras.callbacks import EarlyStopping, ReduceLROnPlateau, ModelCheckpoint"
   ]
  },
  {
   "cell_type": "code",
   "execution_count": 97,
   "id": "f3bf6e21-06c4-45ed-9f6b-5e118b8d03ef",
   "metadata": {},
   "outputs": [
    {
     "data": {
      "text/html": [
       "<div>\n",
       "<style scoped>\n",
       "    .dataframe tbody tr th:only-of-type {\n",
       "        vertical-align: middle;\n",
       "    }\n",
       "\n",
       "    .dataframe tbody tr th {\n",
       "        vertical-align: top;\n",
       "    }\n",
       "\n",
       "    .dataframe thead th {\n",
       "        text-align: right;\n",
       "    }\n",
       "</style>\n",
       "<table border=\"1\" class=\"dataframe\">\n",
       "  <thead>\n",
       "    <tr style=\"text-align: right;\">\n",
       "      <th></th>\n",
       "      <th>Date</th>\n",
       "      <th>Open</th>\n",
       "      <th>High</th>\n",
       "      <th>Low</th>\n",
       "      <th>Close</th>\n",
       "      <th>Adj Close</th>\n",
       "      <th>Volume</th>\n",
       "    </tr>\n",
       "  </thead>\n",
       "  <tbody>\n",
       "    <tr>\n",
       "      <th>0</th>\n",
       "      <td>2013-01-02</td>\n",
       "      <td>19.990000</td>\n",
       "      <td>20.209999</td>\n",
       "      <td>19.690001</td>\n",
       "      <td>19.690001</td>\n",
       "      <td>18.086271</td>\n",
       "      <td>30182600.0</td>\n",
       "    </tr>\n",
       "    <tr>\n",
       "      <th>1</th>\n",
       "      <td>2013-01-03</td>\n",
       "      <td>19.809999</td>\n",
       "      <td>20.400000</td>\n",
       "      <td>19.700001</td>\n",
       "      <td>20.400000</td>\n",
       "      <td>18.738441</td>\n",
       "      <td>30552600.0</td>\n",
       "    </tr>\n",
       "    <tr>\n",
       "      <th>2</th>\n",
       "      <td>2013-01-04</td>\n",
       "      <td>20.330000</td>\n",
       "      <td>20.620001</td>\n",
       "      <td>20.170000</td>\n",
       "      <td>20.430000</td>\n",
       "      <td>18.766001</td>\n",
       "      <td>36141000.0</td>\n",
       "    </tr>\n",
       "    <tr>\n",
       "      <th>3</th>\n",
       "      <td>2013-01-07</td>\n",
       "      <td>20.480000</td>\n",
       "      <td>20.670000</td>\n",
       "      <td>19.950001</td>\n",
       "      <td>20.080000</td>\n",
       "      <td>18.444506</td>\n",
       "      <td>28069600.0</td>\n",
       "    </tr>\n",
       "    <tr>\n",
       "      <th>4</th>\n",
       "      <td>2013-01-08</td>\n",
       "      <td>20.110001</td>\n",
       "      <td>20.230000</td>\n",
       "      <td>19.459999</td>\n",
       "      <td>19.500000</td>\n",
       "      <td>17.911745</td>\n",
       "      <td>29091300.0</td>\n",
       "    </tr>\n",
       "  </tbody>\n",
       "</table>\n",
       "</div>"
      ],
      "text/plain": [
       "         Date       Open       High        Low      Close  Adj Close  \\\n",
       "0  2013-01-02  19.990000  20.209999  19.690001  19.690001  18.086271   \n",
       "1  2013-01-03  19.809999  20.400000  19.700001  20.400000  18.738441   \n",
       "2  2013-01-04  20.330000  20.620001  20.170000  20.430000  18.766001   \n",
       "3  2013-01-07  20.480000  20.670000  19.950001  20.080000  18.444506   \n",
       "4  2013-01-08  20.110001  20.230000  19.459999  19.500000  17.911745   \n",
       "\n",
       "       Volume  \n",
       "0  30182600.0  \n",
       "1  30552600.0  \n",
       "2  36141000.0  \n",
       "3  28069600.0  \n",
       "4  29091300.0  "
      ]
     },
     "execution_count": 97,
     "metadata": {},
     "output_type": "execute_result"
    }
   ],
   "source": [
    "df_train = pd.read_csv('Downloads/petr4_treinamento.csv')\n",
    "df_train.head()"
   ]
  },
  {
   "cell_type": "code",
   "execution_count": 98,
   "id": "ec8b3fbc-85f2-4399-bdc0-ceb515887a1a",
   "metadata": {},
   "outputs": [],
   "source": [
    "for coluna in df_train.columns:\n",
    "    if df_train[coluna].dtype == 'float64':\n",
    "        if df_train[coluna].isna().any():\n",
    "            media = df_train[coluna].mean()\n",
    "            df_train[coluna].fillna(media, inplace=True)"
   ]
  },
  {
   "cell_type": "code",
   "execution_count": 99,
   "id": "18fd6c21-1584-4a34-94bc-70529871953d",
   "metadata": {},
   "outputs": [
    {
     "data": {
      "text/plain": [
       "array([[19.99    ],\n",
       "       [19.809999],\n",
       "       [20.33    ],\n",
       "       ...,\n",
       "       [15.99    ],\n",
       "       [16.1     ],\n",
       "       [16.1     ]])"
      ]
     },
     "execution_count": 99,
     "metadata": {},
     "output_type": "execute_result"
    }
   ],
   "source": [
    "abertura = df_train.iloc[: , 1:2].values\n",
    "abertura"
   ]
  },
  {
   "cell_type": "code",
   "execution_count": 100,
   "id": "ac917ca0-4d33-4980-aca9-a9d227bd69cf",
   "metadata": {},
   "outputs": [
    {
     "data": {
      "text/plain": [
       "array([[20.209999],\n",
       "       [20.4     ],\n",
       "       [20.620001],\n",
       "       ...,\n",
       "       [16.139999],\n",
       "       [16.129999],\n",
       "       [16.1     ]])"
      ]
     },
     "execution_count": 100,
     "metadata": {},
     "output_type": "execute_result"
    }
   ],
   "source": [
    "maximo = df_train.iloc[: , 2:3].values\n",
    "maximo"
   ]
  },
  {
   "cell_type": "code",
   "execution_count": 101,
   "id": "ece7608b-f682-4df5-8869-46a2347f986b",
   "metadata": {},
   "outputs": [],
   "source": [
    "normalizador = MinMaxScaler()\n",
    "abertura = normalizador.fit_transform(abertura)\n",
    "maximo = normalizador.fit_transform(maximo)"
   ]
  },
  {
   "cell_type": "code",
   "execution_count": 18,
   "id": "036bb19b-5d4d-400e-a3be-ee6755d524f0",
   "metadata": {},
   "outputs": [
    {
     "data": {
      "text/plain": [
       "array([[0.76501938],\n",
       "       [0.7562984 ],\n",
       "       [0.78149225],\n",
       "       ...,\n",
       "       [0.57122093],\n",
       "       [0.57655039],\n",
       "       [0.57655039]])"
      ]
     },
     "execution_count": 18,
     "metadata": {},
     "output_type": "execute_result"
    }
   ],
   "source": [
    "abertura"
   ]
  },
  {
   "cell_type": "code",
   "execution_count": 19,
   "id": "dab52aba-56dd-4f35-9d15-7c8e0444cc0b",
   "metadata": {},
   "outputs": [
    {
     "data": {
      "text/plain": [
       "array([[0.77266112],\n",
       "       [0.78187106],\n",
       "       [0.79253519],\n",
       "       ...,\n",
       "       [0.57537562],\n",
       "       [0.57489089],\n",
       "       [0.57343674]])"
      ]
     },
     "execution_count": 19,
     "metadata": {},
     "output_type": "execute_result"
    }
   ],
   "source": [
    "maximo"
   ]
  },
  {
   "cell_type": "code",
   "execution_count": 102,
   "id": "0164922e-7562-4b92-b3c7-37270f9be311",
   "metadata": {},
   "outputs": [],
   "source": [
    "timestamp = 90\n",
    "x_train1 = []\n",
    "x_train2 = []\n",
    "previsores = []"
   ]
  },
  {
   "cell_type": "code",
   "execution_count": 103,
   "id": "e423fcb9-1477-4493-a7bd-3e553ca709f4",
   "metadata": {},
   "outputs": [],
   "source": [
    "for i in range(timestamp, abertura.shape[0]):\n",
    "    previsores.append(abertura[i - timestamp:i, 0])\n",
    "    x_train1.append(abertura[i, 0])\n",
    "    x_train2.append(maximo[i, 0])"
   ]
  },
  {
   "cell_type": "code",
   "execution_count": 104,
   "id": "84109c6f-28ac-42a4-b338-21bf989074d0",
   "metadata": {},
   "outputs": [
    {
     "data": {
      "text/plain": [
       "(1155, 90, 1)"
      ]
     },
     "execution_count": 104,
     "metadata": {},
     "output_type": "execute_result"
    }
   ],
   "source": [
    "previsores, x_train1, x_train2 = np.array(previsores), np.array(x_train1), np.array(x_train2)\n",
    "previsores = np.reshape(previsores, (previsores.shape[0], previsores.shape[1], 1))\n",
    "previsores.shape"
   ]
  },
  {
   "cell_type": "code",
   "execution_count": 105,
   "id": "b5b284c5-a371-4ba2-91ca-4077860b7781",
   "metadata": {},
   "outputs": [
    {
     "data": {
      "text/plain": [
       "(1155, 2)"
      ]
     },
     "execution_count": 105,
     "metadata": {},
     "output_type": "execute_result"
    }
   ],
   "source": [
    "x_train = np.column_stack((x_train1, x_train2))\n",
    "x_train.shape"
   ]
  },
  {
   "cell_type": "code",
   "execution_count": 54,
   "id": "bf89aab4-22f8-4180-8525-ab5987d2a164",
   "metadata": {},
   "outputs": [],
   "source": [
    "model = Sequential()\n",
    "\n",
    "model.add(LSTM(120, return_sequences=True, input_shape = (previsores.shape[1], 1)))\n",
    "model.add(Dropout(0.2))\n",
    "\n",
    "model.add(LSTM(100, return_sequences=True))\n",
    "model.add(Dropout(0.2))\n",
    "\n",
    "model.add(LSTM(80, return_sequences=True))\n",
    "model.add(Dropout(0.2))\n",
    "\n",
    "model.add(LSTM(50, return_sequences=False))\n",
    "model.add(Dropout(0.2))\n",
    "\n",
    "model.add(Dense(2))\n",
    "\n",
    "model.compile(optimizer = 'rmsprop', loss ='mean_squared_error', metrics = ['mean_absolute_error'])"
   ]
  },
  {
   "cell_type": "code",
   "execution_count": 55,
   "id": "3271346a-1a31-421b-9c75-82be7a7a590e",
   "metadata": {},
   "outputs": [
    {
     "name": "stdout",
     "output_type": "stream",
     "text": [
      "Epoch 1/100\n",
      "58/58 [==============================] - 117s 1s/step - loss: 0.0304 - mean_absolute_error: 0.1195\n",
      "Epoch 2/100\n",
      "58/58 [==============================] - 80s 1s/step - loss: 0.0142 - mean_absolute_error: 0.0925\n",
      "Epoch 3/100\n",
      "58/58 [==============================] - 89s 2s/step - loss: 0.0118 - mean_absolute_error: 0.0835\n",
      "Epoch 4/100\n",
      "58/58 [==============================] - 81s 1s/step - loss: 0.0096 - mean_absolute_error: 0.0754\n",
      "Epoch 5/100\n",
      "58/58 [==============================] - 86s 1s/step - loss: 0.0085 - mean_absolute_error: 0.0705\n",
      "Epoch 6/100\n",
      "58/58 [==============================] - 73s 1s/step - loss: 0.0080 - mean_absolute_error: 0.0682\n",
      "Epoch 7/100\n",
      "58/58 [==============================] - 81s 1s/step - loss: 0.0067 - mean_absolute_error: 0.0634\n",
      "Epoch 8/100\n",
      "58/58 [==============================] - 70s 1s/step - loss: 0.0065 - mean_absolute_error: 0.0612\n",
      "Epoch 9/100\n",
      "58/58 [==============================] - 84s 1s/step - loss: 0.0063 - mean_absolute_error: 0.0602\n",
      "Epoch 10/100\n",
      "58/58 [==============================] - 70s 1s/step - loss: 0.0061 - mean_absolute_error: 0.0588\n",
      "Epoch 11/100\n",
      "58/58 [==============================] - 77s 1s/step - loss: 0.0051 - mean_absolute_error: 0.0549\n",
      "Epoch 12/100\n",
      "58/58 [==============================] - 76s 1s/step - loss: 0.0052 - mean_absolute_error: 0.0543\n",
      "Epoch 13/100\n",
      "58/58 [==============================] - 70s 1s/step - loss: 0.0047 - mean_absolute_error: 0.0516\n",
      "Epoch 14/100\n",
      "58/58 [==============================] - 84s 1s/step - loss: 0.0045 - mean_absolute_error: 0.0517\n",
      "Epoch 15/100\n",
      "58/58 [==============================] - 69s 1s/step - loss: 0.0046 - mean_absolute_error: 0.0516\n",
      "Epoch 16/100\n",
      "58/58 [==============================] - 83s 1s/step - loss: 0.0039 - mean_absolute_error: 0.0478\n",
      "Epoch 17/100\n",
      "58/58 [==============================] - 72s 1s/step - loss: 0.0041 - mean_absolute_error: 0.0483\n",
      "Epoch 18/100\n",
      "58/58 [==============================] - 75s 1s/step - loss: 0.0039 - mean_absolute_error: 0.0475\n",
      "Epoch 19/100\n",
      "58/58 [==============================] - 79s 1s/step - loss: 0.0035 - mean_absolute_error: 0.0450\n",
      "Epoch 20/100\n",
      "58/58 [==============================] - 68s 1s/step - loss: 0.0037 - mean_absolute_error: 0.0458\n",
      "Epoch 21/100\n",
      "58/58 [==============================] - 84s 1s/step - loss: 0.0035 - mean_absolute_error: 0.0443\n",
      "Epoch 22/100\n",
      "58/58 [==============================] - 69s 1s/step - loss: 0.0036 - mean_absolute_error: 0.0451\n",
      "Epoch 23/100\n",
      "58/58 [==============================] - 80s 1s/step - loss: 0.0032 - mean_absolute_error: 0.0429\n",
      "Epoch 24/100\n",
      "58/58 [==============================] - 74s 1s/step - loss: 0.0031 - mean_absolute_error: 0.0424\n",
      "Epoch 25/100\n",
      "58/58 [==============================] - 77s 1s/step - loss: 0.0028 - mean_absolute_error: 0.0410\n",
      "Epoch 26/100\n",
      "58/58 [==============================] - 93s 2s/step - loss: 0.0029 - mean_absolute_error: 0.0412\n",
      "Epoch 27/100\n",
      "58/58 [==============================] - 72s 1s/step - loss: 0.0028 - mean_absolute_error: 0.0408\n",
      "Epoch 28/100\n",
      "58/58 [==============================] - 87s 2s/step - loss: 0.0027 - mean_absolute_error: 0.0401\n",
      "Epoch 29/100\n",
      "58/58 [==============================] - 73s 1s/step - loss: 0.0026 - mean_absolute_error: 0.0386\n",
      "Epoch 30/100\n",
      "58/58 [==============================] - 86s 1s/step - loss: 0.0028 - mean_absolute_error: 0.0403\n",
      "Epoch 31/100\n",
      "58/58 [==============================] - 73s 1s/step - loss: 0.0028 - mean_absolute_error: 0.0402\n",
      "Epoch 32/100\n",
      "58/58 [==============================] - 84s 1s/step - loss: 0.0024 - mean_absolute_error: 0.0373\n",
      "Epoch 33/100\n",
      "58/58 [==============================] - 77s 1s/step - loss: 0.0025 - mean_absolute_error: 0.0379\n",
      "Epoch 34/100\n",
      "58/58 [==============================] - 73s 1s/step - loss: 0.0023 - mean_absolute_error: 0.0374\n",
      "Epoch 35/100\n",
      "58/58 [==============================] - 83s 1s/step - loss: 0.0025 - mean_absolute_error: 0.0380\n",
      "Epoch 36/100\n",
      "58/58 [==============================] - 71s 1s/step - loss: 0.0025 - mean_absolute_error: 0.0383\n",
      "Epoch 37/100\n",
      "58/58 [==============================] - 88s 2s/step - loss: 0.0022 - mean_absolute_error: 0.0365\n",
      "Epoch 38/100\n",
      "58/58 [==============================] - 70s 1s/step - loss: 0.0023 - mean_absolute_error: 0.0358\n",
      "Epoch 39/100\n",
      "58/58 [==============================] - 70s 1s/step - loss: 0.0022 - mean_absolute_error: 0.0364\n",
      "Epoch 40/100\n",
      "58/58 [==============================] - 83s 1s/step - loss: 0.0023 - mean_absolute_error: 0.0371\n",
      "Epoch 41/100\n",
      "58/58 [==============================] - 73s 1s/step - loss: 0.0021 - mean_absolute_error: 0.0352\n",
      "Epoch 42/100\n",
      "58/58 [==============================] - 76s 1s/step - loss: 0.0022 - mean_absolute_error: 0.0352\n",
      "Epoch 43/100\n",
      "58/58 [==============================] - 79s 1s/step - loss: 0.0022 - mean_absolute_error: 0.0352\n",
      "Epoch 44/100\n",
      "58/58 [==============================] - 71s 1s/step - loss: 0.0021 - mean_absolute_error: 0.0350\n",
      "Epoch 45/100\n",
      "58/58 [==============================] - 85s 1s/step - loss: 0.0020 - mean_absolute_error: 0.0341\n",
      "Epoch 46/100\n",
      "58/58 [==============================] - 70s 1s/step - loss: 0.0019 - mean_absolute_error: 0.0326\n",
      "Epoch 47/100\n",
      "58/58 [==============================] - 82s 1s/step - loss: 0.0020 - mean_absolute_error: 0.0339\n",
      "Epoch 48/100\n",
      "58/58 [==============================] - 75s 1s/step - loss: 0.0019 - mean_absolute_error: 0.0334\n",
      "Epoch 49/100\n",
      "58/58 [==============================] - 76s 1s/step - loss: 0.0020 - mean_absolute_error: 0.0333\n",
      "Epoch 50/100\n",
      "58/58 [==============================] - 84s 1s/step - loss: 0.0018 - mean_absolute_error: 0.0335\n",
      "Epoch 51/100\n",
      "58/58 [==============================] - 71s 1s/step - loss: 0.0019 - mean_absolute_error: 0.0332\n",
      "Epoch 52/100\n",
      "58/58 [==============================] - 88s 2s/step - loss: 0.0018 - mean_absolute_error: 0.0325\n",
      "Epoch 53/100\n",
      "58/58 [==============================] - 70s 1s/step - loss: 0.0019 - mean_absolute_error: 0.0325\n",
      "Epoch 54/100\n",
      "58/58 [==============================] - 84s 1s/step - loss: 0.0018 - mean_absolute_error: 0.0315\n",
      "Epoch 55/100\n",
      "58/58 [==============================] - 70s 1s/step - loss: 0.0018 - mean_absolute_error: 0.0329\n",
      "Epoch 56/100\n",
      "58/58 [==============================] - 77s 1s/step - loss: 0.0018 - mean_absolute_error: 0.0324\n",
      "Epoch 57/100\n",
      "58/58 [==============================] - 79s 1s/step - loss: 0.0019 - mean_absolute_error: 0.0316\n",
      "Epoch 58/100\n",
      "58/58 [==============================] - 74s 1s/step - loss: 0.0019 - mean_absolute_error: 0.0327\n",
      "Epoch 59/100\n",
      "58/58 [==============================] - 80s 1s/step - loss: 0.0019 - mean_absolute_error: 0.0327\n",
      "Epoch 60/100\n",
      "58/58 [==============================] - 74s 1s/step - loss: 0.0017 - mean_absolute_error: 0.0308\n",
      "Epoch 61/100\n",
      "58/58 [==============================] - 82s 1s/step - loss: 0.0018 - mean_absolute_error: 0.0326\n",
      "Epoch 62/100\n",
      "58/58 [==============================] - 74s 1s/step - loss: 0.0018 - mean_absolute_error: 0.0322\n",
      "Epoch 63/100\n",
      "58/58 [==============================] - 81s 1s/step - loss: 0.0018 - mean_absolute_error: 0.0319\n",
      "Epoch 64/100\n",
      "58/58 [==============================] - 70s 1s/step - loss: 0.0017 - mean_absolute_error: 0.0313\n",
      "Epoch 65/100\n",
      "58/58 [==============================] - 85s 1s/step - loss: 0.0018 - mean_absolute_error: 0.0320\n",
      "Epoch 66/100\n",
      "58/58 [==============================] - 69s 1s/step - loss: 0.0015 - mean_absolute_error: 0.0303\n",
      "Epoch 67/100\n",
      "58/58 [==============================] - 77s 1s/step - loss: 0.0017 - mean_absolute_error: 0.0305\n",
      "Epoch 68/100\n",
      "58/58 [==============================] - 76s 1s/step - loss: 0.0017 - mean_absolute_error: 0.0312\n",
      "Epoch 69/100\n",
      "58/58 [==============================] - 69s 1s/step - loss: 0.0016 - mean_absolute_error: 0.0304\n",
      "Epoch 70/100\n",
      "58/58 [==============================] - 85s 1s/step - loss: 0.0015 - mean_absolute_error: 0.0295\n",
      "Epoch 71/100\n",
      "58/58 [==============================] - 70s 1s/step - loss: 0.0016 - mean_absolute_error: 0.0302\n",
      "Epoch 72/100\n",
      "58/58 [==============================] - 83s 1s/step - loss: 0.0016 - mean_absolute_error: 0.0292\n",
      "Epoch 73/100\n",
      "58/58 [==============================] - 71s 1s/step - loss: 0.0016 - mean_absolute_error: 0.0303\n",
      "Epoch 74/100\n",
      "58/58 [==============================] - 75s 1s/step - loss: 0.0016 - mean_absolute_error: 0.0300\n",
      "Epoch 75/100\n",
      "58/58 [==============================] - 85s 1s/step - loss: 0.0015 - mean_absolute_error: 0.0294\n",
      "Epoch 76/100\n",
      "58/58 [==============================] - 72s 1s/step - loss: 0.0015 - mean_absolute_error: 0.0294\n",
      "Epoch 77/100\n",
      "58/58 [==============================] - 84s 1s/step - loss: 0.0015 - mean_absolute_error: 0.0295\n",
      "Epoch 78/100\n",
      "58/58 [==============================] - 69s 1s/step - loss: 0.0016 - mean_absolute_error: 0.0298\n",
      "Epoch 79/100\n",
      "58/58 [==============================] - 82s 1s/step - loss: 0.0015 - mean_absolute_error: 0.0292\n",
      "Epoch 80/100\n",
      "58/58 [==============================] - 72s 1s/step - loss: 0.0015 - mean_absolute_error: 0.0293\n",
      "Epoch 81/100\n",
      "58/58 [==============================] - 74s 1s/step - loss: 0.0015 - mean_absolute_error: 0.0287\n",
      "Epoch 82/100\n",
      "58/58 [==============================] - 79s 1s/step - loss: 0.0015 - mean_absolute_error: 0.0301\n",
      "Epoch 83/100\n",
      "58/58 [==============================] - 69s 1s/step - loss: 0.0015 - mean_absolute_error: 0.0295\n",
      "Epoch 84/100\n",
      "58/58 [==============================] - 85s 1s/step - loss: 0.0015 - mean_absolute_error: 0.0295\n",
      "Epoch 85/100\n",
      "58/58 [==============================] - 70s 1s/step - loss: 0.0015 - mean_absolute_error: 0.0289\n",
      "Epoch 86/100\n",
      "58/58 [==============================] - 78s 1s/step - loss: 0.0014 - mean_absolute_error: 0.0281\n",
      "Epoch 87/100\n",
      "58/58 [==============================] - 75s 1s/step - loss: 0.0014 - mean_absolute_error: 0.0283\n",
      "Epoch 88/100\n",
      "58/58 [==============================] - 71s 1s/step - loss: 0.0014 - mean_absolute_error: 0.0278\n",
      "Epoch 89/100\n",
      "58/58 [==============================] - 82s 1s/step - loss: 0.0014 - mean_absolute_error: 0.0283\n",
      "Epoch 90/100\n",
      "58/58 [==============================] - 70s 1s/step - loss: 0.0015 - mean_absolute_error: 0.0295\n",
      "Epoch 91/100\n",
      "58/58 [==============================] - 84s 1s/step - loss: 0.0014 - mean_absolute_error: 0.0275\n",
      "Epoch 92/100\n",
      "58/58 [==============================] - 70s 1s/step - loss: 0.0015 - mean_absolute_error: 0.0292\n",
      "Epoch 93/100\n",
      "58/58 [==============================] - 76s 1s/step - loss: 0.0013 - mean_absolute_error: 0.0275\n",
      "Epoch 94/100\n",
      "58/58 [==============================] - 78s 1s/step - loss: 0.0014 - mean_absolute_error: 0.0280\n",
      "Epoch 95/100\n",
      "58/58 [==============================] - 70s 1s/step - loss: 0.0014 - mean_absolute_error: 0.0280\n",
      "Epoch 96/100\n",
      "58/58 [==============================] - 85s 1s/step - loss: 0.0013 - mean_absolute_error: 0.0272\n",
      "Epoch 97/100\n",
      "58/58 [==============================] - 69s 1s/step - loss: 0.0013 - mean_absolute_error: 0.0269\n",
      "Epoch 98/100\n",
      "58/58 [==============================] - 82s 1s/step - loss: 0.0014 - mean_absolute_error: 0.0289\n",
      "Epoch 99/100\n",
      "58/58 [==============================] - 75s 1s/step - loss: 0.0013 - mean_absolute_error: 0.0272\n",
      "Epoch 100/100\n",
      "58/58 [==============================] - 74s 1s/step - loss: 0.0013 - mean_absolute_error: 0.0272\n"
     ]
    },
    {
     "data": {
      "text/plain": [
       "<keras.src.callbacks.History at 0x2d0da6abcd0>"
      ]
     },
     "execution_count": 55,
     "metadata": {},
     "output_type": "execute_result"
    }
   ],
   "source": [
    "model.fit(previsores, x_train, epochs = 100, batch_size = 20)"
   ]
  },
  {
   "cell_type": "code",
   "execution_count": 61,
   "id": "5b8b46f7-40be-4aa7-94a2-a7b53d04f3f9",
   "metadata": {},
   "outputs": [
    {
     "data": {
      "text/html": [
       "<div>\n",
       "<style scoped>\n",
       "    .dataframe tbody tr th:only-of-type {\n",
       "        vertical-align: middle;\n",
       "    }\n",
       "\n",
       "    .dataframe tbody tr th {\n",
       "        vertical-align: top;\n",
       "    }\n",
       "\n",
       "    .dataframe thead th {\n",
       "        text-align: right;\n",
       "    }\n",
       "</style>\n",
       "<table border=\"1\" class=\"dataframe\">\n",
       "  <thead>\n",
       "    <tr style=\"text-align: right;\">\n",
       "      <th></th>\n",
       "      <th>Date</th>\n",
       "      <th>Open</th>\n",
       "      <th>High</th>\n",
       "      <th>Low</th>\n",
       "      <th>Close</th>\n",
       "      <th>Adj Close</th>\n",
       "      <th>Volume</th>\n",
       "    </tr>\n",
       "  </thead>\n",
       "  <tbody>\n",
       "    <tr>\n",
       "      <th>0</th>\n",
       "      <td>2018-01-02</td>\n",
       "      <td>16.190001</td>\n",
       "      <td>16.549999</td>\n",
       "      <td>16.190001</td>\n",
       "      <td>16.549999</td>\n",
       "      <td>16.516966</td>\n",
       "      <td>33461800</td>\n",
       "    </tr>\n",
       "    <tr>\n",
       "      <th>1</th>\n",
       "      <td>2018-01-03</td>\n",
       "      <td>16.490000</td>\n",
       "      <td>16.719999</td>\n",
       "      <td>16.370001</td>\n",
       "      <td>16.700001</td>\n",
       "      <td>16.666668</td>\n",
       "      <td>55940900</td>\n",
       "    </tr>\n",
       "    <tr>\n",
       "      <th>2</th>\n",
       "      <td>2018-01-04</td>\n",
       "      <td>16.780001</td>\n",
       "      <td>16.959999</td>\n",
       "      <td>16.620001</td>\n",
       "      <td>16.730000</td>\n",
       "      <td>16.696608</td>\n",
       "      <td>37064900</td>\n",
       "    </tr>\n",
       "    <tr>\n",
       "      <th>3</th>\n",
       "      <td>2018-01-05</td>\n",
       "      <td>16.700001</td>\n",
       "      <td>16.860001</td>\n",
       "      <td>16.570000</td>\n",
       "      <td>16.830000</td>\n",
       "      <td>16.796408</td>\n",
       "      <td>26958200</td>\n",
       "    </tr>\n",
       "    <tr>\n",
       "      <th>4</th>\n",
       "      <td>2018-01-08</td>\n",
       "      <td>16.740000</td>\n",
       "      <td>17.030001</td>\n",
       "      <td>16.709999</td>\n",
       "      <td>17.030001</td>\n",
       "      <td>16.996010</td>\n",
       "      <td>28400000</td>\n",
       "    </tr>\n",
       "  </tbody>\n",
       "</table>\n",
       "</div>"
      ],
      "text/plain": [
       "         Date       Open       High        Low      Close  Adj Close    Volume\n",
       "0  2018-01-02  16.190001  16.549999  16.190001  16.549999  16.516966  33461800\n",
       "1  2018-01-03  16.490000  16.719999  16.370001  16.700001  16.666668  55940900\n",
       "2  2018-01-04  16.780001  16.959999  16.620001  16.730000  16.696608  37064900\n",
       "3  2018-01-05  16.700001  16.860001  16.570000  16.830000  16.796408  26958200\n",
       "4  2018-01-08  16.740000  17.030001  16.709999  17.030001  16.996010  28400000"
      ]
     },
     "execution_count": 61,
     "metadata": {},
     "output_type": "execute_result"
    }
   ],
   "source": [
    "df_test = pd.read_csv('Downloads/petr4_teste.csv')\n",
    "df_test.head()"
   ]
  },
  {
   "cell_type": "code",
   "execution_count": 111,
   "id": "3b451144-3e34-4e2f-8625-5aea4786bd59",
   "metadata": {},
   "outputs": [
    {
     "data": {
      "text/plain": [
       "array([[16.190001],\n",
       "       [16.49    ],\n",
       "       [16.780001],\n",
       "       [16.700001],\n",
       "       [16.74    ],\n",
       "       [17.030001],\n",
       "       [16.92    ],\n",
       "       [16.879999],\n",
       "       [17.040001],\n",
       "       [17.32    ],\n",
       "       [17.35    ],\n",
       "       [17.92    ],\n",
       "       [18.35    ],\n",
       "       [18.309999],\n",
       "       [18.26    ],\n",
       "       [18.4     ],\n",
       "       [18.42    ],\n",
       "       [19.34    ],\n",
       "       [19.620001],\n",
       "       [19.67    ],\n",
       "       [19.77    ],\n",
       "       [19.74    ]])"
      ]
     },
     "execution_count": 111,
     "metadata": {},
     "output_type": "execute_result"
    }
   ],
   "source": [
    "abertura2 = df_test.iloc[: , 1:2].values\n",
    "abertura2"
   ]
  },
  {
   "cell_type": "code",
   "execution_count": 112,
   "id": "3b48e037-a7fa-49b8-975d-96ff6dd4ab16",
   "metadata": {},
   "outputs": [
    {
     "data": {
      "text/plain": [
       "array([[16.549999],\n",
       "       [16.719999],\n",
       "       [16.959999],\n",
       "       [16.860001],\n",
       "       [17.030001],\n",
       "       [17.16    ],\n",
       "       [17.049999],\n",
       "       [17.299999],\n",
       "       [17.41    ],\n",
       "       [17.440001],\n",
       "       [17.84    ],\n",
       "       [18.360001],\n",
       "       [18.530001],\n",
       "       [18.42    ],\n",
       "       [18.469999],\n",
       "       [18.459999],\n",
       "       [19.629999],\n",
       "       [19.34    ],\n",
       "       [19.98    ],\n",
       "       [20.049999],\n",
       "       [19.77    ],\n",
       "       [19.93    ]])"
      ]
     },
     "execution_count": 112,
     "metadata": {},
     "output_type": "execute_result"
    }
   ],
   "source": [
    "maximo2 = df_test.iloc[: , 2:3].values\n",
    "maximo2"
   ]
  },
  {
   "cell_type": "code",
   "execution_count": 113,
   "id": "0eda44f3-caa9-4f9d-99ec-5b782867a16f",
   "metadata": {},
   "outputs": [
    {
     "data": {
      "text/plain": [
       "0     19.990000\n",
       "1     19.809999\n",
       "2     20.330000\n",
       "3     20.480000\n",
       "4     20.110001\n",
       "        ...    \n",
       "17    19.340000\n",
       "18    19.980000\n",
       "19    20.049999\n",
       "20    19.770000\n",
       "21    19.930000\n",
       "Length: 1267, dtype: float64"
      ]
     },
     "execution_count": 113,
     "metadata": {},
     "output_type": "execute_result"
    }
   ],
   "source": [
    "base_completa = pd.concat((df_train['Open'], df_test['High']), axis = 0)\n",
    "base_completa"
   ]
  },
  {
   "cell_type": "code",
   "execution_count": 114,
   "id": "0e2aa8bf-c8d2-4e7e-8452-db6ef083898a",
   "metadata": {},
   "outputs": [],
   "source": [
    "entradas = base_completa[len(base_completa) - len(df_test) - timestamp:].values.reshape(-1,1)"
   ]
  },
  {
   "cell_type": "code",
   "execution_count": 115,
   "id": "2cea106c-3813-4849-a3d7-3d62c41a8c6a",
   "metadata": {},
   "outputs": [],
   "source": [
    "entradas = normalizador.transform(entradas)"
   ]
  },
  {
   "cell_type": "code",
   "execution_count": 116,
   "id": "e9652cde-c474-49c1-a568-c7f2c3dc48c4",
   "metadata": {},
   "outputs": [],
   "source": [
    "test = []\n",
    "\n",
    "for i in range(timestamp, entradas.shape[0]):\n",
    "    test.append(entradas[i - timestamp:i, 0])\n",
    "test = np.array(test)\n",
    "test = np.reshape(test, (test.shape[0], test.shape[1], 1))"
   ]
  },
  {
   "cell_type": "code",
   "execution_count": 117,
   "id": "c5897073-01f3-4eab-8d6d-59b870344550",
   "metadata": {},
   "outputs": [
    {
     "name": "stdout",
     "output_type": "stream",
     "text": [
      "1/1 [==============================] - 1s 1s/step\n"
     ]
    },
    {
     "data": {
      "text/plain": [
       "array([[16.320213, 16.501543],\n",
       "       [16.471071, 16.65302 ],\n",
       "       [16.676517, 16.859623],\n",
       "       [16.908875, 17.093506],\n",
       "       [17.060026, 17.246164],\n",
       "       [17.156002, 17.343554],\n",
       "       [17.238417, 17.427464],\n",
       "       [17.267975, 17.458555],\n",
       "       [17.319738, 17.512022],\n",
       "       [17.409985, 17.604183],\n",
       "       [17.503233, 17.699373],\n",
       "       [17.670805, 17.86898 ],\n",
       "       [17.977875, 18.178385],\n",
       "       [18.322996, 18.525923],\n",
       "       [18.54542 , 18.750284],\n",
       "       [18.635015, 18.841246],\n",
       "       [18.632616, 18.83996 ],\n",
       "       [18.893627, 19.10317 ],\n",
       "       [19.191551, 19.404068],\n",
       "       [19.544184, 19.760109],\n",
       "       [19.852427, 20.07175 ],\n",
       "       [19.964483, 20.186544]], dtype=float32)"
      ]
     },
     "execution_count": 117,
     "metadata": {},
     "output_type": "execute_result"
    }
   ],
   "source": [
    "pred = model.predict(test)\n",
    "pred = normalizador.inverse_transform(pred)\n",
    "pred"
   ]
  },
  {
   "cell_type": "code",
   "execution_count": 127,
   "id": "e84b2ec8-d757-4677-a1ef-12c716de7bff",
   "metadata": {},
   "outputs": [
    {
     "data": {
      "image/png": "[encoded data removed]",
      "text/plain": [
       "<Figure size 1500x800 with 1 Axes>"
      ]
     },
     "metadata": {},
     "output_type": "display_data"
    }
   ],
   "source": [
    "import matplotlib.pyplot as plt\n",
    "from matplotlib.pyplot import rcParams\n",
    "rcParams['figure.figsize'] = 15, 8\n",
    "\n",
    "plt.plot(abertura2, color='blue', label='Preço real das Aberturas')\n",
    "plt.plot(pred[:, 0], color='red', label='Previsão das Aberturas')\n",
    "\n",
    "\n",
    "\n",
    "plt.plot(maximo2, color='black', label='Preço real dos valores máximos')\n",
    "plt.plot(pred[:, 1], color='orange', label='Previsão dos Valores máximos')\n",
    "\n",
    "plt.title('Previsão do Preço')\n",
    "plt.xlabel('Tempo')\n",
    "plt.ylabel('Preço real')\n",
    "\n",
    "plt.legend()\n",
    "\n",
    "\n",
    "plt.show()"
   ]
  }
 ],
 "metadata": {
  "kernelspec": {
   "display_name": "Python 3 (ipykernel)",
   "language": "python",
   "name": "python3"
  },
  "language_info": {
   "codemirror_mode": {
    "name": "ipython",
    "version": 3
   },
   "file_extension": ".py",
   "mimetype": "text/x-python",
   "name": "python",
   "nbconvert_exporter": "python",
   "pygments_lexer": "ipython3",
   "version": "3.11.6"
  }
 },
 "nbformat": 4,
 "nbformat_minor": 5
}

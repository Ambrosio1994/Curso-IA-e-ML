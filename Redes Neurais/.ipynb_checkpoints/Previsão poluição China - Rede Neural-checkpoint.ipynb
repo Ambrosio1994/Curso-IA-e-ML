{
 "cells": [
  {
   "cell_type": "code",
   "execution_count": 1,
   "id": "5f7850ff-c2e6-4c59-80f5-9f9b76644294",
   "metadata": {},
   "outputs": [],
   "source": [
    "import pandas as pd\n",
    "from sklearn.preprocessing import MinMaxScaler\n",
    "from keras.models import Sequential\n",
    "from tensorflow.keras.layers import Dense,LSTM, Dropout\n",
    "import numpy as np\n",
    "import matplotlib.pyplot as plt\n",
    "from sklearn.ensemble import ExtraTreesClassifier"
   ]
  },
  {
   "cell_type": "code",
   "execution_count": 2,
   "id": "f6d15611-e59f-4dae-a485-a31be7ff62ea",
   "metadata": {},
   "outputs": [
    {
     "data": {
      "text/html": [
       "<div>\n",
       "<style scoped>\n",
       "    .dataframe tbody tr th:only-of-type {\n",
       "        vertical-align: middle;\n",
       "    }\n",
       "\n",
       "    .dataframe tbody tr th {\n",
       "        vertical-align: top;\n",
       "    }\n",
       "\n",
       "    .dataframe thead th {\n",
       "        text-align: right;\n",
       "    }\n",
       "</style>\n",
       "<table border=\"1\" class=\"dataframe\">\n",
       "  <thead>\n",
       "    <tr style=\"text-align: right;\">\n",
       "      <th></th>\n",
       "      <th>No</th>\n",
       "      <th>year</th>\n",
       "      <th>month</th>\n",
       "      <th>day</th>\n",
       "      <th>hour</th>\n",
       "      <th>pm2.5</th>\n",
       "      <th>DEWP</th>\n",
       "      <th>TEMP</th>\n",
       "      <th>PRES</th>\n",
       "      <th>cbwd</th>\n",
       "      <th>Iws</th>\n",
       "      <th>Is</th>\n",
       "      <th>Ir</th>\n",
       "    </tr>\n",
       "  </thead>\n",
       "  <tbody>\n",
       "    <tr>\n",
       "      <th>0</th>\n",
       "      <td>1</td>\n",
       "      <td>2010</td>\n",
       "      <td>1</td>\n",
       "      <td>1</td>\n",
       "      <td>0</td>\n",
       "      <td>NaN</td>\n",
       "      <td>-21</td>\n",
       "      <td>-11.0</td>\n",
       "      <td>1021.0</td>\n",
       "      <td>NW</td>\n",
       "      <td>1.79</td>\n",
       "      <td>0</td>\n",
       "      <td>0</td>\n",
       "    </tr>\n",
       "    <tr>\n",
       "      <th>1</th>\n",
       "      <td>2</td>\n",
       "      <td>2010</td>\n",
       "      <td>1</td>\n",
       "      <td>1</td>\n",
       "      <td>1</td>\n",
       "      <td>NaN</td>\n",
       "      <td>-21</td>\n",
       "      <td>-12.0</td>\n",
       "      <td>1020.0</td>\n",
       "      <td>NW</td>\n",
       "      <td>4.92</td>\n",
       "      <td>0</td>\n",
       "      <td>0</td>\n",
       "    </tr>\n",
       "    <tr>\n",
       "      <th>2</th>\n",
       "      <td>3</td>\n",
       "      <td>2010</td>\n",
       "      <td>1</td>\n",
       "      <td>1</td>\n",
       "      <td>2</td>\n",
       "      <td>NaN</td>\n",
       "      <td>-21</td>\n",
       "      <td>-11.0</td>\n",
       "      <td>1019.0</td>\n",
       "      <td>NW</td>\n",
       "      <td>6.71</td>\n",
       "      <td>0</td>\n",
       "      <td>0</td>\n",
       "    </tr>\n",
       "    <tr>\n",
       "      <th>3</th>\n",
       "      <td>4</td>\n",
       "      <td>2010</td>\n",
       "      <td>1</td>\n",
       "      <td>1</td>\n",
       "      <td>3</td>\n",
       "      <td>NaN</td>\n",
       "      <td>-21</td>\n",
       "      <td>-14.0</td>\n",
       "      <td>1019.0</td>\n",
       "      <td>NW</td>\n",
       "      <td>9.84</td>\n",
       "      <td>0</td>\n",
       "      <td>0</td>\n",
       "    </tr>\n",
       "    <tr>\n",
       "      <th>4</th>\n",
       "      <td>5</td>\n",
       "      <td>2010</td>\n",
       "      <td>1</td>\n",
       "      <td>1</td>\n",
       "      <td>4</td>\n",
       "      <td>NaN</td>\n",
       "      <td>-20</td>\n",
       "      <td>-12.0</td>\n",
       "      <td>1018.0</td>\n",
       "      <td>NW</td>\n",
       "      <td>12.97</td>\n",
       "      <td>0</td>\n",
       "      <td>0</td>\n",
       "    </tr>\n",
       "  </tbody>\n",
       "</table>\n",
       "</div>"
      ],
      "text/plain": [
       "   No  year  month  day  hour  pm2.5  DEWP  TEMP    PRES cbwd    Iws  Is  Ir\n",
       "0   1  2010      1    1     0    NaN   -21 -11.0  1021.0   NW   1.79   0   0\n",
       "1   2  2010      1    1     1    NaN   -21 -12.0  1020.0   NW   4.92   0   0\n",
       "2   3  2010      1    1     2    NaN   -21 -11.0  1019.0   NW   6.71   0   0\n",
       "3   4  2010      1    1     3    NaN   -21 -14.0  1019.0   NW   9.84   0   0\n",
       "4   5  2010      1    1     4    NaN   -20 -12.0  1018.0   NW  12.97   0   0"
      ]
     },
     "execution_count": 2,
     "metadata": {},
     "output_type": "execute_result"
    }
   ],
   "source": [
    "df = pd.read_csv('Downloads/poluicao.csv')\n",
    "df.head()"
   ]
  },
  {
   "cell_type": "code",
   "execution_count": 3,
   "id": "2f13f0a6-813d-4c9b-b865-a116de92ce99",
   "metadata": {},
   "outputs": [],
   "source": [
    "for coluna in df.columns:\n",
    "    if df[coluna].dtype == 'float64':\n",
    "        if df[coluna].isna().any():\n",
    "            media = df[coluna].mean()\n",
    "            df[coluna].fillna(media, inplace=True)"
   ]
  },
  {
   "cell_type": "code",
   "execution_count": 4,
   "id": "c7192470-e30a-4965-839d-2343e483dc5d",
   "metadata": {},
   "outputs": [
    {
     "data": {
      "text/html": [
       "<div>\n",
       "<style scoped>\n",
       "    .dataframe tbody tr th:only-of-type {\n",
       "        vertical-align: middle;\n",
       "    }\n",
       "\n",
       "    .dataframe tbody tr th {\n",
       "        vertical-align: top;\n",
       "    }\n",
       "\n",
       "    .dataframe thead th {\n",
       "        text-align: right;\n",
       "    }\n",
       "</style>\n",
       "<table border=\"1\" class=\"dataframe\">\n",
       "  <thead>\n",
       "    <tr style=\"text-align: right;\">\n",
       "      <th></th>\n",
       "      <th>pm2.5</th>\n",
       "      <th>DEWP</th>\n",
       "      <th>TEMP</th>\n",
       "      <th>PRES</th>\n",
       "      <th>Iws</th>\n",
       "      <th>Is</th>\n",
       "      <th>Ir</th>\n",
       "    </tr>\n",
       "  </thead>\n",
       "  <tbody>\n",
       "    <tr>\n",
       "      <th>0</th>\n",
       "      <td>98.613215</td>\n",
       "      <td>-21</td>\n",
       "      <td>-11.0</td>\n",
       "      <td>1021.0</td>\n",
       "      <td>1.79</td>\n",
       "      <td>0</td>\n",
       "      <td>0</td>\n",
       "    </tr>\n",
       "    <tr>\n",
       "      <th>1</th>\n",
       "      <td>98.613215</td>\n",
       "      <td>-21</td>\n",
       "      <td>-12.0</td>\n",
       "      <td>1020.0</td>\n",
       "      <td>4.92</td>\n",
       "      <td>0</td>\n",
       "      <td>0</td>\n",
       "    </tr>\n",
       "    <tr>\n",
       "      <th>2</th>\n",
       "      <td>98.613215</td>\n",
       "      <td>-21</td>\n",
       "      <td>-11.0</td>\n",
       "      <td>1019.0</td>\n",
       "      <td>6.71</td>\n",
       "      <td>0</td>\n",
       "      <td>0</td>\n",
       "    </tr>\n",
       "    <tr>\n",
       "      <th>3</th>\n",
       "      <td>98.613215</td>\n",
       "      <td>-21</td>\n",
       "      <td>-14.0</td>\n",
       "      <td>1019.0</td>\n",
       "      <td>9.84</td>\n",
       "      <td>0</td>\n",
       "      <td>0</td>\n",
       "    </tr>\n",
       "    <tr>\n",
       "      <th>4</th>\n",
       "      <td>98.613215</td>\n",
       "      <td>-20</td>\n",
       "      <td>-12.0</td>\n",
       "      <td>1018.0</td>\n",
       "      <td>12.97</td>\n",
       "      <td>0</td>\n",
       "      <td>0</td>\n",
       "    </tr>\n",
       "    <tr>\n",
       "      <th>...</th>\n",
       "      <td>...</td>\n",
       "      <td>...</td>\n",
       "      <td>...</td>\n",
       "      <td>...</td>\n",
       "      <td>...</td>\n",
       "      <td>...</td>\n",
       "      <td>...</td>\n",
       "    </tr>\n",
       "    <tr>\n",
       "      <th>43819</th>\n",
       "      <td>8.000000</td>\n",
       "      <td>-23</td>\n",
       "      <td>-2.0</td>\n",
       "      <td>1034.0</td>\n",
       "      <td>231.97</td>\n",
       "      <td>0</td>\n",
       "      <td>0</td>\n",
       "    </tr>\n",
       "    <tr>\n",
       "      <th>43820</th>\n",
       "      <td>10.000000</td>\n",
       "      <td>-22</td>\n",
       "      <td>-3.0</td>\n",
       "      <td>1034.0</td>\n",
       "      <td>237.78</td>\n",
       "      <td>0</td>\n",
       "      <td>0</td>\n",
       "    </tr>\n",
       "    <tr>\n",
       "      <th>43821</th>\n",
       "      <td>10.000000</td>\n",
       "      <td>-22</td>\n",
       "      <td>-3.0</td>\n",
       "      <td>1034.0</td>\n",
       "      <td>242.70</td>\n",
       "      <td>0</td>\n",
       "      <td>0</td>\n",
       "    </tr>\n",
       "    <tr>\n",
       "      <th>43822</th>\n",
       "      <td>8.000000</td>\n",
       "      <td>-22</td>\n",
       "      <td>-4.0</td>\n",
       "      <td>1034.0</td>\n",
       "      <td>246.72</td>\n",
       "      <td>0</td>\n",
       "      <td>0</td>\n",
       "    </tr>\n",
       "    <tr>\n",
       "      <th>43823</th>\n",
       "      <td>12.000000</td>\n",
       "      <td>-21</td>\n",
       "      <td>-3.0</td>\n",
       "      <td>1034.0</td>\n",
       "      <td>249.85</td>\n",
       "      <td>0</td>\n",
       "      <td>0</td>\n",
       "    </tr>\n",
       "  </tbody>\n",
       "</table>\n",
       "<p>43824 rows × 7 columns</p>\n",
       "</div>"
      ],
      "text/plain": [
       "           pm2.5  DEWP  TEMP    PRES     Iws  Is  Ir\n",
       "0      98.613215   -21 -11.0  1021.0    1.79   0   0\n",
       "1      98.613215   -21 -12.0  1020.0    4.92   0   0\n",
       "2      98.613215   -21 -11.0  1019.0    6.71   0   0\n",
       "3      98.613215   -21 -14.0  1019.0    9.84   0   0\n",
       "4      98.613215   -20 -12.0  1018.0   12.97   0   0\n",
       "...          ...   ...   ...     ...     ...  ..  ..\n",
       "43819   8.000000   -23  -2.0  1034.0  231.97   0   0\n",
       "43820  10.000000   -22  -3.0  1034.0  237.78   0   0\n",
       "43821  10.000000   -22  -3.0  1034.0  242.70   0   0\n",
       "43822   8.000000   -22  -4.0  1034.0  246.72   0   0\n",
       "43823  12.000000   -21  -3.0  1034.0  249.85   0   0\n",
       "\n",
       "[43824 rows x 7 columns]"
      ]
     },
     "execution_count": 4,
     "metadata": {},
     "output_type": "execute_result"
    }
   ],
   "source": [
    "df = df.drop(['No' , 'year' , 'month' , 'day' , 'hour', 'cbwd'], axis = 1)\n",
    "df"
   ]
  },
  {
   "cell_type": "code",
   "execution_count": 5,
   "id": "0dbe8747-fb30-4d8a-9fa6-ea43cf481fbc",
   "metadata": {},
   "outputs": [],
   "source": [
    "normalizador = MinMaxScaler()"
   ]
  },
  {
   "cell_type": "code",
   "execution_count": 6,
   "id": "7dc3871e-4c67-4e27-a614-e37f5cc68b5c",
   "metadata": {},
   "outputs": [
    {
     "data": {
      "text/plain": [
       "array([[0.14035088, 0.13333333, 0.53703704, 0.00229001, 0.        ,\n",
       "        0.        ],\n",
       "       [0.14035088, 0.11666667, 0.51851852, 0.00763907, 0.        ,\n",
       "        0.        ],\n",
       "       [0.14035088, 0.13333333, 0.5       , 0.01069811, 0.        ,\n",
       "        0.        ],\n",
       "       ...,\n",
       "       [0.56140351, 0.65      , 0.31481481, 0.05728446, 0.        ,\n",
       "        0.        ],\n",
       "       [0.57894737, 0.63333333, 0.33333333, 0.06721353, 0.        ,\n",
       "        0.        ],\n",
       "       [0.57894737, 0.61666667, 0.35185185, 0.07562164, 0.        ,\n",
       "        0.        ]])"
      ]
     },
     "execution_count": 6,
     "metadata": {},
     "output_type": "execute_result"
    }
   ],
   "source": [
    "previsores_treino = df.iloc[: 29230, 1:7].values\n",
    "previsores_treino = normalizador.fit_transform(previsores_treino)\n",
    "previsores_treino"
   ]
  },
  {
   "cell_type": "code",
   "execution_count": 7,
   "id": "139d7f17-a271-4bc1-bfdb-631cd3d8530f",
   "metadata": {},
   "outputs": [
    {
     "data": {
      "text/plain": [
       "array([[0.09920847],\n",
       "       [0.09920847],\n",
       "       [0.09920847],\n",
       "       ...,\n",
       "       [0.08651911],\n",
       "       [0.0945674 ],\n",
       "       [0.07947686]])"
      ]
     },
     "execution_count": 7,
     "metadata": {},
     "output_type": "execute_result"
    }
   ],
   "source": [
    "classe_treino = df.iloc[: 29230, 0].values\n",
    "classe_treino = classe_treino.reshape(-1,1)\n",
    "classe_treino = normalizador.fit_transform(classe_treino)\n",
    "classe_treino"
   ]
  },
  {
   "cell_type": "code",
   "execution_count": 8,
   "id": "15d9ea6f-6cdd-4a91-a861-eecc1aa9bc14",
   "metadata": {},
   "outputs": [],
   "source": [
    "x_train = []  \n",
    "y_train = []  \n",
    "timestamp = 10"
   ]
  },
  {
   "cell_type": "code",
   "execution_count": 9,
   "id": "258f496b-de87-4529-b330-1b3f74205aa1",
   "metadata": {},
   "outputs": [],
   "source": [
    "for i in range(timestamp, len(previsores_treino)):\n",
    "    x_train.append(previsores_treino[i - timestamp:i, 0:6])\n",
    "    y_train.append(classe_treino[i, 0])\n",
    "x_train, y_train = np.array(x_train), np.array(y_train)"
   ]
  },
  {
   "cell_type": "code",
   "execution_count": 13,
   "id": "da33cd95-3cf3-4656-909e-78029dd63543",
   "metadata": {},
   "outputs": [],
   "source": [
    "model = Sequential()\n",
    "\n",
    "model.add(LSTM(64, return_sequences=True, input_shape=(x_train.shape[1], 6)))\n",
    "model.add(Dropout(0.2))\n",
    "\n",
    "model.add(LSTM(32, return_sequences=True))\n",
    "model.add(Dropout(0.2))\n",
    "\n",
    "model.add(LSTM(16))\n",
    "model.add(Dropout(0.2))\n",
    "\n",
    "model.add(Dense(units = 1, activation = 'linear'))\n",
    "\n",
    "model.compile(optimizer = 'adam', loss ='mean_squared_error', metrics = ['mean_absolute_error'])"
   ]
  },
  {
   "cell_type": "code",
   "execution_count": 14,
   "id": "2ce0f9a1-c53f-490e-ac4e-5be06613a0a9",
   "metadata": {},
   "outputs": [
    {
     "name": "stdout",
     "output_type": "stream",
     "text": [
      "Epoch 1/10\n",
      "731/731 [==============================] - 148s 167ms/step - loss: 0.0072 - mean_absolute_error: 0.0614\n",
      "Epoch 2/10\n",
      "731/731 [==============================] - 102s 140ms/step - loss: 0.0063 - mean_absolute_error: 0.0564\n",
      "Epoch 3/10\n",
      "731/731 [==============================] - 112s 153ms/step - loss: 0.0058 - mean_absolute_error: 0.0538\n",
      "Epoch 4/10\n",
      "731/731 [==============================] - 117s 160ms/step - loss: 0.0055 - mean_absolute_error: 0.0523\n",
      "Epoch 5/10\n",
      "731/731 [==============================] - 113s 154ms/step - loss: 0.0054 - mean_absolute_error: 0.0514\n",
      "Epoch 6/10\n",
      "731/731 [==============================] - 116s 159ms/step - loss: 0.0053 - mean_absolute_error: 0.0512\n",
      "Epoch 7/10\n",
      "731/731 [==============================] - 107s 147ms/step - loss: 0.0053 - mean_absolute_error: 0.0508\n",
      "Epoch 8/10\n",
      "731/731 [==============================] - 122s 166ms/step - loss: 0.0052 - mean_absolute_error: 0.0505\n",
      "Epoch 9/10\n",
      "731/731 [==============================] - 112s 153ms/step - loss: 0.0051 - mean_absolute_error: 0.0501\n",
      "Epoch 10/10\n",
      "731/731 [==============================] - 108s 148ms/step - loss: 0.0051 - mean_absolute_error: 0.0501\n"
     ]
    },
    {
     "data": {
      "text/plain": [
       "<keras.src.callbacks.History at 0x18892e17790>"
      ]
     },
     "execution_count": 14,
     "metadata": {},
     "output_type": "execute_result"
    }
   ],
   "source": [
    "model.fit(x_train, y_train, epochs = 10, batch_size = 40)"
   ]
  },
  {
   "cell_type": "code",
   "execution_count": 36,
   "id": "a97f518a-91e9-4e67-b84b-63f2d609387e",
   "metadata": {},
   "outputs": [
    {
     "data": {
      "text/plain": [
       "array([[0.92424242, 0.67272727, 0.26086957, 0.04649644, 0.        ,\n",
       "        0.        ],\n",
       "       [0.90909091, 0.69090909, 0.26086957, 0.05288511, 0.        ,\n",
       "        0.        ],\n",
       "       [0.90909091, 0.65454545, 0.23913043, 0.05470169, 0.        ,\n",
       "        0.        ],\n",
       "       ...,\n",
       "       [0.27272727, 0.18181818, 0.89130435, 0.49445839, 0.        ,\n",
       "        0.        ],\n",
       "       [0.27272727, 0.16363636, 0.89130435, 0.50266365, 0.        ,\n",
       "        0.        ],\n",
       "       [0.28787879, 0.18181818, 0.89130435, 0.50905231, 0.        ,\n",
       "        0.        ]])"
      ]
     },
     "execution_count": 36,
     "metadata": {},
     "output_type": "execute_result"
    }
   ],
   "source": [
    "previsores_teste = df.iloc[29230:, 1:7].values\n",
    "previsores_teste = normalizador.fit_transform(previsores_teste)\n",
    "previsores_teste"
   ]
  },
  {
   "cell_type": "code",
   "execution_count": 45,
   "id": "bb94d542-68f6-4f63-9e72-4a32c815728e",
   "metadata": {},
   "outputs": [
    {
     "data": {
      "text/plain": [
       "array([[61.],\n",
       "       [73.],\n",
       "       [84.],\n",
       "       ...,\n",
       "       [10.],\n",
       "       [ 8.],\n",
       "       [12.]])"
      ]
     },
     "execution_count": 45,
     "metadata": {},
     "output_type": "execute_result"
    }
   ],
   "source": [
    "classe_teste = df.iloc[29230: , 0].values\n",
    "classe_teste = classe_teste.reshape(-1,1)\n",
    "classe_teste"
   ]
  },
  {
   "cell_type": "code",
   "execution_count": 54,
   "id": "aa20a892-7f14-4e1e-8f4d-ea4a87ab2978",
   "metadata": {},
   "outputs": [],
   "source": [
    "x_test = []\n",
    "y_test = []"
   ]
  },
  {
   "cell_type": "code",
   "execution_count": 55,
   "id": "28bfc23f-5ffd-43f0-aa45-f173f60eb7cd",
   "metadata": {},
   "outputs": [],
   "source": [
    "for i in range(timestamp, len(previsores_teste)):\n",
    "    x_test.append(previsores_teste[i - timestamp:i, 0:6])\n",
    "    y_test.append(classe_teste[i, 0])"
   ]
  },
  {
   "cell_type": "code",
   "execution_count": 56,
   "id": "d756e08b-1600-46b9-a480-71128a28bbd7",
   "metadata": {},
   "outputs": [],
   "source": [
    "x_test, y_test = np.array(x_test), np.array(y_test)"
   ]
  },
  {
   "cell_type": "code",
   "execution_count": 57,
   "id": "d4be203b-7ab5-4e0f-9b44-fe19c16c81ef",
   "metadata": {},
   "outputs": [
    {
     "name": "stdout",
     "output_type": "stream",
     "text": [
      "392/392 [==============================] - 15s 38ms/step\n"
     ]
    },
    {
     "data": {
      "text/plain": [
       "array([[99.80994 ],\n",
       "       [93.53488 ],\n",
       "       [88.479164],\n",
       "       ...,\n",
       "       [15.319949],\n",
       "       [14.981785],\n",
       "       [14.619476]], dtype=float32)"
      ]
     },
     "execution_count": 57,
     "metadata": {},
     "output_type": "execute_result"
    }
   ],
   "source": [
    "pred = model.predict(x_test)\n",
    "pred = pred.reshape(-1, 1)\n",
    "pred = normalizador.inverse_transform(pred)\n",
    "pred"
   ]
  },
  {
   "cell_type": "code",
   "execution_count": 60,
   "id": "b048fe4e-f345-45f5-b0bf-71f555983f3c",
   "metadata": {},
   "outputs": [
    {
     "data": {
      "image/png": "[encoded data removed]",
      "text/plain": [
       "<Figure size 640x480 with 1 Axes>"
      ]
     },
     "metadata": {},
     "output_type": "display_data"
    }
   ],
   "source": [
    "plt.plot(y_test, color = 'red', label = 'Poluição real')\n",
    "plt.plot(pred, color = 'blue', label = 'Previsões')\n",
    "plt.title('Previsão poluição')\n",
    "plt.xlabel('Horas')\n",
    "plt.ylabel('Valor poluição')\n",
    "plt.legend()\n",
    "plt.show()"
   ]
  }
 ],
 "metadata": {
  "kernelspec": {
   "display_name": "Python 3 (ipykernel)",
   "language": "python",
   "name": "python3"
  },
  "language_info": {
   "codemirror_mode": {
    "name": "ipython",
    "version": 3
   },
   "file_extension": ".py",
   "mimetype": "text/x-python",
   "name": "python",
   "nbconvert_exporter": "python",
   "pygments_lexer": "ipython3",
   "version": "3.11.3"
  }
 },
 "nbformat": 4,
 "nbformat_minor": 5
}

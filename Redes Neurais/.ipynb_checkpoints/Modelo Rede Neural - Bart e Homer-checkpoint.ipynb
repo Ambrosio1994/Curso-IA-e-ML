{
 "cells": [
  {
   "cell_type": "code",
   "execution_count": 1,
   "id": "a5f62577-96f4-4234-8ba7-1f8290589ba0",
   "metadata": {},
   "outputs": [],
   "source": [
    "import tensorflow as tf\n",
    "from keras.models import Sequential\n",
    "from keras.preprocessing.image import ImageDataGenerator\n",
    "import tensorflow as tf\n",
    "from tensorflow.keras.layers import Conv2D, BatchNormalization, MaxPooling2D, Flatten, Dense, Dropout\n",
    "from keras.preprocessing import image\n",
    "import numpy as np"
   ]
  },
  {
   "cell_type": "code",
   "execution_count": 2,
   "id": "849057e4-00ed-4219-917a-9298d1dbb8c2",
   "metadata": {},
   "outputs": [
    {
     "name": "stdout",
     "output_type": "stream",
     "text": [
      "Found 196 images belonging to 2 classes.\n"
     ]
    }
   ],
   "source": [
    "gerador_train = ImageDataGenerator(rescale = 1./255, rotation_range = 7, horizontal_flip = True,\n",
    "                             shear_range = 0.2, height_shift_range = 0.07, zoom_range = 0.2)\n",
    "\n",
    "base_train = gerador_train.flow_from_directory('Downloads/dataset_personagens/training_set', target_size = (64,64), batch_size = 32,\n",
    "                                               class_mode = 'binary')"
   ]
  },
  {
   "cell_type": "code",
   "execution_count": 3,
   "id": "9aca54fa-9ec5-4abe-b2e2-81c50f50eb24",
   "metadata": {},
   "outputs": [
    {
     "name": "stdout",
     "output_type": "stream",
     "text": [
      "Found 73 images belonging to 2 classes.\n"
     ]
    }
   ],
   "source": [
    "gerador_test = ImageDataGenerator(rescale = 1./255)\n",
    "\n",
    "\n",
    "base_test = gerador_test.flow_from_directory('Downloads/dataset_personagens/test_set', target_size = (64,64), batch_size = 32,\n",
    "                                               class_mode = 'binary')"
   ]
  },
  {
   "cell_type": "code",
   "execution_count": 23,
   "id": "1c42d8e7-c867-4b9b-8e51-53ccf1d0d22e",
   "metadata": {},
   "outputs": [],
   "source": [
    "modelo = Sequential()\n",
    "\n",
    "modelo.add(Conv2D(32, (3,3), input_shape = (64,64, 3), activation = 'relu'))\n",
    "modelo.add(BatchNormalization())\n",
    "modelo.add(MaxPooling2D(pool_size = (2,2)))\n",
    "\n",
    "modelo.add(Conv2D(32, (3,3), input_shape = (64,64, 3), activation = 'relu'))\n",
    "modelo.add(BatchNormalization())\n",
    "modelo.add(MaxPooling2D(pool_size = (2,2)))\n",
    "\n",
    "modelo.add(Flatten())\n",
    "\n",
    "modelo.add(Dense(128, activation = 'relu'))\n",
    "modelo.add(Dropout(0.2))\n",
    "\n",
    "modelo.add(Dense(128, activation = 'relu'))\n",
    "modelo.add(Dropout(0.2))\n",
    "\n",
    "modelo.add(Dense(128, activation = 'relu'))\n",
    "modelo.add(Dropout(0.2))\n",
    "\n",
    "modelo.add(Dense(1, activation='sigmoid'))"
   ]
  },
  {
   "cell_type": "code",
   "execution_count": 24,
   "id": "155015a8-0614-468e-b1e9-8455d5398eda",
   "metadata": {},
   "outputs": [
    {
     "name": "stdout",
     "output_type": "stream",
     "text": [
      "Epoch 1/100\n",
      "6/6 [==============================] - 14s 2s/step - loss: 0.9205 - accuracy: 0.4949 - val_loss: 0.6896 - val_accuracy: 0.4658\n",
      "Epoch 2/100\n",
      "6/6 [==============================] - 8s 1s/step - loss: 0.7943 - accuracy: 0.6122 - val_loss: 0.6751 - val_accuracy: 0.5342\n",
      "Epoch 3/100\n",
      "6/6 [==============================] - 8s 1s/step - loss: 0.5908 - accuracy: 0.7041 - val_loss: 0.6857 - val_accuracy: 0.4658\n",
      "Epoch 4/100\n",
      "6/6 [==============================] - 9s 1s/step - loss: 0.5939 - accuracy: 0.7347 - val_loss: 0.7363 - val_accuracy: 0.4247\n",
      "Epoch 5/100\n",
      "6/6 [==============================] - 9s 1s/step - loss: 0.5487 - accuracy: 0.7296 - val_loss: 0.7131 - val_accuracy: 0.4247\n",
      "Epoch 6/100\n",
      "6/6 [==============================] - 11s 2s/step - loss: 0.4683 - accuracy: 0.7908 - val_loss: 0.7024 - val_accuracy: 0.4247\n",
      "Epoch 7/100\n",
      "6/6 [==============================] - 16s 3s/step - loss: 0.3982 - accuracy: 0.8010 - val_loss: 0.7028 - val_accuracy: 0.4247\n",
      "Epoch 8/100\n",
      "6/6 [==============================] - 13s 2s/step - loss: 0.3750 - accuracy: 0.8163 - val_loss: 0.6967 - val_accuracy: 0.4247\n",
      "Epoch 9/100\n",
      "6/6 [==============================] - 11s 2s/step - loss: 0.3562 - accuracy: 0.8571 - val_loss: 0.7575 - val_accuracy: 0.4247\n",
      "Epoch 10/100\n",
      "6/6 [==============================] - 17s 3s/step - loss: 0.4113 - accuracy: 0.8214 - val_loss: 0.7891 - val_accuracy: 0.4247\n",
      "Epoch 11/100\n",
      "6/6 [==============================] - 16s 3s/step - loss: 0.4122 - accuracy: 0.8010 - val_loss: 0.7767 - val_accuracy: 0.4384\n",
      "Epoch 12/100\n",
      "6/6 [==============================] - 14s 2s/step - loss: 0.3290 - accuracy: 0.8878 - val_loss: 0.7267 - val_accuracy: 0.4795\n",
      "Epoch 13/100\n",
      "6/6 [==============================] - 15s 2s/step - loss: 0.3475 - accuracy: 0.8469 - val_loss: 0.6919 - val_accuracy: 0.5068\n",
      "Epoch 14/100\n",
      "6/6 [==============================] - 9s 1s/step - loss: 0.2949 - accuracy: 0.8827 - val_loss: 0.6919 - val_accuracy: 0.5342\n",
      "Epoch 15/100\n",
      "6/6 [==============================] - 9s 1s/step - loss: 0.2437 - accuracy: 0.8980 - val_loss: 0.7414 - val_accuracy: 0.4795\n",
      "Epoch 16/100\n",
      "6/6 [==============================] - 9s 1s/step - loss: 0.2131 - accuracy: 0.9184 - val_loss: 0.8125 - val_accuracy: 0.4658\n",
      "Epoch 17/100\n",
      "6/6 [==============================] - 10s 2s/step - loss: 0.2821 - accuracy: 0.9031 - val_loss: 0.6976 - val_accuracy: 0.5205\n",
      "Epoch 18/100\n",
      "6/6 [==============================] - 10s 2s/step - loss: 0.3708 - accuracy: 0.8827 - val_loss: 0.7968 - val_accuracy: 0.4384\n",
      "Epoch 19/100\n",
      "6/6 [==============================] - 8s 2s/step - loss: 0.2297 - accuracy: 0.8980 - val_loss: 0.9951 - val_accuracy: 0.4247\n",
      "Epoch 20/100\n",
      "6/6 [==============================] - 8s 1s/step - loss: 0.1984 - accuracy: 0.9388 - val_loss: 0.9959 - val_accuracy: 0.4247\n",
      "Epoch 21/100\n",
      "6/6 [==============================] - 10s 2s/step - loss: 0.1658 - accuracy: 0.9388 - val_loss: 1.1345 - val_accuracy: 0.4384\n",
      "Epoch 22/100\n",
      "6/6 [==============================] - 11s 2s/step - loss: 0.1519 - accuracy: 0.9490 - val_loss: 1.1449 - val_accuracy: 0.4384\n",
      "Epoch 23/100\n",
      "6/6 [==============================] - 10s 2s/step - loss: 0.1317 - accuracy: 0.9439 - val_loss: 1.0161 - val_accuracy: 0.4521\n",
      "Epoch 24/100\n",
      "6/6 [==============================] - 12s 2s/step - loss: 0.0881 - accuracy: 0.9643 - val_loss: 1.0202 - val_accuracy: 0.4521\n",
      "Epoch 25/100\n",
      "6/6 [==============================] - 12s 2s/step - loss: 0.2160 - accuracy: 0.9235 - val_loss: 0.8110 - val_accuracy: 0.5205\n",
      "Epoch 26/100\n",
      "6/6 [==============================] - 11s 2s/step - loss: 0.1278 - accuracy: 0.9439 - val_loss: 0.6018 - val_accuracy: 0.6164\n",
      "Epoch 27/100\n",
      "6/6 [==============================] - 10s 2s/step - loss: 0.1618 - accuracy: 0.9184 - val_loss: 0.7773 - val_accuracy: 0.5753\n",
      "Epoch 28/100\n",
      "6/6 [==============================] - 11s 2s/step - loss: 0.2373 - accuracy: 0.9031 - val_loss: 0.7187 - val_accuracy: 0.6164\n",
      "Epoch 29/100\n",
      "6/6 [==============================] - 10s 2s/step - loss: 0.1067 - accuracy: 0.9541 - val_loss: 0.8707 - val_accuracy: 0.5890\n",
      "Epoch 30/100\n",
      "6/6 [==============================] - 8s 1s/step - loss: 0.1364 - accuracy: 0.9490 - val_loss: 0.9415 - val_accuracy: 0.5342\n",
      "Epoch 31/100\n",
      "6/6 [==============================] - 10s 2s/step - loss: 0.2135 - accuracy: 0.9133 - val_loss: 0.9098 - val_accuracy: 0.5479\n",
      "Epoch 32/100\n",
      "6/6 [==============================] - 9s 2s/step - loss: 0.1398 - accuracy: 0.9490 - val_loss: 1.2429 - val_accuracy: 0.4658\n",
      "Epoch 33/100\n",
      "6/6 [==============================] - 10s 2s/step - loss: 0.1272 - accuracy: 0.9388 - val_loss: 0.6246 - val_accuracy: 0.6712\n",
      "Epoch 34/100\n",
      "6/6 [==============================] - 9s 1s/step - loss: 0.0840 - accuracy: 0.9592 - val_loss: 0.5288 - val_accuracy: 0.7123\n",
      "Epoch 35/100\n",
      "6/6 [==============================] - 9s 1s/step - loss: 0.1034 - accuracy: 0.9592 - val_loss: 0.7807 - val_accuracy: 0.6438\n",
      "Epoch 36/100\n",
      "6/6 [==============================] - 10s 2s/step - loss: 0.0900 - accuracy: 0.9592 - val_loss: 1.0907 - val_accuracy: 0.5342\n",
      "Epoch 37/100\n",
      "6/6 [==============================] - 9s 1s/step - loss: 0.1129 - accuracy: 0.9541 - val_loss: 1.1573 - val_accuracy: 0.5068\n",
      "Epoch 38/100\n",
      "6/6 [==============================] - 9s 1s/step - loss: 0.0832 - accuracy: 0.9796 - val_loss: 1.3540 - val_accuracy: 0.4658\n",
      "Epoch 39/100\n",
      "6/6 [==============================] - 10s 2s/step - loss: 0.1629 - accuracy: 0.9592 - val_loss: 1.0569 - val_accuracy: 0.6164\n",
      "Epoch 40/100\n",
      "6/6 [==============================] - 11s 2s/step - loss: 0.1653 - accuracy: 0.9286 - val_loss: 1.0569 - val_accuracy: 0.6164\n",
      "Epoch 41/100\n",
      "6/6 [==============================] - 11s 2s/step - loss: 0.0926 - accuracy: 0.9745 - val_loss: 1.1304 - val_accuracy: 0.6027\n",
      "Epoch 42/100\n",
      "6/6 [==============================] - 11s 2s/step - loss: 0.0732 - accuracy: 0.9592 - val_loss: 0.9244 - val_accuracy: 0.6164\n",
      "Epoch 43/100\n",
      "6/6 [==============================] - 11s 2s/step - loss: 0.1014 - accuracy: 0.9541 - val_loss: 0.8063 - val_accuracy: 0.6986\n",
      "Epoch 44/100\n",
      "6/6 [==============================] - 11s 2s/step - loss: 0.1074 - accuracy: 0.9694 - val_loss: 0.7452 - val_accuracy: 0.6712\n",
      "Epoch 45/100\n",
      "6/6 [==============================] - 11s 2s/step - loss: 0.0768 - accuracy: 0.9643 - val_loss: 0.6646 - val_accuracy: 0.7123\n",
      "Epoch 46/100\n",
      "6/6 [==============================] - 9s 1s/step - loss: 0.0583 - accuracy: 0.9745 - val_loss: 0.6583 - val_accuracy: 0.7534\n",
      "Epoch 47/100\n",
      "6/6 [==============================] - 9s 2s/step - loss: 0.0451 - accuracy: 0.9847 - val_loss: 0.6748 - val_accuracy: 0.7260\n",
      "Epoch 48/100\n",
      "6/6 [==============================] - 9s 1s/step - loss: 0.0495 - accuracy: 0.9796 - val_loss: 0.8126 - val_accuracy: 0.6575\n",
      "Epoch 49/100\n",
      "6/6 [==============================] - 8s 1s/step - loss: 0.0435 - accuracy: 0.9847 - val_loss: 0.8621 - val_accuracy: 0.6438\n",
      "Epoch 50/100\n",
      "6/6 [==============================] - 9s 2s/step - loss: 0.0388 - accuracy: 0.9847 - val_loss: 0.8036 - val_accuracy: 0.6438\n",
      "Epoch 51/100\n",
      "6/6 [==============================] - 9s 1s/step - loss: 0.0773 - accuracy: 0.9643 - val_loss: 0.6293 - val_accuracy: 0.7534\n",
      "Epoch 52/100\n",
      "6/6 [==============================] - 9s 2s/step - loss: 0.0782 - accuracy: 0.9694 - val_loss: 0.6930 - val_accuracy: 0.7397\n",
      "Epoch 53/100\n",
      "6/6 [==============================] - 8s 1s/step - loss: 0.0311 - accuracy: 0.9898 - val_loss: 0.7275 - val_accuracy: 0.7260\n",
      "Epoch 54/100\n",
      "6/6 [==============================] - 9s 1s/step - loss: 0.0537 - accuracy: 0.9745 - val_loss: 0.5900 - val_accuracy: 0.7534\n",
      "Epoch 55/100\n",
      "6/6 [==============================] - 9s 1s/step - loss: 0.0395 - accuracy: 0.9745 - val_loss: 0.4499 - val_accuracy: 0.8356\n",
      "Epoch 56/100\n",
      "6/6 [==============================] - 9s 2s/step - loss: 0.0776 - accuracy: 0.9694 - val_loss: 0.6615 - val_accuracy: 0.7808\n",
      "Epoch 57/100\n",
      "6/6 [==============================] - 8s 1s/step - loss: 0.0179 - accuracy: 0.9949 - val_loss: 0.4870 - val_accuracy: 0.8904\n",
      "Epoch 58/100\n",
      "6/6 [==============================] - 11s 2s/step - loss: 0.0520 - accuracy: 0.9745 - val_loss: 0.5311 - val_accuracy: 0.8082\n",
      "Epoch 59/100\n",
      "6/6 [==============================] - 11s 2s/step - loss: 0.1047 - accuracy: 0.9745 - val_loss: 0.7248 - val_accuracy: 0.7671\n",
      "Epoch 60/100\n",
      "6/6 [==============================] - 11s 2s/step - loss: 0.2161 - accuracy: 0.9286 - val_loss: 0.6202 - val_accuracy: 0.7945\n",
      "Epoch 61/100\n",
      "6/6 [==============================] - 12s 2s/step - loss: 0.1426 - accuracy: 0.9337 - val_loss: 1.9778 - val_accuracy: 0.5616\n",
      "Epoch 62/100\n",
      "6/6 [==============================] - 11s 2s/step - loss: 0.1847 - accuracy: 0.9490 - val_loss: 1.5565 - val_accuracy: 0.5479\n",
      "Epoch 63/100\n",
      "6/6 [==============================] - 10s 2s/step - loss: 0.0978 - accuracy: 0.9490 - val_loss: 1.0493 - val_accuracy: 0.6301\n",
      "Epoch 64/100\n",
      "6/6 [==============================] - 8s 2s/step - loss: 0.1214 - accuracy: 0.9541 - val_loss: 1.1866 - val_accuracy: 0.6438\n",
      "Epoch 65/100\n",
      "6/6 [==============================] - 9s 1s/step - loss: 0.1273 - accuracy: 0.9439 - val_loss: 0.4141 - val_accuracy: 0.9041\n",
      "Epoch 66/100\n",
      "6/6 [==============================] - 9s 2s/step - loss: 0.1444 - accuracy: 0.9490 - val_loss: 0.2824 - val_accuracy: 0.9452\n",
      "Epoch 67/100\n",
      "6/6 [==============================] - 8s 1s/step - loss: 0.1162 - accuracy: 0.9490 - val_loss: 0.4368 - val_accuracy: 0.8219\n",
      "Epoch 68/100\n",
      "6/6 [==============================] - 8s 1s/step - loss: 0.1144 - accuracy: 0.9490 - val_loss: 0.6568 - val_accuracy: 0.8082\n",
      "Epoch 69/100\n",
      "6/6 [==============================] - 9s 2s/step - loss: 0.1289 - accuracy: 0.9490 - val_loss: 0.8289 - val_accuracy: 0.7808\n",
      "Epoch 70/100\n",
      "6/6 [==============================] - 9s 2s/step - loss: 0.1020 - accuracy: 0.9745 - val_loss: 0.7323 - val_accuracy: 0.8082\n",
      "Epoch 71/100\n",
      "6/6 [==============================] - 9s 1s/step - loss: 0.0793 - accuracy: 0.9541 - val_loss: 0.7619 - val_accuracy: 0.7808\n",
      "Epoch 72/100\n",
      "6/6 [==============================] - 9s 1s/step - loss: 0.0693 - accuracy: 0.9796 - val_loss: 0.7910 - val_accuracy: 0.7945\n",
      "Epoch 73/100\n",
      "6/6 [==============================] - 9s 1s/step - loss: 0.1230 - accuracy: 0.9694 - val_loss: 0.7480 - val_accuracy: 0.7945\n",
      "Epoch 74/100\n",
      "6/6 [==============================] - 9s 1s/step - loss: 0.0995 - accuracy: 0.9745 - val_loss: 0.8401 - val_accuracy: 0.7671\n",
      "Epoch 75/100\n",
      "6/6 [==============================] - 9s 1s/step - loss: 0.0713 - accuracy: 0.9643 - val_loss: 0.6315 - val_accuracy: 0.8630\n",
      "Epoch 76/100\n",
      "6/6 [==============================] - 9s 2s/step - loss: 0.0695 - accuracy: 0.9745 - val_loss: 0.7065 - val_accuracy: 0.8219\n",
      "Epoch 77/100\n",
      "6/6 [==============================] - 11s 2s/step - loss: 0.0358 - accuracy: 0.9847 - val_loss: 0.6296 - val_accuracy: 0.8630\n",
      "Epoch 78/100\n",
      "6/6 [==============================] - 11s 2s/step - loss: 0.0474 - accuracy: 0.9898 - val_loss: 0.5876 - val_accuracy: 0.8630\n",
      "Epoch 79/100\n",
      "6/6 [==============================] - 11s 2s/step - loss: 0.0206 - accuracy: 0.9949 - val_loss: 0.5497 - val_accuracy: 0.8767\n",
      "Epoch 80/100\n",
      "6/6 [==============================] - 11s 2s/step - loss: 0.0249 - accuracy: 0.9949 - val_loss: 0.5308 - val_accuracy: 0.8630\n",
      "Epoch 81/100\n",
      "6/6 [==============================] - 11s 2s/step - loss: 0.0282 - accuracy: 0.9949 - val_loss: 0.5711 - val_accuracy: 0.8630\n",
      "Epoch 82/100\n",
      "6/6 [==============================] - 9s 1s/step - loss: 0.0582 - accuracy: 0.9847 - val_loss: 0.5937 - val_accuracy: 0.8767\n",
      "Epoch 83/100\n",
      "6/6 [==============================] - 8s 1s/step - loss: 0.0133 - accuracy: 0.9949 - val_loss: 0.6157 - val_accuracy: 0.8767\n",
      "Epoch 84/100\n",
      "6/6 [==============================] - 9s 1s/step - loss: 0.0213 - accuracy: 0.9898 - val_loss: 0.6571 - val_accuracy: 0.8767\n",
      "Epoch 85/100\n",
      "6/6 [==============================] - 9s 1s/step - loss: 0.0597 - accuracy: 0.9847 - val_loss: 0.7055 - val_accuracy: 0.8630\n",
      "Epoch 86/100\n",
      "6/6 [==============================] - 9s 1s/step - loss: 0.0307 - accuracy: 0.9847 - val_loss: 0.6310 - val_accuracy: 0.8493\n",
      "Epoch 87/100\n",
      "6/6 [==============================] - 9s 1s/step - loss: 0.0277 - accuracy: 0.9847 - val_loss: 0.4565 - val_accuracy: 0.8767\n",
      "Epoch 88/100\n",
      "6/6 [==============================] - 9s 2s/step - loss: 0.0160 - accuracy: 0.9898 - val_loss: 0.3820 - val_accuracy: 0.8904\n",
      "Epoch 89/100\n",
      "6/6 [==============================] - 8s 1s/step - loss: 0.0399 - accuracy: 0.9847 - val_loss: 0.3513 - val_accuracy: 0.8904\n",
      "Epoch 90/100\n",
      "6/6 [==============================] - 9s 1s/step - loss: 0.0107 - accuracy: 1.0000 - val_loss: 0.3745 - val_accuracy: 0.8904\n",
      "Epoch 91/100\n",
      "6/6 [==============================] - 9s 1s/step - loss: 0.0425 - accuracy: 0.9847 - val_loss: 0.4107 - val_accuracy: 0.8904\n",
      "Epoch 92/100\n",
      "6/6 [==============================] - 9s 1s/step - loss: 0.0182 - accuracy: 0.9898 - val_loss: 1.1082 - val_accuracy: 0.8493\n",
      "Epoch 93/100\n",
      "6/6 [==============================] - 8s 1s/step - loss: 0.0505 - accuracy: 0.9745 - val_loss: 2.6772 - val_accuracy: 0.7671\n",
      "Epoch 94/100\n",
      "6/6 [==============================] - 9s 1s/step - loss: 0.1040 - accuracy: 0.9694 - val_loss: 1.9186 - val_accuracy: 0.8219\n",
      "Epoch 95/100\n",
      "6/6 [==============================] - 9s 2s/step - loss: 0.0944 - accuracy: 0.9643 - val_loss: 2.0775 - val_accuracy: 0.7397\n",
      "Epoch 96/100\n",
      "6/6 [==============================] - 9s 1s/step - loss: 0.2657 - accuracy: 0.9133 - val_loss: 0.7849 - val_accuracy: 0.8219\n",
      "Epoch 97/100\n",
      "6/6 [==============================] - 8s 1s/step - loss: 0.0515 - accuracy: 0.9796 - val_loss: 0.4346 - val_accuracy: 0.8219\n",
      "Epoch 98/100\n",
      "6/6 [==============================] - 9s 1s/step - loss: 0.0492 - accuracy: 0.9694 - val_loss: 0.2359 - val_accuracy: 0.9178\n",
      "Epoch 99/100\n",
      "6/6 [==============================] - 9s 1s/step - loss: 0.0429 - accuracy: 0.9847 - val_loss: 0.2217 - val_accuracy: 0.9452\n",
      "Epoch 100/100\n",
      "6/6 [==============================] - 9s 1s/step - loss: 0.0294 - accuracy: 0.9949 - val_loss: 0.2462 - val_accuracy: 0.9452\n"
     ]
    },
    {
     "data": {
      "text/plain": [
       "<keras.src.callbacks.History at 0x2d30f758650>"
      ]
     },
     "execution_count": 24,
     "metadata": {},
     "output_type": "execute_result"
    }
   ],
   "source": [
    "modelo.compile(optimizer = 'adam', loss = 'binary_crossentropy', metrics = ['accuracy'])\n",
    "\n",
    "modelo.fit(base_train, steps_per_epoch = 196/32, epochs = 100, validation_data = base_test, validation_steps = 73/32)"
   ]
  },
  {
   "cell_type": "code",
   "execution_count": 66,
   "id": "ada1d48b-6dba-494d-9847-68da2cf7f061",
   "metadata": {},
   "outputs": [],
   "source": [
    "imagem_test = image.load_img('Downloads/dataset_personagens/test_set/homer/homer29.bmp',target_size = (64, 64))"
   ]
  },
  {
   "cell_type": "code",
   "execution_count": 67,
   "id": "ee613e51-fe1e-4200-a732-1389ed778c10",
   "metadata": {},
   "outputs": [],
   "source": [
    "imagem_test = image.img_to_array(imagem_test)"
   ]
  },
  {
   "cell_type": "code",
   "execution_count": 68,
   "id": "6d0f729d-c287-4537-812e-f58f7a031091",
   "metadata": {},
   "outputs": [],
   "source": [
    "imagem_test /= 255"
   ]
  },
  {
   "cell_type": "code",
   "execution_count": 69,
   "id": "5c9e99f2-8138-42ce-832a-4c9fce9a4a69",
   "metadata": {},
   "outputs": [],
   "source": [
    "imagem_test = np.expand_dims(imagem_test, axis = 0)"
   ]
  },
  {
   "cell_type": "code",
   "execution_count": 70,
   "id": "4b712b65-76a0-4add-a12d-a9863c4ba364",
   "metadata": {},
   "outputs": [
    {
     "data": {
      "text/plain": [
       "{'bart': 0, 'homer': 1}"
      ]
     },
     "execution_count": 70,
     "metadata": {},
     "output_type": "execute_result"
    }
   ],
   "source": [
    "base_train.class_indices"
   ]
  },
  {
   "cell_type": "code",
   "execution_count": 71,
   "id": "1b5d71a1-78f8-4602-9e21-1edb463c49c0",
   "metadata": {},
   "outputs": [
    {
     "name": "stdout",
     "output_type": "stream",
     "text": [
      "1/1 [==============================] - 0s 201ms/step\n",
      "Homer\n"
     ]
    }
   ],
   "source": [
    "pred = modelo.predict(imagem_test)\n",
    "pred = (pred > 0.5)\n",
    "\n",
    "if pred == False:\n",
    "    print('Bart')\n",
    "else:\n",
    "    print('Homer')"
   ]
  }
 ],
 "metadata": {
  "kernelspec": {
   "display_name": "Python 3 (ipykernel)",
   "language": "python",
   "name": "python3"
  },
  "language_info": {
   "codemirror_mode": {
    "name": "ipython",
    "version": 3
   },
   "file_extension": ".py",
   "mimetype": "text/x-python",
   "name": "python",
   "nbconvert_exporter": "python",
   "pygments_lexer": "ipython3",
   "version": "3.11.3"
  }
 },
 "nbformat": 4,
 "nbformat_minor": 5
}

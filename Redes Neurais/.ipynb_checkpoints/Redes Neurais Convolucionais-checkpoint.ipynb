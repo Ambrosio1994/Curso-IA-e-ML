{
 "cells": [
  {
   "cell_type": "code",
   "execution_count": 5,
   "id": "034dd1bf-bc97-4c63-81b0-eacea3e65ab9",
   "metadata": {},
   "outputs": [],
   "source": [
    "from keras.datasets import cifar10\n",
    "(x_train, y_train), (x_test, y_test) = cifar10.load_data()"
   ]
  },
  {
   "cell_type": "code",
   "execution_count": 6,
   "id": "49a9b324-ced8-4392-8cd6-e7cf29cc1763",
   "metadata": {},
   "outputs": [
    {
     "data": {
      "text/plain": [
       "Text(0.5, 1.0, '[6]')"
      ]
     },
     "execution_count": 6,
     "metadata": {},
     "output_type": "execute_result"
    },
    {
     "data": {
      "image/png": "[encoded data removed]",
      "text/plain": [
       "<Figure size 640x480 with 1 Axes>"
      ]
     },
     "metadata": {},
     "output_type": "display_data"
    }
   ],
   "source": [
    "import matplotlib.pyplot as plt\n",
    "plt.imshow(x_train[0], cmap = 'gray')\n",
    "plt.title(y_train[0])"
   ]
  },
  {
   "cell_type": "code",
   "execution_count": 7,
   "id": "fbdc1442-0231-47fc-918e-4d28a00fc31b",
   "metadata": {},
   "outputs": [
    {
     "data": {
      "text/plain": [
       "array([158, 112,  49, ...,  21,  67, 110], dtype=uint8)"
      ]
     },
     "execution_count": 7,
     "metadata": {},
     "output_type": "execute_result"
    }
   ],
   "source": [
    "import numpy as np\n",
    "\n",
    "# Remodelagem dos dados de treinamento (x_train) e teste (x_test)\n",
    "x_train = x_train.reshape((len(x_train), np.prod(x_train.shape[1:])))\n",
    "x_test = x_test.reshape((len(x_test), np.prod(x_test.shape[1:])))\n",
    "\n",
    "# Acessando o primeiro exemplo após a remodelagem\n",
    "x_test[0]"
   ]
  },
  {
   "cell_type": "code",
   "execution_count": 8,
   "id": "b4e25d9e-d851-457b-96bf-382c8eb723b2",
   "metadata": {},
   "outputs": [],
   "source": [
    "x_train = x_train.astype('float32')\n",
    "x_test= x_test.astype('float32')"
   ]
  },
  {
   "cell_type": "code",
   "execution_count": 9,
   "id": "f70befc5-6aa6-410e-b49f-7e9595afae3e",
   "metadata": {},
   "outputs": [],
   "source": [
    "x_train /= np.amax(x_train)\n",
    "x_test /= np.amax(x_train)"
   ]
  },
  {
   "cell_type": "code",
   "execution_count": 10,
   "id": "770ff007-927b-4075-acb4-e7d6912dee81",
   "metadata": {},
   "outputs": [
    {
     "data": {
      "text/plain": [
       "array([0., 0., 0., 1., 0., 0., 0., 0., 0., 0.], dtype=float32)"
      ]
     },
     "execution_count": 10,
     "metadata": {},
     "output_type": "execute_result"
    }
   ],
   "source": [
    "from tensorflow.keras.utils import to_categorical\n",
    "\n",
    "y_train = to_categorical(y_train, 10)\n",
    "y_test = to_categorical(y_test, 10)\n",
    "y_test[0]"
   ]
  },
  {
   "cell_type": "code",
   "execution_count": 11,
   "id": "9c6de2cc-45f4-46bd-ba12-b7601a46282e",
   "metadata": {},
   "outputs": [],
   "source": [
    "from keras.layers import BatchNormalization\n",
    "from keras.models import Sequential\n",
    "from keras.layers import Dense, Dropout"
   ]
  },
  {
   "cell_type": "code",
   "execution_count": 12,
   "id": "039e9639-2718-4a84-a8ed-1d80d3daddd9",
   "metadata": {},
   "outputs": [],
   "source": [
    "modelo = Sequential()\n",
    "\n",
    "modelo.add(BatchNormalization())\n",
    "\n",
    "modelo.add(Dense(16, activation = 'relu', input_dim = x_train.shape[1]))\n",
    "modelo.add(Dropout(0.2))\n",
    "\n",
    "modelo.add(Dense(10, activation='softmax'))"
   ]
  },
  {
   "cell_type": "code",
   "execution_count": null,
   "id": "fbbd7f5a-57d5-4855-9ed3-3151a1da36ab",
   "metadata": {},
   "outputs": [
    {
     "name": "stdout",
     "output_type": "stream",
     "text": [
      "Epoch 1/5\n",
      "5000/5000 [==============================] - 222s 38ms/step - loss: 2.0560 - accuracy: 0.2606 - val_loss: 1461.0559 - val_accuracy: 0.1962\n",
      "Epoch 2/5\n",
      "5000/5000 [==============================] - 81s 15ms/step - loss: 1.9155 - accuracy: 0.3049 - val_loss: 785.6115 - val_accuracy: 0.1947\n",
      "Epoch 3/5\n",
      "5000/5000 [==============================] - 69s 14ms/step - loss: 1.8802 - accuracy: 0.3251 - val_loss: 588.9715 - val_accuracy: 0.2378\n",
      "Epoch 4/5\n",
      "5000/5000 [==============================] - 89s 18ms/step - loss: 1.8476 - accuracy: 0.3345 - val_loss: 598.5580 - val_accuracy: 0.2352\n",
      "Epoch 5/5\n",
      " 650/5000 [==>...........................] - ETA: 1:11 - loss: 1.8319 - accuracy: 0.3449"
     ]
    }
   ],
   "source": [
    "modelo.compile(optimizer = 'adam', loss = 'categorical_crossentropy', metrics = ['accuracy'])\n",
    "\n",
    "modelo.fit(x_train, y_train, batch_size = 10, epochs = 5, validation_data = (x_test, y_test))"
   ]
  }
 ],
 "metadata": {
  "kernelspec": {
   "display_name": "Python 3 (ipykernel)",
   "language": "python",
   "name": "python3"
  },
  "language_info": {
   "codemirror_mode": {
    "name": "ipython",
    "version": 3
   },
   "file_extension": ".py",
   "mimetype": "text/x-python",
   "name": "python",
   "nbconvert_exporter": "python",
   "pygments_lexer": "ipython3",
   "version": "3.11.6"
  }
 },
 "nbformat": 4,
 "nbformat_minor": 5
}

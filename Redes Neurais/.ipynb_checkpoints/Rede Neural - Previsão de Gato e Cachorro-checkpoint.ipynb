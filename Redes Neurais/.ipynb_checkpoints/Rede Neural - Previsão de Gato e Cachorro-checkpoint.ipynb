{
 "cells": [
  {
   "cell_type": "code",
   "execution_count": 1,
   "id": "a7fd4ac1-be6b-4cb2-bc3c-d2d1b05f477f",
   "metadata": {},
   "outputs": [],
   "source": [
    "import tensorflow as tf\n",
    "from keras.models import Sequential\n",
    "from keras.preprocessing.image import ImageDataGenerator\n",
    "import tensorflow as tf\n",
    "from tensorflow.keras.layers import Conv2D, BatchNormalization, MaxPooling2D, Flatten, Dense, Dropout\n",
    "from keras.preprocessing import image\n",
    "import numpy as np"
   ]
  },
  {
   "cell_type": "code",
   "execution_count": 2,
   "id": "95bdcbb5-9211-45bb-8aed-d64fafb6a093",
   "metadata": {},
   "outputs": [
    {
     "name": "stdout",
     "output_type": "stream",
     "text": [
      "Found 2258 images belonging to 2 classes.\n"
     ]
    }
   ],
   "source": [
    "gerador_train = ImageDataGenerator(rescale = 1./255, rotation_range = 7, horizontal_flip = True,\n",
    "                             shear_range = 0.2, height_shift_range = 0.07, zoom_range = 0.2)\n",
    "\n",
    "base_train = gerador_train.flow_from_directory('Dataset/training_set', target_size = (64,64), batch_size = 32,\n",
    "                                               class_mode = 'binary')"
   ]
  },
  {
   "cell_type": "code",
   "execution_count": 3,
   "id": "f97938f5-1af9-4b64-a639-cc04c4973ead",
   "metadata": {},
   "outputs": [
    {
     "name": "stdout",
     "output_type": "stream",
     "text": [
      "Found 1000 images belonging to 3 classes.\n"
     ]
    }
   ],
   "source": [
    "gerador_test = ImageDataGenerator(rescale = 1./255)\n",
    "\n",
    "\n",
    "base_test = gerador_test.flow_from_directory('Dataset/test_set', target_size = (64,64), batch_size = 32,\n",
    "                                               class_mode = 'binary')"
   ]
  },
  {
   "cell_type": "code",
   "execution_count": 13,
   "id": "3d831d46-ee72-44bb-b4d0-76745d04978f",
   "metadata": {},
   "outputs": [],
   "source": [
    "modelo = Sequential()\n",
    "\n",
    "modelo.add(Conv2D(32, (3,3), input_shape = (64,64, 3), activation = 'relu'))\n",
    "modelo.add(BatchNormalization())\n",
    "modelo.add(MaxPooling2D(pool_size = (2,2)))\n",
    "\n",
    "modelo.add(Conv2D(32, (3,3), input_shape = (64,64, 3), activation = 'relu'))\n",
    "modelo.add(BatchNormalization())\n",
    "modelo.add(MaxPooling2D(pool_size = (2,2)))\n",
    "\n",
    "modelo.add(Flatten())\n",
    "\n",
    "modelo.add(Dense(128, activation = 'relu'))\n",
    "modelo.add(Dropout(0.2))\n",
    "\n",
    "modelo.add(Dense(128, activation = 'relu'))\n",
    "modelo.add(Dropout(0.2))\n",
    "\n",
    "modelo.add(Dense(1, activation='sigmoid'))"
   ]
  },
  {
   "cell_type": "code",
   "execution_count": 17,
   "id": "ad02b5fc-a7cf-4633-b163-be125436b88a",
   "metadata": {},
   "outputs": [
    {
     "name": "stdout",
     "output_type": "stream",
     "text": [
      "Epoch 1/5\n",
      "70/70 [==============================] - 124s 2s/step - loss: 0.6222 - accuracy: 0.6767 - val_loss: -2.0587 - val_accuracy: 0.5000\n",
      "Epoch 2/5\n",
      "70/70 [==============================] - 99s 1s/step - loss: 0.6069 - accuracy: 0.6860 - val_loss: -0.8475 - val_accuracy: 0.4390\n",
      "Epoch 3/5\n",
      "70/70 [==============================] - 112s 2s/step - loss: 0.5786 - accuracy: 0.7033 - val_loss: -1.0245 - val_accuracy: 0.4470\n",
      "Epoch 4/5\n",
      "70/70 [==============================] - 97s 1s/step - loss: 0.5663 - accuracy: 0.7143 - val_loss: 0.3795 - val_accuracy: 0.2080\n",
      "Epoch 5/5\n",
      "70/70 [==============================] - 116s 2s/step - loss: 0.5462 - accuracy: 0.7290 - val_loss: -0.1411 - val_accuracy: 0.2600\n"
     ]
    },
    {
     "data": {
      "text/plain": [
       "<keras.src.callbacks.History at 0x295159b7d90>"
      ]
     },
     "execution_count": 17,
     "metadata": {},
     "output_type": "execute_result"
    }
   ],
   "source": [
    "modelo.compile(optimizer = 'adam', loss = 'binary_crossentropy', metrics = ['accuracy'])\n",
    "\n",
    "modelo.fit(base_train, steps_per_epoch = 2258 / 32, epochs = 5, validation_data = base_test, validation_steps = 1000/32)"
   ]
  },
  {
   "cell_type": "code",
   "execution_count": 18,
   "id": "f0442297-32d0-4a43-82cd-5a54410009d4",
   "metadata": {},
   "outputs": [],
   "source": [
    "imagem_test = image.load_img('dataset/test_set/gato/cat.3500.jpg',target_size = (64, 64))"
   ]
  },
  {
   "cell_type": "code",
   "execution_count": 19,
   "id": "4a6922b3-2ceb-42b5-853b-7461da7c15c6",
   "metadata": {},
   "outputs": [],
   "source": [
    "imagem_test = image.img_to_array(imagem_test)"
   ]
  },
  {
   "cell_type": "code",
   "execution_count": 20,
   "id": "a5a771e7-bbd6-419a-ac61-5437280fb385",
   "metadata": {},
   "outputs": [],
   "source": [
    "imagem_test /= 255"
   ]
  },
  {
   "cell_type": "code",
   "execution_count": 21,
   "id": "a9d2f7c4-efea-4e2c-b88a-8507446b51a4",
   "metadata": {},
   "outputs": [],
   "source": [
    "imagem_test = np.expand_dims(imagem_test, axis = 0)"
   ]
  },
  {
   "cell_type": "code",
   "execution_count": 22,
   "id": "bdcd691a-95f1-4850-a432-8d4a33a65a8d",
   "metadata": {},
   "outputs": [
    {
     "data": {
      "text/plain": [
       "{'CACHORRO': 0, 'GATO': 1}"
      ]
     },
     "execution_count": 22,
     "metadata": {},
     "output_type": "execute_result"
    }
   ],
   "source": [
    "base_train.class_indices"
   ]
  },
  {
   "cell_type": "code",
   "execution_count": 23,
   "id": "784d24f2-5176-4847-9027-134fa9d4a39d",
   "metadata": {},
   "outputs": [
    {
     "name": "stdout",
     "output_type": "stream",
     "text": [
      "1/1 [==============================] - 1s 827ms/step\n"
     ]
    },
    {
     "data": {
      "text/plain": [
       "array([[0.86671114]], dtype=float32)"
      ]
     },
     "execution_count": 23,
     "metadata": {},
     "output_type": "execute_result"
    }
   ],
   "source": [
    "pred = modelo.predict(imagem_test)\n",
    "pred"
   ]
  }
 ],
 "metadata": {
  "kernelspec": {
   "display_name": "Python 3 (ipykernel)",
   "language": "python",
   "name": "python3"
  },
  "language_info": {
   "codemirror_mode": {
    "name": "ipython",
    "version": 3
   },
   "file_extension": ".py",
   "mimetype": "text/x-python",
   "name": "python",
   "nbconvert_exporter": "python",
   "pygments_lexer": "ipython3",
   "version": "3.11.6"
  }
 },
 "nbformat": 4,
 "nbformat_minor": 5
}

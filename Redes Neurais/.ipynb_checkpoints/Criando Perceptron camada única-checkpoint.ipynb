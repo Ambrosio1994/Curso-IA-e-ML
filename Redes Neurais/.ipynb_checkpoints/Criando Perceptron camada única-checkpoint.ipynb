{
 "cells": [
  {
   "cell_type": "code",
   "execution_count": 1,
   "id": "6c3a242c-2abe-4836-9619-74cb0b150421",
   "metadata": {},
   "outputs": [],
   "source": [
    "import numpy as np"
   ]
  },
  {
   "cell_type": "code",
   "execution_count": 2,
   "id": "4318f860-9bb1-4463-8831-71333259e8ad",
   "metadata": {},
   "outputs": [],
   "source": [
    "entradas = np.array([[0,0], [0,1], [1,0], [1,1]])\n",
    "saidas = np.array([0, 0, 0, 1])\n",
    "pesos = np.array([0.0, 0.0])\n",
    "taxa = 0.1"
   ]
  },
  {
   "cell_type": "code",
   "execution_count": 3,
   "id": "bf118218-06e2-4539-b93e-29283acdb6fe",
   "metadata": {},
   "outputs": [],
   "source": [
    "def stepfunction(soma):\n",
    "    if (soma >= 1):\n",
    "        return 1\n",
    "    return 0"
   ]
  },
  {
   "cell_type": "code",
   "execution_count": 4,
   "id": "4b2a6664-b61e-425b-9406-da828c310265",
   "metadata": {},
   "outputs": [],
   "source": [
    "def calcsaida(registro):\n",
    "    s = registro.dot(pesos)\n",
    "    return stepfunction(s)"
   ]
  },
  {
   "cell_type": "code",
   "execution_count": 10,
   "id": "ff3ed7fb-34ab-4d0b-902c-ff12abaa18a0",
   "metadata": {},
   "outputs": [
    {
     "name": "stdout",
     "output_type": "stream",
     "text": [
      "Peso atualizado: 0.0\n",
      "Peso atualizado: 0.0\n",
      "Peso atualizado: 0.0\n",
      "Peso atualizado: 0.0\n",
      "Peso atualizado: 0.0\n",
      "Peso atualizado: 0.0\n",
      "Peso atualizado: 0.1\n",
      "Peso atualizado: 0.1\n",
      "Total de Erros: 1\n",
      "Peso atualizado: 0.1\n",
      "Peso atualizado: 0.1\n",
      "Peso atualizado: 0.1\n",
      "Peso atualizado: 0.1\n",
      "Peso atualizado: 0.1\n",
      "Peso atualizado: 0.1\n",
      "Peso atualizado: 0.2\n",
      "Peso atualizado: 0.2\n",
      "Total de Erros: 1\n",
      "Peso atualizado: 0.2\n",
      "Peso atualizado: 0.2\n",
      "Peso atualizado: 0.2\n",
      "Peso atualizado: 0.2\n",
      "Peso atualizado: 0.2\n",
      "Peso atualizado: 0.2\n",
      "Peso atualizado: 0.30000000000000004\n",
      "Peso atualizado: 0.30000000000000004\n",
      "Total de Erros: 1\n",
      "Peso atualizado: 0.30000000000000004\n",
      "Peso atualizado: 0.30000000000000004\n",
      "Peso atualizado: 0.30000000000000004\n",
      "Peso atualizado: 0.30000000000000004\n",
      "Peso atualizado: 0.30000000000000004\n",
      "Peso atualizado: 0.30000000000000004\n",
      "Peso atualizado: 0.4\n",
      "Peso atualizado: 0.4\n",
      "Total de Erros: 1\n",
      "Peso atualizado: 0.4\n",
      "Peso atualizado: 0.4\n",
      "Peso atualizado: 0.4\n",
      "Peso atualizado: 0.4\n",
      "Peso atualizado: 0.4\n",
      "Peso atualizado: 0.4\n",
      "Peso atualizado: 0.5\n",
      "Peso atualizado: 0.5\n",
      "Total de Erros: 1\n",
      "Peso atualizado: 0.5\n",
      "Peso atualizado: 0.5\n",
      "Peso atualizado: 0.5\n",
      "Peso atualizado: 0.5\n",
      "Peso atualizado: 0.5\n",
      "Peso atualizado: 0.5\n",
      "Peso atualizado: 0.5\n",
      "Peso atualizado: 0.5\n",
      "Total de Erros: 0\n"
     ]
    }
   ],
   "source": [
    "def treinar():\n",
    "    erroT = 1\n",
    "    while (erroT != 0):\n",
    "        erroT = 0\n",
    "        for i in range(len(saidas)):\n",
    "            saidacalculada = calcsaida(np.asarray(entradas[i]))\n",
    "            erro = abs(saidas[i] - saidacalculada)\n",
    "            erroT += erro\n",
    "            for k in range(len(pesos)):\n",
    "                pesos[k] = pesos[k] + (taxa*entradas[i][k]*erro)\n",
    "                print(f'Peso atualizado: {pesos[k]}')\n",
    "        print(f'Total de Erros: {erroT}')\n",
    "treinar()"
   ]
  }
 ],
 "metadata": {
  "kernelspec": {
   "display_name": "Python 3 (ipykernel)",
   "language": "python",
   "name": "python3"
  },
  "language_info": {
   "codemirror_mode": {
    "name": "ipython",
    "version": 3
   },
   "file_extension": ".py",
   "mimetype": "text/x-python",
   "name": "python",
   "nbconvert_exporter": "python",
   "pygments_lexer": "ipython3",
   "version": "3.11.3"
  }
 },
 "nbformat": 4,
 "nbformat_minor": 5
}

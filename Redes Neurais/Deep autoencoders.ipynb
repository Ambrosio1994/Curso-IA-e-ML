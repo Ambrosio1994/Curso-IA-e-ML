{
 "cells": [
  {
   "cell_type": "code",
   "execution_count": 1,
   "id": "fc0f2159-4f5d-46dd-be45-ea4cb979fea6",
   "metadata": {},
   "outputs": [],
   "source": [
    "from keras.models import Model, Sequential\n",
    "import numpy as np\n",
    "from tensorflow.keras.datasets import mnist\n",
    "from tensorflow.keras.layers import Dense, Input\n",
    "import matplotlib.pyplot as plt"
   ]
  },
  {
   "cell_type": "code",
   "execution_count": 3,
   "id": "fd9bf14e-37b0-4854-a162-8f8c88f7ae75",
   "metadata": {},
   "outputs": [],
   "source": [
    "(x_train, _), (x_test, _) = mnist.load_data()"
   ]
  },
  {
   "cell_type": "code",
   "execution_count": 4,
   "id": "7725381b-4ac8-4910-8056-50070b3c2245",
   "metadata": {},
   "outputs": [],
   "source": [
    "x_train = x_train.astype('float32') / 255\n",
    "x_test = x_test.astype('float32') / 255"
   ]
  },
  {
   "cell_type": "code",
   "execution_count": 5,
   "id": "d2a2225a-e0f4-48e1-9413-95794de83469",
   "metadata": {},
   "outputs": [],
   "source": [
    "x_train = x_train.reshape((-1, 784))\n",
    "x_test = x_test.reshape((-1, 784))"
   ]
  },
  {
   "cell_type": "code",
   "execution_count": 9,
   "id": "7f2c2cbc-c432-45da-8cb8-a84fd6f802b4",
   "metadata": {},
   "outputs": [
    {
     "name": "stdout",
     "output_type": "stream",
     "text": [
      "Model: \"sequential_1\"\n",
      "_________________________________________________________________\n",
      " Layer (type)                Output Shape              Param #   \n",
      "=================================================================\n",
      " dense_6 (Dense)             (None, 128)               100480    \n",
      "                                                                 \n",
      " dense_7 (Dense)             (None, 64)                8256      \n",
      "                                                                 \n",
      " dense_8 (Dense)             (None, 32)                2080      \n",
      "                                                                 \n",
      " dense_9 (Dense)             (None, 64)                2112      \n",
      "                                                                 \n",
      " dense_10 (Dense)            (None, 128)               8320      \n",
      "                                                                 \n",
      " dense_11 (Dense)            (None, 784)               101136    \n",
      "                                                                 \n",
      "=================================================================\n",
      "Total params: 222384 (868.69 KB)\n",
      "Trainable params: 222384 (868.69 KB)\n",
      "Non-trainable params: 0 (0.00 Byte)\n",
      "_________________________________________________________________\n"
     ]
    }
   ],
   "source": [
    "model = Sequential()\n",
    "\n",
    "# Encode\n",
    "model.add(Dense(128, activation = 'relu', input_dim = x_train.shape[1]))\n",
    "model.add(Dense(64,  activation = 'relu'))\n",
    "model.add(Dense(32,  activation = 'relu'))\n",
    "\n",
    "# Decode\n",
    "\n",
    "model.add(Dense(64,  activation = 'relu'))\n",
    "model.add(Dense(128, activation = 'relu'))\n",
    "model.add(Dense(x_train.shape[1], activation = 'sigmoid'))\n",
    "\n",
    "model.summary()"
   ]
  },
  {
   "cell_type": "code",
   "execution_count": 11,
   "id": "e1cf352d-e24e-4a31-9ce5-7f1420290fa8",
   "metadata": {},
   "outputs": [
    {
     "name": "stdout",
     "output_type": "stream",
     "text": [
      "Epoch 1/50\n",
      "235/235 [==============================] - 6s 16ms/step - loss: 0.2415 - accuracy: 0.0092 - val_loss: 0.1657 - val_accuracy: 0.0095\n",
      "Epoch 2/50\n",
      "235/235 [==============================] - 3s 14ms/step - loss: 0.1523 - accuracy: 0.0090 - val_loss: 0.1406 - val_accuracy: 0.0083\n",
      "Epoch 3/50\n",
      "235/235 [==============================] - 3s 14ms/step - loss: 0.1352 - accuracy: 0.0114 - val_loss: 0.1277 - val_accuracy: 0.0128\n",
      "Epoch 4/50\n",
      "235/235 [==============================] - 3s 14ms/step - loss: 0.1255 - accuracy: 0.0130 - val_loss: 0.1203 - val_accuracy: 0.0127\n",
      "Epoch 5/50\n",
      "235/235 [==============================] - 3s 14ms/step - loss: 0.1184 - accuracy: 0.0123 - val_loss: 0.1137 - val_accuracy: 0.0144\n",
      "Epoch 6/50\n",
      "235/235 [==============================] - 3s 14ms/step - loss: 0.1129 - accuracy: 0.0107 - val_loss: 0.1096 - val_accuracy: 0.0122\n",
      "Epoch 7/50\n",
      "235/235 [==============================] - 3s 14ms/step - loss: 0.1091 - accuracy: 0.0120 - val_loss: 0.1060 - val_accuracy: 0.0119\n",
      "Epoch 8/50\n",
      "235/235 [==============================] - 3s 13ms/step - loss: 0.1061 - accuracy: 0.0119 - val_loss: 0.1036 - val_accuracy: 0.0151\n",
      "Epoch 9/50\n",
      "235/235 [==============================] - 3s 14ms/step - loss: 0.1037 - accuracy: 0.0122 - val_loss: 0.1020 - val_accuracy: 0.0126\n",
      "Epoch 10/50\n",
      "235/235 [==============================] - 3s 14ms/step - loss: 0.1020 - accuracy: 0.0119 - val_loss: 0.1003 - val_accuracy: 0.0144\n",
      "Epoch 11/50\n",
      "235/235 [==============================] - 3s 14ms/step - loss: 0.1005 - accuracy: 0.0125 - val_loss: 0.0988 - val_accuracy: 0.0148\n",
      "Epoch 12/50\n",
      "235/235 [==============================] - 3s 14ms/step - loss: 0.0991 - accuracy: 0.0129 - val_loss: 0.0975 - val_accuracy: 0.0133\n",
      "Epoch 13/50\n",
      "235/235 [==============================] - 3s 14ms/step - loss: 0.0979 - accuracy: 0.0135 - val_loss: 0.0964 - val_accuracy: 0.0101\n",
      "Epoch 14/50\n",
      "235/235 [==============================] - 3s 14ms/step - loss: 0.0968 - accuracy: 0.0134 - val_loss: 0.0952 - val_accuracy: 0.0162\n",
      "Epoch 15/50\n",
      "235/235 [==============================] - 3s 14ms/step - loss: 0.0958 - accuracy: 0.0135 - val_loss: 0.0945 - val_accuracy: 0.0144\n",
      "Epoch 16/50\n",
      "235/235 [==============================] - 3s 14ms/step - loss: 0.0950 - accuracy: 0.0136 - val_loss: 0.0938 - val_accuracy: 0.0125\n",
      "Epoch 17/50\n",
      "235/235 [==============================] - 3s 15ms/step - loss: 0.0942 - accuracy: 0.0136 - val_loss: 0.0931 - val_accuracy: 0.0129\n",
      "Epoch 18/50\n",
      "235/235 [==============================] - 3s 14ms/step - loss: 0.0935 - accuracy: 0.0141 - val_loss: 0.0923 - val_accuracy: 0.0161\n",
      "Epoch 19/50\n",
      "235/235 [==============================] - 3s 14ms/step - loss: 0.0928 - accuracy: 0.0143 - val_loss: 0.0917 - val_accuracy: 0.0144\n",
      "Epoch 20/50\n",
      "235/235 [==============================] - 3s 14ms/step - loss: 0.0922 - accuracy: 0.0138 - val_loss: 0.0914 - val_accuracy: 0.0122\n",
      "Epoch 21/50\n",
      "235/235 [==============================] - 3s 14ms/step - loss: 0.0918 - accuracy: 0.0134 - val_loss: 0.0908 - val_accuracy: 0.0149\n",
      "Epoch 22/50\n",
      "235/235 [==============================] - 3s 14ms/step - loss: 0.0912 - accuracy: 0.0140 - val_loss: 0.0901 - val_accuracy: 0.0130\n",
      "Epoch 23/50\n",
      "235/235 [==============================] - 3s 14ms/step - loss: 0.0908 - accuracy: 0.0134 - val_loss: 0.0897 - val_accuracy: 0.0151\n",
      "Epoch 24/50\n",
      "235/235 [==============================] - 3s 14ms/step - loss: 0.0903 - accuracy: 0.0135 - val_loss: 0.0898 - val_accuracy: 0.0144\n",
      "Epoch 25/50\n",
      "235/235 [==============================] - 3s 14ms/step - loss: 0.0899 - accuracy: 0.0137 - val_loss: 0.0891 - val_accuracy: 0.0127\n",
      "Epoch 26/50\n",
      "235/235 [==============================] - 3s 14ms/step - loss: 0.0895 - accuracy: 0.0141 - val_loss: 0.0886 - val_accuracy: 0.0132\n",
      "Epoch 27/50\n",
      "235/235 [==============================] - 3s 14ms/step - loss: 0.0890 - accuracy: 0.0141 - val_loss: 0.0881 - val_accuracy: 0.0130\n",
      "Epoch 28/50\n",
      "235/235 [==============================] - 3s 14ms/step - loss: 0.0887 - accuracy: 0.0137 - val_loss: 0.0878 - val_accuracy: 0.0145\n",
      "Epoch 29/50\n",
      "235/235 [==============================] - 3s 14ms/step - loss: 0.0883 - accuracy: 0.0133 - val_loss: 0.0875 - val_accuracy: 0.0124\n",
      "Epoch 30/50\n",
      "235/235 [==============================] - 3s 14ms/step - loss: 0.0879 - accuracy: 0.0135 - val_loss: 0.0871 - val_accuracy: 0.0133\n",
      "Epoch 31/50\n",
      "235/235 [==============================] - 3s 14ms/step - loss: 0.0875 - accuracy: 0.0138 - val_loss: 0.0871 - val_accuracy: 0.0141\n",
      "Epoch 32/50\n",
      "235/235 [==============================] - 3s 14ms/step - loss: 0.0872 - accuracy: 0.0127 - val_loss: 0.0867 - val_accuracy: 0.0127\n",
      "Epoch 33/50\n",
      "235/235 [==============================] - 3s 14ms/step - loss: 0.0870 - accuracy: 0.0131 - val_loss: 0.0864 - val_accuracy: 0.0114\n",
      "Epoch 34/50\n",
      "235/235 [==============================] - 3s 14ms/step - loss: 0.0867 - accuracy: 0.0129 - val_loss: 0.0863 - val_accuracy: 0.0130\n",
      "Epoch 35/50\n",
      "235/235 [==============================] - 3s 14ms/step - loss: 0.0865 - accuracy: 0.0132 - val_loss: 0.0859 - val_accuracy: 0.0124\n",
      "Epoch 36/50\n",
      "235/235 [==============================] - 3s 14ms/step - loss: 0.0863 - accuracy: 0.0127 - val_loss: 0.0857 - val_accuracy: 0.0111\n",
      "Epoch 37/50\n",
      "235/235 [==============================] - 3s 14ms/step - loss: 0.0860 - accuracy: 0.0120 - val_loss: 0.0853 - val_accuracy: 0.0151\n",
      "Epoch 38/50\n",
      "235/235 [==============================] - 3s 14ms/step - loss: 0.0858 - accuracy: 0.0131 - val_loss: 0.0852 - val_accuracy: 0.0138\n",
      "Epoch 39/50\n",
      "235/235 [==============================] - 3s 14ms/step - loss: 0.0856 - accuracy: 0.0125 - val_loss: 0.0850 - val_accuracy: 0.0114\n",
      "Epoch 40/50\n",
      "235/235 [==============================] - 3s 14ms/step - loss: 0.0854 - accuracy: 0.0128 - val_loss: 0.0847 - val_accuracy: 0.0128\n",
      "Epoch 41/50\n",
      "235/235 [==============================] - 3s 14ms/step - loss: 0.0851 - accuracy: 0.0128 - val_loss: 0.0847 - val_accuracy: 0.0151\n",
      "Epoch 42/50\n",
      "235/235 [==============================] - 3s 14ms/step - loss: 0.0849 - accuracy: 0.0133 - val_loss: 0.0846 - val_accuracy: 0.0141\n",
      "Epoch 43/50\n",
      "235/235 [==============================] - 3s 14ms/step - loss: 0.0847 - accuracy: 0.0123 - val_loss: 0.0843 - val_accuracy: 0.0116\n",
      "Epoch 44/50\n",
      "235/235 [==============================] - 3s 14ms/step - loss: 0.0845 - accuracy: 0.0127 - val_loss: 0.0841 - val_accuracy: 0.0134\n",
      "Epoch 45/50\n",
      "235/235 [==============================] - 3s 14ms/step - loss: 0.0843 - accuracy: 0.0129 - val_loss: 0.0839 - val_accuracy: 0.0113\n",
      "Epoch 46/50\n",
      "235/235 [==============================] - 3s 14ms/step - loss: 0.0842 - accuracy: 0.0126 - val_loss: 0.0840 - val_accuracy: 0.0142\n",
      "Epoch 47/50\n",
      "235/235 [==============================] - 3s 14ms/step - loss: 0.0841 - accuracy: 0.0127 - val_loss: 0.0834 - val_accuracy: 0.0124\n",
      "Epoch 48/50\n",
      "235/235 [==============================] - 3s 14ms/step - loss: 0.0839 - accuracy: 0.0127 - val_loss: 0.0836 - val_accuracy: 0.0140\n",
      "Epoch 49/50\n",
      "235/235 [==============================] - 3s 14ms/step - loss: 0.0837 - accuracy: 0.0133 - val_loss: 0.0834 - val_accuracy: 0.0126\n",
      "Epoch 50/50\n",
      "235/235 [==============================] - 3s 14ms/step - loss: 0.0836 - accuracy: 0.0127 - val_loss: 0.0831 - val_accuracy: 0.0114\n"
     ]
    },
    {
     "data": {
      "text/plain": [
       "<keras.src.callbacks.History at 0x217a0b3a110>"
      ]
     },
     "execution_count": 11,
     "metadata": {},
     "output_type": "execute_result"
    }
   ],
   "source": [
    "model.compile(optimizer = 'adam', loss = 'binary_crossentropy', metrics = ['accuracy'])\n",
    "model.fit(x_train, x_train, epochs = 50, batch_size = 256, validation_data = (x_test, x_test))"
   ]
  },
  {
   "cell_type": "code",
   "execution_count": 12,
   "id": "cd284642-0824-43aa-8339-1a5a14289cb9",
   "metadata": {},
   "outputs": [],
   "source": [
    "dimensao = Input(shape = (x_train.shape[1], ))\n",
    "camada = model.layers[0]\n",
    "camada1 = model.layers[1]\n",
    "camada2 = model.layers[2]"
   ]
  },
  {
   "cell_type": "code",
   "execution_count": 14,
   "id": "0722f113-d2bd-4a9e-a12f-ebce3fa136ac",
   "metadata": {},
   "outputs": [
    {
     "name": "stdout",
     "output_type": "stream",
     "text": [
      "Model: \"model\"\n",
      "_________________________________________________________________\n",
      " Layer (type)                Output Shape              Param #   \n",
      "=================================================================\n",
      " input_1 (InputLayer)        [(None, 784)]             0         \n",
      "                                                                 \n",
      " dense_6 (Dense)             (None, 128)               100480    \n",
      "                                                                 \n",
      " dense_7 (Dense)             (None, 64)                8256      \n",
      "                                                                 \n",
      " dense_8 (Dense)             (None, 32)                2080      \n",
      "                                                                 \n",
      "=================================================================\n",
      "Total params: 110816 (432.88 KB)\n",
      "Trainable params: 110816 (432.88 KB)\n",
      "Non-trainable params: 0 (0.00 Byte)\n",
      "_________________________________________________________________\n"
     ]
    }
   ],
   "source": [
    "encoder = Model(dimensao, camada2(camada1(camada(dimensao))))\n",
    "encoder.summary()"
   ]
  },
  {
   "cell_type": "code",
   "execution_count": 15,
   "id": "dc6bbba1-1207-483f-847a-fc6526bfae33",
   "metadata": {},
   "outputs": [
    {
     "name": "stdout",
     "output_type": "stream",
     "text": [
      "313/313 [==============================] - 1s 2ms/step\n"
     ]
    }
   ],
   "source": [
    "imagens_cod = encoder.predict(x_test)"
   ]
  },
  {
   "cell_type": "code",
   "execution_count": 20,
   "id": "4b67b331-bb80-42da-a0db-9c9b7c89497e",
   "metadata": {},
   "outputs": [
    {
     "name": "stdout",
     "output_type": "stream",
     "text": [
      "313/313 [==============================] - 1s 3ms/step\n"
     ]
    }
   ],
   "source": [
    "imagens_decod = model.predict(x_test)"
   ]
  },
  {
   "cell_type": "code",
   "execution_count": 22,
   "id": "9a9a6753-e8b2-4eaa-b5e3-aa2ad403aa77",
   "metadata": {},
   "outputs": [],
   "source": [
    "imagens = 10\n",
    "imagens_test = np.random.choice(x_test.shape[0], size=imagens)"
   ]
  },
  {
   "cell_type": "code",
   "execution_count": 24,
   "id": "528c4cbc-4420-4ce8-b3ed-0c965134f847",
   "metadata": {},
   "outputs": [
    {
     "data": {
      "image/png": "[encoded data removed]",
      "text/plain": [
       "<Figure size 2800x2800 with 29 Axes>"
      ]
     },
     "metadata": {},
     "output_type": "display_data"
    }
   ],
   "source": [
    "plt.figure(figsize=(28,28))\n",
    "\n",
    "for i, indice_imagem in enumerate(imagens_test):\n",
    "    \n",
    "    # Imagens Originais\n",
    "    eixo = plt.subplot(10, 10, i + 1)\n",
    "    plt.imshow(x_test[indice_imagem].reshape(28, 28))\n",
    "    plt.xticks(())\n",
    "    plt.yticks(())\n",
    "\n",
    "    # Imagens Codificadas\n",
    "    eixo = plt.subplot(10, 10, i + imagens)\n",
    "    plt.imshow(imagens_cod[indice_imagem].reshape(8, 4))\n",
    "    plt.xticks(())\n",
    "    plt.yticks(())\n",
    "\n",
    "    # Imagens decodificadas\n",
    "    eixo = plt.subplot(10, 10, i + 1 + imagens * 2)\n",
    "    plt.imshow(imagens_decod[indice_imagem].reshape(28, 28))\n",
    "    plt.xticks(())\n",
    "    plt.yticks(())"
   ]
  }
 ],
 "metadata": {
  "kernelspec": {
   "display_name": "Python 3 (ipykernel)",
   "language": "python",
   "name": "python3"
  },
  "language_info": {
   "codemirror_mode": {
    "name": "ipython",
    "version": 3
   },
   "file_extension": ".py",
   "mimetype": "text/x-python",
   "name": "python",
   "nbconvert_exporter": "python",
   "pygments_lexer": "ipython3",
   "version": "3.11.6"
  }
 },
 "nbformat": 4,
 "nbformat_minor": 5
}

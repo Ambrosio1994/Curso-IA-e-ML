{
 "cells": [
  {
   "cell_type": "code",
   "execution_count": 1,
   "id": "f75f0dc9-8b8e-470b-babd-74170fe2d629",
   "metadata": {},
   "outputs": [
    {
     "name": "stdout",
     "output_type": "stream",
     "text": [
      "Collecting pysummarization\n",
      "  Downloading pysummarization-1.1.9.tar.gz (64 kB)\n",
      "     ---------------------------------------- 0.0/64.2 kB ? eta -:--:--\n",
      "     ------ --------------------------------- 10.2/64.2 kB ? eta -:--:--\n",
      "     ------ --------------------------------- 10.2/64.2 kB ? eta -:--:--\n",
      "     ------------ -------------------------- 20.5/64.2 kB 93.9 kB/s eta 0:00:01\n",
      "     ------------ -------------------------- 20.5/64.2 kB 93.9 kB/s eta 0:00:01\n",
      "     ------------------------ ------------- 41.0/64.2 kB 151.3 kB/s eta 0:00:01\n",
      "     ------------------------------------ - 61.4/64.2 kB 204.8 kB/s eta 0:00:01\n",
      "     -------------------------------------- 64.2/64.2 kB 203.6 kB/s eta 0:00:00\n",
      "  Preparing metadata (setup.py): started\n",
      "  Preparing metadata (setup.py): finished with status 'done'\n",
      "Requirement already satisfied: numpy in c:\\users\\diham\\appdata\\local\\programs\\python\\python311\\lib\\site-packages (from pysummarization) (1.26.1)\n",
      "Requirement already satisfied: nltk in c:\\users\\diham\\appdata\\local\\programs\\python\\python311\\lib\\site-packages (from pysummarization) (3.8.1)\n",
      "Requirement already satisfied: click in c:\\users\\diham\\appdata\\local\\programs\\python\\python311\\lib\\site-packages (from nltk->pysummarization) (8.1.7)\n",
      "Requirement already satisfied: joblib in c:\\users\\diham\\appdata\\local\\programs\\python\\python311\\lib\\site-packages (from nltk->pysummarization) (1.3.2)\n",
      "Requirement already satisfied: regex>=2021.8.3 in c:\\users\\diham\\appdata\\local\\programs\\python\\python311\\lib\\site-packages (from nltk->pysummarization) (2023.10.3)\n",
      "Requirement already satisfied: tqdm in c:\\users\\diham\\appdata\\local\\programs\\python\\python311\\lib\\site-packages (from nltk->pysummarization) (4.66.1)\n",
      "Requirement already satisfied: colorama in c:\\users\\diham\\appdata\\local\\programs\\python\\python311\\lib\\site-packages (from click->nltk->pysummarization) (0.4.6)\n",
      "Building wheels for collected packages: pysummarization\n",
      "  Building wheel for pysummarization (setup.py): started\n",
      "  Building wheel for pysummarization (setup.py): finished with status 'done'\n",
      "  Created wheel for pysummarization: filename=pysummarization-1.1.9-py3-none-any.whl size=82432 sha256=e2803f266702f3ba389caca2cad5030e0bb99eae26e0016e12dbf986df408060\n",
      "  Stored in directory: c:\\users\\diham\\appdata\\local\\pip\\cache\\wheels\\ef\\07\\c3\\a73ce2ac3ac2567a88051eec801d9d5ec8d12320d4897a88cc\n",
      "Successfully built pysummarization\n",
      "Installing collected packages: pysummarization\n",
      "Successfully installed pysummarization-1.1.9\n"
     ]
    }
   ],
   "source": [
    "!pip install pysummarization"
   ]
  },
  {
   "cell_type": "code",
   "execution_count": 5,
   "id": "8f729e6a-d482-4333-9965-707221154dda",
   "metadata": {},
   "outputs": [],
   "source": [
    "from pysummarization.nlpbase.auto_abstractor import AutoAbstractor\n",
    "from pysummarization.tokenizabledoc.simple_tokenizer import SimpleTokenizer\n",
    "from pysummarization.abstractabledoc.top_n_rank_abstractor import TopNRankAbstractor\n",
    "from goose3 import Goose"
   ]
  },
  {
   "cell_type": "code",
   "execution_count": 7,
   "id": "28a1d626-fda9-4380-aaa3-93b6945a8a27",
   "metadata": {},
   "outputs": [],
   "source": [
    "g = Goose()\n",
    "url = 'https://en.wikipedia.org/wiki/Artificial_intelligence'\n",
    "artigo_ingles = g.extract(url)"
   ]
  },
  {
   "cell_type": "code",
   "execution_count": 12,
   "id": "9691a576-88ea-4527-9fb2-f0a5d85a8877",
   "metadata": {},
   "outputs": [],
   "source": [
    "auto_abstractor = AutoAbstractor()\n",
    "auto_abstractor.tokenizable_doc = SimpleTokenizer()\n",
    "auto_abstractor.delimiter_list = [\".\", \"\\n\"]\n",
    "abstractable_doc = TopNRankAbstractor()\n",
    "resumo = auto_abstractor.summarize(artigo_ingles.cleaned_text, abstractable_doc)"
   ]
  },
  {
   "cell_type": "code",
   "execution_count": 14,
   "id": "c4cebd40-cad8-45ae-a3b3-fc1e2c041896",
   "metadata": {},
   "outputs": [
    {
     "name": "stdout",
     "output_type": "stream",
     "text": [
      "Artificial intelligence (AI) is the intelligence of machines or software, as opposed to the intelligence of humans or animals.\n",
      "\n",
      " It is also the field of study in computer science that develops and studies intelligent machines.\n",
      "\n",
      " \"AI\" may also refer to the machines themselves.\n",
      "\n",
      "AI technology is widely used throughout industry, government and science.\n",
      "\n",
      " Some high-profile applications are: advanced web search engines (e.\n",
      "\n",
      ", Google Search), recommendation systems (used by YouTube, Amazon, and Netflix), understanding human speech (such as Siri and Alexa), self-driving cars (e.\n",
      "\n",
      ", Waymo), generative or creative tools (ChatGPT and AI art), and competing at the highest level in strategic games (such as chess and Go).\n",
      "\n",
      "Artificial intelligence was founded as an academic discipline in 1956.\n",
      "\n",
      "[2] The field went through multiple cycles of optimism[3][4] followed by disappointment and loss of funding,[5][6] but after 2012, when deep learning surpassed all previous AI techniques,[7] there was a vast increase in funding and interest.\n",
      "\n",
      " The field of machine ethics is also called computational morality, and was founded at an AAAI symposium in 2005.\n",
      "\n"
     ]
    }
   ],
   "source": [
    "for sentença in resumo['summarize_result']:\n",
    "    print(sentença)    "
   ]
  }
 ],
 "metadata": {
  "kernelspec": {
   "display_name": "Python 3 (ipykernel)",
   "language": "python",
   "name": "python3"
  },
  "language_info": {
   "codemirror_mode": {
    "name": "ipython",
    "version": 3
   },
   "file_extension": ".py",
   "mimetype": "text/x-python",
   "name": "python",
   "nbconvert_exporter": "python",
   "pygments_lexer": "ipython3",
   "version": "3.11.6"
  }
 },
 "nbformat": 4,
 "nbformat_minor": 5
}

{
 "cells": [
  {
   "cell_type": "code",
   "execution_count": 71,
   "id": "f47d561e-c701-4b3c-842a-b23ed9cfb6fd",
   "metadata": {},
   "outputs": [
    {
     "name": "stderr",
     "output_type": "stream",
     "text": [
      "[nltk_data] Downloading package stopwords to\n",
      "[nltk_data]     C:\\Users\\diham\\AppData\\Roaming\\nltk_data...\n",
      "[nltk_data]   Package stopwords is already up-to-date!\n",
      "[nltk_data] Downloading package rslp to\n",
      "[nltk_data]     C:\\Users\\diham\\AppData\\Roaming\\nltk_data...\n",
      "[nltk_data]   Package rslp is already up-to-date!\n",
      "[nltk_data] Downloading package punkt to\n",
      "[nltk_data]     C:\\Users\\diham\\AppData\\Roaming\\nltk_data...\n",
      "[nltk_data]   Package punkt is already up-to-date!\n"
     ]
    },
    {
     "data": {
      "text/plain": [
       "True"
      ]
     },
     "execution_count": 71,
     "metadata": {},
     "output_type": "execute_result"
    }
   ],
   "source": [
    "import re\n",
    "import nltk\n",
    "import string\n",
    "import heapq\n",
    "\n",
    "nltk.download('stopwords')\n",
    "nltk.download('rslp')\n",
    "nltk.download('punkt')"
   ]
  },
  {
   "cell_type": "code",
   "execution_count": 93,
   "id": "8d841b95-486a-4be1-9857-ddb656f8d4b4",
   "metadata": {},
   "outputs": [],
   "source": [
    "texto_original = \"\"\"A inteligência artificial é a inteligência similar à humana. \n",
    "                    Definem como o estudo de agente artificial com inteligência. \n",
    "                    Ciência e engenharia de produzir máquinas com inteligência. \n",
    "                    Resolver problemas e possuir inteligência. \n",
    "                    Relacionada ao comportamento inteligente. \n",
    "                    Construção de máquinas para raciocinar. \n",
    "                    Aprender com os erros e acertos. \n",
    "                    Inteligência artificial é raciocinar nas situações do cotidiano.\"\"\""
   ]
  },
  {
   "cell_type": "code",
   "execution_count": 15,
   "id": "e2f9fd3f-d043-4266-9acb-1bdf940dde04",
   "metadata": {},
   "outputs": [
    {
     "data": {
      "text/plain": [
       "'A inteligência artificial é a inteligência similar à humana. Definem como o estudo de agente artificial com inteligência. Ciência e engenharia de produzir máquinas com inteligência. Resolver problemas e possuir inteligência. Relacionada ao comportamento inteligente. Construção de máquinas para raciocinar. Aprender com os erros e acertos. Inteligência artificial é raciocinar nas situações do cotidiano.'"
      ]
     },
     "execution_count": 15,
     "metadata": {},
     "output_type": "execute_result"
    }
   ],
   "source": [
    "texto_original = re.sub(r'\\s+', ' ', texto_original)\n",
    "texto_original"
   ]
  },
  {
   "cell_type": "code",
   "execution_count": 49,
   "id": "bdcbd0b6-b958-43b5-9b10-8cb1b0c1caf1",
   "metadata": {},
   "outputs": [],
   "source": [
    "def pre_processamento(texto):\n",
    "    texto_formatado = texto.lower()\n",
    "    tokens = []\n",
    "    for token in nltk.word_tokenize(texto_formatado):\n",
    "        tokens.append(token)\n",
    "    stop_words = nltk.corpus.stopwords.words('portuguese')\n",
    "    tokens = [palavra for palavra in tokens if palavra not in stop_words and palavra not in string.punctuation] \n",
    "    texto_formatado = \" \".join([str(elemento) for elemento in tokens])\n",
    "    return texto_formatado"
   ]
  },
  {
   "cell_type": "code",
   "execution_count": 50,
   "id": "252f85d8-946b-4a95-90ab-b6eec05b1bfc",
   "metadata": {},
   "outputs": [
    {
     "data": {
      "text/plain": [
       "'inteligência artificial inteligência similar humana definem estudo agente artificial inteligência ciência engenharia produzir máquinas inteligência resolver problemas possuir inteligência relacionada comportamento inteligente construção máquinas raciocinar aprender erros acertos inteligência artificial raciocinar situações cotidiano'"
      ]
     },
     "execution_count": 50,
     "metadata": {},
     "output_type": "execute_result"
    }
   ],
   "source": [
    "texto_formatado = pre_processamento(texto_original)\n",
    "texto_formatado"
   ]
  },
  {
   "cell_type": "code",
   "execution_count": 51,
   "id": "8b0de3d0-80d7-4bbb-9f51-f3a091e9b9dc",
   "metadata": {},
   "outputs": [
    {
     "data": {
      "text/plain": [
       "FreqDist({'inteligência': 6, 'artificial': 3, 'máquinas': 2, 'raciocinar': 2, 'similar': 1, 'humana': 1, 'definem': 1, 'estudo': 1, 'agente': 1, 'ciência': 1, ...})"
      ]
     },
     "execution_count": 51,
     "metadata": {},
     "output_type": "execute_result"
    }
   ],
   "source": [
    "frequencia = nltk.FreqDist(nltk.word_tokenize(texto_formatado))\n",
    "frequencia"
   ]
  },
  {
   "cell_type": "code",
   "execution_count": 55,
   "id": "027ef04f-733d-44c8-9e7f-1d9434da83d0",
   "metadata": {},
   "outputs": [
    {
     "data": {
      "text/plain": [
       "dict_keys(['inteligência', 'artificial', 'similar', 'humana', 'definem', 'estudo', 'agente', 'ciência', 'engenharia', 'produzir', 'máquinas', 'resolver', 'problemas', 'possuir', 'relacionada', 'comportamento', 'inteligente', 'construção', 'raciocinar', 'aprender', 'erros', 'acertos', 'situações', 'cotidiano'])"
      ]
     },
     "execution_count": 55,
     "metadata": {},
     "output_type": "execute_result"
    }
   ],
   "source": [
    "frequencia.keys()"
   ]
  },
  {
   "cell_type": "code",
   "execution_count": 57,
   "id": "b3b1ea9e-4ad2-4649-a824-3edaea3202e5",
   "metadata": {},
   "outputs": [
    {
     "data": {
      "text/plain": [
       "6"
      ]
     },
     "execution_count": 57,
     "metadata": {},
     "output_type": "execute_result"
    }
   ],
   "source": [
    "frequencia_maxima = max(frequencia.values())\n",
    "frequencia_maxima"
   ]
  },
  {
   "cell_type": "code",
   "execution_count": 58,
   "id": "8e5a08d8-cd85-492d-9578-d7fc77fd7882",
   "metadata": {},
   "outputs": [],
   "source": [
    "for palavra in frequencia.keys():\n",
    "    frequencia[palavra] = frequencia[palavra] / frequencia_maxima"
   ]
  },
  {
   "cell_type": "code",
   "execution_count": 59,
   "id": "07b3506d-4e9a-4b6b-afe5-87898354f9e6",
   "metadata": {},
   "outputs": [
    {
     "data": {
      "text/plain": [
       "FreqDist({'inteligência': 1.0, 'artificial': 0.5, 'máquinas': 0.3333333333333333, 'raciocinar': 0.3333333333333333, 'similar': 0.16666666666666666, 'humana': 0.16666666666666666, 'definem': 0.16666666666666666, 'estudo': 0.16666666666666666, 'agente': 0.16666666666666666, 'ciência': 0.16666666666666666, ...})"
      ]
     },
     "execution_count": 59,
     "metadata": {},
     "output_type": "execute_result"
    }
   ],
   "source": [
    "frequencia"
   ]
  },
  {
   "cell_type": "code",
   "execution_count": 60,
   "id": "b0811f48-c181-4b03-821e-1f13126c07d3",
   "metadata": {},
   "outputs": [
    {
     "data": {
      "text/plain": [
       "['A inteligência artificial é a inteligência similar à humana.',\n",
       " 'Definem como o estudo de agente artificial com inteligência.',\n",
       " 'Ciência e engenharia de produzir máquinas com inteligência.',\n",
       " 'Resolver problemas e possuir inteligência.',\n",
       " 'Relacionada ao comportamento inteligente.',\n",
       " 'Construção de máquinas para raciocinar.',\n",
       " 'Aprender com os erros e acertos.',\n",
       " 'Inteligência artificial é raciocinar nas situações do cotidiano.']"
      ]
     },
     "execution_count": 60,
     "metadata": {},
     "output_type": "execute_result"
    }
   ],
   "source": [
    "lista_sent = nltk.sent_tokenize(texto_original)\n",
    "lista_sent"
   ]
  },
  {
   "cell_type": "code",
   "execution_count": 64,
   "id": "0c0fff5b-eaef-4176-9afd-9d32ccc9d5e5",
   "metadata": {},
   "outputs": [],
   "source": [
    "notas_sent = {}\n",
    "for sent in lista_sent:\n",
    "    for palavra in nltk.word_tokenize(sent.lower()):\n",
    "        if palavra in frequencia.keys():\n",
    "            if sent not in notas_sent.keys():\n",
    "                notas_sent[sent] = frequencia[palavra]\n",
    "            else:\n",
    "                notas_sent[sent] += frequencia[palavra]"
   ]
  },
  {
   "cell_type": "code",
   "execution_count": 65,
   "id": "612e0737-3129-4840-93d1-639a9783e697",
   "metadata": {},
   "outputs": [
    {
     "data": {
      "text/plain": [
       "{'A inteligência artificial é a inteligência similar à humana.': 2.833333333333333,\n",
       " 'Definem como o estudo de agente artificial com inteligência.': 2.0,\n",
       " 'Ciência e engenharia de produzir máquinas com inteligência.': 1.8333333333333333,\n",
       " 'Resolver problemas e possuir inteligência.': 1.5,\n",
       " 'Relacionada ao comportamento inteligente.': 0.5,\n",
       " 'Construção de máquinas para raciocinar.': 0.8333333333333333,\n",
       " 'Aprender com os erros e acertos.': 0.5,\n",
       " 'Inteligência artificial é raciocinar nas situações do cotidiano.': 2.1666666666666665}"
      ]
     },
     "execution_count": 65,
     "metadata": {},
     "output_type": "execute_result"
    }
   ],
   "source": [
    "notas_sent"
   ]
  },
  {
   "cell_type": "code",
   "execution_count": 69,
   "id": "4f22a680-1ed4-4269-bcaa-1bdc2b3aaee1",
   "metadata": {},
   "outputs": [
    {
     "data": {
      "text/plain": [
       "['A inteligência artificial é a inteligência similar à humana.',\n",
       " 'Inteligência artificial é raciocinar nas situações do cotidiano.',\n",
       " 'Definem como o estudo de agente artificial com inteligência.']"
      ]
     },
     "execution_count": 69,
     "metadata": {},
     "output_type": "execute_result"
    }
   ],
   "source": [
    "melhores_sent = heapq.nlargest(3, notas_sent, key=notas_sent.get)\n",
    "melhores_sent"
   ]
  },
  {
   "cell_type": "code",
   "execution_count": 70,
   "id": "b10834a8-de2c-4383-8761-b66723a93364",
   "metadata": {},
   "outputs": [
    {
     "data": {
      "text/plain": [
       "'A inteligência artificial é a inteligência similar à humana. Inteligência artificial é raciocinar nas situações do cotidiano. Definem como o estudo de agente artificial com inteligência.'"
      ]
     },
     "execution_count": 70,
     "metadata": {},
     "output_type": "execute_result"
    }
   ],
   "source": [
    "resumo = ' '.join(melhores_sent)\n",
    "resumo"
   ]
  },
  {
   "cell_type": "code",
   "execution_count": 72,
   "id": "484915d8-1c31-4a37-be0e-916c42a89d1c",
   "metadata": {},
   "outputs": [],
   "source": [
    "from IPython.core.display import HTML"
   ]
  },
  {
   "cell_type": "code",
   "execution_count": 80,
   "id": "8984779f-132f-49b1-b446-3fd0e0cef83e",
   "metadata": {
    "scrolled": true
   },
   "outputs": [
    {
     "data": {
      "text/html": [
       "<h1>Resumo do Texto</h1>"
      ],
      "text/plain": [
       "<IPython.core.display.HTML object>"
      ]
     },
     "metadata": {},
     "output_type": "display_data"
    },
    {
     "data": {
      "text/html": [
       "<mark>A inteligência artificial é a inteligência similar à humana.</mark><mark>Definem como o estudo de agente artificial com inteligência.</mark>Ciência e engenharia de produzir máquinas com inteligência.Resolver problemas e possuir inteligência.Relacionada ao comportamento inteligente.Construção de máquinas para raciocinar.Aprender com os erros e acertos.<mark>Inteligência artificial é raciocinar nas situações do cotidiano.</mark>"
      ],
      "text/plain": [
       "<IPython.core.display.HTML object>"
      ]
     },
     "metadata": {},
     "output_type": "display_data"
    }
   ],
   "source": [
    "texto = ''\n",
    "display(HTML(f'<h1>Resumo do Texto</h1>'))\n",
    "\n",
    "for sent in lista_sent:\n",
    "    if sent in melhores_sent:\n",
    "        texto += str(sent).replace(sent, f\"<mark>{sent}</mark>\")\n",
    "    else:\n",
    "        texto += sent\n",
    "display(HTML(f\"\"\"{texto}\"\"\"))"
   ]
  }
 ],
 "metadata": {
  "kernelspec": {
   "display_name": "Python 3 (ipykernel)",
   "language": "python",
   "name": "python3"
  },
  "language_info": {
   "codemirror_mode": {
    "name": "ipython",
    "version": 3
   },
   "file_extension": ".py",
   "mimetype": "text/x-python",
   "name": "python",
   "nbconvert_exporter": "python",
   "pygments_lexer": "ipython3",
   "version": "3.11.6"
  }
 },
 "nbformat": 4,
 "nbformat_minor": 5
}

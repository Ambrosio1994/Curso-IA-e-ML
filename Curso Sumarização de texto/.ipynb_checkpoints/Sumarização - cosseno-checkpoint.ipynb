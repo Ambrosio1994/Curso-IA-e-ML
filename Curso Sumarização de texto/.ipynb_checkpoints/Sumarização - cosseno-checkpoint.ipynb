{
 "cells": [
  {
   "cell_type": "code",
   "execution_count": 1,
   "id": "018b4e7a-f1bf-4e79-8d19-347e8d25231a",
   "metadata": {},
   "outputs": [],
   "source": [
    "import re\n",
    "import nltk\n",
    "import string\n",
    "from nltk.cluster.util import cosine_distance\n",
    "import networkx as nx"
   ]
  },
  {
   "cell_type": "code",
   "execution_count": 2,
   "id": "a2401f8b-1a71-4b36-b54f-3dc1b70f9678",
   "metadata": {},
   "outputs": [
    {
     "name": "stderr",
     "output_type": "stream",
     "text": [
      "[nltk_data] Downloading package punkt to\n",
      "[nltk_data]     C:\\Users\\diham\\AppData\\Roaming\\nltk_data...\n",
      "[nltk_data]   Package punkt is already up-to-date!\n",
      "[nltk_data] Downloading package stopwords to\n",
      "[nltk_data]     C:\\Users\\diham\\AppData\\Roaming\\nltk_data...\n",
      "[nltk_data]   Package stopwords is already up-to-date!\n"
     ]
    },
    {
     "data": {
      "text/plain": [
       "True"
      ]
     },
     "execution_count": 2,
     "metadata": {},
     "output_type": "execute_result"
    }
   ],
   "source": [
    "nltk.download('punkt')\n",
    "nltk.download('stopwords')"
   ]
  },
  {
   "cell_type": "code",
   "execution_count": 3,
   "id": "a5f71044-000a-4d4b-bded-a0197c60530b",
   "metadata": {},
   "outputs": [],
   "source": [
    "stop_words = nltk.corpus.stopwords.words('portuguese')"
   ]
  },
  {
   "cell_type": "code",
   "execution_count": 4,
   "id": "609e2e45-33a9-44cf-9fd2-1498c7207fa6",
   "metadata": {},
   "outputs": [],
   "source": [
    "def preprocessamento(texto):\n",
    "  texto_formatado = texto.lower()\n",
    "  tokens = []\n",
    "  for token in nltk.word_tokenize(texto_formatado):\n",
    "    tokens.append(token)\n",
    "\n",
    "  tokens = [palavra for palavra in tokens if palavra not in stop_words and palavra not in string.punctuation]\n",
    "  texto_formatado = ' '.join([str(elemento) for elemento in tokens if not elemento.isdigit()])\n",
    "\n",
    "  return texto_formatado"
   ]
  },
  {
   "cell_type": "code",
   "execution_count": 6,
   "id": "5f6dc788-670d-4209-b0c5-bf05400e38bf",
   "metadata": {},
   "outputs": [],
   "source": [
    "texto_original = \"\"\"A inteligência artificial é a inteligência similar à humana máquinas. \n",
    "                    Definem como o estudo de agente artificial com inteligência. \n",
    "                    Ciência e engenharia de produzir máquinas com inteligência. \n",
    "                    Resolver problemas e possuir inteligência. \n",
    "                    Relacionada ao comportamento inteligente. \n",
    "                    Construção de máquinas para raciocinar. \n",
    "                    Aprender com os erros e acertos. \n",
    "                    Inteligência artificial é raciocinar nas situações do cotidiano.\"\"\""
   ]
  },
  {
   "cell_type": "code",
   "execution_count": 8,
   "id": "e062949b-3382-4357-b4c3-c57b9c4ee9e1",
   "metadata": {},
   "outputs": [],
   "source": [
    "sent_originais = [sent for sent in nltk.sent_tokenize(texto_original)]\n",
    "sent_formatada = [preprocessamento(sent_original) for sent_original in sent_originais]"
   ]
  },
  {
   "cell_type": "code",
   "execution_count": 9,
   "id": "06f783dc-ba67-4bf9-928a-33f671c6e8e5",
   "metadata": {},
   "outputs": [
    {
     "data": {
      "text/plain": [
       "['A inteligência artificial é a inteligência similar à humana máquinas.',\n",
       " 'Definem como o estudo de agente artificial com inteligência.',\n",
       " 'Ciência e engenharia de produzir máquinas com inteligência.',\n",
       " 'Resolver problemas e possuir inteligência.',\n",
       " 'Relacionada ao comportamento inteligente.',\n",
       " 'Construção de máquinas para raciocinar.',\n",
       " 'Aprender com os erros e acertos.',\n",
       " 'Inteligência artificial é raciocinar nas situações do cotidiano.']"
      ]
     },
     "execution_count": 9,
     "metadata": {},
     "output_type": "execute_result"
    }
   ],
   "source": [
    "sent_originais"
   ]
  },
  {
   "cell_type": "code",
   "execution_count": 10,
   "id": "43eddbd8-c4ca-4fbe-8f79-30f52e2d9c5b",
   "metadata": {},
   "outputs": [
    {
     "data": {
      "text/plain": [
       "['inteligência artificial inteligência similar humana máquinas',\n",
       " 'definem estudo agente artificial inteligência',\n",
       " 'ciência engenharia produzir máquinas inteligência',\n",
       " 'resolver problemas possuir inteligência',\n",
       " 'relacionada comportamento inteligente',\n",
       " 'construção máquinas raciocinar',\n",
       " 'aprender erros acertos',\n",
       " 'inteligência artificial raciocinar situações cotidiano']"
      ]
     },
     "execution_count": 10,
     "metadata": {},
     "output_type": "execute_result"
    }
   ],
   "source": [
    "sent_formatada"
   ]
  },
  {
   "cell_type": "code",
   "execution_count": 27,
   "id": "25799f6b-0ee6-4989-ace7-7de96859d021",
   "metadata": {},
   "outputs": [],
   "source": [
    "def calcula_similaridade_sentencas(sentenca1, sentenca2):\n",
    "    from collections import Counter\n",
    "    from scipy.spatial.distance import cosine\n",
    "    \n",
    "    palavras1 = nltk.word_tokenize(sentenca1)\n",
    "    palavras2 = nltk.word_tokenize(sentenca2)\n",
    "\n",
    "    todas_palavras = set(palavras1) | set(palavras2)\n",
    "\n",
    "    contador1 = Counter(palavras1)\n",
    "    contador2 = Counter(palavras2)\n",
    "\n",
    "    vetor1 = [contador1[palavra] for palavra in todas_palavras]\n",
    "    vetor2 = [contador2[palavra] for palavra in todas_palavras]\n",
    "\n",
    "    return 1 - cosine(vetor1, vetor2)"
   ]
  },
  {
   "cell_type": "code",
   "execution_count": 34,
   "id": "2101f583-ec17-4373-b02e-3bf03b224f09",
   "metadata": {},
   "outputs": [
    {
     "data": {
      "text/plain": [
       "0.4743416490252569"
      ]
     },
     "execution_count": 34,
     "metadata": {},
     "output_type": "execute_result"
    }
   ],
   "source": [
    "calcula_similaridade_sentencas(sent_formatada[0], sent_formatada[1])"
   ]
  },
  {
   "cell_type": "code",
   "execution_count": 41,
   "id": "d2883ff4-9a49-4bf9-a272-3de241521d1a",
   "metadata": {},
   "outputs": [],
   "source": [
    "import numpy as np\n",
    "\n",
    "def calcula_matriz_similaridade(sentencas):\n",
    "    num_sentencas = len(sentencas)\n",
    "    matriz_similaridade = np.zeros((num_sentencas, num_sentencas))\n",
    "\n",
    "    for i in range(num_sentencas):\n",
    "        for j in range(i + 1, num_sentencas):\n",
    "            matriz_similaridade[i][j] = calcula_similaridade_sentencas(sentencas[i], sentencas[j])\n",
    "            matriz_similaridade[j][i] = matriz_similaridade[i][j]\n",
    "\n",
    "    return matriz_similaridade"
   ]
  },
  {
   "cell_type": "code",
   "execution_count": 42,
   "id": "1df5086a-4322-4f67-917d-054e0423cd42",
   "metadata": {},
   "outputs": [
    {
     "data": {
      "text/plain": [
       "array([[0.        , 0.47434165, 0.47434165, 0.35355339, 0.        ,\n",
       "        0.20412415, 0.        , 0.47434165],\n",
       "       [0.47434165, 0.        , 0.2       , 0.2236068 , 0.        ,\n",
       "        0.        , 0.        , 0.4       ],\n",
       "       [0.47434165, 0.2       , 0.        , 0.2236068 , 0.        ,\n",
       "        0.25819889, 0.        , 0.2       ],\n",
       "       [0.35355339, 0.2236068 , 0.2236068 , 0.        , 0.        ,\n",
       "        0.        , 0.        , 0.2236068 ],\n",
       "       [0.        , 0.        , 0.        , 0.        , 0.        ,\n",
       "        0.        , 0.        , 0.        ],\n",
       "       [0.20412415, 0.        , 0.25819889, 0.        , 0.        ,\n",
       "        0.        , 0.        , 0.25819889],\n",
       "       [0.        , 0.        , 0.        , 0.        , 0.        ,\n",
       "        0.        , 0.        , 0.        ],\n",
       "       [0.47434165, 0.4       , 0.2       , 0.2236068 , 0.        ,\n",
       "        0.25819889, 0.        , 0.        ]])"
      ]
     },
     "execution_count": 42,
     "metadata": {},
     "output_type": "execute_result"
    }
   ],
   "source": [
    "calcula_matriz_similaridade(sent_formatada)"
   ]
  },
  {
   "cell_type": "code",
   "execution_count": 43,
   "id": "6b46aca3-c4db-4e94-baaf-1459244938f4",
   "metadata": {},
   "outputs": [],
   "source": [
    "def sumarizar(texto, quantidade_sentencas):\n",
    "    sentencas_originais = nltk.sent_tokenize(texto)\n",
    "    sentencas_formatadas = [preprocessamento(sentenca_original) for sentenca_original in sentencas_originais]\n",
    "    \n",
    "    matriz_similaridade = calcula_matriz_similaridade(sentencas_formatadas)\n",
    "    grafo_similaridade = nx.from_numpy_array(matriz_similaridade)\n",
    "    \n",
    "    notas = nx.pagerank(grafo_similaridade)\n",
    "    notas_ordenadas = sorted(((notas[i], nota) for i, nota in enumerate(sentencas_originais)), reverse=True)\n",
    "    \n",
    "    melhores_sentencas = [nota for (_, nota) in notas_ordenadas[:quantidade_sentencas]]\n",
    "  \n",
    "    return sentencas_originais, melhores_sentencas, notas_ordenadas"
   ]
  },
  {
   "cell_type": "code",
   "execution_count": 44,
   "id": "209a6351-a1e8-404e-8173-836bd6c19421",
   "metadata": {},
   "outputs": [],
   "source": [
    "sentencas_originais, melhores_sentencas, notas_sentencas = sumarizar(texto_original, 3)"
   ]
  },
  {
   "cell_type": "code",
   "execution_count": 45,
   "id": "4d6865db-a033-4a01-b937-91eec9f88e03",
   "metadata": {},
   "outputs": [
    {
     "data": {
      "text/plain": [
       "['A inteligência artificial é a inteligência similar à humana máquinas.',\n",
       " 'Definem como o estudo de agente artificial com inteligência.',\n",
       " 'Ciência e engenharia de produzir máquinas com inteligência.',\n",
       " 'Resolver problemas e possuir inteligência.',\n",
       " 'Relacionada ao comportamento inteligente.',\n",
       " 'Construção de máquinas para raciocinar.',\n",
       " 'Aprender com os erros e acertos.',\n",
       " 'Inteligência artificial é raciocinar nas situações do cotidiano.']"
      ]
     },
     "execution_count": 45,
     "metadata": {},
     "output_type": "execute_result"
    }
   ],
   "source": [
    "sentencas_originais"
   ]
  },
  {
   "cell_type": "code",
   "execution_count": 48,
   "id": "31a112be-db1f-444a-95b2-ff916f63ba7e",
   "metadata": {},
   "outputs": [
    {
     "data": {
      "text/plain": [
       "['A inteligência artificial é a inteligência similar à humana máquinas.',\n",
       " 'Inteligência artificial é raciocinar nas situações do cotidiano.',\n",
       " 'Ciência e engenharia de produzir máquinas com inteligência.']"
      ]
     },
     "execution_count": 48,
     "metadata": {},
     "output_type": "execute_result"
    }
   ],
   "source": [
    "melhores_sentencas"
   ]
  },
  {
   "cell_type": "code",
   "execution_count": 49,
   "id": "eae1bae8-1057-4426-8a79-8e43eb241c04",
   "metadata": {},
   "outputs": [
    {
     "data": {
      "text/plain": [
       "[(0.2282092404017801,\n",
       "  'A inteligência artificial é a inteligência similar à humana máquinas.'),\n",
       " (0.1839190802151221,\n",
       "  'Inteligência artificial é raciocinar nas situações do cotidiano.'),\n",
       " (0.16331914507834966,\n",
       "  'Ciência e engenharia de produzir máquinas com inteligência.'),\n",
       " (0.15437170333277767,\n",
       "  'Definem como o estudo de agente artificial com inteligência.'),\n",
       " (0.12639273963873288, 'Resolver problemas e possuir inteligência.'),\n",
       " (0.09616903563964786, 'Construção de máquinas para raciocinar.'),\n",
       " (0.023809527846794958, 'Relacionada ao comportamento inteligente.'),\n",
       " (0.023809527846794958, 'Aprender com os erros e acertos.')]"
      ]
     },
     "execution_count": 49,
     "metadata": {},
     "output_type": "execute_result"
    }
   ],
   "source": [
    "notas_sentencas"
   ]
  },
  {
   "cell_type": "code",
   "execution_count": 52,
   "id": "4f9b4d9e-9a47-4e47-8795-f3b2c6d1c716",
   "metadata": {},
   "outputs": [],
   "source": [
    "def visualiza_resumo(titulo, lista_sentencas, melhores_sentencas):\n",
    "  from IPython.core.display import HTML\n",
    "  texto = ''\n",
    "\n",
    "  display(HTML(f'<h1>Resumo do texto - {titulo}</h1>'))\n",
    "  for i in lista_sentencas:\n",
    "    if i in melhores_sentencas:\n",
    "      texto += str(i).replace(i, f\"<mark>{i}</mark>\")\n",
    "    else:\n",
    "      texto += i\n",
    "  display(HTML(f\"\"\" {texto} \"\"\"))"
   ]
  },
  {
   "cell_type": "code",
   "execution_count": 53,
   "id": "a8feb816-f4bc-4992-8a47-87db0be8ae56",
   "metadata": {},
   "outputs": [
    {
     "data": {
      "text/html": [
       "<h1>Resumo do texto - Teste</h1>"
      ],
      "text/plain": [
       "<IPython.core.display.HTML object>"
      ]
     },
     "metadata": {},
     "output_type": "display_data"
    },
    {
     "data": {
      "text/html": [
       " <mark>A inteligência artificial é a inteligência similar à humana máquinas.</mark>Definem como o estudo de agente artificial com inteligência.<mark>Ciência e engenharia de produzir máquinas com inteligência.</mark>Resolver problemas e possuir inteligência.Relacionada ao comportamento inteligente.Construção de máquinas para raciocinar.Aprender com os erros e acertos.<mark>Inteligência artificial é raciocinar nas situações do cotidiano.</mark> "
      ],
      "text/plain": [
       "<IPython.core.display.HTML object>"
      ]
     },
     "metadata": {},
     "output_type": "display_data"
    }
   ],
   "source": [
    "visualiza_resumo('Teste', sentencas_originais, melhores_sentencas)"
   ]
  },
  {
   "cell_type": "code",
   "execution_count": 55,
   "id": "84529d1b-282d-4236-b081-061e49164682",
   "metadata": {},
   "outputs": [],
   "source": [
    "from goose3 import Goose\n",
    "g = Goose()\n",
    "url = 'https://iaexpert.academy/2020/11/09/ia-preve-resultado-das-eleicoes-americanas/'\n",
    "artigo = g.extract(url)"
   ]
  },
  {
   "cell_type": "code",
   "execution_count": 60,
   "id": "62223c72-762d-4382-9e02-5be427d26357",
   "metadata": {},
   "outputs": [],
   "source": [
    "sentencas_originais, melhores_sentencas, notas_sentencas = sumarizar(artigo.cleaned_text, 5)"
   ]
  },
  {
   "cell_type": "code",
   "execution_count": 61,
   "id": "69f237fb-738c-4ae3-b22d-2e15ec7d1c8e",
   "metadata": {},
   "outputs": [
    {
     "data": {
      "text/plain": [
       "['Nas eleições presidenciais americanas de 2016, a maioria das predições apontavam para a vitória de Hillary Clinton.',\n",
       " 'Entretanto, a história nos mostrou o resultado oposto, e Donald Trump foi o presidente nos últimos 4 anos.',\n",
       " 'Desta vez, os estatísticos reexaminaram seus modelos, para aumentar o grau de confiabilidade nos seus resultados.',\n",
       " 'Nesta tentativa de otimização das predições, a inteligência artificial certamente não ficou de fora.',\n",
       " 'O modelo desenvolvido pelo Dr. Hernan Makse, físico estatístico da Universidade da Cidade de Nova York, baseou suas predições em uma rede neural treinada para processar os sentimentos expressos nas redes sociais.',\n",
       " 'O algoritmo fez a análise de cerca de 1 bilhão de tweets para chegar a uma estimativa dos resultados do pleito.',\n",
       " 'No dia da eleição, 3 de novembro, o modelo estava indicando a vitória de Joe Biden.',\n",
       " 'O Dr. Makse disse que seu trabalho começou já na eleição de 2016, e foi testado novamente nas eleições na Argentina ano passado.',\n",
       " 'Desta vez, o modelo está treinando com cerca de 5 vezes mais dados que nas eleições americanas anteriores.',\n",
       " 'O trabalho não depende apenas da coleta dos dados, mas também de um tratamento estatístico adequado para levar em consideração duas variáveis externas: o viés de amostragem e a taxa de comparecimento.',\n",
       " 'O primeiro fator se refere ao fato de que as redes sociais não necessariamente representam a população americana.',\n",
       " 'A participação em redes sociais costuma ser maior nas cidades grandes, que de fato têm preferência por um dos candidatos, e o modelo deve ser corrigido para levar em consideração também a opinião das pessoas que não são ativas neste ambiente virtual.',\n",
       " 'O segundo fator se deve à não-obrigatoriedade de votação nos Estados Unidos, ou seja, por mais que uma pessoa tenha sua preferência, pode ser que ela não compareça aos locais de votação para efetivá-la.',\n",
       " 'Segundo o Dr. Makse, integrar estas duas variáveis em seu modelo é a parte mais importante do trabalho.',\n",
       " 'Ele acredita ser esta uma das razões para que as estimativas da última eleição, baseadas em métodos tradicionais de coleta de informação, terem falhado.',\n",
       " 'Sua equipe acompanhou as tendências apresentadas nas últimas eleições na Europa, e os modelos estão se revelando cada vez melhores.',\n",
       " 'Quando seu modelo foi usado para predizer os resultados da eleição corrente usando dados brutos, Joe Biden apareceu como vencedor com larga vantagem.',\n",
       " 'Após aplicar os mecanismos de correção para os dois vieses identificados, a vantagem diminuiu, mas Biden ainda é indicado como favorito.',\n",
       " 'Parece que, desta vez, os algoritmos estão de fato contribuindo para que as predições sejam mais precisas.']"
      ]
     },
     "execution_count": 61,
     "metadata": {},
     "output_type": "execute_result"
    }
   ],
   "source": [
    "sentencas_originais"
   ]
  },
  {
   "cell_type": "code",
   "execution_count": 62,
   "id": "87e1bcb9-6f73-4881-af90-f3d0b71961a5",
   "metadata": {},
   "outputs": [
    {
     "data": {
      "text/plain": [
       "['Desta vez, o modelo está treinando com cerca de 5 vezes mais dados que nas eleições americanas anteriores.',\n",
       " 'Quando seu modelo foi usado para predizer os resultados da eleição corrente usando dados brutos, Joe Biden apareceu como vencedor com larga vantagem.',\n",
       " 'No dia da eleição, 3 de novembro, o modelo estava indicando a vitória de Joe Biden.',\n",
       " 'Segundo o Dr. Makse, integrar estas duas variáveis em seu modelo é a parte mais importante do trabalho.',\n",
       " 'O modelo desenvolvido pelo Dr. Hernan Makse, físico estatístico da Universidade da Cidade de Nova York, baseou suas predições em uma rede neural treinada para processar os sentimentos expressos nas redes sociais.']"
      ]
     },
     "execution_count": 62,
     "metadata": {},
     "output_type": "execute_result"
    }
   ],
   "source": [
    "melhores_sentencas"
   ]
  },
  {
   "cell_type": "code",
   "execution_count": 63,
   "id": "56ee54f2-76bc-488a-a636-099caa1c2112",
   "metadata": {},
   "outputs": [
    {
     "data": {
      "text/plain": [
       "[(0.10322707053208108,\n",
       "  'Desta vez, o modelo está treinando com cerca de 5 vezes mais dados que nas eleições americanas anteriores.'),\n",
       " (0.08467351062155115,\n",
       "  'Quando seu modelo foi usado para predizer os resultados da eleição corrente usando dados brutos, Joe Biden apareceu como vencedor com larga vantagem.'),\n",
       " (0.07824901512415164,\n",
       "  'No dia da eleição, 3 de novembro, o modelo estava indicando a vitória de Joe Biden.'),\n",
       " (0.07627442688432466,\n",
       "  'Segundo o Dr. Makse, integrar estas duas variáveis em seu modelo é a parte mais importante do trabalho.'),\n",
       " (0.07333552035097592,\n",
       "  'O modelo desenvolvido pelo Dr. Hernan Makse, físico estatístico da Universidade da Cidade de Nova York, baseou suas predições em uma rede neural treinada para processar os sentimentos expressos nas redes sociais.'),\n",
       " (0.07240389589770964,\n",
       "  'Parece que, desta vez, os algoritmos estão de fato contribuindo para que as predições sejam mais precisas.'),\n",
       " (0.06666298135659275,\n",
       "  'O Dr. Makse disse que seu trabalho começou já na eleição de 2016, e foi testado novamente nas eleições na Argentina ano passado.'),\n",
       " (0.06336431981938684,\n",
       "  'A participação em redes sociais costuma ser maior nas cidades grandes, que de fato têm preferência por um dos candidatos, e o modelo deve ser corrigido para levar em consideração também a opinião das pessoas que não são ativas neste ambiente virtual.'),\n",
       " (0.05741561693769899,\n",
       "  'Desta vez, os estatísticos reexaminaram seus modelos, para aumentar o grau de confiabilidade nos seus resultados.'),\n",
       " (0.05697801130584347,\n",
       "  'Nas eleições presidenciais americanas de 2016, a maioria das predições apontavam para a vitória de Hillary Clinton.'),\n",
       " (0.04719462160210583,\n",
       "  'O trabalho não depende apenas da coleta dos dados, mas também de um tratamento estatístico adequado para levar em consideração duas variáveis externas: o viés de amostragem e a taxa de comparecimento.'),\n",
       " (0.045755051094352545,\n",
       "  'Sua equipe acompanhou as tendências apresentadas nas últimas eleições na Europa, e os modelos estão se revelando cada vez melhores.'),\n",
       " (0.040957901824736284,\n",
       "  'O primeiro fator se refere ao fato de que as redes sociais não necessariamente representam a população americana.'),\n",
       " (0.027359424445456797,\n",
       "  'Ele acredita ser esta uma das razões para que as estimativas da última eleição, baseadas em métodos tradicionais de coleta de informação, terem falhado.'),\n",
       " (0.02674377415371308,\n",
       "  'Nesta tentativa de otimização das predições, a inteligência artificial certamente não ficou de fora.'),\n",
       " (0.024641096264236436,\n",
       "  'O algoritmo fez a análise de cerca de 1 bilhão de tweets para chegar a uma estimativa dos resultados do pleito.'),\n",
       " (0.024333336033629575,\n",
       "  'O segundo fator se deve à não-obrigatoriedade de votação nos Estados Unidos, ou seja, por mais que uma pessoa tenha sua preferência, pode ser que ela não compareça aos locais de votação para efetivá-la.'),\n",
       " (0.02216596294153566,\n",
       "  'Após aplicar os mecanismos de correção para os dois vieses identificados, a vantagem diminuiu, mas Biden ainda é indicado como favorito.'),\n",
       " (0.00826446280991742,\n",
       "  'Entretanto, a história nos mostrou o resultado oposto, e Donald Trump foi o presidente nos últimos 4 anos.')]"
      ]
     },
     "execution_count": 63,
     "metadata": {},
     "output_type": "execute_result"
    }
   ],
   "source": [
    "notas_sentencas"
   ]
  },
  {
   "cell_type": "code",
   "execution_count": 64,
   "id": "332cbb78-7dc0-402e-b40d-e27b44cccf6c",
   "metadata": {},
   "outputs": [
    {
     "data": {
      "text/html": [
       "<h1>Resumo do texto - Teste</h1>"
      ],
      "text/plain": [
       "<IPython.core.display.HTML object>"
      ]
     },
     "metadata": {},
     "output_type": "display_data"
    },
    {
     "data": {
      "text/html": [
       " Nas eleições presidenciais americanas de 2016, a maioria das predições apontavam para a vitória de Hillary Clinton.Entretanto, a história nos mostrou o resultado oposto, e Donald Trump foi o presidente nos últimos 4 anos.Desta vez, os estatísticos reexaminaram seus modelos, para aumentar o grau de confiabilidade nos seus resultados.Nesta tentativa de otimização das predições, a inteligência artificial certamente não ficou de fora.<mark>O modelo desenvolvido pelo Dr. Hernan Makse, físico estatístico da Universidade da Cidade de Nova York, baseou suas predições em uma rede neural treinada para processar os sentimentos expressos nas redes sociais.</mark>O algoritmo fez a análise de cerca de 1 bilhão de tweets para chegar a uma estimativa dos resultados do pleito.<mark>No dia da eleição, 3 de novembro, o modelo estava indicando a vitória de Joe Biden.</mark>O Dr. Makse disse que seu trabalho começou já na eleição de 2016, e foi testado novamente nas eleições na Argentina ano passado.<mark>Desta vez, o modelo está treinando com cerca de 5 vezes mais dados que nas eleições americanas anteriores.</mark>O trabalho não depende apenas da coleta dos dados, mas também de um tratamento estatístico adequado para levar em consideração duas variáveis externas: o viés de amostragem e a taxa de comparecimento.O primeiro fator se refere ao fato de que as redes sociais não necessariamente representam a população americana.A participação em redes sociais costuma ser maior nas cidades grandes, que de fato têm preferência por um dos candidatos, e o modelo deve ser corrigido para levar em consideração também a opinião das pessoas que não são ativas neste ambiente virtual.O segundo fator se deve à não-obrigatoriedade de votação nos Estados Unidos, ou seja, por mais que uma pessoa tenha sua preferência, pode ser que ela não compareça aos locais de votação para efetivá-la.<mark>Segundo o Dr. Makse, integrar estas duas variáveis em seu modelo é a parte mais importante do trabalho.</mark>Ele acredita ser esta uma das razões para que as estimativas da última eleição, baseadas em métodos tradicionais de coleta de informação, terem falhado.Sua equipe acompanhou as tendências apresentadas nas últimas eleições na Europa, e os modelos estão se revelando cada vez melhores.<mark>Quando seu modelo foi usado para predizer os resultados da eleição corrente usando dados brutos, Joe Biden apareceu como vencedor com larga vantagem.</mark>Após aplicar os mecanismos de correção para os dois vieses identificados, a vantagem diminuiu, mas Biden ainda é indicado como favorito.Parece que, desta vez, os algoritmos estão de fato contribuindo para que as predições sejam mais precisas. "
      ],
      "text/plain": [
       "<IPython.core.display.HTML object>"
      ]
     },
     "metadata": {},
     "output_type": "display_data"
    }
   ],
   "source": [
    "visualiza_resumo('Teste', sentencas_originais, melhores_sentencas)"
   ]
  },
  {
   "cell_type": "code",
   "execution_count": 65,
   "id": "5b129a0d-6d70-4e40-a11a-c2da63d82c46",
   "metadata": {},
   "outputs": [],
   "source": [
    "import spacy"
   ]
  }
 ],
 "metadata": {
  "kernelspec": {
   "display_name": "Python 3 (ipykernel)",
   "language": "python",
   "name": "python3"
  },
  "language_info": {
   "codemirror_mode": {
    "name": "ipython",
    "version": 3
   },
   "file_extension": ".py",
   "mimetype": "text/x-python",
   "name": "python",
   "nbconvert_exporter": "python",
   "pygments_lexer": "ipython3",
   "version": "3.11.6"
  }
 },
 "nbformat": 4,
 "nbformat_minor": 5
}

{
 "cells": [
  {
   "cell_type": "code",
   "execution_count": 1,
   "id": "9b180354-e060-4944-a072-56517805131a",
   "metadata": {},
   "outputs": [],
   "source": [
    "import re\n",
    "import nltk\n",
    "import numpy\n",
    "import string\n",
    "import heapq"
   ]
  },
  {
   "cell_type": "code",
   "execution_count": 2,
   "id": "9693d053-10e7-486a-a848-4b557845bed2",
   "metadata": {},
   "outputs": [
    {
     "name": "stderr",
     "output_type": "stream",
     "text": [
      "[nltk_data] Downloading package punkt to\n",
      "[nltk_data]     C:\\Users\\diham\\AppData\\Roaming\\nltk_data...\n",
      "[nltk_data]   Package punkt is already up-to-date!\n",
      "[nltk_data] Downloading package stopwords to\n",
      "[nltk_data]     C:\\Users\\diham\\AppData\\Roaming\\nltk_data...\n",
      "[nltk_data]   Package stopwords is already up-to-date!\n"
     ]
    },
    {
     "data": {
      "text/plain": [
       "True"
      ]
     },
     "execution_count": 2,
     "metadata": {},
     "output_type": "execute_result"
    }
   ],
   "source": [
    "nltk.download('punkt')\n",
    "nltk.download('stopwords')"
   ]
  },
  {
   "cell_type": "code",
   "execution_count": 3,
   "id": "4c5b3a26-dd0c-4906-ae5b-04f47ca112b3",
   "metadata": {},
   "outputs": [],
   "source": [
    "stop_words = nltk.corpus.stopwords.words('portuguese')"
   ]
  },
  {
   "cell_type": "code",
   "execution_count": 4,
   "id": "b4ee4199-9ad1-401b-8236-142345c45b33",
   "metadata": {},
   "outputs": [],
   "source": [
    "texto_original = \"\"\"A inteligência artificial é a inteligência similar à humana maquinas. \n",
    "                    Definem como o estudo de agente artificial com inteligência. \n",
    "                    Ciência e engenharia de produzir máquinas com inteligência. \n",
    "                    Resolver problemas e possuir inteligência. \n",
    "                    Relacionada ao comportamento inteligente. \n",
    "                    Construção de máquinas para raciocinar. \n",
    "                    Aprender com os erros e acertos. \n",
    "                    Inteligência artificial é raciocinar nas situações do cotidiano.\"\"\""
   ]
  },
  {
   "cell_type": "code",
   "execution_count": 5,
   "id": "3deb6a58-d782-4698-bc58-887726e64d72",
   "metadata": {},
   "outputs": [
    {
     "data": {
      "text/plain": [
       "'A inteligência artificial é a inteligência similar à humana maquinas. Definem como o estudo de agente artificial com inteligência. Ciência e engenharia de produzir máquinas com inteligência. Resolver problemas e possuir inteligência. Relacionada ao comportamento inteligente. Construção de máquinas para raciocinar. Aprender com os erros e acertos. Inteligência artificial é raciocinar nas situações do cotidiano.'"
      ]
     },
     "execution_count": 5,
     "metadata": {},
     "output_type": "execute_result"
    }
   ],
   "source": [
    "texto_original = re.sub(r'\\s+', ' ', texto_original)\n",
    "texto_original"
   ]
  },
  {
   "cell_type": "code",
   "execution_count": 6,
   "id": "bbe6ab1f-b2cf-4397-b190-23da1b770e13",
   "metadata": {},
   "outputs": [],
   "source": [
    "def preprocessamento(texto):\n",
    "  texto_formatado = texto.lower()\n",
    "  tokens = []\n",
    "  for token in nltk.word_tokenize(texto_formatado):\n",
    "    tokens.append(token)\n",
    "\n",
    "  tokens = [palavra for palavra in tokens if palavra not in stop_words and palavra not in string.punctuation]\n",
    "  texto_formatado = ' '.join([str(elemento) for elemento in tokens if not elemento.isdigit()])\n",
    "\n",
    "  return texto_formatado"
   ]
  },
  {
   "cell_type": "code",
   "execution_count": 7,
   "id": "22ee1aa0-7f87-4c7d-a7de-d20b09e7d9a3",
   "metadata": {},
   "outputs": [],
   "source": [
    "def calcula_nota_sentenca(sentencas, palavras_importantes, distancia):\n",
    "  notas = []\n",
    "  indice_sentenca = 0\n",
    "\n",
    "  for sentenca in [nltk.word_tokenize(sentenca.lower()) for sentenca in sentencas]:\n",
    "    \n",
    "    indice_palavra = []\n",
    "    for palavra in palavras_importantes:\n",
    "      \n",
    "      try:\n",
    "        indice_palavra.append(sentenca.index(palavra))\n",
    "      except ValueError:\n",
    "        pass\n",
    "    \n",
    "    indice_palavra.sort()\n",
    "\n",
    "    if len(indice_palavra) == 0:\n",
    "      continue\n",
    "\n",
    "    \n",
    "    lista_grupos = []\n",
    "    grupo = [indice_palavra[0]]\n",
    "    i = 1\n",
    "    while i < len(indice_palavra):\n",
    "      if indice_palavra[i] - indice_palavra[i - 1] < distancia:\n",
    "        grupo.append(indice_palavra[i])\n",
    "       \n",
    "      else:\n",
    "        lista_grupos.append(grupo[:])\n",
    "        grupo = [indice_palavra[i]]\n",
    "        \n",
    "      i += 1\n",
    "    lista_grupos.append(grupo)\n",
    "    \n",
    "\n",
    "    nota_maxima_grupo = 0\n",
    "    for g in lista_grupos:\n",
    "      \n",
    "      palavras_importantes_no_grupo = len(g)\n",
    "      total_palavras_no_grupo = g[-1] - g[0] + 1\n",
    "      \n",
    "      nota = 1.0 * palavras_importantes_no_grupo**2 / total_palavras_no_grupo\n",
    "      \n",
    "\n",
    "      if nota > nota_maxima_grupo:\n",
    "        nota_maxima_grupo = nota\n",
    "\n",
    "    notas.append((nota_maxima_grupo, indice_sentenca))\n",
    "    indice_sentenca += 1\n",
    "\n",
    "  \n",
    "  return notas"
   ]
  },
  {
   "cell_type": "code",
   "execution_count": 8,
   "id": "cdda45b0-6397-43a9-986a-6b1b866ee5f5",
   "metadata": {},
   "outputs": [],
   "source": [
    "def sumarizar(texto, top_n_palavras, distancia, quantidade_sentencas):\n",
    "  sentencas_originais = [sentenca for sentenca in nltk.sent_tokenize(texto)]\n",
    "\n",
    "  sentencas_formatadas = [preprocessamento(sentenca_original) for sentenca_original in sentencas_originais]\n",
    "  \n",
    "  palavras = [palavra for sentenca in sentencas_formatadas for palavra in nltk.word_tokenize(sentenca)]\n",
    " \n",
    "  frequencia = nltk.FreqDist(palavras)\n",
    "  \n",
    "  top_n_palavras = [palavra[0] for palavra in frequencia.most_common(top_n_palavras)]\n",
    "  \n",
    "  notas_sentencas = calcula_nota_sentenca(sentencas_formatadas, top_n_palavras, distancia)\n",
    "  \n",
    "  melhores_sentencas = heapq.nlargest(quantidade_sentencas, notas_sentencas)\n",
    " \n",
    "  melhores_sentencas = [sentencas_originais[i] for (nota, i) in melhores_sentencas]\n",
    "\n",
    "  return sentencas_originais, melhores_sentencas, notas_sentencas"
   ]
  },
  {
   "cell_type": "code",
   "execution_count": 9,
   "id": "42072bbc-95f3-42f5-9f8f-33b1151f793e",
   "metadata": {},
   "outputs": [
    {
     "data": {
      "text/plain": [
       "['Construção de máquinas para raciocinar.',\n",
       " 'A inteligência artificial é a inteligência similar à humana maquinas.',\n",
       " 'Relacionada ao comportamento inteligente.']"
      ]
     },
     "execution_count": 9,
     "metadata": {},
     "output_type": "execute_result"
    }
   ],
   "source": [
    "sentencas_originais, melhores_sent, notas_sent= sumarizar(texto_original, 5, 3, 3)\n",
    "melhores_sent"
   ]
  },
  {
   "cell_type": "code",
   "execution_count": 10,
   "id": "d52f1aa6-133d-4768-98f0-bfdbefdb7256",
   "metadata": {},
   "outputs": [],
   "source": [
    "def gerar_resumo(titulo, lista_sent, melhores_sent):\n",
    "    from IPython.core.display import HTML\n",
    "    \n",
    "    display(HTML(f'<h1>Resumo do Texto - {titulo if titulo else \"\"}</h1>'))\n",
    "    texto = ''\n",
    "    for sent in lista_sent:\n",
    "        if sent in melhores_sent:\n",
    "            texto += f\"<mark>{sent}</mark>\"\n",
    "        else:\n",
    "            texto += sent\n",
    "    display(HTML(texto))"
   ]
  },
  {
   "cell_type": "code",
   "execution_count": 11,
   "id": "0540c287-3e89-450a-a6fc-5b22808c4255",
   "metadata": {},
   "outputs": [
    {
     "data": {
      "text/html": [
       "<h1>Resumo do Texto - Teste</h1>"
      ],
      "text/plain": [
       "<IPython.core.display.HTML object>"
      ]
     },
     "metadata": {},
     "output_type": "display_data"
    },
    {
     "data": {
      "text/html": [
       "<mark>A inteligência artificial é a inteligência similar à humana maquinas.</mark>Definem como o estudo de agente artificial com inteligência.Ciência e engenharia de produzir máquinas com inteligência.Resolver problemas e possuir inteligência.<mark>Relacionada ao comportamento inteligente.</mark><mark>Construção de máquinas para raciocinar.</mark>Aprender com os erros e acertos.Inteligência artificial é raciocinar nas situações do cotidiano."
      ],
      "text/plain": [
       "<IPython.core.display.HTML object>"
      ]
     },
     "metadata": {},
     "output_type": "display_data"
    }
   ],
   "source": [
    "gerar_resumo('Teste', sentencas_originais, melhores_sent)"
   ]
  },
  {
   "cell_type": "code",
   "execution_count": 12,
   "id": "4b722a5d-100c-4a98-9268-3a36f524aaaf",
   "metadata": {},
   "outputs": [],
   "source": [
    "from goose3 import Goose"
   ]
  },
  {
   "cell_type": "code",
   "execution_count": 13,
   "id": "0c581fe0-1594-4489-9e32-0be6983b5718",
   "metadata": {},
   "outputs": [],
   "source": [
    "g = Goose()\n",
    "url = 'https://iaexpert.academy/2020/11/09/ia-preve-resultado-das-eleicoes-americanas/'\n",
    "artigo = g.extract(url)"
   ]
  },
  {
   "cell_type": "code",
   "execution_count": 14,
   "id": "88e7f611-91ee-48c1-b87f-ea461735e155",
   "metadata": {},
   "outputs": [
    {
     "data": {
      "text/plain": [
       "'Nas eleições presidenciais americanas de 2016, a maioria das predições apontavam para a vitória de Hillary Clinton. Entretanto, a história nos mostrou o resultado oposto, e Donald Trump foi o presidente nos últimos 4 anos. Desta vez, os estatísticos reexaminaram seus modelos, para aumentar o grau de confiabilidade nos seus resultados. Nesta tentativa de otimização das predições, a inteligência artificial certamente não ficou de fora.\\n\\nO modelo desenvolvido pelo Dr. Hernan Makse, físico estatístico da Universidade da Cidade de Nova York, baseou suas predições em uma rede neural treinada para processar os sentimentos expressos nas redes sociais. O algoritmo fez a análise de cerca de 1 bilhão de tweets para chegar a uma estimativa dos resultados do pleito. No dia da eleição, 3 de novembro, o modelo estava indicando a vitória de Joe Biden.\\n\\nO Dr. Makse disse que seu trabalho começou já na eleição de 2016, e foi testado novamente nas eleições na Argentina ano passado. Desta vez, o modelo está treinando com cerca de 5 vezes mais dados que nas eleições americanas anteriores. O trabalho não depende apenas da coleta dos dados, mas também de um tratamento estatístico adequado para levar em consideração duas variáveis externas: o viés de amostragem e a taxa de comparecimento. O primeiro fator se refere ao fato de que as redes sociais não necessariamente representam a população americana. A participação em redes sociais costuma ser maior nas cidades grandes, que de fato têm preferência por um dos candidatos, e o modelo deve ser corrigido para levar em consideração também a opinião das pessoas que não são ativas neste ambiente virtual. O segundo fator se deve à não-obrigatoriedade de votação nos Estados Unidos, ou seja, por mais que uma pessoa tenha sua preferência, pode ser que ela não compareça aos locais de votação para efetivá-la. Segundo o Dr. Makse, integrar estas duas variáveis em seu modelo é a parte mais importante do trabalho. Ele acredita ser esta uma das razões para que as estimativas da última eleição, baseadas em métodos tradicionais de coleta de informação, terem falhado. Sua equipe acompanhou as tendências apresentadas nas últimas eleições na Europa, e os modelos estão se revelando cada vez melhores.\\n\\nQuando seu modelo foi usado para predizer os resultados da eleição corrente usando dados brutos, Joe Biden apareceu como vencedor com larga vantagem. Após aplicar os mecanismos de correção para os dois vieses identificados, a vantagem diminuiu, mas Biden ainda é indicado como favorito.\\n\\nParece que, desta vez, os algoritmos estão de fato contribuindo para que as predições sejam mais precisas.'"
      ]
     },
     "execution_count": 14,
     "metadata": {},
     "output_type": "execute_result"
    }
   ],
   "source": [
    "artigo.cleaned_text"
   ]
  },
  {
   "cell_type": "code",
   "execution_count": 15,
   "id": "f0cba899-5241-41de-aff4-e7575da0ef16",
   "metadata": {},
   "outputs": [
    {
     "data": {
      "text/plain": [
       "['A participação em redes sociais costuma ser maior nas cidades grandes, que de fato têm preferência por um dos candidatos, e o modelo deve ser corrigido para levar em consideração também a opinião das pessoas que não são ativas neste ambiente virtual.',\n",
       " 'O modelo desenvolvido pelo Dr. Hernan Makse, físico estatístico da Universidade da Cidade de Nova York, baseou suas predições em uma rede neural treinada para processar os sentimentos expressos nas redes sociais.',\n",
       " 'O trabalho não depende apenas da coleta dos dados, mas também de um tratamento estatístico adequado para levar em consideração duas variáveis externas: o viés de amostragem e a taxa de comparecimento.',\n",
       " 'Quando seu modelo foi usado para predizer os resultados da eleição corrente usando dados brutos, Joe Biden apareceu como vencedor com larga vantagem.',\n",
       " 'Após aplicar os mecanismos de correção para os dois vieses identificados, a vantagem diminuiu, mas Biden ainda é indicado como favorito.']"
      ]
     },
     "execution_count": 15,
     "metadata": {},
     "output_type": "execute_result"
    }
   ],
   "source": [
    "sent_originais, melhores_sent, notas_sent = sumarizar(artigo.cleaned_text, 200, 5, 5)\n",
    "melhores_sent"
   ]
  },
  {
   "cell_type": "code",
   "execution_count": 16,
   "id": "c83ce2e1-ae15-4d89-a250-25cfaf158b0c",
   "metadata": {},
   "outputs": [
    {
     "data": {
      "text/html": [
       "<h1>Resumo do Texto - IA prevê resultado das eleições americanas</h1>"
      ],
      "text/plain": [
       "<IPython.core.display.HTML object>"
      ]
     },
     "metadata": {},
     "output_type": "display_data"
    },
    {
     "data": {
      "text/html": [
       "Nas eleições presidenciais americanas de 2016, a maioria das predições apontavam para a vitória de Hillary Clinton.Entretanto, a história nos mostrou o resultado oposto, e Donald Trump foi o presidente nos últimos 4 anos.Desta vez, os estatísticos reexaminaram seus modelos, para aumentar o grau de confiabilidade nos seus resultados.Nesta tentativa de otimização das predições, a inteligência artificial certamente não ficou de fora.<mark>O modelo desenvolvido pelo Dr. Hernan Makse, físico estatístico da Universidade da Cidade de Nova York, baseou suas predições em uma rede neural treinada para processar os sentimentos expressos nas redes sociais.</mark>O algoritmo fez a análise de cerca de 1 bilhão de tweets para chegar a uma estimativa dos resultados do pleito.No dia da eleição, 3 de novembro, o modelo estava indicando a vitória de Joe Biden.O Dr. Makse disse que seu trabalho começou já na eleição de 2016, e foi testado novamente nas eleições na Argentina ano passado.Desta vez, o modelo está treinando com cerca de 5 vezes mais dados que nas eleições americanas anteriores.<mark>O trabalho não depende apenas da coleta dos dados, mas também de um tratamento estatístico adequado para levar em consideração duas variáveis externas: o viés de amostragem e a taxa de comparecimento.</mark>O primeiro fator se refere ao fato de que as redes sociais não necessariamente representam a população americana.<mark>A participação em redes sociais costuma ser maior nas cidades grandes, que de fato têm preferência por um dos candidatos, e o modelo deve ser corrigido para levar em consideração também a opinião das pessoas que não são ativas neste ambiente virtual.</mark>O segundo fator se deve à não-obrigatoriedade de votação nos Estados Unidos, ou seja, por mais que uma pessoa tenha sua preferência, pode ser que ela não compareça aos locais de votação para efetivá-la.Segundo o Dr. Makse, integrar estas duas variáveis em seu modelo é a parte mais importante do trabalho.Ele acredita ser esta uma das razões para que as estimativas da última eleição, baseadas em métodos tradicionais de coleta de informação, terem falhado.Sua equipe acompanhou as tendências apresentadas nas últimas eleições na Europa, e os modelos estão se revelando cada vez melhores.<mark>Quando seu modelo foi usado para predizer os resultados da eleição corrente usando dados brutos, Joe Biden apareceu como vencedor com larga vantagem.</mark><mark>Após aplicar os mecanismos de correção para os dois vieses identificados, a vantagem diminuiu, mas Biden ainda é indicado como favorito.</mark>Parece que, desta vez, os algoritmos estão de fato contribuindo para que as predições sejam mais precisas."
      ],
      "text/plain": [
       "<IPython.core.display.HTML object>"
      ]
     },
     "metadata": {},
     "output_type": "display_data"
    }
   ],
   "source": [
    "gerar_resumo(artigo.title, sent_originais, melhores_sent)"
   ]
  },
  {
   "cell_type": "code",
   "execution_count": 17,
   "id": "9f76760f-1146-4089-8ff8-d6a06ffd65b7",
   "metadata": {},
   "outputs": [
    {
     "name": "stdout",
     "output_type": "stream",
     "text": [
      "Requirement already satisfied: feedparser in c:\\users\\diham\\appdata\\local\\programs\\python\\python311\\lib\\site-packages (6.0.10)\n",
      "Requirement already satisfied: sgmllib3k in c:\\users\\diham\\appdata\\local\\programs\\python\\python311\\lib\\site-packages (from feedparser) (1.0.0)\n"
     ]
    }
   ],
   "source": [
    "!pip install feedparser"
   ]
  },
  {
   "cell_type": "code",
   "execution_count": 18,
   "id": "b701ef28-5dd9-45ae-ae45-5d81d47c38ab",
   "metadata": {},
   "outputs": [
    {
     "name": "stdout",
     "output_type": "stream",
     "text": [
      "Requirement already satisfied: html5lib in c:\\users\\diham\\appdata\\local\\programs\\python\\python311\\lib\\site-packages (1.1)\n",
      "Requirement already satisfied: six>=1.9 in c:\\users\\diham\\appdata\\local\\programs\\python\\python311\\lib\\site-packages (from html5lib) (1.16.0)\n",
      "Requirement already satisfied: webencodings in c:\\users\\diham\\appdata\\local\\programs\\python\\python311\\lib\\site-packages (from html5lib) (0.5.1)\n",
      "Note: you may need to restart the kernel to use updated packages.\n"
     ]
    }
   ],
   "source": [
    "pip install html5lib"
   ]
  },
  {
   "cell_type": "code",
   "execution_count": 19,
   "id": "87defb18-4619-4726-bda0-c4d47aa5b321",
   "metadata": {},
   "outputs": [],
   "source": [
    "import feedparser\n",
    "import bs4\n",
    "from bs4 import BeautifulSoup\n",
    "import os\n",
    "import json"
   ]
  },
  {
   "cell_type": "code",
   "execution_count": 20,
   "id": "ec74e018-00b7-4b8e-a2b1-4e8694311c7a",
   "metadata": {},
   "outputs": [],
   "source": [
    "url = 'https://iaexpert.academy/feed/'\n",
    "feed = feedparser.parse(url)"
   ]
  },
  {
   "cell_type": "code",
   "execution_count": 21,
   "id": "cbdcc675-1fe3-4571-9492-abb328630ff2",
   "metadata": {},
   "outputs": [],
   "source": [
    "#feed.entries"
   ]
  },
  {
   "cell_type": "code",
   "execution_count": 22,
   "id": "6ca7e24b-00b2-46ad-9854-43c31ddb665a",
   "metadata": {},
   "outputs": [
    {
     "name": "stdout",
     "output_type": "stream",
     "text": [
      "Novo método de treinamento ajuda a inteligência artificial a generalizar como humanos\n",
      "TSMixer: solução do Google une modelos lineares e redes neurais para previsões de séries temporais\n",
      "Meta anuncia novos recursos baseados em inteligência artificial\n",
      "AutoGen, da Microsoft, simplifica a orquestração, otimização e automação de fluxos de trabalho LLM\n",
      "Stable Audio: modelo de difusão para geração de áudio com máximo controle\n",
      "DALL-E 3 traz melhorias significativas e integração com ChatGPT\n",
      "Nova estratégia de decodificação aumenta a veracidade das informações produzidas por LLMs\n",
      "IA corrige imagens de ressonância magnética corrompidas por movimento\n",
      "Meta apresenta versão do Llama com alto desempenho para instruções longas e complexas\n",
      "DeepMind apresenta framework para garantir alinhamento de LLMs com preferências humanas\n"
     ]
    }
   ],
   "source": [
    "for entrada in feed.entries:\n",
    "    print(entrada.title)"
   ]
  },
  {
   "cell_type": "code",
   "execution_count": 23,
   "id": "462cd6eb-becf-44df-957e-630bb7f450f7",
   "metadata": {},
   "outputs": [
    {
     "data": {
      "text/plain": [
       "'<p>Os modelos de linguagem grandes (LLMs) são notáveis na geração de conteúdo bem escrito, porém nem sempre alinhado às preferências humanas. Dado o enorme volume de dados com que são treinados, não é viável executar uma fase de curadoria nesse material, e por isso vieses e conteúdo perigoso podem ser incorporados às capacidades do modelo. Algumas abordagens tentam resolver este problema com uma etapa offline chamada de <em>human in the loop</em>, onde uma pessoa inspeciona os resultados gerados pelo modelo e fornece um feedback para seu aperfeiçoamento. Esta técnica, entretanto, é claramente onerosa e pouco eficiente.</p>\\n\\n\\n\\n<p>Para tornar a tarefa de alinhamento escalonável, um <a href=\"https://arxiv.org/abs/2308.08998\">trabalho publicado</a> pelo grupo DeepMind do Google apresenta um framework batizado de <em>Auto-Treinamento Reforçado </em>(<em>Reinforced Self-Training, </em>ReST). O ReST aborda o desafio do alinhamento entre LLMs e preferências humanas através de dois ciclos interconectados: <em>crescimento</em> e <em>aperfeiçoamento</em>. Na fase de crescimento, várias previsões de saída são geradas para cenários diversos usando a política do modelo de linguagem. Essas previsões ampliam o conjunto de treinamento e preparam para refinamentos futuros. O diferencial do ReST está na fase de aperfeiçoamento, que opera no conjunto de dados refinado da fase anteiror.</p>\\n\\n\\n\\n<p>Na fase de aperfeiçoamento, o conjunto de dados enriquecido passa por um processo de curadoria automática, com uma pontuação baseada em um modelo de recompensa oriundo de preferências humanas. Esse conjunto refinado serve de base para ajustar o modelo de linguagem através do aprendizado por reforço offline. O ReST é iterativo, com vários ciclos de crescimento e aperfeiçoamento melhorando continuamente o conjunto de dados de treinamento e refinando a política do modelo de linguagem.</p>\\n\\n\\n\\n<p>O ReST oferece vantagens em relação às abordagens tradicionais de aprendizado por reforço, online ou offline. Ele maximiza a eficiência do crescimento em várias etapas de aperfeiçoamento, reduzindo os custos computacionais. A qualidade da política não é limitada pelo conjunto de dados original, pois novos dados são amostrados da política em evolução. A separação clara entre as duas fases facilita a análise da qualidade dos dados e a detecção de problemas de alinhamento.</p>\\n\\n\\n\\n<p>O método foi testado em uma tarefa de tradução automática, demonstrando sua eficácia em melhorar os resultados de modelos de recompensa em testes e validações. O ReST superou consistentemente abordagens de aprendizado supervisionado, produzindo traduções de melhor qualidade avaliadas por humanos.</p>\\n<p>O post <a href=\"https://iaexpert.academy/2023/08/30/deepmind-apresenta-framework-garantir-alinhamento-llms-preferencias-humanas/\" rel=\"nofollow\">DeepMind apresenta framework para garantir alinhamento de LLMs com preferências humanas</a> apareceu primeiro em <a href=\"https://iaexpert.academy\" rel=\"nofollow\">IA Expert Academy</a>.</p>'"
      ]
     },
     "execution_count": 23,
     "metadata": {},
     "output_type": "execute_result"
    }
   ],
   "source": [
    "entrada.content[0].value"
   ]
  },
  {
   "cell_type": "code",
   "execution_count": 24,
   "id": "6b05fad9-bdb4-40f0-ab8a-b41edf937adb",
   "metadata": {},
   "outputs": [],
   "source": [
    "def limpa_html(texto):\n",
    "  \"\"\"\n",
    "  Limpa um texto em HTML removendo tags, atributos e caracteres especiais.\n",
    "\n",
    "  Args:\n",
    "    texto: O texto em HTML a ser limpo.\n",
    "\n",
    "  Returns:\n",
    "    O texto limpo.\n",
    "  \"\"\"\n",
    "\n",
    "  soup = bs4.BeautifulSoup(texto, 'html.parser')\n",
    "  texto = soup.get_text()\n",
    "\n",
    "  texto = re.sub(r'\\s+[\\w\\-]+=[\\w\\-]+', ' ', texto)\n",
    "\n",
    "  texto = re.sub(r'[^\\w\\s\\.,!?]', ' ', texto)\n",
    "\n",
    "  texto = ' '.join(texto.split())\n",
    "\n",
    "  return texto"
   ]
  },
  {
   "cell_type": "code",
   "execution_count": 25,
   "id": "7f2c8219-ce72-4396-981e-10d86c95be11",
   "metadata": {},
   "outputs": [
    {
     "data": {
      "text/plain": [
       "'Os modelos de linguagem grandes LLMs são notáveis na geração de conteúdo bem escrito, porém nem sempre alinhado às preferências humanas. Dado o enorme volume de dados com que são treinados, não é viável executar uma fase de curadoria nesse material, e por isso vieses e conteúdo perigoso podem ser incorporados às capacidades do modelo. Algumas abordagens tentam resolver este problema com uma etapa offline chamada de human in the loop, onde uma pessoa inspeciona os resultados gerados pelo modelo e fornece um feedback para seu aperfeiçoamento. Esta técnica, entretanto, é claramente onerosa e pouco eficiente. Para tornar a tarefa de alinhamento escalonável, um trabalho publicado pelo grupo DeepMind do Google apresenta um framework batizado de Auto Treinamento Reforçado Reinforced Self Training, ReST . O ReST aborda o desafio do alinhamento entre LLMs e preferências humanas através de dois ciclos interconectados crescimento e aperfeiçoamento. Na fase de crescimento, várias previsões de saída são geradas para cenários diversos usando a política do modelo de linguagem. Essas previsões ampliam o conjunto de treinamento e preparam para refinamentos futuros. O diferencial do ReST está na fase de aperfeiçoamento, que opera no conjunto de dados refinado da fase anteiror. Na fase de aperfeiçoamento, o conjunto de dados enriquecido passa por um processo de curadoria automática, com uma pontuação baseada em um modelo de recompensa oriundo de preferências humanas. Esse conjunto refinado serve de base para ajustar o modelo de linguagem através do aprendizado por reforço offline. O ReST é iterativo, com vários ciclos de crescimento e aperfeiçoamento melhorando continuamente o conjunto de dados de treinamento e refinando a política do modelo de linguagem. O ReST oferece vantagens em relação às abordagens tradicionais de aprendizado por reforço, online ou offline. Ele maximiza a eficiência do crescimento em várias etapas de aperfeiçoamento, reduzindo os custos computacionais. A qualidade da política não é limitada pelo conjunto de dados original, pois novos dados são amostrados da política em evolução. A separação clara entre as duas fases facilita a análise da qualidade dos dados e a detecção de problemas de alinhamento. O método foi testado em uma tarefa de tradução automática, demonstrando sua eficácia em melhorar os resultados de modelos de recompensa em testes e validações. O ReST superou consistentemente abordagens de aprendizado supervisionado, produzindo traduções de melhor qualidade avaliadas por humanos. O post DeepMind apresenta framework para garantir alinhamento de LLMs com preferências humanas apareceu primeiro em IA Expert Academy.'"
      ]
     },
     "execution_count": 25,
     "metadata": {},
     "output_type": "execute_result"
    }
   ],
   "source": [
    "limpa_html(entrada.content[0].value)"
   ]
  },
  {
   "cell_type": "code",
   "execution_count": 26,
   "id": "ecb795b9-69ea-472c-9c22-de54832a45be",
   "metadata": {},
   "outputs": [],
   "source": [
    "artigos = []\n",
    "for entrada in feed.entries:\n",
    "    artigos.append({'Título': entrada.title, 'Conteúdo': limpa_html(entrada.content[0].value)})\n",
    "\n",
    "#artigos"
   ]
  },
  {
   "cell_type": "code",
   "execution_count": 27,
   "id": "c7e6d422-9030-4416-a710-4e4042f00554",
   "metadata": {},
   "outputs": [
    {
     "data": {
      "text/plain": [
       "<function TextIOWrapper.close()>"
      ]
     },
     "execution_count": 27,
     "metadata": {},
     "output_type": "execute_result"
    }
   ],
   "source": [
    "arquivos_gravar = os.path.join('feed_iaexpert.json')\n",
    "arquivos = open(arquivos_gravar, 'w+')\n",
    "arquivos.write(json.dumps(artigos, indent = 1))\n",
    "arquivos.close"
   ]
  },
  {
   "cell_type": "code",
   "execution_count": 28,
   "id": "4de1dcfc-b76b-4617-9757-978e5f4ea05e",
   "metadata": {},
   "outputs": [],
   "source": [
    "artigos_blog = json.loads(open('feed_iaexpert.json').read())"
   ]
  },
  {
   "cell_type": "code",
   "execution_count": 29,
   "id": "3ec55e72-0c36-4959-8b6f-98deabafb9e9",
   "metadata": {},
   "outputs": [],
   "source": [
    "conteudo_feed = \"\"\n",
    "for artigo in artigos_blog:\n",
    "    conteudo_feed += artigo['Conteúdo']\n",
    "conteudo_feed = preprocessamento(conteudo_feed)"
   ]
  },
  {
   "cell_type": "code",
   "execution_count": 30,
   "id": "84279400-5118-4d33-9a88-e07e6d6df1ff",
   "metadata": {},
   "outputs": [
    {
     "name": "stdout",
     "output_type": "stream",
     "text": [
      "Requirement already satisfied: wordcloud in c:\\users\\diham\\appdata\\local\\programs\\python\\python311\\lib\\site-packages (1.9.2)\n",
      "Requirement already satisfied: numpy>=1.6.1 in c:\\users\\diham\\appdata\\local\\programs\\python\\python311\\lib\\site-packages (from wordcloud) (1.26.1)\n",
      "Requirement already satisfied: pillow in c:\\users\\diham\\appdata\\local\\programs\\python\\python311\\lib\\site-packages (from wordcloud) (10.1.0)\n",
      "Requirement already satisfied: matplotlib in c:\\users\\diham\\appdata\\local\\programs\\python\\python311\\lib\\site-packages (from wordcloud) (3.8.0)\n",
      "Requirement already satisfied: contourpy>=1.0.1 in c:\\users\\diham\\appdata\\local\\programs\\python\\python311\\lib\\site-packages (from matplotlib->wordcloud) (1.1.1)\n",
      "Requirement already satisfied: cycler>=0.10 in c:\\users\\diham\\appdata\\local\\programs\\python\\python311\\lib\\site-packages (from matplotlib->wordcloud) (0.12.1)\n",
      "Requirement already satisfied: fonttools>=4.22.0 in c:\\users\\diham\\appdata\\local\\programs\\python\\python311\\lib\\site-packages (from matplotlib->wordcloud) (4.43.1)\n",
      "Requirement already satisfied: kiwisolver>=1.0.1 in c:\\users\\diham\\appdata\\local\\programs\\python\\python311\\lib\\site-packages (from matplotlib->wordcloud) (1.4.5)\n",
      "Requirement already satisfied: packaging>=20.0 in c:\\users\\diham\\appdata\\local\\programs\\python\\python311\\lib\\site-packages (from matplotlib->wordcloud) (23.2)\n",
      "Requirement already satisfied: pyparsing>=2.3.1 in c:\\users\\diham\\appdata\\local\\programs\\python\\python311\\lib\\site-packages (from matplotlib->wordcloud) (3.1.1)\n",
      "Requirement already satisfied: python-dateutil>=2.7 in c:\\users\\diham\\appdata\\local\\programs\\python\\python311\\lib\\site-packages (from matplotlib->wordcloud) (2.8.2)\n",
      "Requirement already satisfied: six>=1.5 in c:\\users\\diham\\appdata\\local\\programs\\python\\python311\\lib\\site-packages (from python-dateutil>=2.7->matplotlib->wordcloud) (1.16.0)\n",
      "Note: you may need to restart the kernel to use updated packages.\n"
     ]
    }
   ],
   "source": [
    "pip install wordcloud"
   ]
  },
  {
   "cell_type": "code",
   "execution_count": 31,
   "id": "ef06597c-60c5-41cc-9a01-c273a1f9f25d",
   "metadata": {},
   "outputs": [],
   "source": [
    "from wordcloud import WordCloud\n",
    "import matplotlib.pyplot as plt"
   ]
  },
  {
   "cell_type": "code",
   "execution_count": 32,
   "id": "0fcf5ed5-9f12-4dee-9aa6-4a39e1d09421",
   "metadata": {},
   "outputs": [
    {
     "data": {
      "image/png": "[encoded data removed]",
      "text/plain": [
       "<Figure size 2000x2000 with 1 Axes>"
      ]
     },
     "metadata": {},
     "output_type": "display_data"
    }
   ],
   "source": [
    "plt.figure(figsize=(20,20))\n",
    "plt.axis('off')\n",
    "plt.imshow(WordCloud().generate(conteudo_feed))\n",
    "plt.show()"
   ]
  },
  {
   "cell_type": "code",
   "execution_count": 33,
   "id": "bc214e17-4158-47cf-a220-26ca0d41f0cf",
   "metadata": {},
   "outputs": [],
   "source": [
    "import spacy"
   ]
  },
  {
   "cell_type": "code",
   "execution_count": 34,
   "id": "8e166996-1957-4835-8430-4a0a88886ce1",
   "metadata": {},
   "outputs": [
    {
     "name": "stdout",
     "output_type": "stream",
     "text": [
      "Collecting pt-core-news-sm==3.7.0\n",
      "  Downloading https://github.com/explosion/spacy-models/releases/download/pt_core_news_sm-3.7.0/pt_core_news_sm-3.7.0-py3-none-any.whl (13.0 MB)\n",
      "     ---------------------------------------- 0.0/13.0 MB ? eta -:--:--\n",
      "     ---------------------------------------- 0.0/13.0 MB ? eta -:--:--\n",
      "     ---------------------------------------- 0.0/13.0 MB ? eta -:--:--\n",
      "     ---------------------------------------- 0.0/13.0 MB ? eta -:--:--\n",
      "     --------------------------------------- 0.0/13.0 MB 262.6 kB/s eta 0:00:50\n",
      "     --------------------------------------- 0.0/13.0 MB 245.8 kB/s eta 0:00:53\n",
      "     --------------------------------------- 0.1/13.0 MB 547.6 kB/s eta 0:00:24\n",
      "      --------------------------------------- 0.3/13.0 MB 1.3 MB/s eta 0:00:11\n",
      "     - -------------------------------------- 0.4/13.0 MB 1.4 MB/s eta 0:00:10\n",
      "     - -------------------------------------- 0.6/13.0 MB 1.8 MB/s eta 0:00:07\n",
      "     - -------------------------------------- 0.6/13.0 MB 1.8 MB/s eta 0:00:07\n",
      "     - -------------------------------------- 0.6/13.0 MB 1.5 MB/s eta 0:00:09\n",
      "     -- ------------------------------------- 0.8/13.0 MB 1.6 MB/s eta 0:00:08\n",
      "     -- ------------------------------------- 0.9/13.0 MB 1.8 MB/s eta 0:00:07\n",
      "     --- ------------------------------------ 1.1/13.0 MB 1.9 MB/s eta 0:00:07\n",
      "     --- ------------------------------------ 1.2/13.0 MB 2.0 MB/s eta 0:00:06\n",
      "     ---- ----------------------------------- 1.3/13.0 MB 2.1 MB/s eta 0:00:06\n",
      "     ---- ----------------------------------- 1.5/13.0 MB 2.1 MB/s eta 0:00:06\n",
      "     ---- ----------------------------------- 1.6/13.0 MB 2.2 MB/s eta 0:00:06\n",
      "     ----- ---------------------------------- 1.8/13.0 MB 2.2 MB/s eta 0:00:06\n",
      "     ----- ---------------------------------- 1.9/13.0 MB 2.3 MB/s eta 0:00:05\n",
      "     ------ --------------------------------- 2.1/13.0 MB 2.4 MB/s eta 0:00:05\n",
      "     ------ --------------------------------- 2.2/13.0 MB 2.4 MB/s eta 0:00:05\n",
      "     ------- -------------------------------- 2.4/13.0 MB 2.5 MB/s eta 0:00:05\n",
      "     -------- ------------------------------- 2.6/13.0 MB 2.6 MB/s eta 0:00:05\n",
      "     -------- ------------------------------- 2.7/13.0 MB 2.6 MB/s eta 0:00:04\n",
      "     -------- ------------------------------- 2.9/13.0 MB 2.6 MB/s eta 0:00:04\n",
      "     --------- ------------------------------ 3.1/13.0 MB 2.7 MB/s eta 0:00:04\n",
      "     ---------- ----------------------------- 3.3/13.0 MB 2.7 MB/s eta 0:00:04\n",
      "     ---------- ----------------------------- 3.5/13.0 MB 2.8 MB/s eta 0:00:04\n",
      "     ----------- ---------------------------- 3.7/13.0 MB 2.8 MB/s eta 0:00:04\n",
      "     ----------- ---------------------------- 3.8/13.0 MB 2.9 MB/s eta 0:00:04\n",
      "     ------------ --------------------------- 4.0/13.0 MB 2.9 MB/s eta 0:00:04\n",
      "     ------------ --------------------------- 4.2/13.0 MB 2.9 MB/s eta 0:00:04\n",
      "     ------------- -------------------------- 4.4/13.0 MB 3.0 MB/s eta 0:00:03\n",
      "     -------------- ------------------------- 4.6/13.0 MB 2.9 MB/s eta 0:00:03\n",
      "     -------------- ------------------------- 4.8/13.0 MB 3.0 MB/s eta 0:00:03\n",
      "     --------------- ------------------------ 5.0/13.0 MB 3.1 MB/s eta 0:00:03\n",
      "     --------------- ------------------------ 5.2/13.0 MB 3.1 MB/s eta 0:00:03\n",
      "     ---------------- ----------------------- 5.3/13.0 MB 3.1 MB/s eta 0:00:03\n",
      "     ---------------- ----------------------- 5.5/13.0 MB 3.1 MB/s eta 0:00:03\n",
      "     ----------------- ---------------------- 5.6/13.0 MB 3.1 MB/s eta 0:00:03\n",
      "     ----------------- ---------------------- 5.8/13.0 MB 3.1 MB/s eta 0:00:03\n",
      "     ------------------ --------------------- 6.0/13.0 MB 3.2 MB/s eta 0:00:03\n",
      "     ------------------ --------------------- 6.2/13.0 MB 3.2 MB/s eta 0:00:03\n",
      "     ------------------- -------------------- 6.3/13.0 MB 3.2 MB/s eta 0:00:03\n",
      "     ------------------- -------------------- 6.4/13.0 MB 3.1 MB/s eta 0:00:03\n",
      "     -------------------- ------------------- 6.6/13.0 MB 3.2 MB/s eta 0:00:03\n",
      "     -------------------- ------------------- 6.8/13.0 MB 3.2 MB/s eta 0:00:02\n",
      "     --------------------- ------------------ 6.9/13.0 MB 3.2 MB/s eta 0:00:02\n",
      "     --------------------- ------------------ 7.1/13.0 MB 3.2 MB/s eta 0:00:02\n",
      "     ---------------------- ----------------- 7.3/13.0 MB 3.2 MB/s eta 0:00:02\n",
      "     ----------------------- ---------------- 7.5/13.0 MB 3.2 MB/s eta 0:00:02\n",
      "     ----------------------- ---------------- 7.7/13.0 MB 3.2 MB/s eta 0:00:02\n",
      "     ----------------------- ---------------- 7.8/13.0 MB 3.2 MB/s eta 0:00:02\n",
      "     ------------------------ --------------- 8.0/13.0 MB 3.2 MB/s eta 0:00:02\n",
      "     ------------------------- -------------- 8.1/13.0 MB 3.2 MB/s eta 0:00:02\n",
      "     ------------------------- -------------- 8.3/13.0 MB 3.3 MB/s eta 0:00:02\n",
      "     -------------------------- ------------- 8.6/13.0 MB 3.3 MB/s eta 0:00:02\n",
      "     --------------------------- ------------ 8.8/13.0 MB 3.3 MB/s eta 0:00:02\n",
      "     --------------------------- ------------ 9.0/13.0 MB 3.3 MB/s eta 0:00:02\n",
      "     ---------------------------- ----------- 9.2/13.0 MB 3.4 MB/s eta 0:00:02\n",
      "     ----------------------------- ---------- 9.5/13.0 MB 3.4 MB/s eta 0:00:02\n",
      "     ----------------------------- ---------- 9.5/13.0 MB 3.3 MB/s eta 0:00:02\n",
      "     ------------------------------ --------- 9.8/13.0 MB 3.4 MB/s eta 0:00:01\n",
      "     ------------------------------ --------- 10.0/13.0 MB 3.4 MB/s eta 0:00:01\n",
      "     ------------------------------- -------- 10.1/13.0 MB 3.4 MB/s eta 0:00:01\n",
      "     ------------------------------- -------- 10.2/13.0 MB 3.4 MB/s eta 0:00:01\n",
      "     -------------------------------- ------- 10.4/13.0 MB 3.6 MB/s eta 0:00:01\n",
      "     -------------------------------- ------- 10.6/13.0 MB 3.6 MB/s eta 0:00:01\n",
      "     -------------------------------- ------- 10.7/13.0 MB 3.6 MB/s eta 0:00:01\n",
      "     --------------------------------- ------ 10.8/13.0 MB 3.5 MB/s eta 0:00:01\n",
      "     --------------------------------- ------ 11.0/13.0 MB 3.6 MB/s eta 0:00:01\n",
      "     ---------------------------------- ----- 11.1/13.0 MB 3.6 MB/s eta 0:00:01\n",
      "     ---------------------------------- ----- 11.3/13.0 MB 3.6 MB/s eta 0:00:01\n",
      "     ----------------------------------- ---- 11.4/13.0 MB 3.7 MB/s eta 0:00:01\n",
      "     ----------------------------------- ---- 11.6/13.0 MB 3.6 MB/s eta 0:00:01\n",
      "     ------------------------------------ --- 11.8/13.0 MB 3.7 MB/s eta 0:00:01\n",
      "     ------------------------------------ --- 11.9/13.0 MB 3.7 MB/s eta 0:00:01\n",
      "     ------------------------------------- -- 12.0/13.0 MB 3.6 MB/s eta 0:00:01\n",
      "     ------------------------------------- -- 12.2/13.0 MB 3.7 MB/s eta 0:00:01\n",
      "     -------------------------------------- - 12.4/13.0 MB 3.6 MB/s eta 0:00:01\n",
      "     -------------------------------------- - 12.6/13.0 MB 3.7 MB/s eta 0:00:01\n",
      "     ---------------------------------------  12.7/13.0 MB 3.7 MB/s eta 0:00:01\n",
      "     ---------------------------------------  12.9/13.0 MB 3.6 MB/s eta 0:00:01\n",
      "     ---------------------------------------  13.0/13.0 MB 3.7 MB/s eta 0:00:01\n",
      "     ---------------------------------------- 13.0/13.0 MB 3.6 MB/s eta 0:00:00\n",
      "Requirement already satisfied: spacy<3.8.0,>=3.7.0 in c:\\users\\diham\\appdata\\local\\programs\\python\\python311\\lib\\site-packages (from pt-core-news-sm==3.7.0) (3.7.2)\n",
      "Requirement already satisfied: spacy-legacy<3.1.0,>=3.0.11 in c:\\users\\diham\\appdata\\local\\programs\\python\\python311\\lib\\site-packages (from spacy<3.8.0,>=3.7.0->pt-core-news-sm==3.7.0) (3.0.12)\n",
      "Requirement already satisfied: spacy-loggers<2.0.0,>=1.0.0 in c:\\users\\diham\\appdata\\local\\programs\\python\\python311\\lib\\site-packages (from spacy<3.8.0,>=3.7.0->pt-core-news-sm==3.7.0) (1.0.5)\n",
      "Requirement already satisfied: murmurhash<1.1.0,>=0.28.0 in c:\\users\\diham\\appdata\\local\\programs\\python\\python311\\lib\\site-packages (from spacy<3.8.0,>=3.7.0->pt-core-news-sm==3.7.0) (1.0.10)\n",
      "Requirement already satisfied: cymem<2.1.0,>=2.0.2 in c:\\users\\diham\\appdata\\local\\programs\\python\\python311\\lib\\site-packages (from spacy<3.8.0,>=3.7.0->pt-core-news-sm==3.7.0) (2.0.8)\n",
      "Requirement already satisfied: preshed<3.1.0,>=3.0.2 in c:\\users\\diham\\appdata\\local\\programs\\python\\python311\\lib\\site-packages (from spacy<3.8.0,>=3.7.0->pt-core-news-sm==3.7.0) (3.0.9)\n",
      "Requirement already satisfied: thinc<8.3.0,>=8.1.8 in c:\\users\\diham\\appdata\\local\\programs\\python\\python311\\lib\\site-packages (from spacy<3.8.0,>=3.7.0->pt-core-news-sm==3.7.0) (8.2.1)\n",
      "Requirement already satisfied: wasabi<1.2.0,>=0.9.1 in c:\\users\\diham\\appdata\\local\\programs\\python\\python311\\lib\\site-packages (from spacy<3.8.0,>=3.7.0->pt-core-news-sm==3.7.0) (1.1.2)\n",
      "Requirement already satisfied: srsly<3.0.0,>=2.4.3 in c:\\users\\diham\\appdata\\local\\programs\\python\\python311\\lib\\site-packages (from spacy<3.8.0,>=3.7.0->pt-core-news-sm==3.7.0) (2.4.8)\n",
      "Requirement already satisfied: catalogue<2.1.0,>=2.0.6 in c:\\users\\diham\\appdata\\local\\programs\\python\\python311\\lib\\site-packages (from spacy<3.8.0,>=3.7.0->pt-core-news-sm==3.7.0) (2.0.10)\n",
      "Requirement already satisfied: weasel<0.4.0,>=0.1.0 in c:\\users\\diham\\appdata\\local\\programs\\python\\python311\\lib\\site-packages (from spacy<3.8.0,>=3.7.0->pt-core-news-sm==3.7.0) (0.3.3)\n",
      "Requirement already satisfied: typer<0.10.0,>=0.3.0 in c:\\users\\diham\\appdata\\local\\programs\\python\\python311\\lib\\site-packages (from spacy<3.8.0,>=3.7.0->pt-core-news-sm==3.7.0) (0.9.0)\n",
      "Requirement already satisfied: smart-open<7.0.0,>=5.2.1 in c:\\users\\diham\\appdata\\local\\programs\\python\\python311\\lib\\site-packages (from spacy<3.8.0,>=3.7.0->pt-core-news-sm==3.7.0) (6.4.0)\n",
      "Requirement already satisfied: tqdm<5.0.0,>=4.38.0 in c:\\users\\diham\\appdata\\local\\programs\\python\\python311\\lib\\site-packages (from spacy<3.8.0,>=3.7.0->pt-core-news-sm==3.7.0) (4.66.1)\n",
      "Requirement already satisfied: requests<3.0.0,>=2.13.0 in c:\\users\\diham\\appdata\\local\\programs\\python\\python311\\lib\\site-packages (from spacy<3.8.0,>=3.7.0->pt-core-news-sm==3.7.0) (2.31.0)\n",
      "Requirement already satisfied: pydantic!=1.8,!=1.8.1,<3.0.0,>=1.7.4 in c:\\users\\diham\\appdata\\local\\programs\\python\\python311\\lib\\site-packages (from spacy<3.8.0,>=3.7.0->pt-core-news-sm==3.7.0) (2.4.2)\n",
      "Requirement already satisfied: jinja2 in c:\\users\\diham\\appdata\\local\\programs\\python\\python311\\lib\\site-packages (from spacy<3.8.0,>=3.7.0->pt-core-news-sm==3.7.0) (3.1.2)\n",
      "Requirement already satisfied: setuptools in c:\\users\\diham\\appdata\\local\\programs\\python\\python311\\lib\\site-packages (from spacy<3.8.0,>=3.7.0->pt-core-news-sm==3.7.0) (65.5.0)\n",
      "Requirement already satisfied: packaging>=20.0 in c:\\users\\diham\\appdata\\local\\programs\\python\\python311\\lib\\site-packages (from spacy<3.8.0,>=3.7.0->pt-core-news-sm==3.7.0) (23.2)\n",
      "Requirement already satisfied: langcodes<4.0.0,>=3.2.0 in c:\\users\\diham\\appdata\\local\\programs\\python\\python311\\lib\\site-packages (from spacy<3.8.0,>=3.7.0->pt-core-news-sm==3.7.0) (3.3.0)\n",
      "Requirement already satisfied: numpy>=1.19.0 in c:\\users\\diham\\appdata\\local\\programs\\python\\python311\\lib\\site-packages (from spacy<3.8.0,>=3.7.0->pt-core-news-sm==3.7.0) (1.26.1)\n",
      "Requirement already satisfied: annotated-types>=0.4.0 in c:\\users\\diham\\appdata\\local\\programs\\python\\python311\\lib\\site-packages (from pydantic!=1.8,!=1.8.1,<3.0.0,>=1.7.4->spacy<3.8.0,>=3.7.0->pt-core-news-sm==3.7.0) (0.6.0)\n",
      "Requirement already satisfied: pydantic-core==2.10.1 in c:\\users\\diham\\appdata\\local\\programs\\python\\python311\\lib\\site-packages (from pydantic!=1.8,!=1.8.1,<3.0.0,>=1.7.4->spacy<3.8.0,>=3.7.0->pt-core-news-sm==3.7.0) (2.10.1)\n",
      "Requirement already satisfied: typing-extensions>=4.6.1 in c:\\users\\diham\\appdata\\local\\programs\\python\\python311\\lib\\site-packages (from pydantic!=1.8,!=1.8.1,<3.0.0,>=1.7.4->spacy<3.8.0,>=3.7.0->pt-core-news-sm==3.7.0) (4.8.0)\n",
      "Requirement already satisfied: charset-normalizer<4,>=2 in c:\\users\\diham\\appdata\\local\\programs\\python\\python311\\lib\\site-packages (from requests<3.0.0,>=2.13.0->spacy<3.8.0,>=3.7.0->pt-core-news-sm==3.7.0) (3.3.1)\n",
      "Requirement already satisfied: idna<4,>=2.5 in c:\\users\\diham\\appdata\\local\\programs\\python\\python311\\lib\\site-packages (from requests<3.0.0,>=2.13.0->spacy<3.8.0,>=3.7.0->pt-core-news-sm==3.7.0) (3.4)\n",
      "Requirement already satisfied: urllib3<3,>=1.21.1 in c:\\users\\diham\\appdata\\local\\programs\\python\\python311\\lib\\site-packages (from requests<3.0.0,>=2.13.0->spacy<3.8.0,>=3.7.0->pt-core-news-sm==3.7.0) (2.0.7)\n",
      "Requirement already satisfied: certifi>=2017.4.17 in c:\\users\\diham\\appdata\\local\\programs\\python\\python311\\lib\\site-packages (from requests<3.0.0,>=2.13.0->spacy<3.8.0,>=3.7.0->pt-core-news-sm==3.7.0) (2023.7.22)\n",
      "Requirement already satisfied: blis<0.8.0,>=0.7.8 in c:\\users\\diham\\appdata\\local\\programs\\python\\python311\\lib\\site-packages (from thinc<8.3.0,>=8.1.8->spacy<3.8.0,>=3.7.0->pt-core-news-sm==3.7.0) (0.7.11)\n",
      "Requirement already satisfied: confection<1.0.0,>=0.0.1 in c:\\users\\diham\\appdata\\local\\programs\\python\\python311\\lib\\site-packages (from thinc<8.3.0,>=8.1.8->spacy<3.8.0,>=3.7.0->pt-core-news-sm==3.7.0) (0.1.3)\n",
      "Requirement already satisfied: colorama in c:\\users\\diham\\appdata\\local\\programs\\python\\python311\\lib\\site-packages (from tqdm<5.0.0,>=4.38.0->spacy<3.8.0,>=3.7.0->pt-core-news-sm==3.7.0) (0.4.6)\n",
      "Requirement already satisfied: click<9.0.0,>=7.1.1 in c:\\users\\diham\\appdata\\local\\programs\\python\\python311\\lib\\site-packages (from typer<0.10.0,>=0.3.0->spacy<3.8.0,>=3.7.0->pt-core-news-sm==3.7.0) (8.1.7)\n",
      "Requirement already satisfied: cloudpathlib<0.17.0,>=0.7.0 in c:\\users\\diham\\appdata\\local\\programs\\python\\python311\\lib\\site-packages (from weasel<0.4.0,>=0.1.0->spacy<3.8.0,>=3.7.0->pt-core-news-sm==3.7.0) (0.16.0)\n",
      "Requirement already satisfied: MarkupSafe>=2.0 in c:\\users\\diham\\appdata\\local\\programs\\python\\python311\\lib\\site-packages (from jinja2->spacy<3.8.0,>=3.7.0->pt-core-news-sm==3.7.0) (2.1.3)\n",
      "\u001b[38;5;3m[!] As of spaCy v3.0, shortcuts like 'pt' are deprecated. Please use\n",
      "the full pipeline package name 'pt_core_news_sm' instead.\u001b[0m\n",
      "\u001b[38;5;2m[+] Download and installation successful\u001b[0m\n",
      "You can now load the package via spacy.load('pt_core_news_sm')\n"
     ]
    }
   ],
   "source": [
    "!python -m spacy download pt"
   ]
  },
  {
   "cell_type": "code",
   "execution_count": 35,
   "id": "03cdd16c-f3a9-42d7-8b9b-1a586678a1e0",
   "metadata": {},
   "outputs": [
    {
     "data": {
      "text/plain": [
       "<spacy.lang.pt.Portuguese at 0x24c77db9dd0>"
      ]
     },
     "execution_count": 35,
     "metadata": {},
     "output_type": "execute_result"
    }
   ],
   "source": [
    "pln = spacy.load(\"pt_core_news_sm\")\n",
    "pln"
   ]
  },
  {
   "cell_type": "code",
   "execution_count": 36,
   "id": "9014c406-2280-41c3-8464-86d092180d62",
   "metadata": {},
   "outputs": [],
   "source": [
    "documento = pln(conteudo_feed)"
   ]
  },
  {
   "cell_type": "code",
   "execution_count": 37,
   "id": "d1df32eb-72c6-4886-b9ce-2a02f4494560",
   "metadata": {},
   "outputs": [
    {
     "data": {
      "text/html": [
       "<span class=\"tex2jax_ignore\"><div class=\"entities\" style=\"line-height: 2.5; direction: ltr\">busca desenvolver máquinas inteligentes capazes raciocinar seres humanos objetivo duradouro área inteligência artificial estudo recente publicado nature traz perspectiva inovadora sugerir chave criar modelos ia flexíveis capacidade raciocínio humano pode forma modelos treinados vez simplesmente quantidade dados treinamento recebem composicionalidade capacidade combinar informações maneira criativa princípios fundamentais cognição humana permite exemplo criar receitas únicas partir ingredientes familiares forma genérica compreender frases nunca vimos antes entanto replicar capacidade ia sido desafio modelos avançados família \n",
       "<mark class=\"entity\" style=\"background: #7aecec; padding: 0.45em 0.6em; margin: 0 0.25em; line-height: 1; border-radius: 0.35em;\">\n",
       "    gpt\n",
       "    <span style=\"font-size: 0.8em; font-weight: bold; line-height: 1; border-radius: 0.35em; vertical-align: middle; margin-left: 0.5rem\">ORG</span>\n",
       "</mark>\n",
       " têm dificuldade alcançar verdadeira composicionalidade estudo publicado adota abordagem diferente vez criar novo modelo ia zero pesquisadores utilizaram modelo transformer padrão semelhante usados gpt treinamento prévio texto chave forma conduziram processo treinamento desenvolveram linguagem fictícia palavras significado dax lug kiki fep blicket relacionadas conjuntos pontos coloridos modelo ia treinado compreender regras dessa linguagem fictícia informações explícitas sobre associações palavras pontos coloridos modelo treinado dessa forma superou humanos testes compreensão dessa linguagem fictícia atingindo precisão melhor performance enquanto humanos alcançaram precisão avaliado mesma tarefa gpt somente acertos descoberta desafia ideia predominante aumentar quantidade dados treinamento único caminho melhorar ia sugere protocolos treinamento específicos direcionados podem alternativa eficaz aprimorar capacidade raciocínio generalização modelos ia entanto importante reconhecer estudo possui limitações modelo treinado destacou tarefa específica ainda enfrenta desafios novas formas generalização atingiu nível inteligência artificial geral onde ia superaria habilidades humanas maioria tarefas pesquisa oferece visão empolgante futuro inteligência artificial destacando importância manter expectativas realistas relação capacidades atuais ia embora promissora ia ainda limites entender limitações fundamental medida continuamos explorar potencial post novo método treinamento ajuda inteligência artificial generalizar humanos apareceu primeiro ia expert academy.a previsão séries temporais desempenha papel crucial várias aplicações mundo real vão desde previsão demanda análise propagação pandemias campo previsão séries temporais multivariadas testemunhou duas categorias principais modelos univariados multivariados modelos univariados focam captura tendências padrões sazonais séries temporais variável única enquanto modelos multivariados forma redes neurais estendem capacidades processar informações cruzadas variáveis diferentes fornecendo insights sobre interações variáveis comparações duas abordagens levantaram paradoxo intrigante modelos multivariados avançados frequentemente têm desempenho inferior modelos lineares univariados simples benchmarks previsão longo prazo levantando questões sobre importância informação cruzada previsão séries temporais resposta desafio equipe google ai introduziu solução batizada time series mixer tsmixer tsmixer abordagem inovadora aproveita pontos fortes modelos lineares enquanto incorpora eficientemente informações cruzadas através transformer modificado resultando modelo rivaliza desempenho melhores modelos univariados benchmarks previsão longo prazo principais diferenças modelos lineares arquiteturas baseadas transformers forma capturam padrões temporais modelos lineares utilizam pesos fixos dependentes passo tempo enquanto transformers têm pesos dinâmicos dependentes dados processados meio mecanismos atenção tsmixer preenche lacuna combinando duas abordagens substituir camadas atenção transformer camadas lineares resultados empíricos prova habilidade tsmixer supera outros modelos multivariados equipara melhores modelos univariados avaliado relação conjuntos dados populares previsão longo prazo demonstra modelos multivariados bem projetados podem igualar desempenho homólogos univariados modelo destaca aplicações onde informação cruzada menos benéfica demonstrado sucesso diversos benchmarks previsão longo prazo entanto mostra força desafiado conjuntos dados complexos realistas benchmark m5 exige incorporação informações cruzadas recursos auxiliares compreensão interações intricadas variáveis unir pontos fortes modelos lineares adaptabilidade arquiteturas baseadas transformers tsmixer oferece novas possibilidades desenvolvimento modelos previsão séries temporais anúncio modelo acompanha artigo detalhes técnicos post tsmixer solução \n",
       "<mark class=\"entity\" style=\"background: #ddd; padding: 0.45em 0.6em; margin: 0 0.25em; line-height: 1; border-radius: 0.35em;\">\n",
       "    google une modelos lineares redes neurais\n",
       "    <span style=\"font-size: 0.8em; font-weight: bold; line-height: 1; border-radius: 0.35em; vertical-align: middle; margin-left: 0.5rem\">MISC</span>\n",
       "</mark>\n",
       " previsões séries temporais apareceu primeiro ia expert academy.se alguns ainda sentem presença inteligência artificial rotinas vai ficar impossível negar alguns produtos utilizamos passarem utilizar tecnologia deve acontecer breve principais aplicativos meta discurso conferência anual meta connect final setembro \n",
       "<mark class=\"entity\" style=\"background: #ddd; padding: 0.45em 0.6em; margin: 0 0.25em; line-height: 1; border-radius: 0.35em;\">\n",
       "    mark zuckerberg\n",
       "    <span style=\"font-size: 0.8em; font-weight: bold; line-height: 1; border-radius: 0.35em; vertical-align: middle; margin-left: 0.5rem\">PER</span>\n",
       "</mark>\n",
       " revelou onda inovações inteligência artificial destinadas transformar universo meta atualizações prometem injetar ia última geração aplicativos usados bilhões anunciando nova interação digital experiências usuário revelações chatbot meta ai assistente conversação avançado breve disponível whatsapp messenger instagram \n",
       "<mark class=\"entity\" style=\"background: #ff9561; padding: 0.45em 0.6em; margin: 0 0.25em; line-height: 1; border-radius: 0.35em;\">\n",
       "    estados unidos\n",
       "    <span style=\"font-size: 0.8em; font-weight: bold; line-height: 1; border-radius: 0.35em; vertical-align: middle; margin-left: 0.5rem\">LOC</span>\n",
       "</mark>\n",
       " meta ai fornecerá informações tempo real meio aliança estratégica \n",
       "<mark class=\"entity\" style=\"background: #7aecec; padding: 0.45em 0.6em; margin: 0 0.25em; line-height: 1; border-radius: 0.35em;\">\n",
       "    microsoft\n",
       "    <span style=\"font-size: 0.8em; font-weight: bold; line-height: 1; border-radius: 0.35em; vertical-align: middle; margin-left: 0.5rem\">ORG</span>\n",
       "</mark>\n",
       " bing além disso introduz ferramenta geração imagens alimentada novo modelo emu diferencia ia base tecnologia código aberto llm llama desenvolvida empresa garantindo capacidades poderosas adaptáveis outra novidade elenco personas ia versão beta cada interesses personalidades distintas ícones culturais influenciadores snoop dogg tom brady kendall jenner naomi \n",
       "<mark class=\"entity\" style=\"background: #ddd; padding: 0.45em 0.6em; margin: 0 0.25em; line-height: 1; border-radius: 0.35em;\">\n",
       "    osaka\n",
       "    <span style=\"font-size: 0.8em; font-weight: bold; line-height: 1; border-radius: 0.35em; vertical-align: middle; margin-left: 0.5rem\">PER</span>\n",
       "</mark>\n",
       " fazem estreias digitais meta denomina ias novo elenco personagens cada acompanhado história fundo inovação promete novas formas interação engajamento usuários criativos disposição adesivos ia generativa gama aplicativos breve usuários poderão editar imagens colaborar amigos instagram usando ferramentas edição ia redefinem estética cenários fundo aproveitando poder tecnologia llama modelo geração imagens emu ferramenta pode transformar prompts texto adesivos inicialmente recurso estará disponível usuários falam inglês aplicativos whatsapp messenger instagram facebook stories próximos meses foco empresas meta lançará plataforma ai studio projetada negócios desejam criar chatbots ia serviços mensagens abrangendo facebook instagram messenger parte estratégia meta preparando lançar ferramenta laboratório testes democratizando criação experimentação ia todos entusiastas novidade empolgante anúncio integração meta ai novos óculos inteligentes \n",
       "<mark class=\"entity\" style=\"background: #ddd; padding: 0.45em 0.6em; margin: 0 0.25em; line-height: 1; border-radius: 0.35em;\">\n",
       "    ray ban\n",
       "    <span style=\"font-size: 0.8em; font-weight: bold; line-height: 1; border-radius: 0.35em; vertical-align: middle; margin-left: 0.5rem\">PER</span>\n",
       "</mark>\n",
       " ativado voz comando hey meta recurso possibilita interagir ia pode exibir informações lentes preço inicial dólares óculos programados serem lançados outubro disponíveis pré encomenda marca avanço monumental fusão ia tecnologia vestível zuckerberg deixou claro lançamentos primeira iteração empreitada batizada meta ai portanto devem ter limitações naturais permanece ansioso receber feedback comprometido aprimoramento contínuo dessa tecnologia revelações conferência meta connect geraram ondas expectativa mundo tecnologia infusão ia última geração plataformas dispositivos populares prestes redefinir dinâmica interação humanos máquinas depender iniciativas usuários podem preparar experiência digital imersiva envolvente dinâmica post meta anuncia novos recursos baseados inteligência artificial apareceu primeiro ia expert academy.por impressionantes si aspectos revolucionários llms \n",
       "<mark class=\"entity\" style=\"background: #ddd; padding: 0.45em 0.6em; margin: 0 0.25em; line-height: 1; border-radius: 0.35em;\">\n",
       "    large language models\n",
       "    <span style=\"font-size: 0.8em; font-weight: bold; line-height: 1; border-radius: 0.35em; vertical-align: middle; margin-left: 0.5rem\">PER</span>\n",
       "</mark>\n",
       " uso parte aplicações avançadas ia entretanto sistemas intrincados exigem considerável expertise esforço serem projetados implementados maneira eficaz ajudar desenvolvedores nessa tarefa \n",
       "<mark class=\"entity\" style=\"background: #7aecec; padding: 0.45em 0.6em; margin: 0 0.25em; line-height: 1; border-radius: 0.35em;\">\n",
       "    microsoft\n",
       "    <span style=\"font-size: 0.8em; font-weight: bold; line-height: 1; border-radius: 0.35em; vertical-align: middle; margin-left: 0.5rem\">ORG</span>\n",
       "</mark>\n",
       " apresentando autogen framework promete simplificar otimizar automatizar fluxos trabalho llm tornando acessíveis eficientes empresa apresenta autogen apenas ferramenta automação introduz agentes personalizáveis conversacionais integram perfeitamente llms seres humanos diversas ferramentas fluxo trabalho unificado agentes altamente modulares reutilizáveis tornando simples adaptar fluxos trabalho aplicações específicas definir agentes interagem si intuitivo possibilitando fluxos trabalho dinâmicos responsivos necessidade codificação complexa características marcantes autogen capacidade reduzir drasticamente esforço manual aplicações complexas exemplo pode reduzir número interações manuais necessárias 10x otimização cadeia suprimentos diminuir esforço codificação 4x aumento eficiência pode diferencial desenvolvedores organizações desejam aproveitar máximo capacidades llms agentes autogen versáteis capazes utilizar llms incorporar inteligência humana lidar execução código depuração maneira fluida agentes podem integrados facilmente várias aplicações oferecendo graus personalizáveis automação atender necessidades específicas design centrado agentes autogen traz diversas vantagens capacidade natural lidar ambiguidade feedback colaboração usuários podem optar participar interações vários especialistas podem colaborar direção objetivo comum além disso autogen destaca suporte diversos padrões comunicação tornando apto orquestrar fluxos trabalho dinâmicos complexos ferramenta sendo apresentada comunidade formato open source biblioteca \n",
       "<mark class=\"entity\" style=\"background: #ddd; padding: 0.45em 0.6em; margin: 0 0.25em; line-height: 1; border-radius: 0.35em;\">\n",
       "    python\n",
       "    <span style=\"font-size: 0.8em; font-weight: bold; line-height: 1; border-radius: 0.35em; vertical-align: middle; margin-left: 0.5rem\">MISC</span>\n",
       "</mark>\n",
       " vários casos uso podem consultados página projeto github post autogen \n",
       "<mark class=\"entity\" style=\"background: #7aecec; padding: 0.45em 0.6em; margin: 0 0.25em; line-height: 1; border-radius: 0.35em;\">\n",
       "    microsoft\n",
       "    <span style=\"font-size: 0.8em; font-weight: bold; line-height: 1; border-radius: 0.35em; vertical-align: middle; margin-left: 0.5rem\">ORG</span>\n",
       "</mark>\n",
       " simplifica orquestração otimização automação fluxos trabalho llm apareceu primeiro ia expert academy.os modelos generativos produção material áudio visual avanços significativos introdução modelos difusão baseados estados latentes inovações melhoraram consideravelmente qualidade controle sobre conteúdo gerado imagens vídeos áudios modelos difusão latente operam espaço codificação autoencoder pré treinado têm desempenhado papel crucial nesse avanço entanto geração áudio modelos enfrenta desafios particulares vez geralmente treinados gerar saídas tamanho fixo significa modelo áudio exemplo pode gerar apenas segmentos áudio tamanho predeterminado limitação torna problemática tentar gerar áudio comprimentos variados músicas completas superar obstáculo stability ai apresentou stable audio modelo difusão latente inovador apenas considera dados áudio metadados importantes descrições texto duração arquivo áudio horário início permite usuários controlar precisamente conteúdo duração áudio gerado característica notável stable audio uso representações latentes altamente compactadas acelera significativamente tempos inferência comparação uso áudio bruto possível graças recentes técnicas amostragem difusão além disso stable audio combina variational autoencoder vae codificação texto informações tempo permitindo usuários gerem áudio duração específica modelo difusão central stable audio u net milhões parâmetros equipado camadas residuais camadas autoatenção camadas atenção cruzada remover ruído áudio entrada base informações texto tempo treinar modelo utilizado conjunto dados extenso 800.000 arquivos áudio metadados correspondentes stable audio representa inovação destaque pesquisa áudio generativo impulsionada laboratório pesquisa áudio generativo \n",
       "<mark class=\"entity\" style=\"background: #ddd; padding: 0.45em 0.6em; margin: 0 0.25em; line-height: 1; border-radius: 0.35em;\">\n",
       "    stability\n",
       "    <span style=\"font-size: 0.8em; font-weight: bold; line-height: 1; border-radius: 0.35em; vertical-align: middle; margin-left: 0.5rem\">MISC</span>\n",
       "</mark>\n",
       " ai harmonai alguns exemplos áudio gerado modelo podem ouvidos página projeto laboratório pretende disponibilizar código formato aberto post stable audio modelo difusão geração áudio máximo controle apareceu primeiro ia expert academy.os modelos generativos têm tendência ignorar parte descrições recebem produzindo exatamente usuário solicitou menos parte pode corrigido prompts elaborados gerou chamado prompt engineering usuário casual geralmente dificuldade traduzir ideias conceitos modelo entende verdade tanto modelos geram texto quanto geram imagens universo geração imagens dall deve solucionar maioria desses problemas anunciado openai mês nova versão modelo entende melhor nuances detalhes permite traduzir solicitações recebe imagens excepcionalmente precisas resultado prompt resultados melhores versão anterior além melhoria qualidade dall construído nativamente ambiente chatgpt forma agora ferramenta texto pode produzir refinar imagens através interações iterativas usuário pode começar frase simples ir melhorando resultado adicionar detalhes chegar descrição complexa assim desejar trás panos chatgpt vai gerar prompts dall dá liberdade usuário usar linguagem menos técnica openai garante tomou cuidados evitar ferramenta utilizada finalidades escusas material violento adulto além disso vai recusar pedidos simular artistas vivos permitindo ainda criadores escolham fazer parte dados treinamento novos modelos futuro outro lado assim versões anteriores todas produções realizadas dall propriedade usuário publicar comercializar enquanto dall disponível preview pesquisadores outubro deve passar integrar assinaturas plus entreprise chatgpt neste meio tempo deixe ver algumas produções modelo página oficial post dall traz melhorias significativas integração chatgpt apareceu primeiro ia expert academy.no mundo processamento linguagem natural grandes modelos linguagem llms têm sido revolução várias aplicações entanto modelos têm enfrentado problema persistente conhecido alucinação geram informações alinhadas fatos mundo real representa desafio significativo especialmente campos críticos saúde direito onde geração texto confiável fundamental causa raiz desse problema alucinação pode rastreada objetivo treinamento llms visa minimizar divergência dados distribuições modelo objetivo pode inadvertidamente levar modelo atribuir probabilidades nulas frases alinham completamente dados treinamento resultando imprecisões factuais pesquisadores instituto tecnologia massachusetts mit \n",
       "<mark class=\"entity\" style=\"background: #7aecec; padding: 0.45em 0.6em; margin: 0 0.25em; line-height: 1; border-radius: 0.35em;\">\n",
       "    microsoft\n",
       "    <span style=\"font-size: 0.8em; font-weight: bold; line-height: 1; border-radius: 0.35em; vertical-align: middle; margin-left: 0.5rem\">ORG</span>\n",
       "</mark>\n",
       " propuseram solução inovadora chamada decodificação camadas contrastantes dola abordagem aproveita arquitetura camadas llms baseados transformers enquanto camadas antigas capturam informações nível inferior etiquetas parte discurso camadas posteriores codificam significado semântico calcular probabilidade saída próxima palavra base diferença logits camada superior dola efetivamente fundamenta llms realidade reduzindo alucinações eficácia dola validada meio experimentos melhora integridade llms diversos benchmarks truthfulqa factor aprimora raciocínio factual cenários strategyqa gsm8k cc além disso testado gpt geração texto aberto dola produz consistentemente respostas informativas factualmente precisas resultando classificações altas usuários embora dola mostre promessa mitigar alucinações melhorar precisão factual existem áreas serem exploradas pesquisadores ainda examinaram desempenho modelo tarefas seguir instruções incorporar feedback humano além disso dola depende exclusivamente conhecimento existente modelo recuperação externa ajuste fino limita potencial melhorias adicionais ainda assim dola representa avanço significativo abordagem problema alucinação grandes modelos linguagem concentrar camadas profundas modelo dola oferece promissora via tornar llms confiáveis especialmente aplicações alto risco medida pesquisa nessa área avança podemos antecipar modelos linguagem robustos mantenham integridade dados atendam demandas domínios críticos artigo código relacionado pesquisa disponíveis consulta post nova estratégia decodificação aumenta veracidade informações produzidas llms apareceu primeiro ia expert \n",
       "<mark class=\"entity\" style=\"background: #ddd; padding: 0.45em 0.6em; margin: 0 0.25em; line-height: 1; border-radius: 0.35em;\">\n",
       "    academy.as\n",
       "    <span style=\"font-size: 0.8em; font-weight: bold; line-height: 1; border-radius: 0.35em; vertical-align: middle; margin-left: 0.5rem\">MISC</span>\n",
       "</mark>\n",
       " imagens ressonância magnética mri conhecidas capacidade fornecer contraste excepcional tecidos moles principal diferencial outras modalidades imagem raios x tomografias computadorizadas imagens alta qualidade têm sido instrumentais ajudar profissionais saúde avaliar diagnosticar monitorar várias condições médicas entanto ressalva imagens mri incrivelmente sensíveis movimento menor movimento durante varredura pode resultar artefatos problemáticos vez podem justificar diagnósticos imprecisos especialmente problemático pacientes podem ficar imóveis crianças indivíduos distúrbios psiquiátricos estudo doenças provocam movimentos involuntários trabalho apresentado agosto pesquisadores instituto tecnologia massachusetts mit promete ajuda importante nesse sentido juntando modelagem baseada física inteligência artificial desenvolveram sistema cria imagens livres movimento partir dados corrompidos tudo alterar procedimento varredura mri si torna abordagem combinada verdadeiramente significativa ênfase manutenção coerência imagem saída medições reais objeto garante modelo aprendizado profundo gere especialistas chamam alucinações imagens parecem reais física espacialmente imprecisas tais imprecisões poderiam ter consequências graves diagnósticos médicos além melhorar resultados pacientes pesquisa potencial reduzir significativamente custos saúde imagens baixa qualidade atualmente implicam nova realização exame perspectivas avanço dessa linha pesquisa interessantes além resolver casos involuntários movimento pesquisadores imaginam futuro possível utilizar técnica estudar tecidos movimento algo hoje impossível post ia corrige imagens ressonância magnética corrompidas movimento apareceu primeiro ia expert academy.aqueles testaram uso grandes modelos linguagem instruções longas complexas sabe pontos fracos versões robustas têm dificuldade entender comandos longos muitos detalhes desenvolvedores desses modelos buscam estratégias mitigar limitações caso llama 7b 32k meta aumentou tamanho contexto mil tokens relação versão anterior meta continuou trabalhando novas iterações desta solução torná la ainda atraente ferramenta linguagem natural disponível público geral assim mês passado publicado llama 7b 32k instruct versão modelo anterior capaz trabalhar instruções fazem \n",
       "<mark class=\"entity\" style=\"background: #ddd; padding: 0.45em 0.6em; margin: 0 0.25em; line-height: 1; border-radius: 0.35em;\">\n",
       "    chatgpt bard\n",
       "    <span style=\"font-size: 0.8em; font-weight: bold; line-height: 1; border-radius: 0.35em; vertical-align: middle; margin-left: 0.5rem\">PER</span>\n",
       "</mark>\n",
       " exemplo versão instruct consegue compreender janelas contexto longo graças quatro etapas desenvolvimento primeira chamada destilação três grandes datasets utilizados gerar dados treinamento fazendo uso outro modelo família llama llama 70b chat segunda corresponde treinamento compreende processo fine tuning llama 7b 32k terceira modelo testado diversas tarefas criação sumários resposta questões envolvendo múltiplos documentos finalmente quarta etapa ocorre deploy autores estressam desenvolvimento facilitado uso together api permitiu criar novo modelo menos linhas código \n",
       "<mark class=\"entity\" style=\"background: #ddd; padding: 0.45em 0.6em; margin: 0 0.25em; line-height: 1; border-radius: 0.35em;\">\n",
       "    python\n",
       "    <span style=\"font-size: 0.8em; font-weight: bold; line-height: 1; border-radius: 0.35em; vertical-align: middle; margin-left: 0.5rem\">MISC</span>\n",
       "</mark>\n",
       " comparado outros modelos tanto família llama quanto modelos gpt llama 7b 32k instruct mostrou desempenho superior execução tarefas instruções longas mantendo desempenho comparável instruções simples sido comum llms desenvolvidas meta versão llama pode consultada testada formato open source post meta apresenta versão llama alto desempenho instruções longas complexas apareceu primeiro ia expert academy.os modelos linguagem grandes llms notáveis geração conteúdo bem escrito porém sempre alinhado preferências humanas dado enorme volume dados treinados viável executar fase curadoria nesse material vieses conteúdo perigoso podem incorporados capacidades modelo algumas abordagens tentam resolver problema etapa offline chamada \n",
       "<mark class=\"entity\" style=\"background: #ddd; padding: 0.45em 0.6em; margin: 0 0.25em; line-height: 1; border-radius: 0.35em;\">\n",
       "    human in the\n",
       "    <span style=\"font-size: 0.8em; font-weight: bold; line-height: 1; border-radius: 0.35em; vertical-align: middle; margin-left: 0.5rem\">MISC</span>\n",
       "</mark>\n",
       " loop onde pessoa inspeciona resultados gerados modelo fornece feedback aperfeiçoamento técnica entretanto claramente onerosa pouco eficiente tornar tarefa alinhamento escalonável trabalho publicado grupo deepmind \n",
       "<mark class=\"entity\" style=\"background: #7aecec; padding: 0.45em 0.6em; margin: 0 0.25em; line-height: 1; border-radius: 0.35em;\">\n",
       "    google\n",
       "    <span style=\"font-size: 0.8em; font-weight: bold; line-height: 1; border-radius: 0.35em; vertical-align: middle; margin-left: 0.5rem\">ORG</span>\n",
       "</mark>\n",
       " apresenta framework batizado auto treinamento reforçado reinforced self training rest rest aborda desafio alinhamento llms preferências humanas através dois ciclos interconectados crescimento aperfeiçoamento fase crescimento várias previsões saída geradas cenários diversos usando política modelo linguagem previsões ampliam conjunto treinamento preparam refinamentos futuros diferencial rest fase aperfeiçoamento opera conjunto dados refinado fase anteiror fase aperfeiçoamento conjunto dados enriquecido passa processo curadoria automática pontuação baseada modelo recompensa oriundo preferências humanas conjunto refinado serve base ajustar modelo linguagem através aprendizado reforço offline rest iterativo vários ciclos crescimento aperfeiçoamento melhorando continuamente conjunto dados treinamento refinando política modelo linguagem rest oferece vantagens relação abordagens tradicionais aprendizado reforço online offline maximiza eficiência crescimento várias etapas aperfeiçoamento reduzindo custos computacionais qualidade política limitada conjunto dados original pois novos dados amostrados política evolução separação clara duas fases facilita análise qualidade dados detecção problemas alinhamento método testado tarefa tradução automática demonstrando eficácia melhorar resultados modelos recompensa testes validações rest superou consistentemente abordagens aprendizado supervisionado produzindo traduções melhor qualidade avaliadas humanos post deepmind apresenta framework garantir alinhamento llms preferências humanas apareceu primeiro ia expert academy</div></span>"
      ],
      "text/plain": [
       "<IPython.core.display.HTML object>"
      ]
     },
     "metadata": {},
     "output_type": "display_data"
    }
   ],
   "source": [
    "from spacy import displacy\n",
    "displacy.render(documento, style = 'ent', jupyter =True)"
   ]
  },
  {
   "cell_type": "code",
   "execution_count": 47,
   "id": "49b14efe-435e-461f-b968-2f81ae3bec99",
   "metadata": {},
   "outputs": [
    {
     "name": "stdout",
     "output_type": "stream",
     "text": [
      "estados unidos LOC\n"
     ]
    }
   ],
   "source": [
    "for entidade in documento.ents:\n",
    "  if entidade.label_ == 'LOC':\n",
    "    print(entidade.text, entidade.label_)"
   ]
  },
  {
   "cell_type": "code",
   "execution_count": 51,
   "id": "5fdac55a-ef23-4354-a5e1-eef8c7b13fe7",
   "metadata": {},
   "outputs": [
    {
     "data": {
      "text/html": [
       "<h1>Resumo do Texto - Novo método de treinamento ajuda a inteligência artificial a generalizar como humanos</h1>"
      ],
      "text/plain": [
       "<IPython.core.display.HTML object>"
      ]
     },
     "metadata": {},
     "output_type": "display_data"
    },
    {
     "data": {
      "text/html": [
       "A busca por desenvolver máquinas inteligentes capazes de raciocinar como seres humanos é um objetivo duradouro na área de inteligência artificial.<mark>Um estudo recente publicado na Nature traz uma perspectiva inovadora ao sugerir que a chave para criar modelos de IA flexíveis e com capacidade de raciocínio humano pode estar na forma como esses modelos são treinados, em vez de simplesmente na quantidade de dados de treinamento que recebem.</mark>A composicionalidade, ou a capacidade de combinar informações de maneira criativa, é um dos princípios fundamentais da cognição humana.<mark>Isso nos permite, por exemplo, criar receitas únicas a partir de ingredientes familiares, e de forma mais genérica, compreender frases que nunca vimos antes.</mark>No entanto, replicar essa capacidade na IA tem sido um desafio.Mesmo modelos avançados como os da família GPT têm dificuldade em alcançar a verdadeira composicionalidade.O estudo publicado adota uma abordagem diferente.<mark>Em vez de criar um novo modelo de IA do zero, os pesquisadores utilizaram um modelo transformer padrão, semelhante aos usados no GPT, mas sem treinamento prévio em texto.</mark>A chave foi a forma como eles conduziram o processo de treinamento.Eles desenvolveram uma linguagem fictícia com palavras sem significado, como dax, lug, kiki, fep e blicket, relacionadas a conjuntos de pontos coloridos.<mark>O modelo de IA foi treinado para compreender as regras dessa linguagem fictícia, mesmo que não tivesse informações explícitas sobre as associações entre palavras e pontos coloridos.</mark><mark>O modelo treinado dessa forma superou os humanos em testes de compreensão dessa linguagem fictícia, atingindo 100 de precisão em sua melhor performance, enquanto os humanos alcançaram 81 de precisão.</mark>Avaliado na mesma tarefa, o GPT 4 teve somente 58 de acertos.Essa descoberta desafia a ideia predominante de que aumentar a quantidade de dados de treinamento é o único caminho para melhorar a IA.Ela sugere que protocolos de treinamento específicos e direcionados podem ser uma alternativa eficaz para aprimorar a capacidade de raciocínio e generalização dos modelos de IA.No entanto, é importante reconhecer que esse estudo possui limitações.O modelo treinado se destacou em uma tarefa específica, mas ainda enfrenta desafios em novas formas de generalização e não atingiu o nível de inteligência artificial geral, onde a IA superaria as habilidades humanas na maioria das tarefas.Essa pesquisa oferece uma visão empolgante do futuro da inteligência artificial, destacando a importância de manter expectativas realistas em relação às capacidades atuais da IA.Embora promissora, a IA ainda tem seus limites, e entender essas limitações é fundamental à medida que continuamos a explorar seu potencial.O post Novo método de treinamento ajuda a inteligência artificial a generalizar como humanos apareceu primeiro em IA Expert Academy."
      ],
      "text/plain": [
       "<IPython.core.display.HTML object>"
      ]
     },
     "metadata": {},
     "output_type": "display_data"
    },
    {
     "data": {
      "text/html": [
       "<h1>Resumo do Texto - TSMixer: solução do Google une modelos lineares e redes neurais para previsões de séries temporais</h1>"
      ],
      "text/plain": [
       "<IPython.core.display.HTML object>"
      ]
     },
     "metadata": {},
     "output_type": "display_data"
    },
    {
     "data": {
      "text/html": [
       "<mark>A previsão de séries temporais desempenha um papel crucial em várias aplicações do mundo real, que vão desde a previsão da demanda até a análise da propagação de pandemias.</mark>O campo da previsão de séries temporais multivariadas testemunhou duas categorias principais de modelos univariados e multivariados.<mark>Modelos univariados focam na captura de tendências e padrões sazonais em séries temporais de variável única, enquanto que modelos multivariados, na forma de redes neurais, estendem suas capacidades para processar informações cruzadas entre variáveis diferentes, fornecendo insights sobre as interações entre essas variáveis.</mark><mark>Comparações entre as duas abordagens levantaram um paradoxo intrigante modelos multivariados avançados frequentemente têm desempenho inferior a modelos lineares univariados mais simples em benchmarks de previsão de longo prazo, levantando questões sobre a importância da informação cruzada na previsão de séries temporais.</mark>Em resposta a esse desafio, a equipe do Google AI introduziu uma solução batizada de Time Series Mixer TSMixer .<mark>O TSMixer é uma abordagem inovadora que aproveita os pontos fortes dos modelos lineares enquanto incorpora eficientemente informações cruzadas através de um transformer modificado, resultando em um modelo que rivaliza o desempenho dos melhores modelos univariados em benchmarks de previsão de longo prazo.</mark>Uma das principais diferenças entre modelos lineares e arquiteturas baseadas em transformers é a forma como eles capturam padrões temporais.<mark>Modelos lineares utilizam pesos fixos dependentes do passo de tempo, enquanto que os transformers têm pesos dinâmicos dependentes de dados processados por meio de mecanismos de atenção.</mark>O TSMixer preenche essa lacuna combinando essas duas abordagens ao substituir as camadas de atenção do transformer por camadas lineares.Os resultados empíricos são uma prova da habilidade do TSMixer.Ele supera outros modelos multivariados e se equipara aos melhores modelos univariados quando avaliado em relação a conjuntos de dados populares de previsão de longo prazo.Isso demonstra que modelos multivariados bem projetados podem igualar o desempenho de seus homólogos univariados.O modelo se destaca em aplicações onde a informação cruzada é menos benéfica, como demonstrado por seu sucesso em diversos benchmarks de previsão de longo prazo.No entanto, ele também mostra sua força quando desafiado com conjuntos de dados mais complexos e realistas, como o benchmark M5, que exige a incorporação de informações cruzadas, recursos auxiliares e uma compreensão das interações intricadas entre variáveis.Ao unir os pontos fortes dos modelos lineares com a adaptabilidade das arquiteturas baseadas em transformers, o TSMixer oferece novas possibilidades para o desenvolvimento de modelos de previsão de séries temporais.O anúncio do modelo acompanha um artigo com mais detalhes técnicos.O post TSMixer solução do Google une modelos lineares e redes neurais para previsões de séries temporais apareceu primeiro em IA Expert Academy."
      ],
      "text/plain": [
       "<IPython.core.display.HTML object>"
      ]
     },
     "metadata": {},
     "output_type": "display_data"
    },
    {
     "data": {
      "text/html": [
       "<h1>Resumo do Texto - Meta anuncia novos recursos baseados em inteligência artificial</h1>"
      ],
      "text/plain": [
       "<IPython.core.display.HTML object>"
      ]
     },
     "metadata": {},
     "output_type": "display_data"
    },
    {
     "data": {
      "text/html": [
       "<mark>Se alguns ainda não sentem a presença da inteligência artificial em suas rotinas, vai ficar impossível negar quando alguns dos produtos que mais utilizamos passarem a utilizar a tecnologia.</mark>É isso que deve acontecer em breve com os principais aplicativos da Meta.<mark>Em um discurso na conferência anual Meta Connect, no final de setembro, Mark Zuckerberg revelou uma onda de inovações em inteligência artificial destinadas a transformar o universo Meta.</mark><mark>Essas atualizações prometem injetar IA de última geração nos aplicativos usados por bilhões , anunciando uma nova era de interação digital e experiências do usuário.</mark>Uma das revelações é o chatbot da Meta AI, um assistente de conversação avançado em breve disponível no WhatsApp, Messenger e Instagram.Nos Estados Unidos, a Meta AI fornecerá informações em tempo real por meio de uma aliança estratégica com o Microsoft Bing.Além disso, ele introduz uma ferramenta de geração de imagens, alimentada pelo novo modelo Emu.O que diferencia essa IA é sua base na tecnologia de código aberto LLM, Llama 2, também desenvolvida pela empresa, garantindo capacidades poderosas e adaptáveis.Outra novidade é um elenco de 28 personas de IA em versão beta, cada uma com interesses e personalidades distintas.<mark>Entre eles, ícones culturais e influenciadores como Snoop Dogg, Tom Brady, Kendall Jenner e Naomi Osaka fazem suas estreias digitais.</mark>A Meta denomina essas IAs como um novo elenco de personagens , cada um acompanhado de uma história de fundo.Esta inovação promete novas formas de interação e engajamento.Os usuários criativos terão a sua disposição adesivos de IA generativa em sua gama de aplicativos.<mark>Em breve, os usuários poderão editar imagens e colaborar com amigos no Instagram usando ferramentas de edição com IA que redefinem a estética e os cenários de fundo.</mark>Aproveitando o poder da tecnologia Llama 2 e do modelo de geração de imagens Emu, essa ferramenta pode transformar prompts de texto em adesivos.Inicialmente, esse recurso estará disponível para usuários que falam inglês em aplicativos como WhatsApp, Messenger, Instagram e Facebook Stories nos próximos meses.Com foco mais em empresas, a Meta lançará a plataforma AI Studio, projetada para negócios que desejam criar chatbots de IA para seus serviços de mensagens, abrangendo Facebook, Instagram e Messenger.Como parte da estratégia, a Meta está se preparando para lançar uma ferramenta de laboratório de testes, democratizando a criação e experimentação de IA para todos os entusiastas.Mas a novidade mais empolgante foi o anúncio da integração da Meta AI nos novos óculos inteligentes Ray Ban.Ativado por voz com o comando Hey Meta , o recurso possibilita interagir com a IA que pode exibir informações nas lentes.Com um preço inicial de 299 dólares, esses óculos estão programados para serem lançados em 17 de outubro e já estão disponíveis para pré encomenda.Isso marca um avanço monumental na fusão da IA com a tecnologia vestível.Zuckerberg deixou claro que esses lançamentos são uma primeira iteração da empreitada batizada de Meta AI, e que portanto devem ter limitações naturais, mas ele permanece ansioso para receber feedback e comprometido com o aprimoramento contínuo dessa tecnologia.As revelações da conferência Meta Connect geraram ondas de expectativa no mundo da tecnologia.A infusão de IA de última geração em plataformas e dispositivos populares está prestes a redefinir a dinâmica da interação entre humanos e máquinas.Se depender de iniciativas como essa, os usuários podem se preparar para uma experiência digital mais imersiva, envolvente e dinâmica.O post Meta anuncia novos recursos baseados em inteligência artificial apareceu primeiro em IA Expert Academy."
      ],
      "text/plain": [
       "<IPython.core.display.HTML object>"
      ]
     },
     "metadata": {},
     "output_type": "display_data"
    },
    {
     "data": {
      "text/html": [
       "<h1>Resumo do Texto - AutoGen, da Microsoft, simplifica a orquestração, otimização e automação de fluxos de trabalho LLM</h1>"
      ],
      "text/plain": [
       "<IPython.core.display.HTML object>"
      ]
     },
     "metadata": {},
     "output_type": "display_data"
    },
    {
     "data": {
      "text/html": [
       "Por mais impressionantes que sejam por si, um dos aspectos mais revolucionários dos LLMs large language models é seu uso como parte em aplicações avançadas de IA.Entretanto, esses sistemas intrincados exigem considerável expertise e esforço para serem projetados e implementados de maneira eficaz.<mark>Para ajudar desenvolvedores nessa tarefa, a Microsoft está apresentando o AutoGen, um framework que promete simplificar, otimizar e automatizar os fluxos de trabalho LLM, tornando os mais acessíveis e eficientes.</mark><mark>A empresa apresenta o AutoGen como mais do que apenas uma ferramenta de automação ele introduz agentes personalizáveis e conversacionais que integram perfeitamente LLMs, seres humanos e diversas ferramentas em um fluxo de trabalho unificado.</mark>Esses agentes são altamente modulares e reutilizáveis, tornando simples adaptar fluxos de trabalho para aplicações específicas.Definir como esses agentes interagem entre si é intuitivo, possibilitando fluxos de trabalho dinâmicos e responsivos sem a necessidade de codificação complexa.Uma das características marcantes do AutoGen é sua capacidade de reduzir drasticamente o esforço manual em aplicações complexas.<mark>Por exemplo, ele pode reduzir o número de interações manuais necessárias em até 10x na otimização da cadeia de suprimentos e diminuir o esforço de codificação em mais de 4x.</mark>Esse aumento de eficiência pode ser um diferencial para desenvolvedores e organizações que desejam aproveitar ao máximo as capacidades dos LLMs.<mark>Os agentes do AutoGen são versáteis, capazes de utilizar LLMs, incorporar inteligência humana e lidar com a execução de código e depuração de maneira fluida.</mark>Esses agentes podem ser integrados facilmente em várias aplicações, oferecendo graus personalizáveis de automação para atender a necessidades específicas.O design centrado em agentes do AutoGen traz diversas vantagens, como a capacidade natural de lidar com ambiguidade, feedback e colaboração.Os usuários podem optar por participar ou não de interações, e vários especialistas podem colaborar em direção a um objetivo comum.<mark>Além disso, o AutoGen se destaca no suporte a diversos padrões de comunicação, tornando o apto para orquestrar fluxos de trabalho dinâmicos e complexos.</mark>A ferramenta está sendo apresentada à comunidade no formato open source como uma biblioteca de Python, e vários casos de uso podem ser consultados na página do projeto no GitHub.O post AutoGen, da Microsoft, simplifica a orquestração, otimização e automação de fluxos de trabalho LLM apareceu primeiro em IA Expert Academy."
      ],
      "text/plain": [
       "<IPython.core.display.HTML object>"
      ]
     },
     "metadata": {},
     "output_type": "display_data"
    },
    {
     "data": {
      "text/html": [
       "<h1>Resumo do Texto - Stable Audio: modelo de difusão para geração de áudio com máximo controle</h1>"
      ],
      "text/plain": [
       "<IPython.core.display.HTML object>"
      ]
     },
     "metadata": {},
     "output_type": "display_data"
    },
    {
     "data": {
      "text/html": [
       "Os modelos generativos para produção de material áudio visual tiveram avanços significativos com a introdução dos modelos de difusão baseados em estados latentes.Essas inovações melhoraram consideravelmente a qualidade e o controle sobre o conteúdo gerado em imagens, vídeos e áudios.<mark>Os modelos de difusão latente, que operam no espaço de codificação de um autoencoder pré treinado, têm desempenhado um papel crucial nesse avanço.</mark><mark>No entanto, a geração de áudio com esses modelos enfrenta desafios particulares, uma vez que eles geralmente são treinados para gerar saídas de tamanho fixo.</mark>Isso significa que um modelo de áudio, por exemplo, pode gerar apenas segmentos de áudio com um tamanho predeterminado.Essa limitação torna se problemática ao tentar gerar áudio de comprimentos variados, como músicas completas.Para superar esse obstáculo, a Stability AI apresentou o Stable Audio, um modelo de difusão latente inovador.Ele não apenas considera os dados de áudio, mas também metadados importantes, como descrições de texto, duração do arquivo de áudio e horário de início.Isso permite aos usuários controlar precisamente o conteúdo e a duração do áudio gerado.<mark>Uma característica notável do Stable Audio é o uso de representações latentes altamente compactadas, o que acelera significativamente os tempos de inferência em comparação com o uso de áudio bruto.</mark>Isso é possível graças às mais recentes técnicas de amostragem de difusão.<mark>Além disso, o Stable Audio combina um Variational Autoencoder VAE , codificação de texto e informações de tempo, permitindo que os usuários gerem áudio de duração específica.</mark><mark>O modelo de difusão central do Stable Audio é um U Net com 907 milhões de parâmetros, equipado com camadas residuais, camadas de autoatenção e camadas de atenção cruzada para remover o ruído do áudio de entrada com base nas informações de texto e tempo.</mark>Para treinar esse modelo, foi utilizado um conjunto de dados extenso com mais de 800.000 arquivos de áudio e metadados correspondentes.O Stable Audio representa uma inovação de destaque na pesquisa de áudio generativo, impulsionada pelo laboratório de pesquisa de áudio generativo da Stability AI, o Harmonai.Alguns exemplos de áudio gerado pelo modelo podem ser ouvidos na página do projeto.O laboratório pretende disponibilizar o código em formato aberto.O post Stable Audio modelo de difusão para geração de áudio com máximo controle apareceu primeiro em IA Expert Academy."
      ],
      "text/plain": [
       "<IPython.core.display.HTML object>"
      ]
     },
     "metadata": {},
     "output_type": "display_data"
    },
    {
     "data": {
      "text/html": [
       "<h1>Resumo do Texto - DALL-E 3 traz melhorias significativas e integração com ChatGPT</h1>"
      ],
      "text/plain": [
       "<IPython.core.display.HTML object>"
      ]
     },
     "metadata": {},
     "output_type": "display_data"
    },
    {
     "data": {
      "text/html": [
       "Os modelos generativos têm a tendência de ignorar parte das descrições que recebem, não produzindo exatamente o que o usuário solicitou.<mark>Pelo menos em parte, isso pode ser corrigido com prompts mais elaborados, o que gerou o chamado prompt engineering , mas o usuário mais casual geralmente tem dificuldade de traduzir suas ideias em conceitos que o modelo entende.</mark>Isto é verdade tanto para os modelos que geram texto quanto para os que geram imagens.Mas no universo da geração de imagens, o DALL E 3 deve solucionar a maioria desses problemas.<mark>Anunciado pela OpenAI este mês, a nova versão do modelo entende muito melhor nuances e detalhes, o que lhe permite traduzir as solicitações que recebe em imagens excepcionalmente precisas.</mark>O resultado é que, mesmo com o mesmo prompt, os resultados são muito melhores do que de sua versão anterior.<mark>Além da melhoria de qualidade, o DALL E 3 foi construído nativamente no ambiente do ChatGPT, de forma que, agora, a ferramenta de texto também pode produzir e refinar imagens através de interações iterativas.</mark><mark>O usuário pode começar com uma frase simples e ir melhorando o resultado ao adicionar mais detalhes, até chegar em uma descrição complexa se assim desejar.</mark>Por trás dos panos, é o ChatGPT quem vai gerar os prompts para o DALL E, o que dá liberdade ao usuário para usar uma linguagem menos técnica.A OpenAI garante que tomou cuidados para evitar que a ferramenta seja utilizada com finalidades escusas, como material violento ou adulto.<mark>Além disso, ela vai recusar pedidos para simular artistas vivos, permitindo ainda que criadores escolham não fazer parte dos dados para o treinamento de novos modelos no futuro.</mark>Por outro lado, assim como em suas versões anteriores, todas as produções realizadas com o DALL E 3 serão de propriedade do usuário para publicar ou comercializar.Por enquanto, o DALL E 3 está disponível como um preview para pesquisadores, mas já em outubro deve passar a integrar as assinaturas Plus e Entreprise do ChatGPT.Neste meio tempo, não deixe de ver algumas produções do modelo na sua página oficial.O post DALL E 3 traz melhorias significativas e integração com ChatGPT apareceu primeiro em IA Expert Academy."
      ],
      "text/plain": [
       "<IPython.core.display.HTML object>"
      ]
     },
     "metadata": {},
     "output_type": "display_data"
    },
    {
     "data": {
      "text/html": [
       "<h1>Resumo do Texto - Nova estratégia de decodificação aumenta a veracidade das informações produzidas por LLMs</h1>"
      ],
      "text/plain": [
       "<IPython.core.display.HTML object>"
      ]
     },
     "metadata": {},
     "output_type": "display_data"
    },
    {
     "data": {
      "text/html": [
       "No mundo do processamento de linguagem natural, os grandes modelos de linguagem LLMs têm sido uma revolução para várias aplicações.No entanto, esses modelos têm enfrentado um problema persistente conhecido como alucinação , em que geram informações que não estão alinhadas com fatos do mundo real.Isso representa um desafio significativo, especialmente em campos críticos como saúde e direito, onde a geração de texto confiável é fundamental.<mark>A causa raiz desse problema de alucinação pode ser rastreada até o objetivo de treinamento dos LLMs, que visa minimizar a divergência entre os dados e as distribuições do modelo.</mark><mark>Esse objetivo pode inadvertidamente levar o modelo a atribuir probabilidades não nulas a frases que não se alinham completamente com seus dados de treinamento, resultando em imprecisões factuais.</mark><mark>Pesquisadores do Instituto de Tecnologia de Massachusetts MIT e da Microsoft propuseram uma solução inovadora chamada Decodificação por Camadas Contrastantes DoLa .</mark>Essa abordagem aproveita a arquitetura em camadas dos LLMs baseados em transformers.Enquanto camadas mais antigas capturam informações de nível inferior, como etiquetas de parte do discurso, camadas posteriores codificam um significado mais semântico.<mark>Ao calcular a probabilidade de saída da próxima palavra com base na diferença nos logits de uma camada superior, o DoLa efetivamente fundamenta os LLMs na realidade, reduzindo as alucinações.</mark>A eficácia do DoLa foi validada por meio de experimentos.Ele melhora a integridade dos LLMs em diversos benchmarks, como TruthfulQA e FACTOR.Ele também aprimora o raciocínio factual em cenários como StrategyQA e GSM8K cc.<mark>Além disso, quando testado com o GPT 4 para geração de texto aberto, o DoLa produz consistentemente respostas mais informativas e factualmente precisas, resultando em classificações mais altas pelos usuários.</mark>Embora o DoLa mostre promessa em mitigar as alucinações e melhorar a precisão factual, existem áreas a serem exploradas.Os pesquisadores ainda não examinaram o desempenho do modelo em tarefas como seguir instruções ou incorporar feedback humano.Além disso, o DoLa depende exclusivamente do conhecimento existente do modelo, sem recuperação externa ou ajuste fino, o que limita seu potencial para melhorias adicionais.Ainda assim, o DoLa representa um avanço significativo na abordagem do problema de alucinação em grandes modelos de linguagem.Ao se concentrar em camadas mais profundas do modelo, o DoLa oferece uma promissora via para tornar os LLMs mais confiáveis, especialmente em aplicações de alto risco.À medida que a pesquisa nessa área avança, podemos antecipar modelos de linguagem mais robustos que mantenham a integridade dos dados e atendam às demandas de domínios críticos.O artigo e o código relacionado à pesquisa estão disponíveis para consulta.O post Nova estratégia de decodificação aumenta a veracidade das informações produzidas por LLMs apareceu primeiro em IA Expert Academy."
      ],
      "text/plain": [
       "<IPython.core.display.HTML object>"
      ]
     },
     "metadata": {},
     "output_type": "display_data"
    },
    {
     "data": {
      "text/html": [
       "<h1>Resumo do Texto - IA corrige imagens de ressonância magnética corrompidas por movimento</h1>"
      ],
      "text/plain": [
       "<IPython.core.display.HTML object>"
      ]
     },
     "metadata": {},
     "output_type": "display_data"
    },
    {
     "data": {
      "text/html": [
       "<mark>As imagens de ressonância magnética MRI são conhecidas por sua capacidade de fornecer um contraste excepcional de tecidos moles, seu principal diferencial para outras modalidades de imagem, como raios X ou tomografias computadorizadas.</mark><mark>Essas imagens de alta qualidade têm sido instrumentais para ajudar os profissionais de saúde a avaliar, diagnosticar e monitorar várias condições médicas.</mark>No entanto, há uma ressalva as imagens de MRI são incrivelmente sensíveis ao movimento.Mesmo o menor movimento durante uma varredura pode resultar em artefatos problemáticos, que por sua vez podem justificar diagnósticos imprecisos.<mark>Isso é especialmente problemático em pacientes que não podem ficar imóveis, como crianças e indivíduos com distúrbios psiquiátricos, ou no estudo de doenças que provocam movimentos involuntários.</mark>Um trabalho apresentado em agosto por pesquisadores do Instituto de Tecnologia de Massachusetts MIT promete ser uma ajuda importante nesse sentido.<mark>Juntando modelagem baseada em física com inteligência artificial, eles desenvolveram um sistema que cria imagens livres de movimento a partir de dados corrompidos, tudo isso sem alterar o procedimento de varredura de MRI em si.</mark>O que torna essa abordagem combinada verdadeiramente significativa é sua ênfase na manutenção da coerência entre a imagem de saída e as medições reais do objeto.Isso garante que o modelo de aprendizado profundo não gere o que os especialistas chamam de alucinações imagens que parecem reais, mas são física e espacialmente imprecisas.Tais imprecisões poderiam ter consequências graves para diagnósticos médicos.<mark>Além de melhorar os resultados dos pacientes, essa pesquisa tem o potencial de reduzir significativamente os custos de saúde, já que imagens de baixa qualidade atualmente implicam em nova realização do exame.</mark>As perspectivas para o avanço dessa linha de pesquisa são muito interessantes.Além de resolver casos involuntários de movimento, pesquisadores imaginam que no futuro será possível utilizar a técnica para estudar tecidos em movimento, algo hoje impossível.O post IA corrige imagens de ressonância magnética corrompidas por movimento apareceu primeiro em IA Expert Academy."
      ],
      "text/plain": [
       "<IPython.core.display.HTML object>"
      ]
     },
     "metadata": {},
     "output_type": "display_data"
    },
    {
     "data": {
      "text/html": [
       "<h1>Resumo do Texto - Meta apresenta versão do Llama com alto desempenho para instruções longas e complexas</h1>"
      ],
      "text/plain": [
       "<IPython.core.display.HTML object>"
      ]
     },
     "metadata": {},
     "output_type": "display_data"
    },
    {
     "data": {
      "text/html": [
       "Aqueles que já testaram o uso dos grandes modelos de linguagem com instruções longas e complexas sabe que este é um de seus pontos fracos.Mesmo as versões mais robustas têm dificuldade em entender comandos muito longos, com muitos detalhes.Os desenvolvedores desses modelos buscam estratégias para mitigar essas limitações.É o caso do Llama 2 7B 32K, da Meta, que aumentou o tamanho do contexto de 4 para 32 mil tokens em relação à sua versão anterior.<mark>Mas a Meta continuou trabalhando em novas iterações desta solução para torná la ainda mais atraente como ferramenta de linguagem natural disponível ao público geral.</mark><mark>Assim, no mês passado, foi publicado o Llama 2 7B 32K Instruct, uma versão do modelo anterior capaz de trabalhar com instruções, como já fazem o ChatGPT e o Bard, por exemplo.</mark>A versão Instruct consegue compreender janelas de contexto longo graças a quatro etapas de desenvolvimento.<mark>Na primeira, chamada de destilação, três grandes datasets são utilizados para gerar os dados de treinamento, fazendo uso de outro modelo da família Llama, o Llama 2 70B Chat.</mark>A segunda corresponde ao treinamento, que compreende um processo de fine tuning do Llama 2 7B 32K.Na terceira o modelo é testado em diversas tarefas, como a criação de sumários e a resposta para questões envolvendo múltiplos documentos.Finalmente, na quarta etapa, ocorre o deploy.<mark>Os autores estressam que o desenvolvimento foi muito facilitado com o uso da Together API, que permitiu criar o novo modelo com menos de 200 linhas de código em Python .</mark><mark>Quando comparado com outros modelos, tanto da família Llama quanto os modelos GPT, o Llama 2 7B 32K Instruct mostrou desempenho superior na execução de tarefas com instruções longas, mantendo desempenho comparável para instruções mais simples.</mark>Como tem sido comum para as LLMs desenvolvidas pela Meta, esta versão do Llama pode ser consultada e testada em formato open source.O post Meta apresenta versão do Llama com alto desempenho para instruções longas e complexas apareceu primeiro em IA Expert Academy."
      ],
      "text/plain": [
       "<IPython.core.display.HTML object>"
      ]
     },
     "metadata": {},
     "output_type": "display_data"
    },
    {
     "data": {
      "text/html": [
       "<h1>Resumo do Texto - DeepMind apresenta framework para garantir alinhamento de LLMs com preferências humanas</h1>"
      ],
      "text/plain": [
       "<IPython.core.display.HTML object>"
      ]
     },
     "metadata": {},
     "output_type": "display_data"
    },
    {
     "data": {
      "text/html": [
       "Os modelos de linguagem grandes LLMs são notáveis na geração de conteúdo bem escrito, porém nem sempre alinhado às preferências humanas.<mark>Dado o enorme volume de dados com que são treinados, não é viável executar uma fase de curadoria nesse material, e por isso vieses e conteúdo perigoso podem ser incorporados às capacidades do modelo.</mark><mark>Algumas abordagens tentam resolver este problema com uma etapa offline chamada de human in the loop, onde uma pessoa inspeciona os resultados gerados pelo modelo e fornece um feedback para seu aperfeiçoamento.</mark>Esta técnica, entretanto, é claramente onerosa e pouco eficiente.<mark>Para tornar a tarefa de alinhamento escalonável, um trabalho publicado pelo grupo DeepMind do Google apresenta um framework batizado de Auto Treinamento Reforçado Reinforced Self Training, ReST .</mark>O ReST aborda o desafio do alinhamento entre LLMs e preferências humanas através de dois ciclos interconectados crescimento e aperfeiçoamento.Na fase de crescimento, várias previsões de saída são geradas para cenários diversos usando a política do modelo de linguagem.Essas previsões ampliam o conjunto de treinamento e preparam para refinamentos futuros.O diferencial do ReST está na fase de aperfeiçoamento, que opera no conjunto de dados refinado da fase anteiror.<mark>Na fase de aperfeiçoamento, o conjunto de dados enriquecido passa por um processo de curadoria automática, com uma pontuação baseada em um modelo de recompensa oriundo de preferências humanas.</mark>Esse conjunto refinado serve de base para ajustar o modelo de linguagem através do aprendizado por reforço offline.<mark>O ReST é iterativo, com vários ciclos de crescimento e aperfeiçoamento melhorando continuamente o conjunto de dados de treinamento e refinando a política do modelo de linguagem.</mark>O ReST oferece vantagens em relação às abordagens tradicionais de aprendizado por reforço, online ou offline.Ele maximiza a eficiência do crescimento em várias etapas de aperfeiçoamento, reduzindo os custos computacionais.A qualidade da política não é limitada pelo conjunto de dados original, pois novos dados são amostrados da política em evolução.A separação clara entre as duas fases facilita a análise da qualidade dos dados e a detecção de problemas de alinhamento.O método foi testado em uma tarefa de tradução automática, demonstrando sua eficácia em melhorar os resultados de modelos de recompensa em testes e validações.O ReST superou consistentemente abordagens de aprendizado supervisionado, produzindo traduções de melhor qualidade avaliadas por humanos.O post DeepMind apresenta framework para garantir alinhamento de LLMs com preferências humanas apareceu primeiro em IA Expert Academy."
      ],
      "text/plain": [
       "<IPython.core.display.HTML object>"
      ]
     },
     "metadata": {},
     "output_type": "display_data"
    }
   ],
   "source": [
    "for artigo in artigos_blog:\n",
    "    sent_originais, melhores_sent, _ = sumarizar(artigo['Conteúdo'], 150, 10, 5)\n",
    "    gerar_resumo(artigo['Título'], sent_originais, melhores_sent)\n",
    "    salva_resumo(artigo['Título'], sent_originais, melhores_sent)"
   ]
  },
  {
   "cell_type": "code",
   "execution_count": 50,
   "id": "f0293f45-b5db-4621-92c4-eb7a8debcd52",
   "metadata": {},
   "outputs": [],
   "source": [
    "def salva_resumo(titulo, lista_sentencas, melhores_sentencas, diretorio=None):\n",
    "  HTML_TEMPLATE = \"\"\"<html>\n",
    "    <head>\n",
    "      <title>{0}</title>\n",
    "      <meta http-equiv=\"Content-Type\" content=\"text/html; charset=UTF-8\" />\n",
    "    </head>\n",
    "    <body>{1}</body>\n",
    "\n",
    "  </html>\"\"\"\n",
    "  texto = ''\n",
    "  for i in lista_sentencas:\n",
    "    if i in melhores_sent:\n",
    "      texto += str(i).replace(i, f\"<mark>{i}</mark>\")\n",
    "    else:\n",
    "      texto += i\n",
    "\n",
    "  if diretorio is None:\n",
    "    diretorio = os.getcwd()\n",
    "\n",
    "  arquivo = open(os.path.join(diretorio, titulo + '.html'), 'wb')\n",
    "  html = HTML_TEMPLATE.format(titulo + ' - resumo', texto)\n",
    "  arquivo.write(html.encode('utf-8'))\n",
    "  arquivo.close()"
   ]
  },
  {
   "cell_type": "code",
   "execution_count": 53,
   "id": "72f0bf51-b1e4-47a9-8df5-101f0c86b8dc",
   "metadata": {},
   "outputs": [],
   "source": [
    "def preprocessamento_lematizacao(texto):\n",
    "  texto = texto.lower()\n",
    "  texto = re.sub(r\" +\", ' ', texto)\n",
    "\n",
    "  documento = pln(texto)\n",
    "  tokens = []\n",
    "  for token in documento:\n",
    "    tokens.append(token.lemma_)\n",
    "  \n",
    "  tokens = [palavra for palavra in tokens if palavra not in stopwords and palavra not in string.punctuation]\n",
    "  texto_formatado = ' '.join([str(elemento) for elemento in tokens if not elemento.isdigit()])\n",
    "  \n",
    "  return texto_formatado"
   ]
  },
  {
   "cell_type": "code",
   "execution_count": 55,
   "id": "d6fb9b40-de73-4722-803f-68bdf4083ab6",
   "metadata": {},
   "outputs": [],
   "source": [
    "def sumarizar_lematizacao(texto, top_n_palavras, distancia, quantidade_sentencas):\n",
    "  sentencas_originais = [sentenca for sentenca in nltk.sent_tokenize(texto)]\n",
    "  sentencas_formatadas = [preprocessamento_lematizacao(sentenca_original) for sentenca_original in sentencas_originais]\n",
    "  palavras = [palavra.lower() for sentenca in sentencas_formatadas for palavra in nltk.tokenize.word_tokenize(sentenca)]\n",
    "  frequencia = nltk.FreqDist(palavras)\n",
    "  top_n_palavras = [palavra[0] for palavra in frequencia.most_common(top_n_palavras)]\n",
    "  notas_sentencas = calcula_nota_sentenca(sentencas_formatadas, top_n_palavras, distancia)\n",
    "  melhores_sentencas = heapq.nlargest(quantidade_sentencas, notas_sentencas)\n",
    "  melhores_sentencas = [sentencas_originais[i] for (nota, i) in melhores_sentencas]\n",
    "  \n",
    "  return sentencas_originais, melhores_sentencas, notas_sentencas"
   ]
  },
  {
   "cell_type": "code",
   "execution_count": null,
   "id": "e32bf48d-63b6-41bf-9c27-87abbd022eff",
   "metadata": {},
   "outputs": [],
   "source": []
  }
 ],
 "metadata": {
  "kernelspec": {
   "display_name": "Python 3 (ipykernel)",
   "language": "python",
   "name": "python3"
  },
  "language_info": {
   "codemirror_mode": {
    "name": "ipython",
    "version": 3
   },
   "file_extension": ".py",
   "mimetype": "text/x-python",
   "name": "python",
   "nbconvert_exporter": "python",
   "pygments_lexer": "ipython3",
   "version": "3.11.6"
  }
 },
 "nbformat": 4,
 "nbformat_minor": 5
}

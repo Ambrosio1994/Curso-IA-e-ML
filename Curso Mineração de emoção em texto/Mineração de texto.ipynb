{
 "cells": [
  {
   "cell_type": "code",
   "execution_count": 1,
   "id": "ac2264b9-3a61-4c5e-9817-5dcda103554d",
   "metadata": {
    "editable": true,
    "slideshow": {
     "slide_type": ""
    },
    "tags": []
   },
   "outputs": [
    {
     "name": "stderr",
     "output_type": "stream",
     "text": [
      "[nltk_data] Downloading package stopwords to\n",
      "[nltk_data]     C:\\Users\\diham\\AppData\\Roaming\\nltk_data...\n",
      "[nltk_data]   Package stopwords is already up-to-date!\n",
      "[nltk_data] Downloading package rslp to\n",
      "[nltk_data]     C:\\Users\\diham\\AppData\\Roaming\\nltk_data...\n",
      "[nltk_data]   Package rslp is already up-to-date!\n"
     ]
    },
    {
     "data": {
      "text/plain": [
       "True"
      ]
     },
     "execution_count": 1,
     "metadata": {},
     "output_type": "execute_result"
    }
   ],
   "source": [
    "import nltk\n",
    "from nltk.corpus import stopwords\n",
    "from nltk.stem import RSLPStemmer\n",
    "\n",
    "nltk.download('stopwords')\n",
    "nltk.download('rslp')"
   ]
  },
  {
   "cell_type": "code",
   "execution_count": 2,
   "id": "8dfc4d1f-4159-4fbb-aee9-e46fda93c9a9",
   "metadata": {
    "editable": true,
    "slideshow": {
     "slide_type": ""
    },
    "tags": []
   },
   "outputs": [],
   "source": [
    "frases_exemplo = [('eu sou admirada por muitos','alegria'),\n",
    "        ('me sinto completamente amado','alegria'),\n",
    "        ('amar e maravilhoso','alegria'),\n",
    "        ('estou me sentindo muito animado novamente','alegria'),\n",
    "        ('eu estou muito bem hoje','alegria'),\n",
    "        ('que belo dia para dirigir um carro novo','alegria'),\n",
    "        ('o dia está muito bonito','alegria'),\n",
    "        ('estou contente com o resultado do teste que fiz no dia de ontem','alegria'),\n",
    "        ('o amor e lindo','alegria'),\n",
    "        ('nossa amizade e amor vai durar para sempre', 'alegria'),\n",
    "        ('estou amedrontado', 'medo'),\n",
    "        ('ele esta me ameacando a dias', 'medo'),\n",
    "        ('isso me deixa apavorada', 'medo'),\n",
    "        ('este lugar e apavorante', 'medo'),\n",
    "        ('se perdermos outro jogo seremos eliminados e isso me deixa com pavor', 'medo'),\n",
    "        ('tome cuidado com o lobisomem', 'medo'),\n",
    "        ('se eles descobrirem estamos encrencados', 'medo'),\n",
    "        ('estou tremendo de medo', 'medo'),\n",
    "        ('eu tenho muito medo dele', 'medo'),\n",
    "        ('estou com medo do resultado dos meus testes', 'medo')]"
   ]
  },
  {
   "cell_type": "code",
   "execution_count": 3,
   "id": "27fbfee9-e125-4b7c-8559-814136a6d08d",
   "metadata": {},
   "outputs": [],
   "source": [
    "stop_words = nltk.corpus.stopwords.words('portuguese')"
   ]
  },
  {
   "cell_type": "code",
   "execution_count": 4,
   "id": "05337c61-5529-4a58-adf0-01996103e3d4",
   "metadata": {},
   "outputs": [],
   "source": [
    "def remove_stopwords(texto):\n",
    "    \"\"\"\n",
    "  Remove as stopwords de um texto.\n",
    "\n",
    "  Args:\n",
    "    texto: O texto a ser processado.\n",
    "\n",
    "  Returns:\n",
    "    O texto sem as stopwords.\n",
    "  \"\"\"\n",
    "    frases = []\n",
    "    for (palavras, emocao) in texto:\n",
    "        sem_stops = [p for p in palavras.split() if p not in stop_words]\n",
    "        frases.append((sem_stops, emocao))\n",
    "    return frases"
   ]
  },
  {
   "cell_type": "code",
   "execution_count": 5,
   "id": "5d08bd7f-0aca-4f27-bee5-d5d36b1577db",
   "metadata": {
    "editable": true,
    "slideshow": {
     "slide_type": ""
    },
    "tags": []
   },
   "outputs": [],
   "source": [
    "sem_stops = remove_stopwords(frases_exemplo)"
   ]
  },
  {
   "cell_type": "code",
   "execution_count": 6,
   "id": "b9e3e92d-054a-451e-8859-f7342d4089f1",
   "metadata": {
    "editable": true,
    "slideshow": {
     "slide_type": ""
    },
    "tags": []
   },
   "outputs": [],
   "source": [
    "def aplica_stemmer(texto):\n",
    "    \"\"\"\n",
    "    Aplica o stemmer PorterStemmer à lista de frases fornecida.\n",
    "\n",
    "    Args:\n",
    "      frases: A lista de frases a ser processada.\n",
    "\n",
    "    Returns:\n",
    "      A lista de frases com as palavras stemmitizadas.\n",
    "    \"\"\"\n",
    "    stemmer = nltk.stem.RSLPStemmer()\n",
    "    frases_stemming = []\n",
    "    for (palavras, emocao) in texto:\n",
    "        com_stemming = [str(stemmer.stem(p)) for p in palavras.split() if p not in stop_words]\n",
    "        frases_stemming.append((com_stemming, emocao))\n",
    "    return frases_stemming"
   ]
  },
  {
   "cell_type": "code",
   "execution_count": 7,
   "id": "55eb0747-e9b5-4013-a500-ac7fa35abdb5",
   "metadata": {
    "editable": true,
    "slideshow": {
     "slide_type": ""
    },
    "tags": []
   },
   "outputs": [],
   "source": [
    "frases_com_stremming = aplica_stemmer(frases_exemplo)"
   ]
  },
  {
   "cell_type": "code",
   "execution_count": 8,
   "id": "e318b84d-035b-42d6-b0aa-d93d12400445",
   "metadata": {
    "editable": true,
    "slideshow": {
     "slide_type": ""
    },
    "tags": []
   },
   "outputs": [],
   "source": [
    "def busca_palavras(frases):\n",
    "    \"\"\"\n",
    "  Busca todas as palavras de uma lista de frases.\n",
    "\n",
    "  Args:\n",
    "    frases: A lista de frases a ser processada.\n",
    "\n",
    "  Returns:\n",
    "    Uma lista de todas as palavras encontradas.\n",
    "  \"\"\"\n",
    "    todas_palavras = []\n",
    "    for (palavras, emocao) in frases:\n",
    "        todas_palavras.extend(palavras)\n",
    "    return list(todas_palavras)"
   ]
  },
  {
   "cell_type": "code",
   "execution_count": 9,
   "id": "988fcf1f-52b3-47c4-80a6-14f9c3667b64",
   "metadata": {
    "editable": true,
    "slideshow": {
     "slide_type": ""
    },
    "tags": []
   },
   "outputs": [],
   "source": [
    "palavras = busca_palavras(frases_com_stremming)"
   ]
  },
  {
   "cell_type": "code",
   "execution_count": 6,
   "id": "8f6f9c57-6963-4231-aa35-5a3812c75386",
   "metadata": {},
   "outputs": [],
   "source": [
    "def busca_frequencia(palavras):\n",
    "  \"\"\"\n",
    "  Calcula a frequência de cada palavra em uma lista de palavras.\n",
    "\n",
    "  Args:\n",
    "    palavras: A lista de palavras a ser processada.\n",
    "\n",
    "  Returns:\n",
    "    Uma distribuição de frequência das palavras.\n",
    "  \"\"\"\n",
    "\n",
    "  frequencia = nltk.FreqDist(palavras)\n",
    "\n",
    "  return frequencia"
   ]
  },
  {
   "cell_type": "code",
   "execution_count": 7,
   "id": "2e060b9f-c154-4c7a-a1b7-4c2a4824ce1a",
   "metadata": {
    "editable": true,
    "slideshow": {
     "slide_type": ""
    },
    "tags": []
   },
   "outputs": [
    {
     "ename": "NameError",
     "evalue": "name 'palavras' is not defined",
     "output_type": "error",
     "traceback": [
      "\u001b[1;31m---------------------------------------------------------------------------\u001b[0m",
      "\u001b[1;31mNameError\u001b[0m                                 Traceback (most recent call last)",
      "Cell \u001b[1;32mIn[7], line 1\u001b[0m\n\u001b[1;32m----> 1\u001b[0m frequencia \u001b[38;5;241m=\u001b[39m busca_frequencia(\u001b[43mpalavras\u001b[49m)\n",
      "\u001b[1;31mNameError\u001b[0m: name 'palavras' is not defined"
     ]
    }
   ],
   "source": [
    "frequencia = busca_frequencia(palavras)"
   ]
  },
  {
   "cell_type": "code",
   "execution_count": 4,
   "id": "d161060f-3de8-4c64-985c-56a28200e4c2",
   "metadata": {},
   "outputs": [],
   "source": [
    "def busca_palavras_unicas(frequencia):\n",
    "  \"\"\"\n",
    "  Busca as palavras únicas em uma distribuição de frequência.\n",
    "\n",
    "  Args:\n",
    "    frequencia: A distribuição de frequência a ser processada.\n",
    "\n",
    "  Returns:\n",
    "    Uma lista de palavras únicas.\n",
    "  \"\"\"\n",
    "\n",
    "  freq = frequencia.keys()\n",
    "\n",
    "  return freq"
   ]
  },
  {
   "cell_type": "code",
   "execution_count": 2,
   "id": "e6915a26-642f-4d3d-8db7-6db2dd0e8b17",
   "metadata": {
    "editable": true,
    "slideshow": {
     "slide_type": ""
    },
    "tags": []
   },
   "outputs": [
    {
     "ename": "NameError",
     "evalue": "name 'frequencia' is not defined",
     "output_type": "error",
     "traceback": [
      "\u001b[1;31m---------------------------------------------------------------------------\u001b[0m",
      "\u001b[1;31mNameError\u001b[0m                                 Traceback (most recent call last)",
      "Cell \u001b[1;32mIn[2], line 1\u001b[0m\n\u001b[1;32m----> 1\u001b[0m palavras_unicas \u001b[38;5;241m=\u001b[39m busca_palavras_unicas(\u001b[43mfrequencia\u001b[49m)\n",
      "\u001b[1;31mNameError\u001b[0m: name 'frequencia' is not defined"
     ]
    }
   ],
   "source": [
    "palavras_unicas = busca_palavras_unicas(frequencia)"
   ]
  },
  {
   "cell_type": "code",
   "execution_count": 14,
   "id": "f0d31b6f-9142-429d-a00f-ccd068fbdb26",
   "metadata": {},
   "outputs": [],
   "source": [
    "def extrator_palavras(documento):\n",
    "    doc = set(documento)\n",
    "    caracteristicas = {}\n",
    "    for palavra in palavras_unicas:\n",
    "        caracteristicas['%s' % palavra] = (palavra in doc)\n",
    "    return caracteristicas"
   ]
  },
  {
   "cell_type": "code",
   "execution_count": 31,
   "id": "8a5a8c0d-303a-4494-8ec4-3a03e58a5add",
   "metadata": {
    "editable": true,
    "slideshow": {
     "slide_type": ""
    },
    "tags": []
   },
   "outputs": [],
   "source": [
    "base_completa = nltk.classify.apply_features(extrator_palavras,frases_com_stremming)"
   ]
  },
  {
   "cell_type": "code",
   "execution_count": 32,
   "id": "63e9cdde-8fab-4f20-86b7-76388a1e521b",
   "metadata": {},
   "outputs": [],
   "source": [
    "model = nltk.NaiveBayesClassifier.train(base_completa)"
   ]
  },
  {
   "cell_type": "code",
   "execution_count": 33,
   "id": "49072c2d-1784-491a-a732-d3d905050b40",
   "metadata": {
    "editable": true,
    "slideshow": {
     "slide_type": ""
    },
    "tags": []
   },
   "outputs": [
    {
     "data": {
      "text/plain": [
       "['alegria', 'desgosto', 'medo', 'raiva', 'surpresa', 'tristeza']"
      ]
     },
     "execution_count": 33,
     "metadata": {},
     "output_type": "execute_result"
    }
   ],
   "source": [
    "model.labels()"
   ]
  },
  {
   "cell_type": "code",
   "execution_count": 18,
   "id": "8072ed43-c2c3-4893-be42-b243c56e1472",
   "metadata": {},
   "outputs": [
    {
     "name": "stdout",
     "output_type": "stream",
     "text": [
      "Most Informative Features\n",
      "                     dia = True           alegri : medo   =      2.3 : 1.0\n",
      "                      am = False            medo : alegri =      1.6 : 1.0\n",
      "                     med = False          alegri : medo   =      1.4 : 1.0\n",
      "                     dia = False            medo : alegri =      1.3 : 1.0\n",
      "                  apavor = False          alegri : medo   =      1.2 : 1.0\n",
      "                    deix = False          alegri : medo   =      1.2 : 1.0\n",
      "                     nov = False            medo : alegri =      1.2 : 1.0\n",
      "                   admir = False            medo : alegri =      1.1 : 1.0\n"
     ]
    }
   ],
   "source": [
    "model.show_most_informative_features(8)"
   ]
  },
  {
   "cell_type": "code",
   "execution_count": 19,
   "id": "731c6d66-f92c-48de-80a0-9e7637adbcf8",
   "metadata": {},
   "outputs": [],
   "source": [
    "def extrator_caracteristicas(documento):\n",
    "    doc = set(documento)\n",
    "    caracteristicas = {}\n",
    "    for palavra in palavras_unicas:\n",
    "        caracteristicas['%s' % palavra] = (palavra in doc)\n",
    "    return caracteristicas\n",
    "\n",
    "stemmer = nltk.stem.RSLPStemmer()"
   ]
  },
  {
   "cell_type": "code",
   "execution_count": 20,
   "id": "d83ac0f6-fc8d-4c05-ba1f-3cd6a14d56fa",
   "metadata": {},
   "outputs": [],
   "source": [
    "def apli_stemmer(texto):\n",
    "    return [str(stemmer.stem(p)) for p in texto if p not in stop_words]"
   ]
  },
  {
   "cell_type": "code",
   "execution_count": 21,
   "id": "ade6c878-d5a4-4e26-a1a6-0181252fec3b",
   "metadata": {},
   "outputs": [],
   "source": [
    "frase_teste = \"Bom dia amor\""
   ]
  },
  {
   "cell_type": "code",
   "execution_count": 22,
   "id": "6a3ffb17-1b5b-4145-baf5-935ad26661b0",
   "metadata": {},
   "outputs": [],
   "source": [
    "palavras_teste = apli_stemmer(frase_teste.split())\n",
    "caracteristicas_teste = extrator_caracteristicas(palavras_teste)"
   ]
  },
  {
   "cell_type": "code",
   "execution_count": 23,
   "id": "2d51ff74-67c1-43eb-a59b-d4f134872e0e",
   "metadata": {},
   "outputs": [
    {
     "data": {
      "text/plain": [
       "'alegria'"
      ]
     },
     "execution_count": 23,
     "metadata": {},
     "output_type": "execute_result"
    }
   ],
   "source": [
    "sentimento = model.classify(caracteristicas_teste)\n",
    "sentimento"
   ]
  },
  {
   "cell_type": "code",
   "execution_count": 24,
   "id": "d0a5dbb8-f174-483c-bb46-5d35902b400e",
   "metadata": {},
   "outputs": [
    {
     "name": "stdout",
     "output_type": "stream",
     "text": [
      "alegria: 0.947436\n",
      "medo: 0.052564\n"
     ]
    }
   ],
   "source": [
    "distribuicao = model.prob_classify(caracteristicas_teste)\n",
    "for classe in distribuicao.samples():\n",
    "    print(\"%s: %f\" % (classe, distribuicao.prob(classe)))"
   ]
  },
  {
   "cell_type": "code",
   "execution_count": 39,
   "id": "bad200c4-6f8f-4bee-979d-d69ecc426612",
   "metadata": {},
   "outputs": [],
   "source": [
    "frases_com_stremming  = aplica_stemmer(basetreinamento)"
   ]
  },
  {
   "cell_type": "code",
   "execution_count": 52,
   "id": "f48fb578-b71d-42df-8dac-35531349785e",
   "metadata": {},
   "outputs": [],
   "source": [
    "base_completa = nltk.classify.apply_features(extrator_palavras,frases_com_stremming)\n",
    "model = nltk.NaiveBayesClassifier.train(base_completa)"
   ]
  },
  {
   "cell_type": "code",
   "execution_count": 53,
   "id": "2575d4a8-21c9-445d-8007-6f01d90543ac",
   "metadata": {},
   "outputs": [
    {
     "data": {
      "text/plain": [
       "['alegria', 'desgosto', 'medo', 'raiva', 'surpresa', 'tristeza']"
      ]
     },
     "execution_count": 53,
     "metadata": {},
     "output_type": "execute_result"
    }
   ],
   "source": [
    "model.labels()"
   ]
  },
  {
   "cell_type": "code",
   "execution_count": 54,
   "id": "0d85463d-de38-443c-a841-a3b7a88645c6",
   "metadata": {},
   "outputs": [
    {
     "name": "stdout",
     "output_type": "stream",
     "text": [
      "Most Informative Features\n",
      "                     dia = True           triste : alegri =      4.0 : 1.0\n",
      "                     vai = True             medo : alegri =      3.1 : 1.0\n",
      "                    sint = True           triste : medo   =      3.0 : 1.0\n",
      "                     hoj = True           alegri : desgos =      3.0 : 1.0\n",
      "                    cuid = True             medo : triste =      2.3 : 1.0\n",
      "                    deix = True            raiva : surpre =      2.3 : 1.0\n",
      "                      am = True           alegri : triste =      2.3 : 1.0\n",
      "                   admir = True           surpre : alegri =      2.2 : 1.0\n",
      "                 complet = True           alegri : desgos =      1.9 : 1.0\n",
      "                    cont = True           alegri : surpre =      1.8 : 1.0\n",
      "                     tom = True             medo : triste =      1.7 : 1.0\n",
      "                     bel = True           surpre : alegri =      1.3 : 1.0\n",
      "                     jog = True            raiva : alegri =      1.3 : 1.0\n",
      "                    lind = True           surpre : alegri =      1.3 : 1.0\n",
      "                     lug = True             medo : alegri =      1.3 : 1.0\n",
      "                    muit = True             medo : alegri =      1.3 : 1.0\n",
      "                    outr = True           alegri : triste =      1.3 : 1.0\n",
      "                   sempr = True           alegri : surpre =      1.3 : 1.0\n",
      "                      am = False          desgos : alegri =      1.1 : 1.0\n",
      "                     dia = False          desgos : triste =      1.1 : 1.0\n"
     ]
    }
   ],
   "source": [
    "model.show_most_informative_features(20)"
   ]
  }
 ],
 "metadata": {
  "kernelspec": {
   "display_name": "Python 3 (ipykernel)",
   "language": "python",
   "name": "python3"
  },
  "language_info": {
   "codemirror_mode": {
    "name": "ipython",
    "version": 3
   },
   "file_extension": ".py",
   "mimetype": "text/x-python",
   "name": "python",
   "nbconvert_exporter": "python",
   "pygments_lexer": "ipython3",
   "version": "3.11.6"
  },
  "toc": {
   "base_numbering": 1
  }
 },
 "nbformat": 4,
 "nbformat_minor": 5
}
